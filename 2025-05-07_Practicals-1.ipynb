{
 "cells": [
  {
   "cell_type": "markdown",
   "id": "0b762653-edae-4bf5-8967-c6aa2dcfc5ba",
   "metadata": {},
   "source": [
    "Practicals 1: Exploring the digital chant ecosystem\n",
    "===================================================\n",
    "\n",
    "Getting our hands dirty, we will take a look around the digital chant ecosystem: the Cantus database, Cantus Index, and then we start working with the chant data contained therein. We take a look at some basic statistics of the dataset and visualise it. This will all happen in a google collab environment, so no need to install anything! All you need is an internet connection, no programming or math background required (but it may be a good idea to do a Python tutorial ahead of time)."
   ]
  },
  {
   "cell_type": "markdown",
   "id": "3bec022e-7362-46b8-8d5e-2f2b747d29b6",
   "metadata": {},
   "source": [
    "Installing requirements\n",
    "-----------------------\n",
    "\n",
    "We need some libraries that are not installed by default."
   ]
  },
  {
   "cell_type": "code",
   "execution_count": 3,
   "id": "7550e082-7b4d-4458-92c2-3091cc9efe75",
   "metadata": {},
   "outputs": [
    {
     "name": "stdout",
     "output_type": "stream",
     "text": [
      "Requirement already satisfied: scipy in /Users/hajicj/anaconda3/envs/dh-latvia-2025/lib/python3.11/site-packages (1.15.2)\n",
      "Requirement already satisfied: numpy<2.5,>=1.23.5 in /Users/hajicj/anaconda3/envs/dh-latvia-2025/lib/python3.11/site-packages (from scipy) (2.2.5)\n",
      "Collecting copia\n",
      "  Downloading copia-0.1.4-py3-none-any.whl.metadata (2.0 kB)\n",
      "Requirement already satisfied: numpy>=1.19.0 in /Users/hajicj/anaconda3/envs/dh-latvia-2025/lib/python3.11/site-packages (from copia) (2.2.5)\n",
      "Requirement already satisfied: scipy>=1.5.1 in /Users/hajicj/anaconda3/envs/dh-latvia-2025/lib/python3.11/site-packages (from copia) (1.15.2)\n",
      "Collecting matplotlib>=3.3.2 (from copia)\n",
      "  Downloading matplotlib-3.10.1-cp311-cp311-macosx_11_0_arm64.whl.metadata (11 kB)\n",
      "Collecting seaborn>=0.11.0 (from copia)\n",
      "  Using cached seaborn-0.13.2-py3-none-any.whl.metadata (5.4 kB)\n",
      "Requirement already satisfied: pandas>=1.1.2 in /Users/hajicj/anaconda3/envs/dh-latvia-2025/lib/python3.11/site-packages (from copia) (2.2.2)\n",
      "Collecting tqdm>=4.48.0 (from copia)\n",
      "  Using cached tqdm-4.67.1-py3-none-any.whl.metadata (57 kB)\n",
      "Collecting pytest>=6.2.2 (from copia)\n",
      "  Downloading pytest-8.3.5-py3-none-any.whl.metadata (7.6 kB)\n",
      "Collecting contourpy>=1.0.1 (from matplotlib>=3.3.2->copia)\n",
      "  Downloading contourpy-1.3.2-cp311-cp311-macosx_11_0_arm64.whl.metadata (5.5 kB)\n",
      "Collecting cycler>=0.10 (from matplotlib>=3.3.2->copia)\n",
      "  Using cached cycler-0.12.1-py3-none-any.whl.metadata (3.8 kB)\n",
      "Collecting fonttools>=4.22.0 (from matplotlib>=3.3.2->copia)\n",
      "  Downloading fonttools-4.57.0-cp311-cp311-macosx_10_9_universal2.whl.metadata (102 kB)\n",
      "Collecting kiwisolver>=1.3.1 (from matplotlib>=3.3.2->copia)\n",
      "  Using cached kiwisolver-1.4.8-cp311-cp311-macosx_11_0_arm64.whl.metadata (6.2 kB)\n",
      "Requirement already satisfied: packaging>=20.0 in /Users/hajicj/anaconda3/envs/dh-latvia-2025/lib/python3.11/site-packages (from matplotlib>=3.3.2->copia) (24.2)\n",
      "Collecting pillow>=8 (from matplotlib>=3.3.2->copia)\n",
      "  Downloading pillow-11.2.1-cp311-cp311-macosx_11_0_arm64.whl.metadata (8.9 kB)\n",
      "Collecting pyparsing>=2.3.1 (from matplotlib>=3.3.2->copia)\n",
      "  Downloading pyparsing-3.2.3-py3-none-any.whl.metadata (5.0 kB)\n",
      "Requirement already satisfied: python-dateutil>=2.7 in /Users/hajicj/anaconda3/envs/dh-latvia-2025/lib/python3.11/site-packages (from matplotlib>=3.3.2->copia) (2.9.0.post0)\n",
      "Requirement already satisfied: pytz>=2020.1 in /Users/hajicj/anaconda3/envs/dh-latvia-2025/lib/python3.11/site-packages (from pandas>=1.1.2->copia) (2025.2)\n",
      "Requirement already satisfied: tzdata>=2022.7 in /Users/hajicj/anaconda3/envs/dh-latvia-2025/lib/python3.11/site-packages (from pandas>=1.1.2->copia) (2025.2)\n",
      "Collecting iniconfig (from pytest>=6.2.2->copia)\n",
      "  Downloading iniconfig-2.1.0-py3-none-any.whl.metadata (2.7 kB)\n",
      "Collecting pluggy<2,>=1.5 (from pytest>=6.2.2->copia)\n",
      "  Using cached pluggy-1.5.0-py3-none-any.whl.metadata (4.8 kB)\n",
      "Requirement already satisfied: six>=1.5 in /Users/hajicj/anaconda3/envs/dh-latvia-2025/lib/python3.11/site-packages (from python-dateutil>=2.7->matplotlib>=3.3.2->copia) (1.17.0)\n",
      "Downloading copia-0.1.4-py3-none-any.whl (23 kB)\n",
      "Downloading matplotlib-3.10.1-cp311-cp311-macosx_11_0_arm64.whl (8.0 MB)\n",
      "\u001b[2K   \u001b[90m━━━━━━━━━━━━━━━━━━━━━━━━━━━━━━━━━━━━━━━━\u001b[0m \u001b[32m8.0/8.0 MB\u001b[0m \u001b[31m5.2 MB/s\u001b[0m eta \u001b[36m0:00:00\u001b[0ma \u001b[36m0:00:01\u001b[0m\n",
      "Downloading pytest-8.3.5-py3-none-any.whl (343 kB)\n",
      "Using cached seaborn-0.13.2-py3-none-any.whl (294 kB)\n",
      "Using cached tqdm-4.67.1-py3-none-any.whl (78 kB)\n",
      "Downloading contourpy-1.3.2-cp311-cp311-macosx_11_0_arm64.whl (254 kB)\n",
      "Using cached cycler-0.12.1-py3-none-any.whl (8.3 kB)\n",
      "Downloading fonttools-4.57.0-cp311-cp311-macosx_10_9_universal2.whl (2.8 MB)\n",
      "\u001b[2K   \u001b[90m━━━━━━━━━━━━━━━━━━━━━━━━━━━━━━━━━━━━━━━━\u001b[0m \u001b[32m2.8/2.8 MB\u001b[0m \u001b[31m5.7 MB/s\u001b[0m eta \u001b[36m0:00:00\u001b[0ma \u001b[36m0:00:01\u001b[0m\n",
      "Using cached kiwisolver-1.4.8-cp311-cp311-macosx_11_0_arm64.whl (65 kB)\n",
      "Downloading pillow-11.2.1-cp311-cp311-macosx_11_0_arm64.whl (3.0 MB)\n",
      "\u001b[2K   \u001b[90m━━━━━━━━━━━━━━━━━━━━━━━━━━━━━━━━━━━━━━━━\u001b[0m \u001b[32m3.0/3.0 MB\u001b[0m \u001b[31m6.3 MB/s\u001b[0m eta \u001b[36m0:00:00\u001b[0ma \u001b[36m0:00:01\u001b[0m\n",
      "\u001b[?25hUsing cached pluggy-1.5.0-py3-none-any.whl (20 kB)\n",
      "Downloading pyparsing-3.2.3-py3-none-any.whl (111 kB)\n",
      "Downloading iniconfig-2.1.0-py3-none-any.whl (6.0 kB)\n",
      "Installing collected packages: tqdm, pyparsing, pluggy, pillow, kiwisolver, iniconfig, fonttools, cycler, contourpy, pytest, matplotlib, seaborn, copia\n",
      "Successfully installed contourpy-1.3.2 copia-0.1.4 cycler-0.12.1 fonttools-4.57.0 iniconfig-2.1.0 kiwisolver-1.4.8 matplotlib-3.10.1 pillow-11.2.1 pluggy-1.5.0 pyparsing-3.2.3 pytest-8.3.5 seaborn-0.13.2 tqdm-4.67.1\n",
      "Requirement already satisfied: pycantus in /Users/hajicj/anaconda3/envs/dh-latvia-2025/lib/python3.11/site-packages (0.0.3)\n",
      "Requirement already satisfied: pandas==2.2.2 in /Users/hajicj/anaconda3/envs/dh-latvia-2025/lib/python3.11/site-packages (from pycantus) (2.2.2)\n",
      "Requirement already satisfied: requests==2.31.0 in /Users/hajicj/anaconda3/envs/dh-latvia-2025/lib/python3.11/site-packages (from pycantus) (2.31.0)\n",
      "Requirement already satisfied: numpy>=1.23.2 in /Users/hajicj/anaconda3/envs/dh-latvia-2025/lib/python3.11/site-packages (from pandas==2.2.2->pycantus) (2.2.5)\n",
      "Requirement already satisfied: python-dateutil>=2.8.2 in /Users/hajicj/anaconda3/envs/dh-latvia-2025/lib/python3.11/site-packages (from pandas==2.2.2->pycantus) (2.9.0.post0)\n",
      "Requirement already satisfied: pytz>=2020.1 in /Users/hajicj/anaconda3/envs/dh-latvia-2025/lib/python3.11/site-packages (from pandas==2.2.2->pycantus) (2025.2)\n",
      "Requirement already satisfied: tzdata>=2022.7 in /Users/hajicj/anaconda3/envs/dh-latvia-2025/lib/python3.11/site-packages (from pandas==2.2.2->pycantus) (2025.2)\n",
      "Requirement already satisfied: charset-normalizer<4,>=2 in /Users/hajicj/anaconda3/envs/dh-latvia-2025/lib/python3.11/site-packages (from requests==2.31.0->pycantus) (3.3.2)\n",
      "Requirement already satisfied: idna<4,>=2.5 in /Users/hajicj/anaconda3/envs/dh-latvia-2025/lib/python3.11/site-packages (from requests==2.31.0->pycantus) (3.7)\n",
      "Requirement already satisfied: urllib3<3,>=1.21.1 in /Users/hajicj/anaconda3/envs/dh-latvia-2025/lib/python3.11/site-packages (from requests==2.31.0->pycantus) (2.3.0)\n",
      "Requirement already satisfied: certifi>=2017.4.17 in /Users/hajicj/anaconda3/envs/dh-latvia-2025/lib/python3.11/site-packages (from requests==2.31.0->pycantus) (2025.4.26)\n",
      "Requirement already satisfied: six>=1.5 in /Users/hajicj/anaconda3/envs/dh-latvia-2025/lib/python3.11/site-packages (from python-dateutil>=2.8.2->pandas==2.2.2->pycantus) (1.17.0)\n"
     ]
    }
   ],
   "source": [
    "!pip install scipy\n",
    "!pip install matplotlib\n",
    "!pip install copia\n",
    "!pip install pycantus"
   ]
  },
  {
   "cell_type": "markdown",
   "id": "b3594216-3da9-47f5-8523-59c9cad9b48e",
   "metadata": {},
   "source": [
    "Getting data\n",
    "------------\n",
    "\n",
    "We work with the CantusCorpus v0.2 dataset. It is derived from the Cantus database.\n",
    "Somewhat dated (2020), and we are working on a more comprehensive dataset, but the advantage is that previous results for this data exist."
   ]
  },
  {
   "cell_type": "code",
   "execution_count": 2,
   "id": "deb4957b-2cfd-4c7c-8412-d614a8a5ab22",
   "metadata": {},
   "outputs": [
    {
     "name": "stdout",
     "output_type": "stream",
     "text": [
      "/bin/bash: wget: command not found\n"
     ]
    }
   ],
   "source": [
    "!wget https://drive.google.com/drive/folders/1q79JPwHyLXarlYPm5s9j8GJ2FU6qm3_n?usp=sharing"
   ]
  },
  {
   "cell_type": "code",
   "execution_count": null,
   "id": "86df7f9b-fbe9-4280-a953-3bca607ef6bc",
   "metadata": {},
   "outputs": [],
   "source": []
  }
 ],
 "metadata": {
  "kernelspec": {
   "display_name": "Python 3 (ipykernel)",
   "language": "python",
   "name": "python3"
  },
  "language_info": {
   "codemirror_mode": {
    "name": "ipython",
    "version": 3
   },
   "file_extension": ".py",
   "mimetype": "text/x-python",
   "name": "python",
   "nbconvert_exporter": "python",
   "pygments_lexer": "ipython3",
   "version": "3.11.11"
  }
 },
 "nbformat": 4,
 "nbformat_minor": 5
}
