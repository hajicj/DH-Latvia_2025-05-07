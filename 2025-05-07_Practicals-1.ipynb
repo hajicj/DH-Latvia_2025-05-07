{
  "cells": [
    {
      "cell_type": "markdown",
      "source": [
        "Preliminaries: reading code\n",
        "---------------------------\n",
        "\n",
        "Because the workshop involves reading Python source code, and because maybe that is something you have not quite done yet, let me start with a brief primer on how to read that stuff.\n",
        "\n",
        "It's not that hard. Treat it as shorthand for doing a bunch of pretty standard things with other things: for instance, putting them on a list, or cataloguing them by some label, or doing the same operation on a bunch of things (for instance, on all things in a list).\n",
        "\n",
        "The trick is that *anything* can be one of these 'things'. From very elementary things (like a number) to pretty complex structures (like, say, an entire corpus of Gregorian chant). In code, though, this doesn't matter. Each one of these things gets a name, and then we just refer to it by that name.\n",
        "\n",
        "(That is actually something we do pretty much all the time in language. The difference is that in our language, we have a pretty fixed vocabulary. In code, we get to define our own vocabulary. In a way, it's very... Aristotelian? Platonic? A little bit of both. But this flexibility in defining the vocabulary is then limited by having only a few things that we can ``legally'' do with it, as defined and implemented by the Python programming language.)\n",
        "\n",
        "The basic operation we can do in code is naming stuff. Like this:"
      ],
      "metadata": {
        "id": "L4I_AaUdAp4J"
      },
      "id": "L4I_AaUdAp4J"
    },
    {
      "cell_type": "code",
      "source": [
        "thing = 'This is a sentence.'"
      ],
      "metadata": {
        "id": "nI7Zg43LApZb"
      },
      "id": "nI7Zg43LApZb",
      "execution_count": 1,
      "outputs": []
    },
    {
      "cell_type": "markdown",
      "source": [
        "Now the label `thing` contains a sequence of characters (a string) that goes like this: `'This is a sentence.'` We call this label a **variable**, and the stuff that is referred to by the label is called the **value** of the variable. In this case, the variable `thing` has a value of `'This is a sentence.'`.\n",
        "\n",
        "One of the pre-defined operations Python allows us to do is to check the value of a variable. This is quite essential for knowing what's going on. It is done like this:"
      ],
      "metadata": {
        "id": "ZxiT9PxtB4W1"
      },
      "id": "ZxiT9PxtB4W1"
    },
    {
      "cell_type": "code",
      "source": [
        "print(thing)"
      ],
      "metadata": {
        "colab": {
          "base_uri": "https://localhost:8080/"
        },
        "id": "7IV18I-tCke4",
        "outputId": "7f5ddf72-8b50-4fc2-d625-ca18a3bec650"
      },
      "id": "7IV18I-tCke4",
      "execution_count": 2,
      "outputs": [
        {
          "output_type": "stream",
          "name": "stdout",
          "text": [
            "This is a sentence.\n"
          ]
        }
      ]
    },
    {
      "cell_type": "markdown",
      "source": [
        "Here we sneakily introduced the second elementary concept aside from variables: a **function**. Functions are sort of like machines: they receive some inputs on one side, then you turn a crank, and something new comes out. Depending on what you throw in (red currant, blueberries, tomatoes...), you get different things out (red currant juice and waste, blueberry juice and waste, tomato juice and waste...), but the machine works the same way.\n",
        "\n",
        "(Yes, I used to prepare marmelades every summers.)\n",
        "\n",
        "We have already shown the Python construction for applying a function to some variable: parentheses. It goes like `name_of_function(variable1, variable2, ..., )`. How do we make one that does something we need, though?\n",
        "\n",
        "We cannot unfortunately make marmelade with Python functions, but what we can for example do is add two numbers with a Python function."
      ],
      "metadata": {
        "id": "df9ZkoHmCo9b"
      },
      "id": "df9ZkoHmCo9b"
    },
    {
      "cell_type": "code",
      "source": [
        "def add_two_numbers(first_number, second_number):\n",
        "  result = first_number + second_number\n",
        "  return result"
      ],
      "metadata": {
        "id": "2LwqW_0gCnl3"
      },
      "id": "2LwqW_0gCnl3",
      "execution_count": 3,
      "outputs": []
    },
    {
      "cell_type": "markdown",
      "source": [
        "What's going on here?\n",
        "\n",
        "**Defining a function.**\n",
        "\n",
        "The definition of a new function is started with the `def` statement.\n",
        "After that, you have to write what this particular function should be called (like we had to come up with a name for the variable, `thing`). Because it is a function that is supposed to add two numbers, we leave our creativity aside and call it `add_two_numbers`.\n",
        "\n",
        "Then, we need to tell this function what to expect as inputs. (To separate the name of the function from the names of its inputs, we use the parentheses.) Well, since it is supposed to add two nubmers together, it should get some two numbers as inputs! Obviously. We just have to decide what these two numbers should be called when the function is running. Again, going for the clearest possible name, we call them simply `first_number` and `second_number`.\n",
        "\n",
        "(We *could* have called them `Johnny` and `Barbara`, and Python wouldn't care, but it could get confusing when you want to look back at the code you've written after a month or two. So preferrably we name things in very obvious ways.)\n",
        "\n",
        "And we put a semicolon at the end to tell Python that we have just finished the first part of defining a function: determining its name, and its inputs (and their names). Saying this in Python looks like:\n",
        "\n",
        "```\n",
        "def add_two_numbers(first_number, second_number):\n",
        "```\n",
        "\n",
        "So this is the first half of the job. But then we actually need to add the two numbers together! So, we could add:\n",
        "\n",
        "```\n",
        "first_number + second_number\n",
        "```\n",
        "\n",
        "However, while this performs the operation of adding the two things together, we don't really get anything out of it for later. We have to store the result somewhere. Where? We assign it to another variable:\n",
        "\n",
        "\n",
        "```\n",
        "result = first_number + second_number\n",
        "```\n",
        "\n",
        "So just like we assigned the string `'This is a thing.'` to variable `thing` before, now we assign the result of adding `first_number` and `second_number` to a new variable called, unsurprisingly, `result`.\n",
        "\n",
        "Now we have:\n",
        "\n",
        "```\n",
        "def add_two_numbers(first_number, second_number):\n",
        "result = first_number + second_number\n",
        "```\n",
        "\n",
        "But that wouldn't work. We have to indicate to Python that the second line is something that should be done whenever the function `add_two_numbers` is called, not just once. The way to signal this to Python is through indentation:\n",
        "\n",
        "```\n",
        "def add_two_numbers(first_number, second_number):\n",
        "  result = first_number + second_number\n",
        "```\n",
        "\n",
        "Now it knows that one of the things happening when we turn the crank of the `add_two_numbers` machine is to take the two expected inputs to the machine,  add them together, and store them in a variable called `result`.\n",
        "\n",
        "Now if we call:\n",
        "\n",
        "```\n",
        "add_two_nubmers(X, Y)\n",
        "```\n",
        "\n",
        "we get... nothing!\n",
        "\n",
        "The last thing that the function must do is actually produce an output for whoever called it. There is no point in having a `result` inside the function when we don't communicate it with anyone! This is done in Python with the `return` statement, and we get:\n",
        "\n",
        "```\n",
        "def add_two_numbers(first_number, second_number):\n",
        "  result = first_number + second_number\n",
        "  return result\n",
        "```\n",
        "\n",
        "Finally, we have a function that does what we want and gives us the result back, so we can do other things with it -- like printing it.\n",
        "\n",
        "\n"
      ],
      "metadata": {
        "id": "CmtJcq-5ElyU"
      },
      "id": "CmtJcq-5ElyU"
    },
    {
      "cell_type": "markdown",
      "source": [
        "So, let's add some numbers."
      ],
      "metadata": {
        "id": "xlBSAyB0Dmej"
      },
      "id": "xlBSAyB0Dmej"
    },
    {
      "cell_type": "code",
      "source": [
        "Z = add_two_numbers(4, 5)"
      ],
      "metadata": {
        "id": "vJnAdACrEVGo"
      },
      "id": "vJnAdACrEVGo",
      "execution_count": 4,
      "outputs": []
    },
    {
      "cell_type": "markdown",
      "source": [
        "and we can check the result:"
      ],
      "metadata": {
        "id": "_cOigmFYEdLf"
      },
      "id": "_cOigmFYEdLf"
    },
    {
      "cell_type": "code",
      "source": [
        "print(Z)"
      ],
      "metadata": {
        "colab": {
          "base_uri": "https://localhost:8080/"
        },
        "id": "qXU57WoJEb5F",
        "outputId": "d188761d-127a-4bd1-b61d-c6a7fc6969fd"
      },
      "id": "qXU57WoJEb5F",
      "execution_count": 5,
      "outputs": [
        {
          "output_type": "stream",
          "name": "stdout",
          "text": [
            "9\n"
          ]
        }
      ]
    },
    {
      "cell_type": "markdown",
      "source": [
        "Now we try with different numbers:"
      ],
      "metadata": {
        "id": "PP2Iq69IIOn4"
      },
      "id": "PP2Iq69IIOn4"
    },
    {
      "cell_type": "code",
      "source": [
        "Z = add_two_numbers(45, 55)\n",
        "print(Z)"
      ],
      "metadata": {
        "colab": {
          "base_uri": "https://localhost:8080/"
        },
        "id": "27f_7G8QEucB",
        "outputId": "f2b0e86f-c457-462c-8556-744e34f311c3"
      },
      "id": "27f_7G8QEucB",
      "execution_count": 6,
      "outputs": [
        {
          "output_type": "stream",
          "name": "stdout",
          "text": [
            "100\n"
          ]
        }
      ]
    },
    {
      "cell_type": "markdown",
      "source": [
        "Still, unsurprisingly, it's doing the same thing, just with different inputs.\n",
        "\n",
        "**Combining functions and variables**\n",
        "\n",
        "Of course, we couldn't write many useful programs if all we could do is just hard-code the numbers ahead of time. But what we can do is combine variables and functions. For example:"
      ],
      "metadata": {
        "id": "n6TzttcVITEO"
      },
      "id": "n6TzttcVITEO"
    },
    {
      "cell_type": "code",
      "source": [
        "X = 45\n",
        "Y = 55\n",
        "Z = add_two_numbers(X, Y)\n",
        "print(Z)"
      ],
      "metadata": {
        "colab": {
          "base_uri": "https://localhost:8080/"
        },
        "id": "FFzXNdwvI4XS",
        "outputId": "b576aa22-b27d-4740-dfaa-f9bdb42a707e"
      },
      "id": "FFzXNdwvI4XS",
      "execution_count": 7,
      "outputs": [
        {
          "output_type": "stream",
          "name": "stdout",
          "text": [
            "100\n"
          ]
        }
      ]
    },
    {
      "cell_type": "markdown",
      "source": [
        "Here we assign the value `45` to the variable `X`, value `55` to the variable `Y`, and then when we call the function with the labels `X` and `Y` instead of the values directly, Python just goes: \"Ah, let's refer to these two things as `first_number` and `second_number` while we are running the `add_two_numbers()` function...\".\n",
        "\n",
        "But now the fun part starts. We can *compose* functions together. How do we add three numbers?"
      ],
      "metadata": {
        "id": "zSfQ7DUrI9sn"
      },
      "id": "zSfQ7DUrI9sn"
    },
    {
      "cell_type": "code",
      "source": [
        "def add_three_numbers(first_number, second_number, third_number):\n",
        "  intermediate_result = add_two_numbers(first_number, second_number)\n",
        "  result = add_two_numbers(intermediate_result, third_number)\n",
        "  return result"
      ],
      "metadata": {
        "id": "w62tAGTiI9Ff"
      },
      "id": "w62tAGTiI9Ff",
      "execution_count": 8,
      "outputs": []
    },
    {
      "cell_type": "markdown",
      "source": [
        "**Lists and iteration.**\n",
        "\n",
        "This is of course a bit silly, but what if we want to add together an arbitrary amount of numbers? We cannot just write functions that go `add_four_numbers(...)`, `add_five_numbers(...)`, etc.: whenever we think we are done, someone will come and say \"Ah but now I want to add *six* numbers!\" and then you will be out of functions.\n",
        "\n",
        "But we can write a function to add *any* bunch of numbers together!\n",
        "We do this with two closely related elementary constructions: lists, and iteration.\n",
        "\n",
        "A **list** is something that contains other things (like a bunch of numbers, or mushrooms) in sequence. The \"in sequence\" part just means that it is aware of how these things are ordered inside: when you ask a list \"What's your first element?\", it happily says, e.g., \"toadstool\", instead of looking at you funny and crashing the program.\n",
        "\n",
        "To tell Python that something is a list, we use square brackets, like this:\n",
        "\n",
        "```\n",
        "list_of_mushrooms = ['toadstool', 'boletus', 'parasol', 'champignon']\n",
        "list_of_numbers = [1, 66, 2, 54, 90, 90, 1, 813490438]\n",
        "```\n",
        "\n",
        "Lists can contain anything, such as other lists:\n",
        "\n",
        "```\n",
        "list_of_lists = [list_of_mushrooms, list_of_numbers]\n",
        "```\n",
        "\n",
        "Now because there is no way to know how long a list is going to be in advance, we need a mechanism to just go over every item in a list. This is called **iteration**. The most important construction that Python has for iterating over lists is called the **for-loop**, written like this:\n",
        "\n",
        "```\n",
        "for thing in list:\n",
        "  outcome = do_something(thing)\n",
        "```\n",
        "\n",
        "and it does exactly what you think it does: applies the body of the loop (like we had the body of a function) to each thing in the list.\n",
        "\n",
        "The list stays available afterwards! You can do:\n",
        "\n",
        "```\n",
        "for thing in list:\n",
        "  outcome = do_something(thing)\n",
        "for thing in list:\n",
        "  another_outcome = do_something_else(thing)\n",
        "```\n",
        "\n",
        "What you will very often want to do is keep the outcomes also as a list.\n",
        "That works like this:\n",
        "\n",
        "```\n",
        "outcomes = []     # Empty list. By the way, Python ignores everythign after\n",
        "                  #             a hashtag, which is how you can write comments\n",
        "                  #             in your code that help readability.\n",
        "for thing in list:\n",
        "  outcome = do_something(thing)\n",
        "  outcomes.append(outcome)  # Each list knows how to attach a new element to its end.\n",
        "```\n",
        "\n",
        "Note that because writing this is really annoying, Python has a shorthand for constructing a list from another list that you will see incredibly often:\n",
        "\n",
        "```\n",
        "outcomes = [do_something(thing) for thing in list]\n",
        "```\n",
        "\n",
        "So now we are ready to write a function that adds up any number of numbers!"
      ],
      "metadata": {
        "id": "V5mTGbU0J6Wf"
      },
      "id": "V5mTGbU0J6Wf"
    },
    {
      "cell_type": "code",
      "source": [
        "a_bunch_of_numbers = [1, 2, 55, 20, 23, 4, 1, 1, 1]\n",
        "\n",
        "def add_a_bunch_of_numbers(numbers):\n",
        "  result = 0\n",
        "  for number in numbers:\n",
        "    result = add_two_numbers(result, number)\n",
        "  return result"
      ],
      "metadata": {
        "id": "hyMQiuQ3JubL"
      },
      "id": "hyMQiuQ3JubL",
      "execution_count": 9,
      "outputs": []
    },
    {
      "cell_type": "markdown",
      "source": [
        "**Dictionaries.**\n",
        "\n",
        "Another important data structure that contains things is a dictionary. Especially in Python, dictionaries are everywhere. They are useful when you don't just want to refer to elements of a collection in a specifc order (e.g. \"Give me the first element\", \"Give me the fifth element\", ...), but when you want to name things and refer to them by those names.\n",
        "\n",
        "For example:"
      ],
      "metadata": {
        "id": "2FrBeJOyyvUq"
      },
      "id": "2FrBeJOyyvUq"
    },
    {
      "cell_type": "code",
      "source": [
        "mushroom_heights = {\n",
        "    'toadstool': 5,\n",
        "    'boletus': 4,\n",
        "    'parasol': 7,\n",
        "    'champignon': 2\n",
        "}\n",
        "\n",
        "wuthering_heights = {\n",
        "    'author': 'Emily Brontë',\n",
        "    'year': 1847,\n",
        "    'penname': 'Ellis Bell',\n",
        "    'deaths': 7,\n",
        "    'some_characters': ['Lockwood', 'Nelly', 'Catherine', 'Heathcliff', 'Hindley']\n",
        "}\n",
        "\n",
        "# A dictionary can contain anything!\n",
        "heights = {'mushroom': mushroom_heights,\n",
        "           'wuthering': wuthering_heights}"
      ],
      "metadata": {
        "id": "AWgG6LDQzFWc"
      },
      "id": "AWgG6LDQzFWc",
      "execution_count": 10,
      "outputs": []
    },
    {
      "cell_type": "markdown",
      "source": [
        "You can put anything you want in dictionaries, and you can always find it under the label under which you left it. It's a super useful data structure. (Python itself interally uses a dictionary structure to keep track of the variables you defined and their values.)"
      ],
      "metadata": {
        "id": "K4iKZ-Gg0MrS"
      },
      "id": "K4iKZ-Gg0MrS"
    },
    {
      "cell_type": "markdown",
      "source": [
        "**Things that not only contain other things, but also do things.**\n",
        "\n",
        "You may have noticed the `outcomes.append(outcome)` line and felt like that construction has not yet been used. That's because it hasn't, and it's the last part of this primer: **objects and methods**.\n",
        "\n",
        "Like we said earlier, a variable is just a label on something. This something belongs to a category -- a type: number, string, list, or something else. In general, these categories are called **classes**. A thing that belongs to one of these categories is an **instance** of the given **class**. (The extent to which classes in programming are something like a Platonic \"ideal\" would certainly be worth a discussion at some point.)\n"
      ],
      "metadata": {
        "id": "tMJ_qvLSgO83"
      },
      "id": "tMJ_qvLSgO83"
    },
    {
      "cell_type": "markdown",
      "source": [
        "Beyond containing some information (like: the ordered elements, in case of an instance of a list), classes can also define behaviors (like: a list can be appended to). These behaviors are just functions associatied with an instance of that class: lists define what appending means, but when you append to a list, you are always appending to some specific list. (There is no such thing as appending an element to all lists in general...) But behaviors are associated with a calss to ensure that every instance of the class is going to behave in the same way when the given behavior is invoked.\n",
        "These behaviors are called **methods**.\n",
        ""
      ],
      "metadata": {
        "id": "St9SsZtxtfVx"
      },
      "id": "St9SsZtxtfVx"
    },
    {
      "cell_type": "markdown",
      "source": [
        "Let's define a class!"
      ],
      "metadata": {
        "id": "PI9rfeG6t5yt"
      },
      "id": "PI9rfeG6t5yt"
    },
    {
      "cell_type": "code",
      "source": [
        "class Dog:\n",
        "  def __init__(self, name):     # This is a \"constructor\": a behavior that is called whenever a new instance of Dog is created.\n",
        "    self.name = name            # The name is a property of every dog. Different dogs have different names, but each dog has a name.\n",
        "                                # The specific name an instance of Dog will have is decided by the programmer when the instance\n",
        "                                # is created, so it is passed here as input to this constructor method.\n",
        "                                # The parameter 'self' is how Python enables methods defined on the class (Dog) to refer to whatever\n",
        "                                # instance of Dog is being worked with.\n",
        "                                # Suppose you have dog1 = Dog('Peter') and dog2 = Dog('Paul'). Then, in the first instance\n",
        "                                # 'self' refers to the just created Dog instance dog1, and it will assign 'Peter' to the attribute 'name'\n",
        "                                # of 'dog1'. Then when 'dog2' is created, 'self' refers to this new instance of Dog, and the attribute\n",
        "                                # 'name' of 'dog2' will be set to 'Paul'.\n",
        "    self.number_of_legs = 4     # Every Dog starts out with four legs, we don't need a parameter.\n",
        "\n",
        "  def bark_name(self):\n",
        "    print('Woof woof, I am dog ' + self.name + ', woof woof meow meow')   # Our Dog class has a bit of an identity crisis maybe.]\n",
        "\n",
        "  def grow_leg(self):     # Sometimes our special confused Dogs can grow an extra leg!\n",
        "    self.number_of_legs = self.number_of_legs + 1\n",
        "\n",
        "  def is_also_centipede(self):        # After some time growing legs, the Dog can also be confused for a centipede.\n",
        "    if self.number_of_legs >= 100:\n",
        "      return True\n",
        "    else:\n",
        "      return False"
      ],
      "metadata": {
        "id": "kuFWDZo2te8P"
      },
      "id": "kuFWDZo2te8P",
      "execution_count": 11,
      "outputs": []
    },
    {
      "cell_type": "markdown",
      "source": [
        "Now we let the dogs out:"
      ],
      "metadata": {
        "id": "gaVsoxgsvmPt"
      },
      "id": "gaVsoxgsvmPt"
    },
    {
      "cell_type": "code",
      "source": [
        "dog1 = Dog('Vladimir')\n",
        "dog1.bark_name()\n",
        "dog1.grow_leg()\n",
        "dog1.grow_leg()\n",
        "\n",
        "name_of_dog1 = dog1.name\n",
        "number_of_dog1_legs = dog1.number_of_legs\n",
        "\n",
        "print('Dog {} has {} legs at this point. Is it an insect now?'.format(name_of_dog1, number_of_dog1_legs))"
      ],
      "metadata": {
        "colab": {
          "base_uri": "https://localhost:8080/"
        },
        "id": "C8iXwtemvn_d",
        "outputId": "ae04fa0d-49a1-4d17-a6e1-0abf101f10a7"
      },
      "id": "C8iXwtemvn_d",
      "execution_count": 12,
      "outputs": [
        {
          "output_type": "stream",
          "name": "stdout",
          "text": [
            "Woof woof, I am dog Vladimir, woof woof meow meow\n",
            "Dog Vladimir has 6 legs at this point. Is it an insect now?\n"
          ]
        }
      ]
    },
    {
      "cell_type": "markdown",
      "source": [
        "We can refer to the properties or run behaviors of a specific instance of a Dog by the construction with a dot:\n",
        "\n",
        "```\n",
        "dog1.bark_name()\n",
        "```\n",
        "\n",
        "This calls the method `bark_name()` on the instance `dog1`. Because we initialised `dog1` with the cute fluffy name `Vladimir`, that's what the dog tells us when we ask it to bark its name."
      ],
      "metadata": {
        "id": "G207AOIkx85n"
      },
      "id": "G207AOIkx85n"
    },
    {
      "cell_type": "code",
      "source": [
        "dog2 = Dog('Jevgeņijs')\n",
        "dog2.bark_name()\n",
        "\n",
        "# Remember the for-loop? range(100) is a shortcut for a list that goes [0, 1, 2, 3, ..., 99]\n",
        "for i in range(96):\n",
        "  dog2.grow_leg()\n",
        "\n",
        "# Maybe at this point dog2 is already a centipede! Let's find out.\n",
        "if dog2.is_also_centipede():\n",
        "  print('Dog {} has so many legs it is now a centipede!'.format(dog2.name))\n",
        "else:\n",
        "  print('Dog {} has failed to grow enough legs to become a centipede.'.format(dog2.name))\n",
        "\n",
        "# Now we can check how the number of legs across the two dogs compares.\n",
        "# This illustrates that the 'self.number_of_legs' line refers to the number\n",
        "# of legs on two different dogs when the method 'grow_leg()' was called on different dogs.\n",
        "if dog1.number_of_legs < dog2.number_of_legs:\n",
        "  print('Congratulations, dog named {} grew so many legs he reached a certain capital city back in 2023!'.format(dog2.name))\n",
        "else:\n",
        "  print('Dog named {} chickened out before he reached a certain capital city because he did not have enough legs.'.format(dog2.name))"
      ],
      "metadata": {
        "colab": {
          "base_uri": "https://localhost:8080/"
        },
        "id": "ckKogHEHwHvL",
        "outputId": "dbc863bc-96a2-4860-85f7-c099d726f55e"
      },
      "id": "ckKogHEHwHvL",
      "execution_count": 13,
      "outputs": [
        {
          "output_type": "stream",
          "name": "stdout",
          "text": [
            "Woof woof, I am dog Jevgeņijs, woof woof meow meow\n",
            "Dog Jevgeņijs has so many legs it is now a centipede!\n",
            "Congratulations, dog named Jevgeņijs grew so many legs he reached a certain capital city back in 2023!\n"
          ]
        }
      ]
    },
    {
      "cell_type": "markdown",
      "source": [
        "The point is to say: when you see `thing.do_something()`, it means `do_something()` is applied to the `thing`, an instance of some class `Thing`. Python's numbers, strings, lists, etc. are basic built-in classes that we don't have to define, but a LOT of programming is figuring out what classes we should define so that we have easy-to-use labels for the useful entities.\n",
        "\n",
        "This illustrates the very basic concepts that are present in reading code.\n",
        "\n",
        "\n",
        "\n",
        "\n",
        "\n",
        "\n",
        "\n",
        "..."
      ],
      "metadata": {
        "id": "0vY-7HxTx3cL"
      },
      "id": "0vY-7HxTx3cL"
    },
    {
      "cell_type": "markdown",
      "id": "0b762653-edae-4bf5-8967-c6aa2dcfc5ba",
      "metadata": {
        "id": "0b762653-edae-4bf5-8967-c6aa2dcfc5ba"
      },
      "source": [
        "Practicals 1: Exploring the digital chant ecosystem\n",
        "===================================================\n",
        "\n",
        "Getting our hands dirty, we will take a look around the digital chant ecosystem: the Cantus database, Cantus Index, and then we start working with the chant data contained therein. We take a look at some basic statistics of the dataset and visualise it. This will all happen in a google collab environment, so no need to install anything! All you need is an internet connection, no programming or math background required (but it may be a good idea to do a Python tutorial ahead of time)."
      ]
    },
    {
      "cell_type": "markdown",
      "id": "3bec022e-7362-46b8-8d5e-2f2b747d29b6",
      "metadata": {
        "id": "3bec022e-7362-46b8-8d5e-2f2b747d29b6"
      },
      "source": [
        "Installing requirements\n",
        "-----------------------\n",
        "\n",
        "We need some libraries that are not installed by default."
      ]
    },
    {
      "cell_type": "code",
      "execution_count": 14,
      "id": "7550e082-7b4d-4458-92c2-3091cc9efe75",
      "metadata": {
        "colab": {
          "base_uri": "https://localhost:8080/"
        },
        "collapsed": true,
        "id": "7550e082-7b4d-4458-92c2-3091cc9efe75",
        "outputId": "2e59fa71-e6d4-4311-c551-b290b588b5fc"
      },
      "outputs": [
        {
          "output_type": "stream",
          "name": "stdout",
          "text": [
            "Requirement already satisfied: scipy in /usr/local/lib/python3.11/dist-packages (1.15.2)\n",
            "Requirement already satisfied: numpy<2.5,>=1.23.5 in /usr/local/lib/python3.11/dist-packages (from scipy) (2.0.2)\n",
            "Requirement already satisfied: matplotlib in /usr/local/lib/python3.11/dist-packages (3.10.0)\n",
            "Requirement already satisfied: contourpy>=1.0.1 in /usr/local/lib/python3.11/dist-packages (from matplotlib) (1.3.2)\n",
            "Requirement already satisfied: cycler>=0.10 in /usr/local/lib/python3.11/dist-packages (from matplotlib) (0.12.1)\n",
            "Requirement already satisfied: fonttools>=4.22.0 in /usr/local/lib/python3.11/dist-packages (from matplotlib) (4.57.0)\n",
            "Requirement already satisfied: kiwisolver>=1.3.1 in /usr/local/lib/python3.11/dist-packages (from matplotlib) (1.4.8)\n",
            "Requirement already satisfied: numpy>=1.23 in /usr/local/lib/python3.11/dist-packages (from matplotlib) (2.0.2)\n",
            "Requirement already satisfied: packaging>=20.0 in /usr/local/lib/python3.11/dist-packages (from matplotlib) (24.2)\n",
            "Requirement already satisfied: pillow>=8 in /usr/local/lib/python3.11/dist-packages (from matplotlib) (11.2.1)\n",
            "Requirement already satisfied: pyparsing>=2.3.1 in /usr/local/lib/python3.11/dist-packages (from matplotlib) (3.2.3)\n",
            "Requirement already satisfied: python-dateutil>=2.7 in /usr/local/lib/python3.11/dist-packages (from matplotlib) (2.9.0.post0)\n",
            "Requirement already satisfied: six>=1.5 in /usr/local/lib/python3.11/dist-packages (from python-dateutil>=2.7->matplotlib) (1.17.0)\n"
          ]
        }
      ],
      "source": [
        "!pip install scipy\n",
        "!pip install matplotlib"
      ]
    },
    {
      "cell_type": "markdown",
      "id": "b3594216-3da9-47f5-8523-59c9cad9b48e",
      "metadata": {
        "id": "b3594216-3da9-47f5-8523-59c9cad9b48e"
      },
      "source": [
        "Getting data\n",
        "------------\n",
        "\n",
        "We work with the CantusCorpus v0.2 dataset. It is derived from the Cantus database. It contains records of almost 500,000 instances of chants, hundreds of records of manuscripts (sources), and a number of auxiliary files that encode controlled vocabularies for certain data.\n",
        "\n",
        "CantusCorpus is somewhat dated (2020), and we are working on a more comprehensive dataset, but the advantage is that previous results for this data exist -- and especially in the context of learning, this stability is an advantage."
      ]
    },
    {
      "cell_type": "code",
      "execution_count": 15,
      "id": "deb4957b-2cfd-4c7c-8412-d614a8a5ab22",
      "metadata": {
        "colab": {
          "base_uri": "https://localhost:8080/"
        },
        "collapsed": true,
        "id": "deb4957b-2cfd-4c7c-8412-d614a8a5ab22",
        "outputId": "c41ce1b4-6572-42cf-ad8a-4bccc8d1d1c8"
      },
      "outputs": [
        {
          "output_type": "stream",
          "name": "stdout",
          "text": [
            "--2025-05-06 20:54:18--  https://ufallab.ms.mff.cuni.cz/~hajicj/public_html/DH-Latvia_2025/data/cantuscorpus-v0.2.zip\n",
            "Resolving ufallab.ms.mff.cuni.cz (ufallab.ms.mff.cuni.cz)... 195.113.18.181\n",
            "Connecting to ufallab.ms.mff.cuni.cz (ufallab.ms.mff.cuni.cz)|195.113.18.181|:443... connected.\n",
            "HTTP request sent, awaiting response... 200 OK\n",
            "Length: 51685924 (49M) [application/zip]\n",
            "Saving to: ‘cantuscorpus-v0.2.zip.1’\n",
            "\n",
            "cantuscorpus-v0.2.z 100%[===================>]  49.29M  19.4MB/s    in 2.5s    \n",
            "\n",
            "2025-05-06 20:54:22 (19.4 MB/s) - ‘cantuscorpus-v0.2.zip.1’ saved [51685924/51685924]\n",
            "\n"
          ]
        }
      ],
      "source": [
        "!wget https://ufallab.ms.mff.cuni.cz/~hajicj/public_html/DH-Latvia_2025/data/cantuscorpus-v0.2.zip"
      ]
    },
    {
      "cell_type": "code",
      "source": [
        "!unzip cantuscorpus-v0.2.zip"
      ],
      "metadata": {
        "colab": {
          "base_uri": "https://localhost:8080/"
        },
        "collapsed": true,
        "id": "Lbhx2W6gAjFx",
        "outputId": "1857be53-5684-4e17-d58f-f6c510e6ae82"
      },
      "id": "Lbhx2W6gAjFx",
      "execution_count": 16,
      "outputs": [
        {
          "output_type": "stream",
          "name": "stdout",
          "text": [
            "Archive:  cantuscorpus-v0.2.zip\n",
            "replace cantuscorpus-v0.2/csv/office.csv? [y]es, [n]o, [A]ll, [N]one, [r]ename: A\n",
            "  inflating: cantuscorpus-v0.2/csv/office.csv  \n",
            "  inflating: cantuscorpus-v0.2/csv/chant-demo-sample.csv  \n",
            "  inflating: cantuscorpus-v0.2/csv/indexer.csv  \n",
            "  inflating: cantuscorpus-v0.2/csv/chant.csv  \n",
            "  inflating: cantuscorpus-v0.2/csv/feast.csv  \n",
            "  inflating: cantuscorpus-v0.2/csv/century.csv  \n",
            "  inflating: cantuscorpus-v0.2/csv/orig_id.csv  \n",
            "  inflating: cantuscorpus-v0.2/csv/notation.csv  \n",
            "  inflating: cantuscorpus-v0.2/csv/siglum.csv  \n",
            "  inflating: cantuscorpus-v0.2/csv/.feast.csv.swp  \n",
            "  inflating: cantuscorpus-v0.2/csv/provenance.csv  \n",
            "  inflating: cantuscorpus-v0.2/csv/genre.csv  \n",
            "  inflating: cantuscorpus-v0.2/csv/source.csv  \n",
            "  inflating: cantuscorpus-v0.2/.DS_Store  \n",
            "  inflating: cantuscorpus-v0.2/antiphons/test-chants.csv  \n",
            "  inflating: cantuscorpus-v0.2/antiphons/gregobase-chantstrings.csv  \n",
            "  inflating: cantuscorpus-v0.2/antiphons/train-representation-pitch.csv  \n",
            "  inflating: cantuscorpus-v0.2/antiphons/train-chants.csv  \n",
            "  inflating: cantuscorpus-v0.2/antiphons/test-representation-pitch.csv  \n",
            "  inflating: cantuscorpus-v0.2/responsories/train-chants.csv  \n",
            "  inflating: cantuscorpus-v0.2/responsories/gregobase-chantstrings.csv  \n",
            "  inflating: cantuscorpus-v0.2/responsories/test-representation-pitch.csv  \n",
            "  inflating: cantuscorpus-v0.2/responsories/train-representation-pitch.csv  \n",
            "  inflating: cantuscorpus-v0.2/responsories/test-chants.csv  \n",
            "  inflating: cantuscorpus-v0.2/corpus-generation.log  \n"
          ]
        }
      ]
    },
    {
      "cell_type": "markdown",
      "source": [
        "Loading CantusCorpus\n",
        "--------------------\n",
        "\n",
        "The dataset is in a CSV format, which is just a very simple way to store a table: each line of the file is a table row, and a \"separator\" character is defined -- usually a comma (CSV stands for comma-separated values), sometimes a tab (then it can be called TSV, tab-separated values). The file also usually has a header row that contains the names of the table columns.\n",
        "\n",
        "Let's load all the chants first.\n",
        "\n",
        "First, we set up the path into the dataset."
      ],
      "metadata": {
        "id": "DLqPqo7fOJHT"
      },
      "id": "DLqPqo7fOJHT"
    },
    {
      "cell_type": "code",
      "source": [
        "import os\n",
        "import logging\n",
        "\n",
        "# This is the directory into which we downloaded CantusCorpus\n",
        "DATA_ROOT = 'cantuscorpus-v0.2'\n",
        "\n",
        "# The 'chant.csv' file is where the chant data is.\n",
        "DATASET_CSV_NAME = os.path.join(DATA_ROOT, 'csv', 'chant.csv')\n",
        "\n",
        "# It is pretty good practice to check that you got key file paths right -- that the files actually exist.\n",
        "if not os.path.isfile(DATASET_CSV_NAME):\n",
        "    raise ValueError('CantusCorpus dataset CSV file not found at path {}. Is the DATA_ROOT set correctly?'\n",
        "                     ' Current location: {}'.format(DATASET_CSV_NAME, os.getcwd()))"
      ],
      "metadata": {
        "id": "qKbMmmzgXBKf"
      },
      "id": "qKbMmmzgXBKf",
      "execution_count": 17,
      "outputs": []
    },
    {
      "cell_type": "markdown",
      "source": [
        "\n",
        "Now we know what file we are loading from, so we could just go ahead and use the above definition of a CSV file to read it and parse the individual lines.\n",
        "\n",
        "But instead, we first make a small digression.\n",
        "\n",
        "The plain-text nature of CSVs is great for interoperability and portability, and every programming language has built-in support for dealing with this type of file. That makes CSVs an excellent choice for storing and disseminating research data in repositories such as the Open Science Foundation or DARIAH-related infrastructure (e.g., LINDAT).\n",
        "\n",
        "The minimal structure, however, comes at a cost. What happens when a text field, e.g. a manuscript description, contains the separator character (a comma)? The obvious solution is quoting. But what if the field contains a quote? These issues are what the libraries for handling CSV files resolve, at least to the extent to which it is possible. But when encoding data into CSV files, one should be aware of these issues, and ideally have a round-trip test to make sure that there is a method to load the data properly, then store it back as a CSV file, and that the resulting file has exactly the same contents as the original file.\n",
        "\n",
        "So we actually want to use the appropriate library, and define the various parameters to load the file safely and properly."
      ],
      "metadata": {
        "id": "jwJ50DDVW9e2"
      },
      "id": "jwJ50DDVW9e2"
    },
    {
      "cell_type": "code",
      "source": [
        "# This is the library that works with CSVs in Python.\n",
        "import csv\n",
        "\n",
        "# Here we define the CSV loading parameters.\n",
        "# As with the file paths, we use capital letters to clearly indicate which values\n",
        "# are defined by us.\n",
        "CSV_DELIMITER = ','\n",
        "CSV_DOUBLEQUOTE = False\n",
        "CSV_QUOTECHAR = '\"'\n",
        "CSV_DIALECT = 'unix'\n",
        "CSV_QUOTING = csv.QUOTE_MINIMAL\n",
        "# This is the policy that combines all the parameters above.\n",
        "# Some of these apply when reading a CSV file, some apply when writing it back.\n",
        "# The possible values of quoting policy defined and documented by the 'csv' library.\n",
        "\n",
        "# Here is where we store all the chants, as a list.\n",
        "chants = []\n",
        "\n",
        "# Now we actually load them!\n",
        "# This can take a while, as there are almost half a million of them.\n",
        "with open(DATASET_CSV_NAME) as fh:\n",
        "    reader = csv.DictReader(fh,\n",
        "                            delimiter=CSV_DELIMITER,\n",
        "                            doublequote=CSV_DOUBLEQUOTE,\n",
        "                            quotechar=CSV_QUOTECHAR,\n",
        "                            dialect=CSV_DIALECT,\n",
        "                            quoting=CSV_QUOTING)\n",
        "\n",
        "    # At this point, we could just load the data, but because we want\n",
        "    # to be very sure that we have been able to load the data properly,\n",
        "    # we wrap it with this 'try-except' construction. This means:\n",
        "    # If an error happens during the 'try' block, jump into the 'except'\n",
        "    # block to deal with it. In this case, we simply want to know which row\n",
        "    # the error occurred in, so that we know which line of the data file\n",
        "    # we should check for errors.\n",
        "    try:\n",
        "        for i, row in enumerate(reader):\n",
        "            chants.append(row)\n",
        "    except:\n",
        "        print('Row {} has an error!\\nRow: {}'.format(i, row))\n",
        "        raise\n",
        "\n",
        "# We also want to remember what the field names are, to be able to quickly check\n",
        "# what information is available for each chant.\n",
        "fieldnames = reader.fieldnames\n"
      ],
      "metadata": {
        "id": "KwAu3WgVZR-S"
      },
      "id": "KwAu3WgVZR-S",
      "execution_count": 18,
      "outputs": []
    },
    {
      "cell_type": "markdown",
      "source": [
        "Let's check how many chants exactly we got:"
      ],
      "metadata": {
        "id": "TGdqYL88dnWF"
      },
      "id": "TGdqYL88dnWF"
    },
    {
      "cell_type": "code",
      "source": [
        "n_chants = len(chants)\n",
        "print('Loaded {} chants.'.format(n_chants))"
      ],
      "metadata": {
        "colab": {
          "base_uri": "https://localhost:8080/"
        },
        "id": "9Qc8Z8ivcQdp",
        "outputId": "a8eab8d6-0951-497c-acfc-3444dc70be01"
      },
      "id": "9Qc8Z8ivcQdp",
      "execution_count": 19,
      "outputs": [
        {
          "output_type": "stream",
          "name": "stdout",
          "text": [
            "Loaded 497071 chants.\n"
          ]
        }
      ]
    },
    {
      "cell_type": "markdown",
      "source": [
        "And what information is available for each of the chants:"
      ],
      "metadata": {
        "id": "DskR1JxedqGv"
      },
      "id": "DskR1JxedqGv"
    },
    {
      "cell_type": "code",
      "source": [
        "print(fieldnames)"
      ],
      "metadata": {
        "colab": {
          "base_uri": "https://localhost:8080/"
        },
        "id": "n0GmK0b9cW99",
        "outputId": "206816f0-9efb-47c1-8fd4-cb059859ac43"
      },
      "id": "n0GmK0b9cW99",
      "execution_count": 20,
      "outputs": [
        {
          "output_type": "stream",
          "name": "stdout",
          "text": [
            "['id', 'incipit', 'cantus_id', 'mode', 'finalis', 'differentia', 'siglum', 'position', 'folio', 'sequence', 'marginalia', 'cao_concordances', 'feast_id', 'genre_id', 'office_id', 'source_id', 'melody_id', 'drupal_path', 'full_text', 'full_text_manuscript', 'volpiano', 'notes']\n"
          ]
        }
      ]
    },
    {
      "cell_type": "code",
      "source": [
        "# Let's print it out a little better...\n",
        "print('\\n'.join(fieldnames))"
      ],
      "metadata": {
        "colab": {
          "base_uri": "https://localhost:8080/"
        },
        "collapsed": true,
        "id": "kSPZdw1zdvok",
        "outputId": "a7c6696a-ae10-4db6-b37e-d2803377e5bf"
      },
      "id": "kSPZdw1zdvok",
      "execution_count": 21,
      "outputs": [
        {
          "output_type": "stream",
          "name": "stdout",
          "text": [
            "id\n",
            "incipit\n",
            "cantus_id\n",
            "mode\n",
            "finalis\n",
            "differentia\n",
            "siglum\n",
            "position\n",
            "folio\n",
            "sequence\n",
            "marginalia\n",
            "cao_concordances\n",
            "feast_id\n",
            "genre_id\n",
            "office_id\n",
            "source_id\n",
            "melody_id\n",
            "drupal_path\n",
            "full_text\n",
            "full_text_manuscript\n",
            "volpiano\n",
            "notes\n"
          ]
        }
      ]
    },
    {
      "cell_type": "markdown",
      "source": [
        "So what does a chant record look like?"
      ],
      "metadata": {
        "id": "az_zLmAcd60G"
      },
      "id": "az_zLmAcd60G"
    },
    {
      "cell_type": "code",
      "source": [
        "print(chants[0])"
      ],
      "metadata": {
        "colab": {
          "base_uri": "https://localhost:8080/"
        },
        "id": "IQSYuUgkd06t",
        "outputId": "6349adc0-e31b-4706-bfe3-d501e4e4fc01"
      },
      "id": "IQSYuUgkd06t",
      "execution_count": 22,
      "outputs": [
        {
          "output_type": "stream",
          "name": "stdout",
          "text": [
            "{'id': 'chant_000001', 'incipit': '#ne positi certamen habuistis mercedem', 'cantus_id': '007590.1', 'mode': '', 'finalis': '', 'differentia': '', 'siglum': 'US-HA Rauner Codex MS 003203', 'position': '', 'folio': '066r', 'sequence': '0.0', 'marginalia': '', 'cao_concordances': '', 'feast_id': 'feast_0227', 'genre_id': 'genre_r', 'office_id': 'office_m', 'source_id': 'source_519', 'melody_id': '', 'drupal_path': 'http://cantus.uwaterloo.ca/chant/693173/', 'full_text': '#ne positi certamen habuistis mercedem laboris ego reddam vobis', 'full_text_manuscript': '#ne positi certamen habuistis | Mercedem laboris ego reddam vobis', 'volpiano': '', 'notes': ''}\n"
          ]
        }
      ]
    },
    {
      "cell_type": "code",
      "source": [
        "# This is not really readable. Let'd define a function for this:\n",
        "def print_chant(chant, fieldnames=fieldnames):\n",
        "  for f in fieldnames:\n",
        "\n",
        "    # Check that the field name that we expect is actually available in the chant record\n",
        "    if f not in chant:\n",
        "      # This would be a basic error message:\n",
        "      #raise ValueError('Chant does not contain field name {}!'.format(f))\n",
        "      # This is a better error message, because it shows both the problematic field name\n",
        "      # and the chant record, so that you can straight away start diagnosing where the problem is.\n",
        "      raise ValueError('Chant does not contain field name {}!\\n'\n",
        "                       'Available fields: {}'.format(f, list(chant.keys())))\n",
        "    value = chant[f]\n",
        "    print('{}: {}'.format(f, value))"
      ],
      "metadata": {
        "id": "SpcSVa3jd9_O"
      },
      "id": "SpcSVa3jd9_O",
      "execution_count": 23,
      "outputs": []
    },
    {
      "cell_type": "code",
      "source": [
        "print_chant(chants[0])"
      ],
      "metadata": {
        "colab": {
          "base_uri": "https://localhost:8080/"
        },
        "collapsed": true,
        "id": "Bd0gDbKxfAwN",
        "outputId": "b9bd1a15-6781-44e7-cc77-aedb7f23809f"
      },
      "id": "Bd0gDbKxfAwN",
      "execution_count": 24,
      "outputs": [
        {
          "output_type": "stream",
          "name": "stdout",
          "text": [
            "id: chant_000001\n",
            "incipit: #ne positi certamen habuistis mercedem\n",
            "cantus_id: 007590.1\n",
            "mode: \n",
            "finalis: \n",
            "differentia: \n",
            "siglum: US-HA Rauner Codex MS 003203\n",
            "position: \n",
            "folio: 066r\n",
            "sequence: 0.0\n",
            "marginalia: \n",
            "cao_concordances: \n",
            "feast_id: feast_0227\n",
            "genre_id: genre_r\n",
            "office_id: office_m\n",
            "source_id: source_519\n",
            "melody_id: \n",
            "drupal_path: http://cantus.uwaterloo.ca/chant/693173/\n",
            "full_text: #ne positi certamen habuistis mercedem laboris ego reddam vobis\n",
            "full_text_manuscript: #ne positi certamen habuistis | Mercedem laboris ego reddam vobis\n",
            "volpiano: \n",
            "notes: \n"
          ]
        }
      ]
    },
    {
      "cell_type": "code",
      "source": [
        "# And another chant:\n",
        "print_chant(chants[123000])"
      ],
      "metadata": {
        "colab": {
          "base_uri": "https://localhost:8080/"
        },
        "collapsed": true,
        "id": "2zRV2r0jfGKK",
        "outputId": "35c03c62-c4d2-48f5-f1f9-7866f1e9e476"
      },
      "id": "2zRV2r0jfGKK",
      "execution_count": 25,
      "outputs": [
        {
          "output_type": "stream",
          "name": "stdout",
          "text": [
            "id: chant_123001\n",
            "incipit: Dixerunt impii apud se non\n",
            "cantus_id: 006464\n",
            "mode: \n",
            "finalis: \n",
            "differentia: \n",
            "siglum: CZ Pu VI.E.4c\n",
            "position: 1.2\n",
            "folio: 230r\n",
            "sequence: 1.0\n",
            "marginalia: \n",
            "cao_concordances: CGBEMVHRDFSL\n",
            "feast_id: feast_0643\n",
            "genre_id: genre_r\n",
            "office_id: office_m\n",
            "source_id: \n",
            "melody_id: \n",
            "drupal_path: http://cantus.uwaterloo.ca/chant/464369/\n",
            "full_text: Dixerunt impii apud se non recte cogitantes circumveniamus justum quoniam contrarius est operibus nostris promittit se scientiam dei habere filium dei se nominat et gloriatur patrem se habere deum videamus si sermones illius veri sint et si est verus filius dei liberet illum de manibus nostris morte turpissima condempnemus eum\n",
            "full_text_manuscript: \n",
            "volpiano: \n",
            "notes: \n"
          ]
        }
      ]
    },
    {
      "cell_type": "markdown",
      "source": [
        "**Digression no. 2: Fixing the URLs**\n",
        "\n",
        "Notice that when we click the `drupal_path` link, it does not work. This is because the Cantus Database has undergone a change of URL in 2023, and the `cantus.uwaterloo.ca` server stopped redirecting, too. So, to make it easier for us to check things, we will change these values in our chants."
      ],
      "metadata": {
        "id": "cZrleliCgrpe"
      },
      "id": "cZrleliCgrpe"
    },
    {
      "cell_type": "code",
      "source": [
        "for c in chants:\n",
        "  old_drupal_path = c['drupal_path']\n",
        "  fixed_drupal_path = old_drupal_path.replace('http://cantus.uwaterloo.ca', 'https://cantusdatabase.org').rstrip('/')\n",
        "  c['drupal_path'] = fixed_drupal_path"
      ],
      "metadata": {
        "id": "3oFHn41BfdzZ"
      },
      "id": "3oFHn41BfdzZ",
      "execution_count": 26,
      "outputs": []
    },
    {
      "cell_type": "markdown",
      "source": [
        "Now the URLs should work."
      ],
      "metadata": {
        "id": "QOM-M0GhePv0"
      },
      "id": "QOM-M0GhePv0"
    },
    {
      "cell_type": "code",
      "source": [
        "print_chant(chants[123000])"
      ],
      "metadata": {
        "colab": {
          "base_uri": "https://localhost:8080/"
        },
        "collapsed": true,
        "id": "hacIvbuVhjvI",
        "outputId": "2cca1351-bdba-4f2e-8ad0-29d047e74a89"
      },
      "id": "hacIvbuVhjvI",
      "execution_count": 27,
      "outputs": [
        {
          "output_type": "stream",
          "name": "stdout",
          "text": [
            "id: chant_123001\n",
            "incipit: Dixerunt impii apud se non\n",
            "cantus_id: 006464\n",
            "mode: \n",
            "finalis: \n",
            "differentia: \n",
            "siglum: CZ Pu VI.E.4c\n",
            "position: 1.2\n",
            "folio: 230r\n",
            "sequence: 1.0\n",
            "marginalia: \n",
            "cao_concordances: CGBEMVHRDFSL\n",
            "feast_id: feast_0643\n",
            "genre_id: genre_r\n",
            "office_id: office_m\n",
            "source_id: \n",
            "melody_id: \n",
            "drupal_path: https://cantusdatabase.org/chant/464369\n",
            "full_text: Dixerunt impii apud se non recte cogitantes circumveniamus justum quoniam contrarius est operibus nostris promittit se scientiam dei habere filium dei se nominat et gloriatur patrem se habere deum videamus si sermones illius veri sint et si est verus filius dei liberet illum de manibus nostris morte turpissima condempnemus eum\n",
            "full_text_manuscript: \n",
            "volpiano: \n",
            "notes: \n"
          ]
        }
      ]
    },
    {
      "cell_type": "markdown",
      "source": [
        "Issues such as this are why we should care very much about persistence and long-term storage in the digital humanities. Cantus Database and its whole network gets almost everything right -- but still these issues are inevitable, because the digital environment evolves very quickly."
      ],
      "metadata": {
        "id": "y2WONzdZigvT"
      },
      "id": "y2WONzdZigvT"
    },
    {
      "cell_type": "markdown",
      "source": [
        "Counting chants\n",
        "---------------\n",
        "\n",
        "497,071 chants is a bit much to inspect manually, though, so we get some idea about what is really in this data by extracting some basic descriptive statistics."
      ],
      "metadata": {
        "id": "FZ5tNsxHievX"
      },
      "id": "FZ5tNsxHievX"
    },
    {
      "cell_type": "markdown",
      "source": [
        "We know we have catalogued this huge amount of chants, but many of these will be copies of the same repertoire across many manuscripts. So, how many discint chants do we have in the catalogued repertoire?\n",
        "\n",
        "This can be done thanks to the essential Cantus ID mechanism. Instances of the same chant across different manuscripts have the same Cantus ID assigned.\n",
        "\n"
      ],
      "metadata": {
        "id": "ycSHNZTYm0QU"
      },
      "id": "ycSHNZTYm0QU"
    },
    {
      "cell_type": "code",
      "source": [
        "all_cantus_ids = set(c['cantus_id'] for c in chants)  # The set() is a construction to only retain one instance of each value.\n",
        "n_distinct_chants = len(all_cantus_ids)\n",
        "print('{} distinct chants available.'.format(n_distinct_chants))\n"
      ],
      "metadata": {
        "colab": {
          "base_uri": "https://localhost:8080/"
        },
        "id": "WoOILafsmEuB",
        "outputId": "a72e70d0-6a6b-4568-f826-1ac9107d46c0"
      },
      "id": "WoOILafsmEuB",
      "execution_count": 28,
      "outputs": [
        {
          "output_type": "stream",
          "name": "stdout",
          "text": [
            "31501 distinct chants available.\n"
          ]
        }
      ]
    },
    {
      "cell_type": "markdown",
      "source": [
        "So on average, we can expect to see each Cantus ID:"
      ],
      "metadata": {
        "id": "jo4xWXSaoulk"
      },
      "id": "jo4xWXSaoulk"
    },
    {
      "cell_type": "code",
      "source": [
        "n_chants / n_distinct_chants"
      ],
      "metadata": {
        "colab": {
          "base_uri": "https://localhost:8080/"
        },
        "id": "45DH01A4npyK",
        "outputId": "68290ae6-029f-42bf-fb10-e978df1df118"
      },
      "id": "45DH01A4npyK",
      "execution_count": 29,
      "outputs": [
        {
          "output_type": "execute_result",
          "data": {
            "text/plain": [
              "15.779530808545761"
            ]
          },
          "metadata": {},
          "execution_count": 29
        }
      ]
    },
    {
      "cell_type": "markdown",
      "source": [
        "But of course averages are not terribly informative. What we probably want to really know is the frequency profile of Cantus IDs: how many appear only once, how many appear twice, and how many are on the other hand of the spectrum, appearing tens or even hundreds of times."
      ],
      "metadata": {
        "id": "zhkhVI0lpLpG"
      },
      "id": "zhkhVI0lpLpG"
    },
    {
      "cell_type": "code",
      "source": [
        "cid_frequencies = {}  # We can use 'cid' as the abbreviation for Cantus ID. It is sufficiently distinct.\n",
        "for chant in chants:\n",
        "  cid = chant['cantus_id']\n",
        "  if cid not in cid_frequencies:\n",
        "    cid_frequencies[cid] = 0\n",
        "  cid_frequencies[cid] += 1   # '+=' means 'add and modify original'. It's shorthand for cid_frequencies[cid] = cid_frequencies[cid] + 1"
      ],
      "metadata": {
        "id": "S2lf9TRSpKAR"
      },
      "id": "S2lf9TRSpKAR",
      "execution_count": 30,
      "outputs": []
    },
    {
      "cell_type": "markdown",
      "source": [
        "**Visualisation.**\n",
        "\n",
        "Now we know how often each Cantus ID appeared in the dataset, but printing a dictionary of 31,000+ entries is also not helpful. But what we can do is visualise.\n",
        "\n",
        "For this, the `matplotlib` library is the most widespread and best-documented for Python.\n",
        "\n",
        "(Generally when you need to pick a library out of several choices that all support the features you require, go for the one that is most widely used. When you encounter some issue, the more users a library has, the more likely it is that someony has already had that issue and got it resolved, either through StackOverflow or some other publicly available forum.)"
      ],
      "metadata": {
        "id": "arItl9gcsGZL"
      },
      "id": "arItl9gcsGZL"
    },
    {
      "cell_type": "code",
      "source": [
        "import matplotlib.pyplot as plt\n",
        "# This is a magical shortcut for making sure the visualisatons will be plotted nicely directly in the notebook:\n",
        "%matplotlib inline"
      ],
      "metadata": {
        "id": "hVEnZpeysD82"
      },
      "id": "hVEnZpeysD82",
      "execution_count": 31,
      "outputs": []
    },
    {
      "cell_type": "markdown",
      "source": [
        "Let's just plot the Cantus ID frequencies, sorted from highest to lowest."
      ],
      "metadata": {
        "id": "NKtfDz6g49Wd"
      },
      "id": "NKtfDz6g49Wd"
    },
    {
      "cell_type": "code",
      "source": [
        "cid_frequencies_sorted = list(sorted(cid_frequencies.values(), reverse=True))  # sorted() by default goes from lowest to highest\n",
        "\n",
        "plt.plot(cid_frequencies_sorted)\n",
        "plt.xlabel('n-th largest Cantus ID')   # Best practice: always label both axes.\n",
        "plt.ylabel('Number of Cantus ID occurrences')\n",
        "plt.show()"
      ],
      "metadata": {
        "colab": {
          "base_uri": "https://localhost:8080/",
          "height": 449
        },
        "id": "wfPCC1GOtz3S",
        "outputId": "9896b6b1-37d2-446b-9b54-58bb77c5b227"
      },
      "id": "wfPCC1GOtz3S",
      "execution_count": 32,
      "outputs": [
        {
          "output_type": "display_data",
          "data": {
            "text/plain": [
              "<Figure size 640x480 with 1 Axes>"
            ],
            "image/png": "[encoded data removed]"
          },
          "metadata": {}
        }
      ]
    },
    {
      "cell_type": "markdown",
      "source": [
        "Something is wrong: the most frequent Cantus ID occurred more than 10000 times, which makes the rest of the plot rather uninformative. This is very likely a case of missing data --- records with no Cantus ID present, which get loaded as an empty string. Let's see:"
      ],
      "metadata": {
        "id": "-dkZMzxNuhQV"
      },
      "id": "-dkZMzxNuhQV"
    },
    {
      "cell_type": "code",
      "source": [
        "cid_frequencies['']"
      ],
      "metadata": {
        "colab": {
          "base_uri": "https://localhost:8080/"
        },
        "id": "X6oelNm4t6Rn",
        "outputId": "4c7f7dda-e929-482c-a424-7a015b2c3537"
      },
      "id": "X6oelNm4t6Rn",
      "execution_count": 33,
      "outputs": [
        {
          "output_type": "execute_result",
          "data": {
            "text/plain": [
              "10244"
            ]
          },
          "metadata": {},
          "execution_count": 33
        }
      ]
    },
    {
      "cell_type": "markdown",
      "source": [
        "Yes, that was it. Let's re-compute the frequencies while accounting for this:\n",
        "\n"
      ],
      "metadata": {
        "id": "ghMtuGdsvYXa"
      },
      "id": "ghMtuGdsvYXa"
    },
    {
      "cell_type": "code",
      "source": [
        "n_empty_cids = 0\n",
        "cid_frequencies = {}  # We can use 'cid' as the abbreviation for Cantus ID. It is sufficiently distinct.\n",
        "for chant in chants:\n",
        "  cid = chant['cantus_id']\n",
        "\n",
        "  if cid == '':   # Here we deal with the missing values: just document how many there are.\n",
        "    n_empty_cids += 1\n",
        "    continue\n",
        "\n",
        "  if cid not in cid_frequencies:\n",
        "    cid_frequencies[cid] = 0\n",
        "  cid_frequencies[cid] += 1   # '+=' means 'add and modify original'. It's shorthand for cid_frequencies[cid] = cid_frequencies[cid] + 1"
      ],
      "metadata": {
        "id": "IUKQ-KU9vWOU"
      },
      "id": "IUKQ-KU9vWOU",
      "execution_count": 34,
      "outputs": []
    },
    {
      "cell_type": "markdown",
      "source": [
        "Now we plot the CID counts again:"
      ],
      "metadata": {
        "id": "_XBbRXWnvXfF"
      },
      "id": "_XBbRXWnvXfF"
    },
    {
      "cell_type": "code",
      "source": [
        "cid_frequencies_sorted = list(sorted(cid_frequencies.values(), reverse=True))  # sorted() by default goes from lowest to highest\n",
        "\n",
        "plt.plot(cid_frequencies_sorted)\n",
        "plt.xlabel('n-th largest Cantus ID')   # Best practice: always label both axes.\n",
        "plt.ylabel('Number of Cantus ID occurrences')\n",
        "plt.show()"
      ],
      "metadata": {
        "colab": {
          "base_uri": "https://localhost:8080/",
          "height": 449
        },
        "id": "_v5Bp28zxiS5",
        "outputId": "423b2ca4-c553-4e2e-ad2a-ab6ecc7792a1"
      },
      "id": "_v5Bp28zxiS5",
      "execution_count": 35,
      "outputs": [
        {
          "output_type": "display_data",
          "data": {
            "text/plain": [
              "<Figure size 640x480 with 1 Axes>"
            ],
            "image/png": "[encoded data removed]"
          },
          "metadata": {}
        }
      ]
    },
    {
      "cell_type": "markdown",
      "source": [
        "...and we still have some problem! It was not just the empty ones.\n",
        "Let's see the highest-frequency values."
      ],
      "metadata": {
        "id": "qZRDFN9Cxn6s"
      },
      "id": "qZRDFN9Cxn6s"
    },
    {
      "cell_type": "code",
      "source": [
        "cid_and_frequency_pairs_sorted = list(\n",
        "    sorted(cid_frequencies.items(),    # The .items() function of a dictionary returns an iterator over all key-value pairs\n",
        "           reverse=True,               # We still want to go from highest to lowest\n",
        "           key=lambda kv: kv[1]        # ...so we have to sort by the *value* part of the (key, value) pair.\n",
        "           )\n",
        "    )                                  # Finally, we turn the whole thing into a regular list,\n",
        "                                       # to not have to deal with some Python efficiency magic on sorted() and .items()."
      ],
      "metadata": {
        "id": "7LB6Sq5zxiqy"
      },
      "id": "7LB6Sq5zxiqy",
      "execution_count": 36,
      "outputs": []
    },
    {
      "cell_type": "code",
      "source": [
        "cid_and_frequency_pairs_sorted[:10]"
      ],
      "metadata": {
        "colab": {
          "base_uri": "https://localhost:8080/"
        },
        "id": "AHDmUPOQx2EC",
        "outputId": "a863b8fc-75c4-416d-f1db-853429a51fa7"
      },
      "id": "AHDmUPOQx2EC",
      "execution_count": 37,
      "outputs": [
        {
          "output_type": "execute_result",
          "data": {
            "text/plain": [
              "[('909000', 8883),\n",
              " ('008097', 908),\n",
              " ('008081', 867),\n",
              " ('001328', 840),\n",
              " ('909030', 796),\n",
              " ('008201', 750),\n",
              " ('008014', 719),\n",
              " ('008120', 666),\n",
              " ('008301', 593),\n",
              " ('007941', 565)]"
            ]
          },
          "metadata": {},
          "execution_count": 37
        }
      ]
    },
    {
      "cell_type": "markdown",
      "source": [
        "OK, `909000` looks like a legitimate Cantus ID. What chant does it represent?"
      ],
      "metadata": {
        "id": "IhSLyuhcy0h4"
      },
      "id": "IhSLyuhcy0h4"
    },
    {
      "cell_type": "code",
      "source": [
        "chants_with_909000 = [c for c in chants if c['cantus_id'] == '909000']"
      ],
      "metadata": {
        "id": "4IOxjWAGx4Uu"
      },
      "id": "4IOxjWAGx4Uu",
      "execution_count": 38,
      "outputs": []
    },
    {
      "cell_type": "code",
      "source": [
        "chants_with_909000[0]"
      ],
      "metadata": {
        "colab": {
          "base_uri": "https://localhost:8080/"
        },
        "id": "c3m9EJHky70v",
        "outputId": "bbd0fd66-973d-426b-95a3-a899f5939903"
      },
      "id": "c3m9EJHky70v",
      "execution_count": 39,
      "outputs": [
        {
          "output_type": "execute_result",
          "data": {
            "text/plain": [
              "{'id': 'chant_000564',\n",
              " 'incipit': '-loria patri et filio et',\n",
              " 'cantus_id': '909000',\n",
              " 'mode': '1',\n",
              " 'finalis': '',\n",
              " 'differentia': '',\n",
              " 'siglum': 'HR-Dsmbb XI',\n",
              " 'position': '02',\n",
              " 'folio': '125r',\n",
              " 'sequence': '1.0',\n",
              " 'marginalia': '',\n",
              " 'cao_concordances': '',\n",
              " 'feast_id': 'feast_0577',\n",
              " 'genre_id': 'genre_v',\n",
              " 'office_id': 'office_m',\n",
              " 'source_id': '',\n",
              " 'melody_id': '',\n",
              " 'drupal_path': 'https://cantusdatabase.org/chant/279117',\n",
              " 'full_text': '',\n",
              " 'full_text_manuscript': '',\n",
              " 'volpiano': '',\n",
              " 'notes': ''}"
            ]
          },
          "metadata": {},
          "execution_count": 39
        }
      ]
    },
    {
      "cell_type": "code",
      "source": [
        "chants_with_909000[1]"
      ],
      "metadata": {
        "colab": {
          "base_uri": "https://localhost:8080/"
        },
        "id": "wQ_VJWhTy8-F",
        "outputId": "36ee0b3b-65f5-4ef3-b59b-c4c48e90ac75"
      },
      "id": "wQ_VJWhTy8-F",
      "execution_count": 40,
      "outputs": [
        {
          "output_type": "execute_result",
          "data": {
            "text/plain": [
              "{'id': 'chant_139928',\n",
              " 'incipit': 'Doxa patri et filio et',\n",
              " 'cantus_id': '909000',\n",
              " 'mode': '8S',\n",
              " 'finalis': '',\n",
              " 'differentia': '',\n",
              " 'siglum': 'SI-Lna 18 (olim 17)',\n",
              " 'position': '02',\n",
              " 'folio': '185v',\n",
              " 'sequence': '2.0',\n",
              " 'marginalia': '',\n",
              " 'cao_concordances': '',\n",
              " 'feast_id': 'feast_0888',\n",
              " 'genre_id': 'genre_v',\n",
              " 'office_id': 'office_m',\n",
              " 'source_id': 'source_236',\n",
              " 'melody_id': '',\n",
              " 'drupal_path': 'https://cantusdatabase.org/chant/344226',\n",
              " 'full_text': '',\n",
              " 'full_text_manuscript': '',\n",
              " 'volpiano': '',\n",
              " 'notes': ''}"
            ]
          },
          "metadata": {},
          "execution_count": 40
        }
      ]
    },
    {
      "cell_type": "code",
      "source": [
        "chants_with_909000[2]"
      ],
      "metadata": {
        "colab": {
          "base_uri": "https://localhost:8080/"
        },
        "id": "rc8M8xKoy_rP",
        "outputId": "7e661ecc-00d4-46b3-9b0a-dd98932ae4c3"
      },
      "id": "rc8M8xKoy_rP",
      "execution_count": 41,
      "outputs": [
        {
          "output_type": "execute_result",
          "data": {
            "text/plain": [
              "{'id': 'chant_173090',\n",
              " 'incipit': 'Et gloria*',\n",
              " 'cantus_id': '909000',\n",
              " 'mode': '*',\n",
              " 'finalis': '',\n",
              " 'differentia': '',\n",
              " 'siglum': 'A-Wn Mus.Hs.15489',\n",
              " 'position': '02',\n",
              " 'folio': '040r',\n",
              " 'sequence': '7.0',\n",
              " 'marginalia': '',\n",
              " 'cao_concordances': '',\n",
              " 'feast_id': 'feast_0552',\n",
              " 'genre_id': 'genre_v',\n",
              " 'office_id': 'office_m',\n",
              " 'source_id': '',\n",
              " 'melody_id': '',\n",
              " 'drupal_path': 'https://cantusdatabase.org/chant/572245',\n",
              " 'full_text': 'Et gloria*',\n",
              " 'full_text_manuscript': '{Et gloria}',\n",
              " 'volpiano': '',\n",
              " 'notes': ''}"
            ]
          },
          "metadata": {},
          "execution_count": 41
        }
      ]
    },
    {
      "cell_type": "markdown",
      "source": [
        "It's the **doxology**!\n",
        "\n",
        "This is a great example of how the interaction between domain knowledge and computing skills is necessary. These are legitimate chant records: they have all the required information, they have a valid Cantus ID, they record what manuscript they come from, etc. So, those are not mistakes, in the sense in which the empty Cantus ID records were invalid.\n",
        "\n",
        "What to do? Should we actually treat this as the most frequent Cantus ID? Should it participate in computing the average number of chants per Cantus ID? (Incidentally, the invalid records with no Cantus ID participated in that average as well.)\n",
        "\n",
        "Here is where domain knowledge comes in. The doxology is the phrase:\n",
        "\n",
        "_'Gloria Patri et Filii et Spiritui Sancto_\n",
        "\n",
        "_sicut erat in principio et nunc et semper, et in saecula saeculorum. Amen.'_\n",
        "\n",
        "which is added at the end of every psalm, and into many other chants, esp. those genres that use psalm verses as their texts. The doxology is not recorded too often, but because it occurs so many times in liturgy, when scribal practices of a certain time and place included recording the doxology as a separate unit (even if just in some contexts), then its frequency skyrockets.\n",
        "\n",
        "So for the purpose of obtaining useful descriptive statistics, the doxology is not too helpful. Let's exclude it.\n",
        "\n",
        "We can implement this via keeping a list of excluded Cantus IDs:"
      ],
      "metadata": {
        "id": "nET4X19VzMw6"
      },
      "id": "nET4X19VzMw6"
    },
    {
      "cell_type": "code",
      "source": [
        "# Again we write the variable name in capitals, because it is something we set \"from above\".\n",
        "EXCLUDED_CANTUS_IDS = ['',\n",
        "                       '909000']  # Doxology"
      ],
      "metadata": {
        "id": "rOcwEcfKzLjL"
      },
      "id": "rOcwEcfKzLjL",
      "execution_count": 42,
      "outputs": []
    },
    {
      "cell_type": "markdown",
      "source": [
        "And we re-do the frequency counting:"
      ],
      "metadata": {
        "id": "6-Q2faO95Rm7"
      },
      "id": "6-Q2faO95Rm7"
    },
    {
      "cell_type": "code",
      "source": [
        "n_empty_cids = 0\n",
        "n_excluded_cids = 0\n",
        "cid_frequencies = {}  # We can use 'cid' as the abbreviation for Cantus ID. It is sufficiently distinct.\n",
        "for chant in chants:\n",
        "  cid = chant['cantus_id']\n",
        "\n",
        "  if cid in EXCLUDED_CANTUS_IDS:   # Updated from only missing values to all excluded values\n",
        "    n_excluded_cids += 1\n",
        "    if cid == '':\n",
        "      n_empty_cids += 1    # We still want to document empty Cantus IDs, to perhaps do some data quality work later.\n",
        "    continue\n",
        "\n",
        "  if cid not in cid_frequencies:\n",
        "    cid_frequencies[cid] = 0\n",
        "  cid_frequencies[cid] += 1   # '+=' means 'add and modify original'. It's shorthand for cid_frequencies[cid] = cid_frequencies[cid] + 1"
      ],
      "metadata": {
        "id": "9rV9RSuYzBPn"
      },
      "id": "9rV9RSuYzBPn",
      "execution_count": 43,
      "outputs": []
    },
    {
      "cell_type": "code",
      "source": [
        "print('Total distinct CIDs (exclusions applied): {}\\nChants with excluded CIDs: {}, of those empty CIDs: {}'\n",
        "      ''.format(len(cid_frequencies), n_excluded_cids, n_empty_cids))\n",
        "\n",
        "# We also have to adjust the basic statistics we are going to use down the road.\n",
        "n_distinct_chants = len(cid_frequencies)\n",
        "n_chants = n_chants - n_excluded_cids\n",
        "print('Average no. of chants per CID: {:.2f}'.format(n_chants / n_distinct_chants))"
      ],
      "metadata": {
        "colab": {
          "base_uri": "https://localhost:8080/"
        },
        "id": "aXSjtf8m1sV2",
        "outputId": "fff82716-0c37-423b-af6b-83413e411bc5"
      },
      "id": "aXSjtf8m1sV2",
      "execution_count": 44,
      "outputs": [
        {
          "output_type": "stream",
          "name": "stdout",
          "text": [
            "Total distinct CIDs (exclusions applied): 31499\n",
            "Chants with excluded CIDs: 19127, of those empty CIDs: 10244\n",
            "Average no. of chants per CID: 15.17\n"
          ]
        }
      ]
    },
    {
      "cell_type": "markdown",
      "source": [
        "(Notice that the average number of chants observed per Cantus ID fell from 15.77 to 15.17 when we excluded empty Cantus IDs and the doxologies.)\n",
        "\n",
        "And we re-do the plotting:"
      ],
      "metadata": {
        "id": "PvuvuvUf2BhJ"
      },
      "id": "PvuvuvUf2BhJ"
    },
    {
      "cell_type": "code",
      "source": [
        "cid_frequencies_sorted = list(sorted(cid_frequencies.values(), reverse=True))  # sorted() by default goes from lowest to highest\n",
        "\n",
        "plt.plot(cid_frequencies_sorted)\n",
        "plt.xlabel('n-th largest Cantus ID')   # Best practice: always label both axes.\n",
        "plt.ylabel('Number of Cantus ID occurrences')\n",
        "plt.show()"
      ],
      "metadata": {
        "colab": {
          "base_uri": "https://localhost:8080/",
          "height": 449
        },
        "id": "7Kn_yHFj13TD",
        "outputId": "2579f727-5272-4ea2-de2b-35cba97d36a1"
      },
      "id": "7Kn_yHFj13TD",
      "execution_count": 45,
      "outputs": [
        {
          "output_type": "display_data",
          "data": {
            "text/plain": [
              "<Figure size 640x480 with 1 Axes>"
            ],
            "image/png": "[encoded data removed]"
          },
          "metadata": {}
        }
      ]
    },
    {
      "cell_type": "markdown",
      "source": [
        "These are suddenly more reasonable numbers! We know that the Cantus database contains a few hundred sources at most, and some very frequent chants can occur multiple times within a source, so having some very small number of chants that have frequencies like 500 or even 900 is probably not a mistake or not something strange that would require excluding the Cantus ID."
      ],
      "metadata": {
        "id": "sLa5WjrI2O8m"
      },
      "id": "sLa5WjrI2O8m"
    },
    {
      "cell_type": "markdown",
      "source": [
        "But we should certainly check again, just to be sure!\n",
        "\n",
        "Let's re-compute the list of most frequent Cantus IDs and their frequencies:"
      ],
      "metadata": {
        "id": "RfDclIin2nyq"
      },
      "id": "RfDclIin2nyq"
    },
    {
      "cell_type": "code",
      "source": [
        "cid_and_frequency_pairs_sorted = list(\n",
        "    sorted(cid_frequencies.items(),    # The .items() function of a dictionary returns an iterator over all key-value pairs\n",
        "           reverse=True,               # We still want to go from highest to lowest\n",
        "           key=lambda kv: kv[1]        # ...so we have to sort by the *value* part of the (key, value) pair.\n",
        "           )\n",
        "    )                                  # Finally, we turn the whole thing into a regular list,\n",
        "                                       # to not have to deal with some Python efficiency magic on sorted() and .items()."
      ],
      "metadata": {
        "id": "N5Gr2tmK2IHi"
      },
      "id": "N5Gr2tmK2IHi",
      "execution_count": 46,
      "outputs": []
    },
    {
      "cell_type": "code",
      "source": [
        "cid_and_frequency_pairs_sorted[:10]"
      ],
      "metadata": {
        "colab": {
          "base_uri": "https://localhost:8080/"
        },
        "id": "02KiGK7w2w1c",
        "outputId": "d82941b0-5d37-4c89-c199-bb3be94ac2b0"
      },
      "id": "02KiGK7w2w1c",
      "execution_count": 47,
      "outputs": [
        {
          "output_type": "execute_result",
          "data": {
            "text/plain": [
              "[('008097', 908),\n",
              " ('008081', 867),\n",
              " ('001328', 840),\n",
              " ('909030', 796),\n",
              " ('008201', 750),\n",
              " ('008014', 719),\n",
              " ('008120', 666),\n",
              " ('008301', 593),\n",
              " ('007941', 565),\n",
              " ('007994', 555)]"
            ]
          },
          "metadata": {},
          "execution_count": 47
        }
      ]
    },
    {
      "cell_type": "markdown",
      "source": [
        "Again we take a look at what the most frequent Cantus ID represents:"
      ],
      "metadata": {
        "id": "tA5Bf4313CFh"
      },
      "id": "tA5Bf4313CFh"
    },
    {
      "cell_type": "code",
      "source": [
        "chants_with_008097 = [c for c in chants if c['cantus_id'] == '008097']\n",
        "for i in range(3):\n",
        "  # print(chants_with_008097[i])    # This is hard to read. But we have the convenient print_chant() function defined earlier!\n",
        "  print_chant(chants_with_008097[i])\n",
        "  print('-----')  # Because print_chant() does not separate between the printed records..."
      ],
      "metadata": {
        "collapsed": true,
        "colab": {
          "base_uri": "https://localhost:8080/"
        },
        "id": "ou1oQhPy2zwT",
        "outputId": "50c54ef1-dcdf-4b01-cdbc-697bf3c74d6a"
      },
      "id": "ou1oQhPy2zwT",
      "execution_count": 48,
      "outputs": [
        {
          "output_type": "stream",
          "name": "stdout",
          "text": [
            "id: chant_241753\n",
            "incipit: In omnem fratem*\n",
            "cantus_id: 008097\n",
            "mode: *\n",
            "finalis: \n",
            "differentia: \n",
            "siglum: CDN-Hsmu M2149.L4\n",
            "position: 1.\n",
            "folio: 180r\n",
            "sequence: 2.0\n",
            "marginalia: \n",
            "cao_concordances: \n",
            "feast_id: feast_0180\n",
            "genre_id: genre_w\n",
            "office_id: office_m\n",
            "source_id: source_297\n",
            "melody_id: \n",
            "drupal_path: https://cantusdatabase.org/chant/272330\n",
            "full_text: In omnem fratem*\n",
            "full_text_manuscript: In omnem fratem\n",
            "volpiano: \n",
            "notes: \n",
            "-----\n",
            "id: chant_241756\n",
            "incipit: In omnem terra*\n",
            "cantus_id: 008097\n",
            "mode: *\n",
            "finalis: \n",
            "differentia: \n",
            "siglum: US-Cn 24\n",
            "position: R\n",
            "folio: 072r\n",
            "sequence: 5.0\n",
            "marginalia: A\n",
            "cao_concordances: C BEMVHRD SL\n",
            "feast_id: feast_1607\n",
            "genre_id: genre_w\n",
            "office_id: office_l\n",
            "source_id: source_072\n",
            "melody_id: \n",
            "drupal_path: https://cantusdatabase.org/chant/220918\n",
            "full_text: \n",
            "full_text_manuscript: \n",
            "volpiano: \n",
            "notes: \n",
            "-----\n",
            "id: chant_241761\n",
            "incipit: In omnem terram\n",
            "cantus_id: 008097\n",
            "mode: \n",
            "finalis: \n",
            "differentia: \n",
            "siglum: CZ Pu VI.E.4c\n",
            "position: 1.\n",
            "folio: 083r\n",
            "sequence: 7.0\n",
            "marginalia: \n",
            "cao_concordances: C BEMVHRD SL\n",
            "feast_id: feast_0994\n",
            "genre_id: genre_w\n",
            "office_id: office_m\n",
            "source_id: \n",
            "melody_id: \n",
            "drupal_path: https://cantusdatabase.org/chant/462368\n",
            "full_text: In omnem terram R. Exivit sonus eorum et in fines orbis terrae verba eorum\n",
            "full_text_manuscript: \n",
            "volpiano: \n",
            "notes: \n",
            "-----\n"
          ]
        }
      ]
    },
    {
      "cell_type": "markdown",
      "source": [
        "If we check this with Cantus Index, it turns out that this is a versicle (genre: W) for the Divine Office when there is a feast scheduled in the liturgical calendar that has something to do with an apostle (Peter, John, Mark, Thomas, etc.). No wonder that it is very frequent. But this is no anomaly. It should stay in the database."
      ],
      "metadata": {
        "id": "IKLWq0Kr34b_"
      },
      "id": "IKLWq0Kr34b_"
    },
    {
      "cell_type": "markdown",
      "source": [
        "**Digression 3: Aggregating information from chant records**\n",
        "\n",
        "When we inspected the record above, not all records of the chant across different manuscripts actually corresponded to the same liturgical position. We have a 'hard' expectation that chants from the same Cantus ID all belong to the same genre. We expect chants from different manuscripts to of course not have the same siglum, folio, or other attributes connected to the manuscript itself.\n",
        "\n",
        "But then there are liturgical properties like which feast a chant is used for, which office and which position it occupies within that office. These have often been used to identify different \"uses\" or \"sub-traditions\". For instance, monastic orders could have differed in what chants they chose e.g. for Marian feasts.\n",
        "\n",
        "This variability might be reflected for some Cantus IDs in that these properties vary a lot across the different instances of the given chant in manuscripts. Again, however, this is not something we can really inspect manually at this scale: finding such chants calls for automation.\n",
        "\n",
        "Though it is not easy to define what is a 'sufficiently varied' use of a chant, the first step towards this is simply **aggregating chants that share a Cantus ID**. (We may already want this in the same way that Cantus Index wants this: to be able to say at least which single value represents each field of a chant the most.)"
      ],
      "metadata": {
        "id": "BeJD3IUA4Q0l"
      },
      "id": "BeJD3IUA4Q0l"
    },
    {
      "cell_type": "markdown",
      "source": [
        "For this purpose, we define a new abstraction above the dataset. For the lack of a better term, we call this a **work** (though of course for Gregorian chant this is quite a poor designation...).\n",
        "\n",
        "Programming practices dictate that new complex entities derived from our dataset should be implemented as classes. (Representing \"things\" is exactly what object-oriented programming was born to do!)"
      ],
      "metadata": {
        "id": "ZbwwdInj6iJ3"
      },
      "id": "ZbwwdInj6iJ3"
    },
    {
      "cell_type": "code",
      "source": [
        "class Work:\n",
        "\n",
        "  ALL_CHANT_FIELDS = fieldnames\n",
        "\n",
        "  # Aggregation policies\n",
        "  # --------------------\n",
        "\n",
        "  # Here we define how we handle aggregation of the different fields\n",
        "  # available for each chant record.\n",
        "\n",
        "  # These fields we cannot aggregate, because they are by definition\n",
        "  # unique to a chant's instance in a manuscript.\n",
        "  MANUSCRIPT_FIELDS = ['siglum', 'sequence', 'folio', 'marginalia', 'source_id', 'drupal_path',\n",
        "                       'full_text_manuscript',\n",
        "                       'volpiano',              # Melodies are practically never the same and exctracting a characteristic melody\n",
        "                                                # is what Solesmes does for the last 150 years or so.\n",
        "                       'notes']\n",
        "\n",
        "  # These fields we expect to have a variety of values, and we are interested\n",
        "  # in the characteristic value of these.\n",
        "  CHARACTERISTIC_FIELDS = ['incipit', 'genre_id', # We include genre here, even though it should be single-value, for reporting.\n",
        "                           'mode', 'finalis', 'differentia',\n",
        "                           'position',   # 'position' is liturgical position, 'sequence' is position on the page\n",
        "                           'office_id', 'feast_id'\n",
        "                           ]\n",
        "\n",
        "  # These fields are expected to only have a single value and if they don't\n",
        "  # the Work cannot be constructed.\n",
        "  SINGLE_VALUE_ENFORCED_FIELDS = ['cantus_id']\n",
        "\n",
        "  # Those should be consistent, but we allow them to be also empty\n",
        "  # and if they are not consistent we do not care as much.\n",
        "  SINGLE_VALUE_OR_EMPTY_FIELDS = ['genre_id', 'full_text', 'cao_concordances']\n",
        "\n",
        "  # These fields have no point for a Work.\n",
        "  IGNORED_FIELDS = ['melody_id', 'id']\n",
        "\n",
        "\n",
        "  def __init__(self, chants):       # In Python, __init__() is a special function that is run when a new object of that class is created.\n",
        "                                    # The 'self' parameter always refers to the current instance of the class.\n",
        "\n",
        "    # Check that we got at least some chants\n",
        "    if len(chants) == 0:\n",
        "      raise ValueError('Work must have at least one chant!')\n",
        "\n",
        "    # Check that all the chants really have the same Cantus ID\n",
        "    all_cantus_ids = set(c['cantus_id'] for c in chants)\n",
        "    if len(all_cantus_ids) >= 2:   # More than 1 Cantus ID\n",
        "      raise ValueError('A Work cannot be built from chants with different Cantus IDs!'\n",
        "                       ' Tried to construct work with Cantus IDs: {}'.format(all_cantus_ids))\n",
        "\n",
        "    self.chants = chants\n",
        "    self.cantus_id = self.chants[0]['cantus_id']\n",
        "\n",
        "    # Now we compute and store the characteristic values\n",
        "    self.characteristic_values = {}\n",
        "    self.characteristic_freqdicts = {}\n",
        "    for f in self.CHARACTERISTIC_FIELDS:\n",
        "       characteristic_value, characteristic_freqdict = self.determine_characteristic_value_and_freqdict(f)\n",
        "       self.characteristic_values[f] = characteristic_value\n",
        "       self.characteristic_freqdicts[f] = characteristic_freqdict\n",
        "\n",
        "    # We actually leave the policy for single-value-or-empty fields\n",
        "    # not implemented for now, it's not important for the rest of the notebook.\n",
        "    # (This is actually a real software development practice. Defining\n",
        "    #  what something is supposed to do is often much more important than\n",
        "    #  actually implementing that functionality.)\n",
        "\n",
        "\n",
        "  def __len__(self):   # The __str__(self) special method determines how the class reacts to len(work)\n",
        "    return len(self.chants)\n",
        "\n",
        "  def __str__(self):   # The __str__(self) special method determines how the class reacts to print(work)\n",
        "    header_string = 'Work CID {}: {} chants, characteristics:'.format(self.cantus_id, len(self))\n",
        "    characteristic_strings = ['\\t{}:\\t{}'.format(f, self.characteristic_values[f])\n",
        "                              for f in self.CHARACTERISTIC_FIELDS]\n",
        "    characteristic_string = '\\n'.join(characteristic_strings)\n",
        "    output = header_string + '\\n' + characteristic_string\n",
        "    return output\n",
        "\n",
        "\n",
        "  def determine_characteristic_value_and_freqdict(self, field):\n",
        "    \"\"\"Return the characteristic (most frequent) value for the given field\n",
        "    across all the work's chants. In case of a tie, returns a random value\n",
        "    from the tied highest-frequency value set.\n",
        "\n",
        "    Also return a frequency dictionary of all values for that field.\"\"\"\n",
        "\n",
        "    # Guarding against invalid input. This is in some sense unnecessary, but it can save painful debugging.\n",
        "    if field not in self.ALL_CHANT_FIELDS:\n",
        "      raise ValueError('Invalid field: {}! Available fields: {}'.format(field, self.ALL_CHANT_FIELDS))\n",
        "\n",
        "    most_frequent_values = set()   # There may be a tie for the highest-frequency value\n",
        "    highest_frequency = -1\n",
        "\n",
        "    value_frequencies = {}\n",
        "    for c in self.chants:\n",
        "      v = c[field]\n",
        "\n",
        "      # Accumulating the freuqency dictionary\n",
        "      if v not in value_frequencies:\n",
        "        value_frequencies[v] = 0\n",
        "      value_frequencies[v] += 1\n",
        "\n",
        "      # Keeping track of the characteristic value\n",
        "      current_frequency = value_frequencies[v]\n",
        "      if current_frequency == highest_frequency:\n",
        "        most_frequent_values.add(v)\n",
        "      elif current_frequency > highest_frequency:\n",
        "        most_frequent_values = set([v])\n",
        "        highest_frequency = current_frequency\n",
        "\n",
        "    # We actually don't bother with the ties for now when returning a value for now...\n",
        "    return list(most_frequent_values)[0], value_frequencies"
      ],
      "metadata": {
        "id": "4zZfTCBx3H_c"
      },
      "id": "4zZfTCBx3H_c",
      "execution_count": 49,
      "outputs": []
    },
    {
      "cell_type": "markdown",
      "source": [
        "And we define also a convenience function to create works from a list of chants and a Cantus ID:"
      ],
      "metadata": {
        "id": "HxoEE56eCE1K"
      },
      "id": "HxoEE56eCE1K"
    },
    {
      "cell_type": "code",
      "source": [
        "def create_work(cantus_id, chants):\n",
        "  relevant_chants = [c for c in chants if c['cantus_id'] == cantus_id]\n",
        "  work = Work(chants=relevant_chants)\n",
        "  return work"
      ],
      "metadata": {
        "id": "BrlsNeX_7TKt"
      },
      "id": "BrlsNeX_7TKt",
      "execution_count": 50,
      "outputs": []
    },
    {
      "cell_type": "markdown",
      "source": [
        "Let's try it out!"
      ],
      "metadata": {
        "id": "Eim3lEomCSH2"
      },
      "id": "Eim3lEomCSH2"
    },
    {
      "cell_type": "code",
      "source": [
        "work_003511 = create_work('003511', chants)   # Cantus IDs often look like numbers, but they are always strings."
      ],
      "metadata": {
        "id": "eLWue6Fd7T3z"
      },
      "id": "eLWue6Fd7T3z",
      "execution_count": 51,
      "outputs": []
    },
    {
      "cell_type": "code",
      "source": [
        "print(work_003511)"
      ],
      "metadata": {
        "colab": {
          "base_uri": "https://localhost:8080/"
        },
        "id": "08jE8R6dFb6J",
        "outputId": "f53d3b76-726c-487b-f56c-a36021e1169b"
      },
      "id": "08jE8R6dFb6J",
      "execution_count": 52,
      "outputs": [
        {
          "output_type": "stream",
          "name": "stdout",
          "text": [
            "Work CID 003511: 132 chants, characteristics:\n",
            "\tincipit:\tJudaea et Jerusalem nolite\n",
            "\tgenre_id:\tgenre_a\n",
            "\tmode:\t8\n",
            "\tfinalis:\t\n",
            "\tdifferentia:\tG1\n",
            "\tposition:\t1\n",
            "\toffice_id:\toffice_l\n",
            "\tfeast_id:\tfeast_1765\n"
          ]
        }
      ]
    },
    {
      "cell_type": "markdown",
      "source": [
        "We can inspect the distribution of values for the individual characteristic fields:"
      ],
      "metadata": {
        "id": "0-nRt95HHod_"
      },
      "id": "0-nRt95HHod_"
    },
    {
      "cell_type": "code",
      "source": [
        "work_003511.characteristic_freqdicts['office_id']"
      ],
      "metadata": {
        "colab": {
          "base_uri": "https://localhost:8080/"
        },
        "id": "Vd8ELbBHDdhC",
        "outputId": "92ac0d72-6ab2-4bea-ccd8-88031a3333a5"
      },
      "id": "Vd8ELbBHDdhC",
      "execution_count": 53,
      "outputs": [
        {
          "output_type": "execute_result",
          "data": {
            "text/plain": [
              "{'office_l': 95,\n",
              " 'office_v2': 10,\n",
              " 'office_v': 12,\n",
              " 'office_p': 14,\n",
              " 'office_t': 1}"
            ]
          },
          "metadata": {},
          "execution_count": 53
        }
      ]
    },
    {
      "cell_type": "code",
      "source": [
        "work_003511.characteristic_freqdicts['mode']"
      ],
      "metadata": {
        "colab": {
          "base_uri": "https://localhost:8080/"
        },
        "id": "o-E_3pZLD3it",
        "outputId": "dc216726-7104-4fd6-fc9a-01051eecb4f2"
      },
      "id": "o-E_3pZLD3it",
      "execution_count": 54,
      "outputs": [
        {
          "output_type": "execute_result",
          "data": {
            "text/plain": [
              "{'8': 90, '': 9, '?': 8, '*': 22, 'Gc': 1, '8*': 1, '5': 1}"
            ]
          },
          "metadata": {},
          "execution_count": 54
        }
      ]
    },
    {
      "cell_type": "code",
      "source": [
        "work_003511.characteristic_freqdicts['differentia']"
      ],
      "metadata": {
        "colab": {
          "base_uri": "https://localhost:8080/"
        },
        "id": "mi_Nfr5RD7a9",
        "outputId": "40697cbb-efa7-498b-e6aa-ea53bf7e9c98"
      },
      "id": "mi_Nfr5RD7a9",
      "execution_count": 55,
      "outputs": [
        {
          "output_type": "execute_result",
          "data": {
            "text/plain": [
              "{'G1': 36,\n",
              " '': 32,\n",
              " '1': 21,\n",
              " '2': 2,\n",
              " 'w': 7,\n",
              " 'G2': 7,\n",
              " '*': 16,\n",
              " 'G5': 1,\n",
              " '?': 3,\n",
              " 'G01': 2,\n",
              " 'G': 4,\n",
              " '33c': 1}"
            ]
          },
          "metadata": {},
          "execution_count": 55
        }
      ]
    },
    {
      "cell_type": "code",
      "source": [
        "work_003511.characteristic_freqdicts['position']"
      ],
      "metadata": {
        "colab": {
          "base_uri": "https://localhost:8080/"
        },
        "id": "f2aGi9reEAD4",
        "outputId": "fe1c01a1-44c1-4218-d9cd-7f2caf4ef3c3"
      },
      "id": "f2aGi9reEAD4",
      "execution_count": 56,
      "outputs": [
        {
          "output_type": "execute_result",
          "data": {
            "text/plain": [
              "{'1': 111, '4': 1, '': 20}"
            ]
          },
          "metadata": {},
          "execution_count": 56
        }
      ]
    },
    {
      "cell_type": "markdown",
      "source": [
        "Now we have a convenient way of characterising what individual Cantus IDs stand for. This is similar to what the user interface of Cantus Index does. (End of digression.)\n",
        "\n",
        "---\n",
        "\n"
      ],
      "metadata": {
        "id": "4N9ppfZLF-jm"
      },
      "id": "4N9ppfZLF-jm"
    },
    {
      "cell_type": "markdown",
      "source": [
        "**Now we get back to the most frequent Cantus IDs.** We can apply the Work class straight away to inspect the top 10 most frequent CIDs."
      ],
      "metadata": {
        "id": "a8vajX3BGOxN"
      },
      "id": "a8vajX3BGOxN"
    },
    {
      "cell_type": "code",
      "source": [
        "top_10_cids = [cf[0] for cf in cid_and_frequency_pairs_sorted[:10]]"
      ],
      "metadata": {
        "id": "7I2Jal_0EEdK"
      },
      "id": "7I2Jal_0EEdK",
      "execution_count": 57,
      "outputs": []
    },
    {
      "cell_type": "code",
      "source": [
        "for cid in top_10_cids:\n",
        "  work = create_work(cid, chants)\n",
        "  print(work)"
      ],
      "metadata": {
        "colab": {
          "base_uri": "https://localhost:8080/"
        },
        "collapsed": true,
        "id": "5yk4RwEjGaoo",
        "outputId": "52875262-a8f4-48fe-8f3d-7c2d826a1ff7"
      },
      "id": "5yk4RwEjGaoo",
      "execution_count": 58,
      "outputs": [
        {
          "output_type": "stream",
          "name": "stdout",
          "text": [
            "Work CID 008097: 908 chants, characteristics:\n",
            "\tincipit:\tIn omnem terram*\n",
            "\tgenre_id:\tgenre_w\n",
            "\tmode:\t*\n",
            "\tfinalis:\t\n",
            "\tdifferentia:\t\n",
            "\tposition:\t\n",
            "\toffice_id:\toffice_m\n",
            "\tfeast_id:\tfeast_0198\n",
            "Work CID 008081: 867 chants, characteristics:\n",
            "\tincipit:\tGloria et honore*\n",
            "\tgenre_id:\tgenre_w\n",
            "\tmode:\t*\n",
            "\tfinalis:\t\n",
            "\tdifferentia:\t\n",
            "\tposition:\t\n",
            "\toffice_id:\toffice_m\n",
            "\tfeast_id:\tfeast_0258\n",
            "Work CID 001328: 840 chants, characteristics:\n",
            "\tincipit:\tAlleluia iii\n",
            "\tgenre_id:\tgenre_a\n",
            "\tmode:\t8\n",
            "\tfinalis:\t\n",
            "\tdifferentia:\t*\n",
            "\tposition:\t\n",
            "\toffice_id:\toffice_m\n",
            "\tfeast_id:\tfeast_0473\n",
            "Work CID 909030: 796 chants, characteristics:\n",
            "\tincipit:\tVenite exsultemus domino\n",
            "\tgenre_id:\tgenre_ip\n",
            "\tmode:\t\n",
            "\tfinalis:\t\n",
            "\tdifferentia:\t\n",
            "\tposition:\t\n",
            "\toffice_id:\toffice_m\n",
            "\tfeast_id:\tfeast_0966\n",
            "Work CID 008201: 750 chants, characteristics:\n",
            "\tincipit:\tSpecie tua*\n",
            "\tgenre_id:\tgenre_w\n",
            "\tmode:\t*\n",
            "\tfinalis:\t\n",
            "\tdifferentia:\t\n",
            "\tposition:\t\n",
            "\toffice_id:\toffice_m\n",
            "\tfeast_id:\tfeast_0234\n",
            "Work CID 008014: 719 chants, characteristics:\n",
            "\tincipit:\tDiffusa est gratia*\n",
            "\tgenre_id:\tgenre_w\n",
            "\tmode:\t*\n",
            "\tfinalis:\t\n",
            "\tdifferentia:\t\n",
            "\tposition:\t\n",
            "\toffice_id:\toffice_m\n",
            "\tfeast_id:\tfeast_0234\n",
            "Work CID 008120: 666 chants, characteristics:\n",
            "\tincipit:\tLaetamini in domino*\n",
            "\tgenre_id:\tgenre_w\n",
            "\tmode:\t*\n",
            "\tfinalis:\t\n",
            "\tdifferentia:\t\n",
            "\tposition:\t\n",
            "\toffice_id:\toffice_m\n",
            "\tfeast_id:\tfeast_1283\n",
            "Work CID 008301: 593 chants, characteristics:\n",
            "\tincipit:\tExsultet caelum*\n",
            "\tgenre_id:\tgenre_h\n",
            "\tmode:\t*\n",
            "\tfinalis:\t\n",
            "\tdifferentia:\t\n",
            "\tposition:\t\n",
            "\toffice_id:\toffice_v\n",
            "\tfeast_id:\tfeast_0198\n",
            "Work CID 007941: 565 chants, characteristics:\n",
            "\tincipit:\tAmavit eum dominus*\n",
            "\tgenre_id:\tgenre_w\n",
            "\tmode:\t*\n",
            "\tfinalis:\t\n",
            "\tdifferentia:\t\n",
            "\tposition:\t\n",
            "\toffice_id:\toffice_m\n",
            "\tfeast_id:\tfeast_1125\n",
            "Work CID 007994: 555 chants, characteristics:\n",
            "\tincipit:\tConstitues eos principes*\n",
            "\tgenre_id:\tgenre_w\n",
            "\tmode:\t*\n",
            "\tfinalis:\t\n",
            "\tdifferentia:\t\n",
            "\tposition:\t2.\n",
            "\toffice_id:\toffice_m\n",
            "\tfeast_id:\tfeast_0198\n"
          ]
        }
      ]
    },
    {
      "cell_type": "markdown",
      "source": [
        "Nothing particularly suspicious in here. We don't have to exclude anything else.\n",
        "\n",
        "So, we can finally get back to plotting the frequencies of Cantus IDs!"
      ],
      "metadata": {
        "id": "q_bDE4g3INny"
      },
      "id": "q_bDE4g3INny"
    },
    {
      "cell_type": "code",
      "source": [
        "cid_frequencies_sorted = list(sorted(cid_frequencies.values(), reverse=True))  # sorted() by default goes from lowest to highest\n",
        "\n",
        "# We use matplotlib here in a slightly different, more flexible way:\n",
        "# we work directly with its \"axes\" object rather than just calling plt.something()\n",
        "# functions. The reason will soon become apparent.\n",
        "\n",
        "ax = plt.gca()\n",
        "ax.plot(cid_frequencies_sorted)\n",
        "ax.set_title('Cantus ID frequencies')\n",
        "ax.set_xlabel('n-th largest Cantus ID')   # Best practice: always label both axes.\n",
        "ax.set_ylabel('Number of Cantus ID occurrences')\n",
        "\n",
        "plt.show()"
      ],
      "metadata": {
        "colab": {
          "base_uri": "https://localhost:8080/",
          "height": 472
        },
        "id": "ZA4MSxOJGsaX",
        "outputId": "65166909-0b7e-4374-e853-52517cfca865"
      },
      "id": "ZA4MSxOJGsaX",
      "execution_count": 59,
      "outputs": [
        {
          "output_type": "display_data",
          "data": {
            "text/plain": [
              "<Figure size 640x480 with 1 Axes>"
            ],
            "image/png": "[encoded data removed]"
          },
          "metadata": {}
        }
      ]
    },
    {
      "cell_type": "markdown",
      "source": [
        "It is better, but still a bit... low-resolution.\n",
        "\n",
        "Let's plot this figure but with the frequency axis logarithmic.\n",
        "This helps with making the structure of this long tail clearer."
      ],
      "metadata": {
        "id": "DPU211cnKyQe"
      },
      "id": "DPU211cnKyQe"
    },
    {
      "cell_type": "code",
      "source": [
        "\n",
        "ax = plt.gca()\n",
        "ax.plot(cid_frequencies_sorted)\n",
        "ax.set_title('Log-scaled Cantus ID frequencies')\n",
        "ax.set_xlabel('n-th largest Cantus ID')\n",
        "ax.set_ylabel('Number of Cantus ID occurrences')\n",
        "\n",
        "ax.set_yscale('log')      # This is where we set the logarithmic scale on the y-axis.\n",
        "\n",
        "plt.show()"
      ],
      "metadata": {
        "colab": {
          "base_uri": "https://localhost:8080/",
          "height": 472
        },
        "id": "gonOG1fSKwd7",
        "outputId": "d095ac71-acc2-4f4c-89e5-4a4e5e8cfebf"
      },
      "id": "gonOG1fSKwd7",
      "execution_count": 60,
      "outputs": [
        {
          "output_type": "display_data",
          "data": {
            "text/plain": [
              "<Figure size 640x480 with 1 Axes>"
            ],
            "image/png": "[encoded data removed]"
          },
          "metadata": {}
        }
      ]
    },
    {
      "cell_type": "markdown",
      "source": [
        "Liturgies and Genres\n",
        "--------------------\n",
        "\n",
        "What is that 'bump' just under 100 occurences of a Cantus ID, around the 2000th-2500th most frequent CID?\n",
        "\n",
        "\n",
        "That is not a very typical feature of 'naturally distributed' datasets.\n",
        "Many things (like word frequencies, or populations of cities, or number of tree species per square kilometer...) are distributed so that a few items are very frequent, but then more and more items are less and less frequent, and often this follows a relatively simple distribution like a power law (`f_max, 1/2 f_max, 1/3 f_max, 1/4 f_max` etc.), an exponential (`f_max, f_max / 2, f_max / 4, f_max / 8` etc.), or something approximately like that. None of these typical shapes feature such a 'bump'.\n",
        "\n",
        "\n",
        "In order to address this, we must look deeper into the contents of the dataset. The highest-level thing to address is that now we are mixing chants for two non-overlapping liturgies: the Mass, and the Divine Office. These are in fact overwhelmingly written in different types of medieval manuscripts -- Antiphoners (and notated Breviaries) for the Office, and Graduals (and notated Missals) for the Mass. This material difference illustrates the distinction between these two elementary types of Latin liturgy.\n",
        "\n",
        "We should therefore probably analyse chants for the Mass and for the Office separately. There are two ways to distinguish which liturgy a chant belongs to in Cantus: the `office_id`, and the `genre_id`. But, the `office_id` has had a somewhat inconsistent cataloguing history, while the genres are applied much more rigorously in Cantus, and each genre of chant by definition belongs to only one of these liturgies. Additionally, each genre corresponds to a particular liturgical position and thus a purpose that the practitioners had for the given group of chants, and genres have proven very useful in identifying e.g. use -- focusing on *alleluias* rather than *offertories*, for instance, is much more fruitful in determining what ecclesiastical context a manuscript might be coming from.\n",
        "\n",
        "So, we aggregate chants into groups by their genre: antiphons, responsories etc., and based on the genres we then plot those.\n"
      ],
      "metadata": {
        "id": "HYbPtL3DVyC3"
      },
      "id": "HYbPtL3DVyC3"
    },
    {
      "cell_type": "markdown",
      "source": [
        "We first have to define which genres we have, and which genre belongs to which liturgy. This follows from the definitions that the Cantus Database uses (`A`, `R`, `OfV`, etc.), and the way CantusCorpus converted the abbreviations to its own controlled vocabulary (`genre_a`, `genre_r`, `genre_ofv`, etc.)."
      ],
      "metadata": {
        "id": "-OjlCNj6sVts"
      },
      "id": "-OjlCNj6sVts"
    },
    {
      "cell_type": "code",
      "source": [
        "GENRES_MASS_PROPERS = ['In', 'InV', 'Gr', 'GrV', 'Al', 'AlV', 'Of', 'OfV', 'Cm', 'CmV', 'Tc', 'TcV']\n",
        "GENRES_CC_MASS_PROPERS = ['genre_' + g.lower() for g in GENRES_MASS_PROPERS]      # CC stands for \"CantusCorpus\"\n",
        "GENRES_CC_MASS_NOVERSE = [g for g in GENRES_CC_MASS_PROPERS if not g.endswith('v')]\n",
        "\n",
        "# Divine Office core repertoire\n",
        "GENRES_OFFICE = ['A', 'R', 'V', 'W', 'I']\n",
        "GENRES_CC_OFFICE = ['genre_' + g.lower() for g in GENRES_OFFICE]\n",
        "\n",
        "# Genres where the Cantus ID provides a less good abstraction for the repertoire.\n",
        "GENRES_PERIPHERAL = ['Sq', 'SqV', 'H', 'HV', 'Tp']\n",
        "GENRES_CC_PERIPHERAL = ['genre_' + g.lower() for g in GENRES_PERIPHERAL]\n",
        "\n",
        "ALL_CC_GENRES = GENRES_CC_MASS_PROPERS + GENRES_CC_OFFICE + GENRES_CC_PERIPHERAL\n",
        "ALL_CI_GENRES = GENRES_MASS_PROPERS + GENRES_OFFICE + GENRES_PERIPHERAL\n",
        "CC_TO_CI_GENRE = {g1: g2 for (g1, g2) in zip(ALL_CC_GENRES, ALL_CI_GENRES)}"
      ],
      "metadata": {
        "id": "iLMFuRRVW95k"
      },
      "id": "iLMFuRRVW95k",
      "execution_count": 61,
      "outputs": []
    },
    {
      "cell_type": "markdown",
      "source": [
        "Now we split the list of `chants` into a bunch of lists of chants of each genre, and store them in a dictionary indexed by genre name."
      ],
      "metadata": {
        "id": "22lF5zVF6Urw"
      },
      "id": "22lF5zVF6Urw"
    },
    {
      "cell_type": "code",
      "source": [
        "chants_per_genre = {}\n",
        "\n",
        "_n_chants_without_genre = 0\n",
        "\n",
        "for chant in chants:\n",
        "    g = chant['genre_id']\n",
        "\n",
        "    # Don't forget to check for the excluded chants.\n",
        "    if chant['cantus_id'] in EXCLUDED_CANTUS_IDS:\n",
        "      continue\n",
        "\n",
        "    # Also, we cannot include chants that have no genre defined into any of the genres.\n",
        "    # Again, it's good practice to track how often this happens, to spot possible data quality issues.\n",
        "    if g == '':\n",
        "      _n_chants_without_genre += 1\n",
        "      continue\n",
        "\n",
        "    if g not in chants_per_genre:\n",
        "        chants_per_genre[g] = []\n",
        "    chants_per_genre[g].append(chant)\n",
        "\n",
        "print('{} out of {} chants have no genre defined.'.format(_n_chants_without_genre, len(chants)))"
      ],
      "metadata": {
        "id": "fLsv--zgtdB1",
        "colab": {
          "base_uri": "https://localhost:8080/"
        },
        "outputId": "9d80b58a-6320-4382-a83f-c130abf0dfba"
      },
      "id": "fLsv--zgtdB1",
      "execution_count": 62,
      "outputs": [
        {
          "output_type": "stream",
          "name": "stdout",
          "text": [
            "2103 out of 497071 chants have no genre defined.\n"
          ]
        }
      ]
    },
    {
      "cell_type": "markdown",
      "source": [
        "We check how many chants of each genre we have:"
      ],
      "metadata": {
        "id": "BziItEgv6fCd"
      },
      "id": "BziItEgv6fCd"
    },
    {
      "cell_type": "code",
      "source": [
        "for g in sorted(chants_per_genre, reverse=True, key=lambda g: len(chants_per_genre[g])):\n",
        "  print('{}: {} chants'.format(g, len(chants_per_genre[g])))"
      ],
      "metadata": {
        "colab": {
          "base_uri": "https://localhost:8080/"
        },
        "id": "BMPCMFkn6hGk",
        "outputId": "3c0e6390-6247-47ef-dd2b-0474361390e0"
      },
      "id": "BMPCMFkn6hGk",
      "execution_count": 63,
      "outputs": [
        {
          "output_type": "stream",
          "name": "stdout",
          "text": [
            "genre_a: 202686 chants\n",
            "genre_r: 101352 chants\n",
            "genre_v: 84888 chants\n",
            "genre_w: 34983 chants\n",
            "genre_h: 17609 chants\n",
            "genre_i: 9803 chants\n",
            "genre_av: 3444 chants\n",
            "genre_ps: 2330 chants\n",
            "genre_gr: 2087 chants\n",
            "genre_cm: 2059 chants\n",
            "genre_al: 2016 chants\n",
            "genre_in: 1930 chants\n",
            "genre_of: 1844 chants\n",
            "genre_grv: 1438 chants\n",
            "genre_inv: 1120 chants\n",
            "genre_ip: 865 chants\n",
            "genre_tcv: 822 chants\n",
            "genre_ofv: 707 chants\n",
            "genre_hv: 462 chants\n",
            "genre_sq: 457 chants\n",
            "genre_l: 437 chants\n",
            "genre_ky: 386 chants\n",
            "genre_tc: 272 chants\n",
            "genre_gl: 266 chants\n",
            "genre_ag: 248 chants\n",
            "genre_d: 247 chants\n",
            "genre_sa: 245 chants\n",
            "genre_cmv: 173 chants\n",
            "genre_alv: 116 chants\n",
            "genre_vahw: 103 chants\n",
            "genre_tp: 79 chants\n",
            "genre_va: 68 chants\n",
            "genre_cr: 66 chants\n",
            "genre_ite: 56 chants\n",
            "genre_bd: 29 chants\n",
            "genre_li: 28 chants\n",
            "genre_pr: 25 chants\n",
            "genre_sqv: 16 chants\n",
            "genre_liv: 16 chants\n",
            "genre_m: 15 chants\n",
            "genre_ca: 14 chants\n",
            "genre_pn: 14 chants\n",
            "genre_cav: 10 chants\n",
            "genre_prcsv: 8 chants\n",
            "genre_prcs: 2 chants\n"
          ]
        }
      ]
    },
    {
      "cell_type": "markdown",
      "source": [
        "Now we can aggregate chants according to each type of liturgy by concatenating the chant lists for all genres that belong to each type of liturgy."
      ],
      "metadata": {
        "id": "4HwfriEo7SFO"
      },
      "id": "4HwfriEo7SFO"
    },
    {
      "cell_type": "code",
      "source": [
        "# Aggreagate the chants for each type of liturgy across the genres we defined\n",
        "mass_chants = []\n",
        "for g in GENRES_CC_MASS_PROPERS:\n",
        "  g_chants = chants_per_genre[g]\n",
        "  mass_chants.extend(g_chants)      # list.extend(other_list) is how you concatenate lists in Python.\n",
        "\n",
        "office_chants = []\n",
        "for g in GENRES_CC_OFFICE:\n",
        "  g_chants = chants_per_genre[g]\n",
        "  office_chants.extend(g_chants)\n",
        "\n",
        "print('Total chants from Mass propers genres:\\t{}'.format(len(mass_chants)))\n",
        "print('Total chants from Divine Office genres:\\t{}'.format(len(office_chants)))"
      ],
      "metadata": {
        "colab": {
          "base_uri": "https://localhost:8080/"
        },
        "id": "D45kmfHPu7cq",
        "outputId": "43c4ff8e-f2d4-470f-f2c9-10bdf17e7ba9"
      },
      "id": "D45kmfHPu7cq",
      "execution_count": 64,
      "outputs": [
        {
          "output_type": "stream",
          "name": "stdout",
          "text": [
            "Total chants from Mass propers genres:\t14584\n",
            "Total chants from Divine Office genres:\t433712\n"
          ]
        }
      ]
    },
    {
      "cell_type": "markdown",
      "source": [
        "This is where the design of Cantus comes into view: overwhelmingly it has been an office cataloguing effort, mass chants are bit of an afterthought. But still it's not a tiny number."
      ],
      "metadata": {
        "id": "NGdvIob4vYHT"
      },
      "id": "NGdvIob4vYHT"
    },
    {
      "cell_type": "markdown",
      "source": [
        "Now that we have chants sorted out per genre and per liturgy, we can plot them. But, we probably want to wrap that in a function -- it is something we will re-do many times."
      ],
      "metadata": {
        "id": "80xKNxDwuYSn"
      },
      "id": "80xKNxDwuYSn"
    },
    {
      "cell_type": "code",
      "source": [
        "import collections\n",
        "\n",
        "def plot_cid_frequencies(chants, log_scale=False, label=None, title=None):\n",
        "  # First, we get the CID frequencies\n",
        "\n",
        "  cid_frequencies = collections.defaultdict(int)\n",
        "  # ...this is a shortcut that spares us having to check if the CID is already in the dictionary.\n",
        "\n",
        "  for c in chants:\n",
        "    cid = c['cantus_id']\n",
        "    cid_frequencies[cid] += 1\n",
        "\n",
        "  cid_frequencies_sorted = list(sorted(cid_frequencies.values(), reverse=True))\n",
        "\n",
        "  ax = plt.gca()\n",
        "  ax.plot(cid_frequencies_sorted, label=label)\n",
        "  if not title:\n",
        "    title = 'Log-scaled Cantus ID frequencies'\n",
        "  ax.set_title(title)\n",
        "\n",
        "  ax.set_xlabel('n-th largest Cantus ID')   # Best practice: always label both axes.\n",
        "  ax.set_ylabel('Number of Cantus ID occurrences')\n",
        "\n",
        "  if log_scale:\n",
        "    ax.set_yscale('log')\n",
        "\n",
        "  # We do NOT do plt.show() here, so that we can plot multiple curves into the same figure."
      ],
      "metadata": {
        "id": "lokdYEiat0Ej"
      },
      "id": "lokdYEiat0Ej",
      "execution_count": 65,
      "outputs": []
    },
    {
      "cell_type": "markdown",
      "source": [
        "Now we have everything in place to inspect the Cantus ID frequency curves."
      ],
      "metadata": {
        "id": "BIpBuJdg6r1d"
      },
      "id": "BIpBuJdg6r1d"
    },
    {
      "cell_type": "code",
      "source": [
        "plot_cid_frequencies(mass_chants, log_scale=True, label='Mass chants')\n",
        "plot_cid_frequencies(office_chants, log_scale=True, label='Office chants')\n",
        "plt.legend()\n"
      ],
      "metadata": {
        "colab": {
          "base_uri": "https://localhost:8080/",
          "height": 490
        },
        "id": "cprqFiGV_vCO",
        "outputId": "2123a060-3f30-444f-de58-57e969d1bc85"
      },
      "id": "cprqFiGV_vCO",
      "execution_count": 66,
      "outputs": [
        {
          "output_type": "execute_result",
          "data": {
            "text/plain": [
              "<matplotlib.legend.Legend at 0x7eef3bfe5510>"
            ]
          },
          "metadata": {},
          "execution_count": 66
        },
        {
          "output_type": "display_data",
          "data": {
            "text/plain": [
              "<Figure size 640x480 with 1 Axes>"
            ],
            "image/png": "[encoded data removed]"
          },
          "metadata": {}
        }
      ]
    },
    {
      "cell_type": "markdown",
      "source": [
        "Let's look at an overview for individual office genres:"
      ],
      "metadata": {
        "id": "Luqv75fG_sZw"
      },
      "id": "Luqv75fG_sZw"
    },
    {
      "cell_type": "code",
      "source": [
        "plot_cid_frequencies(chants_per_genre['genre_a'], log_scale=True, label='Antiphons')\n",
        "plot_cid_frequencies(chants_per_genre['genre_r'], log_scale=True, label='Responsories')\n",
        "plot_cid_frequencies(chants_per_genre['genre_w'], log_scale=True, label='Versicles')\n",
        "plot_cid_frequencies(chants_per_genre['genre_i'], log_scale=True, label='Invitatories')\n",
        "plt.legend()"
      ],
      "metadata": {
        "colab": {
          "base_uri": "https://localhost:8080/",
          "height": 490
        },
        "id": "wCIZkcDa3XY5",
        "outputId": "0dac5bf1-44a6-40d0-971c-b4baa1f36b89"
      },
      "id": "wCIZkcDa3XY5",
      "execution_count": 67,
      "outputs": [
        {
          "output_type": "execute_result",
          "data": {
            "text/plain": [
              "<matplotlib.legend.Legend at 0x7eef3e5bf8d0>"
            ]
          },
          "metadata": {},
          "execution_count": 67
        },
        {
          "output_type": "display_data",
          "data": {
            "text/plain": [
              "<Figure size 640x480 with 1 Axes>"
            ],
            "image/png": "[encoded data removed]"
          },
          "metadata": {}
        }
      ]
    },
    {
      "cell_type": "markdown",
      "source": [
        "Here we clearly see that \"bump\" both in antiphons and responsories.\n",
        "\n",
        "What about mass genres?"
      ],
      "metadata": {
        "id": "igUIlCkL6wSh"
      },
      "id": "igUIlCkL6wSh"
    },
    {
      "cell_type": "code",
      "source": [
        "for g in GENRES_CC_MASS_PROPERS:\n",
        "  plot_cid_frequencies(chants_per_genre[g], log_scale=True, label=g)\n",
        "plt.legend()"
      ],
      "metadata": {
        "colab": {
          "base_uri": "https://localhost:8080/",
          "height": 490
        },
        "id": "IotcDX_g39ud",
        "outputId": "f66607d9-4179-400e-bfcd-dca386b7ecce"
      },
      "id": "IotcDX_g39ud",
      "execution_count": 68,
      "outputs": [
        {
          "output_type": "execute_result",
          "data": {
            "text/plain": [
              "<matplotlib.legend.Legend at 0x7eef3bf9e350>"
            ]
          },
          "metadata": {},
          "execution_count": 68
        },
        {
          "output_type": "display_data",
          "data": {
            "text/plain": [
              "<Figure size 640x480 with 1 Axes>"
            ],
            "image/png": "[encoded data removed]"
          },
          "metadata": {}
        }
      ]
    },
    {
      "cell_type": "markdown",
      "source": [
        "That is a bit confusing, we should probably break it down a bit more.\n",
        "Let's try excluding the various \"verse\" genres that are sung as the inner part of many mass propers."
      ],
      "metadata": {
        "id": "LZR2lijN63cS"
      },
      "id": "LZR2lijN63cS"
    },
    {
      "cell_type": "code",
      "source": [
        "for g in GENRES_CC_MASS_NOVERSE:\n",
        "  plot_cid_frequencies(chants_per_genre[g], log_scale=True, label=g)\n",
        "plt.legend()"
      ],
      "metadata": {
        "colab": {
          "base_uri": "https://localhost:8080/",
          "height": 490
        },
        "id": "cqIOOxwr7A_f",
        "outputId": "90b597cb-7b36-483b-8e68-4a8c29561c1d"
      },
      "id": "cqIOOxwr7A_f",
      "execution_count": 69,
      "outputs": [
        {
          "output_type": "execute_result",
          "data": {
            "text/plain": [
              "<matplotlib.legend.Legend at 0x7eef3b7ae310>"
            ]
          },
          "metadata": {},
          "execution_count": 69
        },
        {
          "output_type": "display_data",
          "data": {
            "text/plain": [
              "<Figure size 640x480 with 1 Axes>"
            ],
            "image/png": "[encoded data removed]"
          },
          "metadata": {}
        }
      ]
    },
    {
      "cell_type": "markdown",
      "source": [
        "It seems there are again some anomalies. Let's look at individual genres of the mass propers as they appear one by one."
      ],
      "metadata": {
        "id": "9uAJfIfK-fX4"
      },
      "id": "9uAJfIfK-fX4"
    },
    {
      "cell_type": "code",
      "source": [
        "plot_cid_frequencies(chants_per_genre['genre_in'], log_scale=True, label=g, title='Introits')"
      ],
      "metadata": {
        "colab": {
          "base_uri": "https://localhost:8080/",
          "height": 472
        },
        "id": "vy7PvxHlAE92",
        "outputId": "d81d95df-6762-4765-a4de-b538341a97ed"
      },
      "id": "vy7PvxHlAE92",
      "execution_count": 70,
      "outputs": [
        {
          "output_type": "display_data",
          "data": {
            "text/plain": [
              "<Figure size 640x480 with 1 Axes>"
            ],
            "image/png": "[encoded data removed]"
          },
          "metadata": {}
        }
      ]
    },
    {
      "cell_type": "code",
      "source": [
        "plot_cid_frequencies(chants_per_genre['genre_gr'], log_scale=True, label=g, title='Graduals')"
      ],
      "metadata": {
        "colab": {
          "base_uri": "https://localhost:8080/",
          "height": 472
        },
        "id": "LmpgaKIv-IJs",
        "outputId": "d5be2de2-8d5f-4e25-af7c-1473c2ed5ccc"
      },
      "id": "LmpgaKIv-IJs",
      "execution_count": 71,
      "outputs": [
        {
          "output_type": "display_data",
          "data": {
            "text/plain": [
              "<Figure size 640x480 with 1 Axes>"
            ],
            "image/png": "[encoded data removed]"
          },
          "metadata": {}
        }
      ]
    },
    {
      "cell_type": "code",
      "source": [
        "plot_cid_frequencies(chants_per_genre['genre_al'], log_scale=True, label=g, title='Alleluias')"
      ],
      "metadata": {
        "colab": {
          "base_uri": "https://localhost:8080/",
          "height": 472
        },
        "id": "FUCz6fLb94k3",
        "outputId": "f50f5231-7068-4d53-a871-58d7cfa6b7e7"
      },
      "id": "FUCz6fLb94k3",
      "execution_count": 72,
      "outputs": [
        {
          "output_type": "display_data",
          "data": {
            "text/plain": [
              "<Figure size 640x480 with 1 Axes>"
            ],
            "image/png": "[encoded data removed]"
          },
          "metadata": {}
        }
      ]
    },
    {
      "cell_type": "code",
      "source": [
        "plot_cid_frequencies(chants_per_genre['genre_tc'], log_scale=True, label=g, title='Tracts')"
      ],
      "metadata": {
        "colab": {
          "base_uri": "https://localhost:8080/",
          "height": 472
        },
        "id": "-_0egQFPB9hN",
        "outputId": "91aba393-a61b-4db7-ae12-d81279214364"
      },
      "id": "-_0egQFPB9hN",
      "execution_count": 73,
      "outputs": [
        {
          "output_type": "display_data",
          "data": {
            "text/plain": [
              "<Figure size 640x480 with 1 Axes>"
            ],
            "image/png": "[encoded data removed]"
          },
          "metadata": {}
        }
      ]
    },
    {
      "cell_type": "code",
      "source": [
        "plot_cid_frequencies(chants_per_genre['genre_of'], log_scale=True, label=g, title='Offertories')"
      ],
      "metadata": {
        "colab": {
          "base_uri": "https://localhost:8080/",
          "height": 472
        },
        "id": "fbi98XbCAM48",
        "outputId": "072ff5b1-316e-4b53-a291-add840986ac1"
      },
      "id": "fbi98XbCAM48",
      "execution_count": 74,
      "outputs": [
        {
          "output_type": "display_data",
          "data": {
            "text/plain": [
              "<Figure size 640x480 with 1 Axes>"
            ],
            "image/png": "[encoded data removed]"
          },
          "metadata": {}
        }
      ]
    },
    {
      "cell_type": "code",
      "source": [
        "plot_cid_frequencies(chants_per_genre['genre_cm'], log_scale=True, label=g, title='Communios')"
      ],
      "metadata": {
        "colab": {
          "base_uri": "https://localhost:8080/",
          "height": 472
        },
        "id": "-3ILadZUAW01",
        "outputId": "920fa80f-f22d-43ce-ad27-b837b490fdf3"
      },
      "id": "-3ILadZUAW01",
      "execution_count": 75,
      "outputs": [
        {
          "output_type": "display_data",
          "data": {
            "text/plain": [
              "<Figure size 640x480 with 1 Axes>"
            ],
            "image/png": "[encoded data removed]"
          },
          "metadata": {}
        }
      ]
    },
    {
      "cell_type": "markdown",
      "source": [
        "Out of all the genres, only the distribution of Alleluias looks like something one would find in a 'naturally occuring' system. All other genres have an 'elbow' around 100-150 Cantus IDs, where after a relatively reasonable curve there is suddenly a sharp drop-off. Usually the singletons (CIDs that only occur once) should be the most prevalent frequency group, but in the Communios there are quite clearly more things that occur nine times than things that occur once!"
      ],
      "metadata": {
        "id": "nHDvShU2AePX"
      },
      "id": "nHDvShU2AePX"
    },
    {
      "cell_type": "markdown",
      "source": [
        "One explanation may be that this is an artifact of how mass (and office) repertoire is structured between 'global' and 'local' items. For mass, most of the liturgical year has well-defined repertoire, but then in each source there will be some special masses like for particular saints (e.g. those important to a specific monastic order) or occasions (e.g. dedication of a church again with repertoire specific to the church's patron)."
      ],
      "metadata": {
        "id": "5mg_PXilBMqj"
      },
      "id": "5mg_PXilBMqj"
    },
    {
      "cell_type": "markdown",
      "source": [
        "This brings us to a second important category of items in Cantus Corpus: the **sources**. For now, however, we do not necessarily need more information about sources than just which chant records belong to which source. This is still captured in the `source_id` field of the chant record.\n",
        "\n",
        "Let's look at the **communio** genre.\n",
        "\n",
        "(By the way, the limited sampling of CantusCorpus shows here: GregoBase reveals that the Solesmes editions of mass repertoire from the 20th century contain 300 different communios, CantusCorpus only has just under 200 distinct Cantus IDs.)\n",
        "\n",
        "We count the sources. If there are only approx. 10 sources, that would have been the reason for this 'elbow'."
      ],
      "metadata": {
        "id": "aGov_TqMBr5a"
      },
      "id": "aGov_TqMBr5a"
    },
    {
      "cell_type": "code",
      "source": [
        "cm_sources = [c['source_id'] for c in chants_per_genre['genre_cm']]"
      ],
      "metadata": {
        "id": "636M_htjCW22"
      },
      "id": "636M_htjCW22",
      "execution_count": 76,
      "outputs": []
    },
    {
      "cell_type": "code",
      "source": [
        "cm_sources_set = set(cm_sources)\n",
        "print('Communios occur in {} different sources.'.format(len(cm_sources_set)))"
      ],
      "metadata": {
        "colab": {
          "base_uri": "https://localhost:8080/"
        },
        "id": "SFoZC_jCChi8",
        "outputId": "190eff86-2130-4d8a-a41d-f86a5d1a5db2"
      },
      "id": "SFoZC_jCChi8",
      "execution_count": 77,
      "outputs": [
        {
          "output_type": "stream",
          "name": "stdout",
          "text": [
            "Communios occur in 42 different sources.\n"
          ]
        }
      ]
    },
    {
      "cell_type": "markdown",
      "source": [
        "So there are 42 different sources. OK, this idea was not it."
      ],
      "metadata": {
        "id": "LW1hhq4MCofg"
      },
      "id": "LW1hhq4MCofg"
    },
    {
      "cell_type": "markdown",
      "source": [
        "Let's take a look at what these low-frequency communios are."
      ],
      "metadata": {
        "id": "8vBSnyVqEQR-"
      },
      "id": "8vBSnyVqEQR-"
    },
    {
      "cell_type": "code",
      "source": [
        "cm_freqdict = collections.defaultdict(int)\n",
        "for c in chants_per_genre['genre_cm']:\n",
        "  cm_freqdict[c['cantus_id']] += 1"
      ],
      "metadata": {
        "id": "2RAmwac-EUeF"
      },
      "id": "2RAmwac-EUeF",
      "execution_count": 78,
      "outputs": []
    },
    {
      "cell_type": "code",
      "source": [
        "low_frequency_cm_cids = [cid for cid in cm_freqdict if cm_freqdict[cid] < 8]"
      ],
      "metadata": {
        "id": "95GiKWTTEcCa"
      },
      "id": "95GiKWTTEcCa",
      "execution_count": 79,
      "outputs": []
    },
    {
      "cell_type": "code",
      "source": [
        "low_frequency_cms_works = [create_work(cid, chants_per_genre['genre_cm'])\n",
        "                           for cid in low_frequency_cm_cids]\n",
        "print('Total {} low-frequency CIDs for communio genre.'.format(len(low_frequency_cms_works)))"
      ],
      "metadata": {
        "colab": {
          "base_uri": "https://localhost:8080/"
        },
        "id": "dbw1Nb9ZEkia",
        "outputId": "9f805dd0-c07f-4604-b118-a19928f9c573"
      },
      "id": "dbw1Nb9ZEkia",
      "execution_count": 80,
      "outputs": [
        {
          "output_type": "stream",
          "name": "stdout",
          "text": [
            "Total 54 low-frequency CIDs for communio genre.\n"
          ]
        }
      ]
    },
    {
      "cell_type": "code",
      "source": [
        "for w_cm in low_frequency_cms_works:\n",
        "  print(w_cm)"
      ],
      "metadata": {
        "collapsed": true,
        "colab": {
          "base_uri": "https://localhost:8080/"
        },
        "id": "vzPCTyagEvR4",
        "outputId": "fe135bde-9fc6-4d6d-cf8c-1409fb7d101d"
      },
      "id": "vzPCTyagEvR4",
      "execution_count": 81,
      "outputs": [
        {
          "output_type": "stream",
          "name": "stdout",
          "text": [
            "Work CID g02573: 1 chants, characteristics:\n",
            "\tincipit:\tAbsolve domine animas eorum ab\n",
            "\tgenre_id:\tgenre_cm\n",
            "\tmode:\t*\n",
            "\tfinalis:\t\n",
            "\tdifferentia:\t\n",
            "\tposition:\t\n",
            "\toffice_id:\toffice_mi\n",
            "\tfeast_id:\tfeast_1383\n",
            "Work CID g02392: 1 chants, characteristics:\n",
            "\tincipit:\tAmen dico vobis veniet hora\n",
            "\tgenre_id:\tgenre_cm\n",
            "\tmode:\t*\n",
            "\tfinalis:\t\n",
            "\tdifferentia:\t\n",
            "\tposition:\t\n",
            "\toffice_id:\toffice_mi\n",
            "\tfeast_id:\tfeast_1383\n",
            "Work CID g01258c: 1 chants, characteristics:\n",
            "\tincipit:\tAmen dico*\n",
            "\tgenre_id:\tgenre_cm\n",
            "\tmode:\t*\n",
            "\tfinalis:\t\n",
            "\tdifferentia:\t\n",
            "\tposition:\t\n",
            "\toffice_id:\toffice_mi\n",
            "\tfeast_id:\tfeast_0022\n",
            "Work CID 503004: 3 chants, characteristics:\n",
            "\tincipit:\tApprehende arma et scutum\n",
            "\tgenre_id:\tgenre_cm\n",
            "\tmode:\t\n",
            "\tfinalis:\t\n",
            "\tdifferentia:\t\n",
            "\tposition:\t\n",
            "\toffice_id:\toffice_mi\n",
            "\tfeast_id:\tfeast_0335\n",
            "Work CID ah49763: 1 chants, characteristics:\n",
            "\tincipit:\tAve David regis nata virga\n",
            "\tgenre_id:\tgenre_cm\n",
            "\tmode:\t1\n",
            "\tfinalis:\tD\n",
            "\tdifferentia:\t\n",
            "\tposition:\t\n",
            "\toffice_id:\toffice_mi\n",
            "\tfeast_id:\tfeast_0066\n",
            "Work CID 503003: 2 chants, characteristics:\n",
            "\tincipit:\tAve regina caelorum mater\n",
            "\tgenre_id:\tgenre_cm\n",
            "\tmode:\t\n",
            "\tfinalis:\t\n",
            "\tdifferentia:\t\n",
            "\tposition:\t\n",
            "\toffice_id:\toffice_mi\n",
            "\tfeast_id:\tfeast_0311\n",
            "Work CID g02261: 4 chants, characteristics:\n",
            "\tincipit:\tAve regina caelorum*\n",
            "\tgenre_id:\tgenre_cm\n",
            "\tmode:\t*\n",
            "\tfinalis:\t\n",
            "\tdifferentia:\t\n",
            "\tposition:\t\n",
            "\toffice_id:\toffice_mi\n",
            "\tfeast_id:\tfeast_0311\n",
            "Work CID g00482: 5 chants, characteristics:\n",
            "\tincipit:\tBeati mundo corde quoniam ipsi\n",
            "\tgenre_id:\tgenre_cm\n",
            "\tmode:\t*\n",
            "\tfinalis:\t\n",
            "\tdifferentia:\t\n",
            "\tposition:\t\n",
            "\toffice_id:\toffice_mi\n",
            "\tfeast_id:\t\n",
            "Work CID g02447: 2 chants, characteristics:\n",
            "\tincipit:\tBenedicite deum caeli et coram\n",
            "\tgenre_id:\tgenre_cm\n",
            "\tmode:\t4\n",
            "\tfinalis:\t\n",
            "\tdifferentia:\t\n",
            "\tposition:\t\n",
            "\toffice_id:\toffice_mi\n",
            "\tfeast_id:\tfeast_0343\n",
            "Work CID g01121.1: 3 chants, characteristics:\n",
            "\tincipit:\tBenedicite deum caeli et coram\n",
            "\tgenre_id:\tgenre_cm\n",
            "\tmode:\t\n",
            "\tfinalis:\t\n",
            "\tdifferentia:\t\n",
            "\tposition:\t\n",
            "\toffice_id:\toffice_mi\n",
            "\tfeast_id:\tfeast_0343\n",
            "Work CID g01066: 6 chants, characteristics:\n",
            "\tincipit:\tDum venerit paraclitus spiritus veritatis\n",
            "\tgenre_id:\tgenre_cm\n",
            "\tmode:\t8\n",
            "\tfinalis:\t\n",
            "\tdifferentia:\t\n",
            "\tposition:\t\n",
            "\toffice_id:\toffice_mi\n",
            "\tfeast_id:\tfeast_0447\n",
            "Work CID g02087: 3 chants, characteristics:\n",
            "\tincipit:\tDum venerit paraclitus spiritus veritatis\n",
            "\tgenre_id:\tgenre_cm\n",
            "\tmode:\t\n",
            "\tfinalis:\t\n",
            "\tdifferentia:\t\n",
            "\tposition:\t\n",
            "\toffice_id:\toffice_mi\n",
            "\tfeast_id:\tfeast_0452\n",
            "Work CID g01400.1: 1 chants, characteristics:\n",
            "\tincipit:\tDilexisti justitiam et odisti iniquitatem\n",
            "\tgenre_id:\tgenre_cm\n",
            "\tmode:\t5\n",
            "\tfinalis:\t\n",
            "\tdifferentia:\t\n",
            "\tposition:\t\n",
            "\toffice_id:\toffice_mi\n",
            "\tfeast_id:\tfeast_0265\n",
            "Work CID g01510: 1 chants, characteristics:\n",
            "\tincipit:\tEcce sic benedicetur omnis homo\n",
            "\tgenre_id:\tgenre_cm\n",
            "\tmode:\t\n",
            "\tfinalis:\t\n",
            "\tdifferentia:\t\n",
            "\tposition:\t\n",
            "\toffice_id:\toffice_mi\n",
            "\tfeast_id:\tfeast_1404\n",
            "Work CID g00534: 2 chants, characteristics:\n",
            "\tincipit:\tEcce virgo concipiet et pariet\n",
            "\tgenre_id:\tgenre_cm\n",
            "\tmode:\t\n",
            "\tfinalis:\t\n",
            "\tdifferentia:\t\n",
            "\tposition:\t\n",
            "\toffice_id:\toffice_mi\n",
            "\tfeast_id:\tfeast_0444\n",
            "Work CID g02822: 2 chants, characteristics:\n",
            "\tincipit:\tEgo sum resurrectio et vita\n",
            "\tgenre_id:\tgenre_cm\n",
            "\tmode:\t\n",
            "\tfinalis:\t\n",
            "\tdifferentia:\t\n",
            "\tposition:\t\n",
            "\toffice_id:\toffice_mi\n",
            "\tfeast_id:\tfeast_1383\n",
            "Work CID g02726: 1 chants, characteristics:\n",
            "\tincipit:\tEuntes praedicate evangelium regni gratis\n",
            "\tgenre_id:\tgenre_cm\n",
            "\tmode:\t\n",
            "\tfinalis:\t\n",
            "\tdifferentia:\t\n",
            "\tposition:\t\n",
            "\toffice_id:\toffice_mi\n",
            "\tfeast_id:\tfeast_1391\n",
            "Work CID g01446: 1 chants, characteristics:\n",
            "\tincipit:\tFactus*\n",
            "\tgenre_id:\tgenre_cm\n",
            "\tmode:\t*\n",
            "\tfinalis:\t\n",
            "\tdifferentia:\t\n",
            "\tposition:\t\n",
            "\toffice_id:\toffice_mi\n",
            "\tfeast_id:\tfeast_0022\n",
            "Work CID g01479: 1 chants, characteristics:\n",
            "\tincipit:\tFoderunt manus meas et pedes\n",
            "\tgenre_id:\tgenre_cm\n",
            "\tmode:\t*\n",
            "\tfinalis:\t\n",
            "\tdifferentia:\t\n",
            "\tposition:\t2\n",
            "\toffice_id:\toffice_mi\n",
            "\tfeast_id:\tfeast_0356\n",
            "Work CID g02807: 1 chants, characteristics:\n",
            "\tincipit:\tGloria et honore coronasti eum\n",
            "\tgenre_id:\tgenre_cm\n",
            "\tmode:\t\n",
            "\tfinalis:\t\n",
            "\tdifferentia:\t\n",
            "\tposition:\t\n",
            "\toffice_id:\toffice_mi\n",
            "\tfeast_id:\tfeast_1644\n",
            "Work CID g00022: 1 chants, characteristics:\n",
            "\tincipit:\tGloriosa dicta sunt de te\n",
            "\tgenre_id:\tgenre_cm\n",
            "\tmode:\t1\n",
            "\tfinalis:\tD\n",
            "\tdifferentia:\t\n",
            "\tposition:\t\n",
            "\toffice_id:\toffice_mi\n",
            "\tfeast_id:\tfeast_0281\n",
            "Work CID g02803: 1 chants, characteristics:\n",
            "\tincipit:\tIte dicite Joanni caeci vident\n",
            "\tgenre_id:\tgenre_cm\n",
            "\tmode:\t\n",
            "\tfinalis:\t\n",
            "\tdifferentia:\t\n",
            "\tposition:\t\n",
            "\toffice_id:\toffice_mi\n",
            "\tfeast_id:\tfeast_0360\n",
            "Work CID g01576: 4 chants, characteristics:\n",
            "\tincipit:\tLux aeterna luceat eis domine\n",
            "\tgenre_id:\tgenre_cm\n",
            "\tmode:\t8\n",
            "\tfinalis:\t\n",
            "\tdifferentia:\t\n",
            "\tposition:\t\n",
            "\toffice_id:\toffice_mi\n",
            "\tfeast_id:\tfeast_1383\n",
            "Work CID g01573: 1 chants, characteristics:\n",
            "\tincipit:\tLux aeterna*\n",
            "\tgenre_id:\tgenre_cm\n",
            "\tmode:\t*\n",
            "\tfinalis:\t\n",
            "\tdifferentia:\t\n",
            "\tposition:\t\n",
            "\toffice_id:\toffice_mi\n",
            "\tfeast_id:\tfeast_1383\n",
            "Work CID g02312: 1 chants, characteristics:\n",
            "\tincipit:\tMartinus abrahe sinu letus excipitur\n",
            "\tgenre_id:\tgenre_cm\n",
            "\tmode:\t\n",
            "\tfinalis:\t\n",
            "\tdifferentia:\t\n",
            "\tposition:\t\n",
            "\toffice_id:\toffice_mi\n",
            "\tfeast_id:\tfeast_1125\n",
            "Work CID g01228: 5 chants, characteristics:\n",
            "\tincipit:\tMense septimo festa celebrabitis cum\n",
            "\tgenre_id:\tgenre_cm\n",
            "\tmode:\t8\n",
            "\tfinalis:\t\n",
            "\tdifferentia:\t\n",
            "\tposition:\t\n",
            "\toffice_id:\toffice_mi\n",
            "\tfeast_id:\tfeast_1496\n",
            "Work CID g02229: 2 chants, characteristics:\n",
            "\tincipit:\tMihi autem*\n",
            "\tgenre_id:\tgenre_cm\n",
            "\tmode:\t\n",
            "\tfinalis:\t\n",
            "\tdifferentia:\t\n",
            "\tposition:\t\n",
            "\toffice_id:\toffice_mi\n",
            "\tfeast_id:\tfeast_0055\n",
            "Work CID g02600: 1 chants, characteristics:\n",
            "\tincipit:\tMirabantur omnes qui audiebant dicentes\n",
            "\tgenre_id:\tgenre_cm\n",
            "\tmode:\t\n",
            "\tfinalis:\t\n",
            "\tdifferentia:\t\n",
            "\tposition:\t\n",
            "\toffice_id:\toffice_mi\n",
            "\tfeast_id:\tfeast_0287\n",
            "Work CID g01108: 7 chants, characteristics:\n",
            "\tincipit:\tNon vos relinquam orphanos veniam\n",
            "\tgenre_id:\tgenre_cm\n",
            "\tmode:\t5\n",
            "\tfinalis:\t\n",
            "\tdifferentia:\t\n",
            "\tposition:\t\n",
            "\toffice_id:\toffice_mi\n",
            "\tfeast_id:\tfeast_1494\n",
            "Work CID g02486.1: 5 chants, characteristics:\n",
            "\tincipit:\tNos autem gloriari oportet in\n",
            "\tgenre_id:\tgenre_cm\n",
            "\tmode:\t*\n",
            "\tfinalis:\t\n",
            "\tdifferentia:\t\n",
            "\tposition:\t\n",
            "\toffice_id:\toffice_mi\n",
            "\tfeast_id:\tfeast_0334\n",
            "Work CID g02486: 3 chants, characteristics:\n",
            "\tincipit:\tNos autem*\n",
            "\tgenre_id:\tgenre_cm\n",
            "\tmode:\t*\n",
            "\tfinalis:\t\n",
            "\tdifferentia:\t\n",
            "\tposition:\t\n",
            "\toffice_id:\toffice_mi\n",
            "\tfeast_id:\tfeast_0577\n",
            "Work CID g02869: 2 chants, characteristics:\n",
            "\tincipit:\tOptimam partem elegit sibi Maria\n",
            "\tgenre_id:\tgenre_cm\n",
            "\tmode:\t8\n",
            "\tfinalis:\tG\n",
            "\tdifferentia:\t\n",
            "\tposition:\t\n",
            "\toffice_id:\toffice_mi\n",
            "\tfeast_id:\tfeast_0093\n",
            "Work CID g01199: 7 chants, characteristics:\n",
            "\tincipit:\tPanem de caelo dedisti nobis\n",
            "\tgenre_id:\tgenre_cm\n",
            "\tmode:\t5\n",
            "\tfinalis:\t\n",
            "\tdifferentia:\t\n",
            "\tposition:\t\n",
            "\toffice_id:\toffice_mi\n",
            "\tfeast_id:\tfeast_0401\n",
            "Work CID g00184: 3 chants, characteristics:\n",
            "\tincipit:\tPer signum Crucis de inimicis\n",
            "\tgenre_id:\tgenre_cm\n",
            "\tmode:\t\n",
            "\tfinalis:\t\n",
            "\tdifferentia:\t\n",
            "\tposition:\t\n",
            "\toffice_id:\toffice_mi\n",
            "\tfeast_id:\tfeast_0577\n",
            "Work CID g02170: 1 chants, characteristics:\n",
            "\tincipit:\tPes enim meus stetit in\n",
            "\tgenre_id:\tgenre_cm\n",
            "\tmode:\t\n",
            "\tfinalis:\t\n",
            "\tdifferentia:\t\n",
            "\tposition:\t\n",
            "\toffice_id:\toffice_mi\n",
            "\tfeast_id:\tfeast_0416\n",
            "Work CID g02654: 1 chants, characteristics:\n",
            "\tincipit:\tPro quorum memoria corpus Christi\n",
            "\tgenre_id:\tgenre_cm\n",
            "\tmode:\t2\n",
            "\tfinalis:\t\n",
            "\tdifferentia:\t\n",
            "\tposition:\t\n",
            "\toffice_id:\toffice_mi\n",
            "\tfeast_id:\tfeast_1383\n",
            "Work CID g02654.1: 1 chants, characteristics:\n",
            "\tincipit:\tPro quorum memoria corpus Christi\n",
            "\tgenre_id:\tgenre_cm\n",
            "\tmode:\t*\n",
            "\tfinalis:\t\n",
            "\tdifferentia:\t\n",
            "\tposition:\t\n",
            "\toffice_id:\toffice_mi\n",
            "\tfeast_id:\tfeast_1383\n",
            "Work CID g02820: 1 chants, characteristics:\n",
            "\tincipit:\tProficiat nobis domine in caelesti\n",
            "\tgenre_id:\tgenre_cm\n",
            "\tmode:\t\n",
            "\tfinalis:\t\n",
            "\tdifferentia:\t\n",
            "\tposition:\t\n",
            "\toffice_id:\toffice_mi\n",
            "\tfeast_id:\tfeast_1513\n",
            "Work CID 503005: 1 chants, characteristics:\n",
            "\tincipit:\tQuam praefatam basilicam idem\n",
            "\tgenre_id:\tgenre_cm\n",
            "\tmode:\t\n",
            "\tfinalis:\t\n",
            "\tdifferentia:\t\n",
            "\tposition:\t\n",
            "\toffice_id:\toffice_mi\n",
            "\tfeast_id:\tfeast_1117\n",
            "Work CID g00770: 3 chants, characteristics:\n",
            "\tincipit:\tQui biberit*\n",
            "\tgenre_id:\tgenre_cm\n",
            "\tmode:\t\n",
            "\tfinalis:\t\n",
            "\tdifferentia:\t\n",
            "\tposition:\t\n",
            "\toffice_id:\toffice_mi\n",
            "\tfeast_id:\tfeast_0735\n",
            "Work CID g00770.1: 5 chants, characteristics:\n",
            "\tincipit:\tQui biberit aquam quam ego\n",
            "\tgenre_id:\tgenre_cm\n",
            "\tmode:\t\n",
            "\tfinalis:\t\n",
            "\tdifferentia:\t\n",
            "\tposition:\t\n",
            "\toffice_id:\toffice_mi\n",
            "\tfeast_id:\tfeast_0735\n",
            "Work CID 503001: 7 chants, characteristics:\n",
            "\tincipit:\tQuotiescumque manducabitis panem hunc et\n",
            "\tgenre_id:\tgenre_cm\n",
            "\tmode:\t\n",
            "\tfinalis:\t\n",
            "\tdifferentia:\t\n",
            "\tposition:\t\n",
            "\toffice_id:\toffice_mi\n",
            "\tfeast_id:\tfeast_0291\n",
            "Work CID g03088: 1 chants, characteristics:\n",
            "\tincipit:\tRedemptor mundi signo crucis ab\n",
            "\tgenre_id:\tgenre_cm\n",
            "\tmode:\t\n",
            "\tfinalis:\t\n",
            "\tdifferentia:\t\n",
            "\tposition:\t2\n",
            "\toffice_id:\toffice_mi\n",
            "\tfeast_id:\tfeast_0577\n",
            "Work CID g00292.1: 2 chants, characteristics:\n",
            "\tincipit:\tRegina mundi*\n",
            "\tgenre_id:\tgenre_cm\n",
            "\tmode:\t1\n",
            "\tfinalis:\t\n",
            "\tdifferentia:\t\n",
            "\tposition:\t\n",
            "\toffice_id:\toffice_mi\n",
            "\tfeast_id:\tfeast_0311\n",
            "Work CID g00292: 1 chants, characteristics:\n",
            "\tincipit:\tRegina mundi*\n",
            "\tgenre_id:\tgenre_cm\n",
            "\tmode:\t?\n",
            "\tfinalis:\t\n",
            "\tdifferentia:\t\n",
            "\tposition:\t\n",
            "\toffice_id:\toffice_mi\n",
            "\tfeast_id:\tfeast_1204\n",
            "Work CID g03122: 1 chants, characteristics:\n",
            "\tincipit:\tSancta dei genetrix virgo semper\n",
            "\tgenre_id:\tgenre_cm\n",
            "\tmode:\t8\n",
            "\tfinalis:\t\n",
            "\tdifferentia:\t\n",
            "\tposition:\t\n",
            "\toffice_id:\toffice_mi\n",
            "\tfeast_id:\tfeast_0311\n",
            "Work CID g01019: 7 chants, characteristics:\n",
            "\tincipit:\tSurrexit dominus et apparuit Petro\n",
            "\tgenre_id:\tgenre_cm\n",
            "\tmode:\t\n",
            "\tfinalis:\t\n",
            "\tdifferentia:\t\n",
            "\tposition:\t\n",
            "\toffice_id:\toffice_mi\n",
            "\tfeast_id:\tfeast_0624\n",
            "Work CID g00581.2: 7 chants, characteristics:\n",
            "\tincipit:\tTolle puerum et matrem ejus\n",
            "\tgenre_id:\tgenre_cm\n",
            "\tmode:\t7\n",
            "\tfinalis:\t\n",
            "\tdifferentia:\t\n",
            "\tposition:\t\n",
            "\toffice_id:\toffice_mi\n",
            "\tfeast_id:\tfeast_0493\n",
            "Work CID 007768: 1 chants, characteristics:\n",
            "\tincipit:\tTolle puerum et matrem ejus\n",
            "\tgenre_id:\tgenre_cm\n",
            "\tmode:\t7\n",
            "\tfinalis:\tG\n",
            "\tdifferentia:\t\n",
            "\tposition:\t\n",
            "\toffice_id:\t\n",
            "\tfeast_id:\tfeast_0493\n",
            "Work CID g02867: 1 chants, characteristics:\n",
            "\tincipit:\tTollite jugum meum super vos\n",
            "\tgenre_id:\tgenre_cm\n",
            "\tmode:\t3\n",
            "\tfinalis:\tE\n",
            "\tdifferentia:\t\n",
            "\tposition:\t\n",
            "\toffice_id:\toffice_mi\n",
            "\tfeast_id:\tfeast_0368\n",
            "Work CID g02388.1: 1 chants, characteristics:\n",
            "\tincipit:\tTuam deus deposcimus pietatem ut\n",
            "\tgenre_id:\tgenre_cm\n",
            "\tmode:\t*\n",
            "\tfinalis:\t\n",
            "\tdifferentia:\t\n",
            "\tposition:\t\n",
            "\toffice_id:\toffice_mi\n",
            "\tfeast_id:\tfeast_1383\n",
            "Work CID g03249: 2 chants, characteristics:\n",
            "\tincipit:\tVera fides*\n",
            "\tgenre_id:\tgenre_cm\n",
            "\tmode:\t1\n",
            "\tfinalis:\t\n",
            "\tdifferentia:\t\n",
            "\tposition:\t\n",
            "\toffice_id:\toffice_mi\n",
            "\tfeast_id:\tfeast_0311\n",
            "Work CID g00601.1: 1 chants, characteristics:\n",
            "\tincipit:\tVidimus stellam ejus in oriente\n",
            "\tgenre_id:\tgenre_cm\n",
            "\tmode:\t\n",
            "\tfinalis:\tE\n",
            "\tdifferentia:\t\n",
            "\tposition:\t\n",
            "\toffice_id:\toffice_mi\n",
            "\tfeast_id:\tfeast_1757\n",
            "Work CID g02293: 4 chants, characteristics:\n",
            "\tincipit:\tVos qui secuti*\n",
            "\tgenre_id:\tgenre_cm\n",
            "\tmode:\t*\n",
            "\tfinalis:\t\n",
            "\tdifferentia:\t\n",
            "\tposition:\t\n",
            "\toffice_id:\toffice_mi\n",
            "\tfeast_id:\tfeast_1535\n"
          ]
        }
      ]
    },
    {
      "cell_type": "markdown",
      "source": [
        "At first sight, also not terribly informative. We would like to know more about the feasts, though. Are these something really specific?"
      ],
      "metadata": {
        "id": "U6h1FNHrFQvH"
      },
      "id": "U6h1FNHrFQvH"
    },
    {
      "cell_type": "markdown",
      "source": [
        "In order to translate the `feast_xyz` into something more useful, CantusCorpus provides a feasts 'translation table' in another CSV file."
      ],
      "metadata": {
        "id": "R93fDG_7FVn3"
      },
      "id": "R93fDG_7FVn3"
    },
    {
      "cell_type": "code",
      "source": [
        "# The 'chant.csv' file is where the chant data is.\n",
        "FEASTS_CSV_NAME = os.path.join(DATA_ROOT, 'csv', 'feast.csv')\n",
        "\n",
        "# It is pretty good practice to check that you got key file paths right -- that the files actually exist.\n",
        "if not os.path.isfile(FEASTS_CSV_NAME):\n",
        "    raise ValueError('CantusCorpus feast CSV file not found at path {}. Is the DATA_ROOT set correctly?'\n",
        "                     ' Current location: {}'.format(FEASTS_CSV_NAME, os.getcwd()))\n",
        "\n",
        "\n",
        "# Like before, we load the CSV file, just this time for feasts.\n",
        "# Here is where we store all the feasts, as a list.\n",
        "feasts = []\n",
        "with open(FEASTS_CSV_NAME) as fh:\n",
        "    feast_reader = csv.DictReader(fh,\n",
        "                                  delimiter=CSV_DELIMITER,\n",
        "                                  doublequote=CSV_DOUBLEQUOTE,\n",
        "                                  quotechar=CSV_QUOTECHAR,\n",
        "                                  dialect=CSV_DIALECT,\n",
        "                                  quoting=CSV_QUOTING)\n",
        "\n",
        "    # At this point, we could just load the data, but because we want\n",
        "    # to be very sure that we have been able to load the data properly,\n",
        "    # we wrap it with this 'try-except' construction. This means:\n",
        "    # If an error happens during the 'try' block, jump into the 'except'\n",
        "    # block to deal with it. In this case, we simply want to know which row\n",
        "    # the error occurred in, so that we know which line of the data file\n",
        "    # we should check for errors.\n",
        "    try:\n",
        "        for i, row in enumerate(feast_reader):\n",
        "            feasts.append(row)\n",
        "    except:\n",
        "        print('Feasts: Row {} has an error!\\nRow: {}'.format(i, row))\n",
        "        raise\n",
        "\n",
        "# We also want to remember what the field names are, to be able to quickly check\n",
        "# what information is available for each chant.\n",
        "feast_fieldnames = feast_reader.fieldnames\n"
      ],
      "metadata": {
        "id": "G0aa161hFex-"
      },
      "id": "G0aa161hFex-",
      "execution_count": 82,
      "outputs": []
    },
    {
      "cell_type": "markdown",
      "source": [
        "Let's inspect what we got."
      ],
      "metadata": {
        "id": "7_RwcLG3GEOB"
      },
      "id": "7_RwcLG3GEOB"
    },
    {
      "cell_type": "code",
      "source": [
        "print('Total feast recordes: {}'.format(len(feasts)))\n",
        "print('Example feast: {}'.format(feasts[0]))"
      ],
      "metadata": {
        "colab": {
          "base_uri": "https://localhost:8080/"
        },
        "id": "v0Sw4cWmGGfr",
        "outputId": "dcdd401d-ea8f-4f65-a68b-dfef8011dbe1"
      },
      "id": "v0Sw4cWmGGfr",
      "execution_count": 83,
      "outputs": [
        {
          "output_type": "stream",
          "name": "stdout",
          "text": [
            "Total feast recordes: 1828\n",
            "Example feast: {'id': 'feast_0001', 'name': 'Abdonis, Sennis', 'description': 'Abdon and Sennen, Martyrs', 'date': 'Jul.30', 'month': '7.0', 'day': '30.0', 'feast_code': '14073000', 'notes': ''}\n"
          ]
        }
      ]
    },
    {
      "cell_type": "markdown",
      "source": [
        "The `name` and `description` fields contain important information."
      ],
      "metadata": {
        "id": "jTTXr6CTGO1S"
      },
      "id": "jTTXr6CTGO1S"
    },
    {
      "cell_type": "code",
      "source": [
        "feast_to_name = {f['id']: f['name'] for f in feasts}\n",
        "feast_to_description = {f['id']: f['description'] for f in feasts}"
      ],
      "metadata": {
        "id": "kVKx_EzBGWKl"
      },
      "id": "kVKx_EzBGWKl",
      "execution_count": 84,
      "outputs": []
    },
    {
      "cell_type": "markdown",
      "source": [
        "Now we can see what feasts the low-frequency communios belong to."
      ],
      "metadata": {
        "id": "2h5gYIqjGhRI"
      },
      "id": "2h5gYIqjGhRI"
    },
    {
      "cell_type": "code",
      "source": [
        "feast_names_of_low_frequency_cms = collections.defaultdict(int)\n",
        "sources_of_low_frequency_cms = collections.defaultdict(int)\n",
        "sources_per_feast_of_low_frequency_cms = collections.defaultdict(list)\n",
        "\n",
        "for w_cm in low_frequency_cms_works:\n",
        "  for c in w_cm.chants:\n",
        "    feast_id = c['feast_id']\n",
        "    source = c['source_id']\n",
        "    if feast_id == '':   # Empty values always happen, sooner or later.\n",
        "      feast_names_of_low_frequency_cms['?'] += 1\n",
        "      sources_per_feast_of_low_frequency_cms['?'].append(source)\n",
        "      sources_of_low_frequency_cms[source] += 1\n",
        "      continue\n",
        "    feast_name = feast_to_name[feast_id]\n",
        "    feast_names_of_low_frequency_cms[feast_name] += 1\n",
        "    sources_of_low_frequency_cms[source] += 1\n",
        "    sources_per_feast_of_low_frequency_cms[feast_name].append(source)"
      ],
      "metadata": {
        "id": "IQnU9qyTGrIW"
      },
      "id": "IQnU9qyTGrIW",
      "execution_count": 85,
      "outputs": []
    },
    {
      "cell_type": "code",
      "source": [
        "# And inspect results\n",
        "for feast_name in feast_names_of_low_frequency_cms:\n",
        "\n",
        "  _sources = sources_per_feast_of_low_frequency_cms[feast_name]\n",
        "  # The prefix '_' for this variable name indicates this variable\n",
        "  # is very temporary, not expected to be used elsewhere. Python convention.\n",
        "\n",
        "  print('{}: {}                 {} sources: {}'.format(feast_name,\n",
        "                                     feast_names_of_low_frequency_cms[feast_name],\n",
        "                                     len(_sources), ', '.join(_sources)))"
      ],
      "metadata": {
        "id": "EUv-xcoXJFAG",
        "outputId": "67b9d787-f809-4332-af2c-98f77fc9a199",
        "colab": {
          "base_uri": "https://localhost:8080/"
        }
      },
      "id": "EUv-xcoXJFAG",
      "execution_count": 86,
      "outputs": [
        {
          "output_type": "stream",
          "name": "stdout",
          "text": [
            "Pro defunctis: 12                 12 sources: source_435, source_435, source_015, source_015, source_296, source_015, , source_435, , source_547, source_435, source_435\n",
            "Additamenta: 9                 9 sources: source_614, source_614, source_614, source_614, source_614, source_614, source_614, source_614, source_614\n",
            "De Sancta Lancea: 2                 2 sources: source_615, source_588\n",
            "Fer. 6 p. Oct.Pasch.: 1                 1 sources: source_435\n",
            "Annae: 1                 1 sources: source_508\n",
            "De BMV: 7                 7 sources: source_588, source_435, source_435, , source_435, , \n",
            "Conceptio Mariae: 2                 2 sources: source_573, source_412\n",
            "De BMV post Purif.: 1                 1 sources: source_435\n",
            "De BMV Nat.: 1                 1 sources: source_435\n",
            "Omnium Sanctorum: 1                 1 sources: source_015\n",
            "Comm. plurimorum Martyrum: 1                 1 sources: \n",
            "?: 2                 2 sources: source_296, \n",
            "Vig. Om. Sanctorum: 1                 1 sources: \n",
            "De Trinitate: 5                 5 sources: source_547, source_614, source_435, source_326, source_290\n",
            "Dom. 4 p. Pascha: 5                 5 sources: source_435, source_015, source_547, source_240, source_614\n",
            "Fer. 4 p. Oct.Pasch.: 1                 1 sources: source_296\n",
            "Dom. 4 p. Pascha,8: 1                 1 sources: source_326\n",
            "Dom. 5 p. Pascha: 1                 1 sources: \n",
            "Comm. unius Virginis: 1                 1 sources: \n",
            "Pro sponso et sponsa: 1                 1 sources: source_015\n",
            "Fer. 4 Adventus: 1                 1 sources: source_015\n",
            "Dom. 4 Adventus: 1                 1 sources: source_015\n",
            "Pro ordinatione Episcopi: 1                 1 sources: source_015\n",
            "De quinque vulneribus Christi: 2                 2 sources: source_435, source_435\n",
            "Tiburtii, Susannae: 1                 1 sources: source_015\n",
            "Decoll. Jo. Bapt.: 1                 1 sources: source_015\n",
            "Martini: 1                 1 sources: source_015\n",
            "Sabbato Q.T. Sept.: 4                 4 sources: , source_435, source_614, source_547\n",
            "Andreae: 2                 2 sources: source_435, source_296\n",
            "Conversio Pauli: 1                 1 sources: source_015\n",
            "Vig. Ascensionis Domini: 2                 2 sources: source_547, source_015\n",
            "Sabbato Pent.: 3                 3 sources: source_614, source_435, source_547\n",
            "Fer. 6 Pent.: 1                 1 sources: source_003\n",
            "De Sancta Cruce: 2                 2 sources: source_435, source_435\n",
            "Inventio Crucis: 2                 2 sources: source_435, source_015\n",
            "Exaltatio Crucis: 6                 6 sources: source_326, source_614, source_435, source_296, source_296, source_015\n",
            "Assumptio Mariae: 3                 3 sources: source_231, source_296, \n",
            "Dom. 13 p. Pent.: 4                 4 sources: source_614, source_003, source_547, source_015\n",
            "Dom. 14 p. Pent.: 1                 1 sources: source_435\n",
            "Dom. 13 p. Pent.,8: 1                 1 sources: source_326\n",
            "Dom. 2 Quadragesimae: 1                 1 sources: source_015\n",
            "Saturnini: 1                 1 sources: source_015\n",
            "Mariae ad Nives: 1                 1 sources: source_615\n",
            "Fer. 6 Hebd. 3 Quad.: 7                 7 sources: source_296, source_326, source_015, source_435, source_547, source_614, \n",
            "Corporis Christi: 6                 6 sources: , source_588, source_435, source_631, , source_170\n",
            "Dom. 24 p. Pent.,8: 1                 1 sources: source_296\n",
            "Nativitas Mariae: 1                 1 sources: \n",
            "Fer. 2 p. Pascha: 6                 6 sources: source_240, source_326, source_614, source_547, source_435, source_015\n",
            "Dom. p. Nat. Dom.: 5                 5 sources: source_435, , source_594, source_551, source_296\n",
            "Purificatio Mariae: 1                 1 sources: source_003\n",
            "Vigilia Epiphaniae: 3                 3 sources: source_435, , source_594\n",
            "Didaci Confessoris: 1                 1 sources: source_240\n",
            "Thomae Apost.: 1                 1 sources: source_015\n",
            "Simonis, Judae: 2                 2 sources: , source_547\n",
            "Comm. Apostolorum: 1                 1 sources: source_547\n"
          ]
        }
      ]
    },
    {
      "cell_type": "markdown",
      "source": [
        "It looks like most of the occurences of low-frequency communios come from only a few specific sources. Maybe there is something special about the sources they come from?"
      ],
      "metadata": {
        "id": "5PAkQKZGKd3e"
      },
      "id": "5PAkQKZGKd3e"
    },
    {
      "cell_type": "code",
      "source": [
        "import pprint  # Short for \"pretty print\". It's not particularly pretty, but it is usually better than the Python default.\n",
        "pprint.pprint(sources_of_low_frequency_cms)"
      ],
      "metadata": {
        "id": "fS-oGu40H39J",
        "outputId": "67a5e200-5cf5-458d-d75b-ea70b501c96a",
        "colab": {
          "base_uri": "https://localhost:8080/"
        }
      },
      "id": "fS-oGu40H39J",
      "execution_count": 87,
      "outputs": [
        {
          "output_type": "stream",
          "name": "stdout",
          "text": [
            "defaultdict(<class 'int'>,\n",
            "            {'': 19,\n",
            "             'source_003': 3,\n",
            "             'source_015': 22,\n",
            "             'source_170': 1,\n",
            "             'source_231': 1,\n",
            "             'source_240': 3,\n",
            "             'source_290': 1,\n",
            "             'source_296': 10,\n",
            "             'source_326': 6,\n",
            "             'source_412': 1,\n",
            "             'source_435': 28,\n",
            "             'source_508': 1,\n",
            "             'source_547': 11,\n",
            "             'source_551': 1,\n",
            "             'source_573': 1,\n",
            "             'source_588': 3,\n",
            "             'source_594': 2,\n",
            "             'source_614': 17,\n",
            "             'source_615': 2,\n",
            "             'source_631': 1})\n"
          ]
        }
      ]
    },
    {
      "cell_type": "markdown",
      "source": [
        "In order to understand this further, we should look at the information about the sources. This is stored in a yet different CSV file in CantusCorpus `sources.csv`. Let's load that.\n"
      ],
      "metadata": {
        "id": "RZJp2Ui89pry"
      },
      "id": "RZJp2Ui89pry"
    },
    {
      "cell_type": "code",
      "source": [
        "# The 'chant.csv' file is where the chant data is.\n",
        "SOURCES_CSV_NAME = os.path.join(DATA_ROOT, 'csv', 'source.csv')\n",
        "\n",
        "# It is pretty good practice to check that you got key file paths right -- that the files actually exist.\n",
        "if not os.path.isfile(SOURCES_CSV_NAME):\n",
        "    raise ValueError('CantusCorpus sources CSV file not found at path {}. Is the DATA_ROOT set correctly?'\n",
        "                     ' Current location: {}'.format(SOURCES_CSV_NAME, os.getcwd()))\n",
        "\n",
        "# Like before, we load the CSV file, just this time for sources.\n",
        "sources = []\n",
        "with open(SOURCES_CSV_NAME) as fh:\n",
        "    source_reader = csv.DictReader(fh,\n",
        "                                   delimiter=CSV_DELIMITER,\n",
        "                                   doublequote=True,\n",
        "                                   quotechar=CSV_QUOTECHAR,\n",
        "                                   dialect=CSV_DIALECT,\n",
        "                                   quoting=CSV_QUOTING)\n",
        "\n",
        "    # Like with feasts, we check for errors in data loading.\n",
        "    try:\n",
        "      for i, row in enumerate(source_reader):\n",
        "\n",
        "        # We have to do the drupal_path fix here as well to get working URLs\n",
        "        old_drupal_path = row['drupal_path']\n",
        "        if old_drupal_path:\n",
        "          fixed_drupal_path = old_drupal_path.replace('http://cantus.uwaterloo.ca', 'https://cantusdatabase.org').rstrip('/')\n",
        "          row['drupal_path'] = fixed_drupal_path\n",
        "\n",
        "        sources.append(row)\n",
        "    except:\n",
        "      print('Sources: Row {} has an error!\\nRow: {}'.format(i, row))\n",
        "      raise\n",
        "\n",
        "# We also want to remember what the field names are, to be able to quickly check\n",
        "# what information is available for each chant.\n",
        "source_fieldnames = source_reader.fieldnames\n"
      ],
      "metadata": {
        "id": "6bXDMYoV8SE4"
      },
      "id": "6bXDMYoV8SE4",
      "execution_count": 185,
      "outputs": []
    },
    {
      "cell_type": "markdown",
      "source": [
        "What information do we have available?"
      ],
      "metadata": {
        "id": "QD_xmG-D8yAz"
      },
      "id": "QD_xmG-D8yAz"
    },
    {
      "cell_type": "code",
      "source": [
        "print(source_fieldnames)"
      ],
      "metadata": {
        "colab": {
          "base_uri": "https://localhost:8080/"
        },
        "id": "AGdzBXbG80DN",
        "outputId": "a90f3cd3-e29b-43e7-8b22-86d268e2741a"
      },
      "id": "AGdzBXbG80DN",
      "execution_count": 150,
      "outputs": [
        {
          "output_type": "stream",
          "name": "stdout",
          "text": [
            "['id', 'title', 'description', 'rism', 'date', 'century', 'century_id', 'provenance', 'provenance_detail', 'provenance_id', 'segment', 'summary', 'indexing_notes', 'liturgical_occasions', 'indexing_date', 'drupal_path']\n"
          ]
        }
      ]
    },
    {
      "cell_type": "markdown",
      "source": [
        "We make the list of sources available as a dictionary, because we want to use the `source_id` to access the sources directly."
      ],
      "metadata": {
        "id": "7_G9wkhS8q-D"
      },
      "id": "7_G9wkhS8q-D"
    },
    {
      "cell_type": "code",
      "source": [
        "sources_dict = {s['id']: s for s in sources}   # It's the same \"shortcut\" like for lists."
      ],
      "metadata": {
        "id": "0plsekXJ8qZS"
      },
      "id": "0plsekXJ8qZS",
      "execution_count": 151,
      "outputs": []
    },
    {
      "cell_type": "markdown",
      "source": [
        "Remember the list of sources that contribute low-frequency communio chants?"
      ],
      "metadata": {
        "id": "QiLY983E_dSV"
      },
      "id": "QiLY983E_dSV"
    },
    {
      "cell_type": "code",
      "source": [
        "pprint.pprint(sources_of_low_frequency_cms)"
      ],
      "metadata": {
        "colab": {
          "base_uri": "https://localhost:8080/"
        },
        "id": "lRvPFIwF_h_k",
        "outputId": "70867c21-fffe-4638-d3e9-7cd01b386f46"
      },
      "id": "lRvPFIwF_h_k",
      "execution_count": 152,
      "outputs": [
        {
          "output_type": "stream",
          "name": "stdout",
          "text": [
            "defaultdict(<class 'int'>,\n",
            "            {'': 19,\n",
            "             'source_003': 3,\n",
            "             'source_015': 22,\n",
            "             'source_170': 1,\n",
            "             'source_231': 1,\n",
            "             'source_240': 3,\n",
            "             'source_290': 1,\n",
            "             'source_296': 10,\n",
            "             'source_326': 6,\n",
            "             'source_412': 1,\n",
            "             'source_435': 28,\n",
            "             'source_508': 1,\n",
            "             'source_547': 11,\n",
            "             'source_551': 1,\n",
            "             'source_573': 1,\n",
            "             'source_588': 3,\n",
            "             'source_594': 2,\n",
            "             'source_614': 17,\n",
            "             'source_615': 2,\n",
            "             'source_631': 1})\n"
          ]
        }
      ]
    },
    {
      "cell_type": "markdown",
      "source": [
        "Let's inspect those!"
      ],
      "metadata": {
        "id": "jt-lcKQG_juE"
      },
      "id": "jt-lcKQG_juE"
    },
    {
      "cell_type": "code",
      "source": [
        "sources_dict['source_435']"
      ],
      "metadata": {
        "colab": {
          "base_uri": "https://localhost:8080/"
        },
        "id": "Dbq2najzACgN",
        "outputId": "9395db2b-7bf1-4a9e-98a3-ebf74d2b21a3"
      },
      "id": "Dbq2najzACgN",
      "execution_count": 153,
      "outputs": [
        {
          "output_type": "execute_result",
          "data": {
            "text/plain": [
              "{'id': 'source_435',\n",
              " 'title': 'Göttingen, Stadtarchiv, AB III 9',\n",
              " 'description': '',\n",
              " 'rism': 'D-Gsta',\n",
              " 'date': '',\n",
              " 'century': '14th century (1375-1400)',\n",
              " 'century_id': 'century_1375_1399',\n",
              " 'provenance': 'Germany',\n",
              " 'provenance_detail': 'Göttingen, Church of St. John',\n",
              " 'provenance_id': 'provenance_060',\n",
              " 'segment': 'cantus',\n",
              " 'summary': 'Missal apparently compiled in Hardegsen and acquired by the church of St. John (Johannis Kirche), Göttingen, in 1400.\\nHufnagel notation on four-line staff, with red F-line and yellow C-line. 324 folios; 17 x 25,5 cm. Restored in 1991 by Herbert Mikolajczyk.',\n",
              " 'indexing_notes': '',\n",
              " 'liturgical_occasions': 'Ff. 6r-203v: Temporale. 6r, Advent; 16v, Nativity; 21r, Stephani; 22r, Joannis Ev.; 22v, Nat. Innocentium; 25r, Epiphany; 31r, Septuagesima; 32v, Sexagesima; 34v, Quinquagesima; 36r, Ash Wednesday; 39v, Lent; 72r, Passion Sunday; 79v, Palm Sunday; 95r, Maundy Thursday; 96v, Good Friday; 102v, Holy Saturay; 108v, Easter; 115v, Sabbato in Albis; 116v, Octave of Easter; 118v, Sundays after Easter; 123r, Rogation Days; 124v, Ascension; 129r, Pentecost; 136r, Trinity Sunday; 136v, Corpus Christi; 137v, De qinque vulneribus Christi; 141r, Holy Cross; 141v, Masses for the Virgin Mary; 200v, Dedication of a church; 202r, Dedication of an altar; 204r, \\nFf. 204r-276v, Sanctorale. 204r, Andreae; 204r, Barbara; 204v, Nicholai; 205r, Conceptio Mariae; 205v, Luciae; 205v, Thomae Apost.; 206r, Thomae Cant.; 206r, Silvestri; 206r, Felicis Nolani; 206v, Marcelli, Pont.; 206v, Antonii; 207r, Annunciatio Mariae; 207v, Ambrosii; 208r, Tiburtii; 208r, Georgii; 208v, Marci; 209r, Vitalis Agricolae Mart.; 209r, Sigismundi; 209v, Philippi, Jacobi; 210v, Inventio Crucis; 211r, Joannis Port. Lat.; 211v, Gordiani, Epimachi; 211v, Nerei, Achillei; 212r, Urbani; 212v, Bonifatii Mart.; 213r, Primi, Feliciani; 213v, Basilidis; 213v, Viti; 214r, Marci, Marcellini; 214v, Gervasii, Protasii; 214v, Albani Mart.; 214v, Decem Milium Martyrum; 216r, Joannis Baptistae; 217v, Joannis, Pauli; 219r, Petri; 220r, Pauli; 221r, Processi, Martiniani; 211v, Translatio Martini; 222r, Kiliani et Soc.; 222v, Septem Fratrum; 223r, Translatio Benedicti; 223r, Margaritae; 223v, Divisio Apostolorum; 224r, Alexis; 224r, Arnulfi; 224r, Praxedis; 224v, Mariae Magdalenae; 225r, Apollinaris; 225r, Liborii; 225v, Jacobi; 227r, Pantaleonis; 227v, Marthae; 228r, Felicis; 228v, Abdonis, Sennis; 228v, Vincula PEtri; 229r, Stephani; 229r, Inventio Stephani; 229v, Sixti; 230r, Afrae; 230v, Cyriaci; 231v, Laurentii; 232v, Tiburtii; 232v, Hippolyti; 232v, Wigberti; 233r, Eusebi; 233v, Assumptio Mariae; 234v, Octava Laurentii; 234v, Agapiti; 235r, Bernardi; 235r, Symphoriani; 235r, Bartholomaei; 236r, Hermetis; 236r, Augustini; 236v, Decollatione Baptistae; 237v, Sabinae; 238r, Felicis, Adaucti; 238r, Aegidii; 238v, Nativitas Mariae; 240r, Gorgoni; 240r, Proti, Hiacinthi; 240v, Exaltatio crucis; 241r, Nicomedis; 241r, Euphemiae; 241r, Lamberti 241v, Matthaei; 242r, Mauritii; 242v, Conceptio Joannis Baptistae; 242v, Cosmae, Damiani; 242v, Michaelis; 244r, Hieronimi; 244v, Remigii; 244v, Leodegarii; 245r, Francisci; 245v, Sergii, Bacchi; 245v, Dionysii; 246r, Gereonis; 246r, Callisti; 246v, Galli; 247r, Commune Sanctorum. Ff. 277r-295r, Special masses. 276v, De Spiritu Sancto; 277r, De angelis; 277v, De Sancta Cruce; 277v, De BMV; 280r, Pro remissionem peccatorum; 280v, Missa pro quacumque necessittae; 281r, Missa quam Sacerdos pro se dicere debeat; 281v, Pro salute vivorum; 282r, Pro pace; 283r, Pro tribulatione; 284r, Missa pro infermis; 284r, Pro iter agentibus; 285v, Pro pluvia; 289v, Missa pro vitanda mortalitate; 290v, Missa pro Defunctis.\\nFf. 295v-300v, Kyriale. \\nFf. 300v-316, Sequentiae.\\nFf. 317r-320v, Additamenta.',\n",
              " 'indexing_date': '',\n",
              " 'drupal_path': 'https://cantusdatabase.org/source/682632'}"
            ]
          },
          "metadata": {},
          "execution_count": 153
        }
      ]
    },
    {
      "cell_type": "markdown",
      "source": [
        "According tot he source summary it's a missal. Maybe the extra communios come from missals rather than graduals? (A missal is a more complete book, but also they are not indexed as much in Cantus because they are rarely notated. Riga is more of an exception!)\n",
        "\n",
        "Also it's a later source, from the 14th century. Maybe the rare communios are later layers of repertoire, added for newly introduced feasts (e.g. Visitation of Mary)?"
      ],
      "metadata": {
        "id": "nIKTyMd4BaYK"
      },
      "id": "nIKTyMd4BaYK"
    },
    {
      "cell_type": "code",
      "source": [
        "sources_dict['source_015']"
      ],
      "metadata": {
        "colab": {
          "base_uri": "https://localhost:8080/"
        },
        "id": "245id4YWAInu",
        "outputId": "64d43638-ab20-4f22-e6c9-b68aab4eb205"
      },
      "id": "245id4YWAInu",
      "execution_count": 154,
      "outputs": [
        {
          "output_type": "execute_result",
          "data": {
            "text/plain": [
              "{'id': 'source_015',\n",
              " 'title': 'Paris, Bibliothèque nationale de France - Département des Manuscrits, latin 776',\n",
              " 'description': '',\n",
              " 'rism': '',\n",
              " 'date': '',\n",
              " 'century': '11th century (1050-1075)',\n",
              " 'century_id': 'century_1050_1074',\n",
              " 'provenance': 'Albi',\n",
              " 'provenance_detail': 'St Michel Gaillac',\n",
              " 'provenance_id': 'provenance_003',\n",
              " 'segment': 'cantus',\n",
              " 'summary': '',\n",
              " 'indexing_notes': '',\n",
              " 'liturgical_occasions': '',\n",
              " 'indexing_date': '2017-18 first pass;',\n",
              " 'drupal_path': 'https://cantusdatabase.org/source/666639'}"
            ]
          },
          "metadata": {},
          "execution_count": 154
        }
      ]
    },
    {
      "cell_type": "markdown",
      "source": [
        "Nope. This is an 11th century gradual from some French abbey, and it also has a bunch of rare communio chants."
      ],
      "metadata": {
        "id": "_p6F_x7xCR6F"
      },
      "id": "_p6F_x7xCR6F"
    },
    {
      "cell_type": "code",
      "source": [
        "sources_dict['source_614']"
      ],
      "metadata": {
        "colab": {
          "base_uri": "https://localhost:8080/"
        },
        "id": "5Sj4rOsXAPhU",
        "outputId": "9e0c18d1-597c-42f0-da70-51d43929a62a"
      },
      "id": "5Sj4rOsXAPhU",
      "execution_count": 155,
      "outputs": [
        {
          "output_type": "execute_result",
          "data": {
            "text/plain": [
              "{'id': 'source_614',\n",
              " 'title': 'Einsiedeln, Stiftsbibliothek, Codex 121',\n",
              " 'description': 'This manuscript consists of two parts. The first part (pp.1-428) is the oldest complete surviving Gradual with adiastematic neumes. Besides the Mass chants, in order throughout the liturgical year, there are appendices of Alleluia verses, hymns, antiphons for several occasions, and a neumed versicularium (Psalmi ad Communionem). The first page(s) are missing; the Gradual starts with the Alleluia Ostende nobis Domine of the 1st Sunday in Advent. In the Gradual, the Temporale and Sanctorale are not separated. Verses for the offertories are given with neumes. The Gradual section is known for the extraordinary usage of litterae significativae within the neume notation.\\n\\nThe second part of the codex (pp. 429-599) contains sequences by Notker from St. Gall (ca. 840-912); throughout this section the text forms the main body of each page with adiastematic neumes in the margins. \\n\\nThe codex was written in Einsiedeln, likely for the third abbot of the cloister, Gregor the Englishman. Some chants are neumed by later hands. The pages of Einsiedeln 121 are numbered with a modern hand in black ink in the upper outside corners of the leaves (pp. 1-600); there is no original numbering. The manuscript includes various illuminated letters, mostly in the Gradual, and three large illustrations that cover the entire page: an ornamented monogram (p. 204: In die sancto Resurrectionis Domini ad Missam), the ornamented “Resurrexi” of Easter Sunday’s Introit (p. 205), and another ornamented monogram (p. 436: In nomine Domini incipit Lyber Ymnorum Notkeri).',\n",
              " 'rism': 'CH-E',\n",
              " 'date': '960-970',\n",
              " 'century': '10th century',\n",
              " 'century_id': 'century_0900_0999',\n",
              " 'provenance': 'Einsiedeln',\n",
              " 'provenance_detail': '',\n",
              " 'provenance_id': 'provenance_047',\n",
              " 'segment': 'cantus',\n",
              " 'summary': 'Late tenth-century manuscript (about 960-970) from the abbey of Einsiedeln, known for its section with sequences of Notker from St. Gall. 600 pages. 105 x 160 cm. Adiastematic neumes. Monastic cursus.',\n",
              " 'indexing_notes': 'The inventory for CH-E 121 was prepared by Mirka Maria Tiede (Eberhard Karls Universität Tübingen), with editorial assistance from Alessandra Ignesti (McGill University) and Inga Behrendt (Eberhard Karls Universität Tübingen). Manuscript description written by Inga Behrendt with editorial assistance from Debra Lacoste (University of Waterloo).',\n",
              " 'liturgical_occasions': 'Pp. 1-428: Temporale/Sanctorale: p.1, Dom. 1 Adventus; p. 2, Dom. 2 Adventus; p. 5, Luciae; p. 7, Dom. 3 Adventus; p. 21, Dom. 4 Adventus; p. 22, Vigilia Nat. Domini; p. 24, Nativitas Domini; p. 33, Stephani; p. 37, Joannis Evang.; p. 41, Nat. Innocentium; p. 44, Silvestri; p. 46, Nativitas Mariae; p. 48, Dom. p. Nat. Dom.; p. 50, Epiphania; p. 53, Dom. 1 p. Epiphaniam; p. 55, Felicis; p. 57, Dom. 2 p. Epiph.; p. 59, Marcelli, Pont.; p. 62, Priscae; p. 63, Fabiani, Sebastiani; p. 67, Dom. 3. p. Epiph.; p. 69, Vincentii; p. 70, Agnetis; p. 71, Purificatio Mariae; p. 75, Agathae; p. 77, Valentini; p. 78, Gregorii; p. 80, Annuntiatio Mariae; p. 81, Dom. Septuagesimae; p. 84, Dom. Sexagesimae; p. 88, Dom. Quinquagesimae; p. 91, Fer. 4 Cinerum; p. 99, Dom. Quadragesimae; p. 117, Dom. 2 Quadragesimae; p. 131, Dom. 3 Quadragesimae; p. 146, Dom. 4 Quadragesimae; p. 163, Dom. de Passione; p. 180, Dom. in Palmis; p. 194, Fer. 5 in Cena Dom.; p. 196, Fer. 6 in Parasceve; p. 200, Sabbato Sancto; p. 205, Dom. Resurrectionis; p. 223, Sabbato in Albis; p. 225, Octava Paschae; p. 228, Dom. 3 p. Pascha; p. 231, Dom. 4 p. Pascha; p. 233, Dom. 5 p. Pascha; p. 234, Tiburtii, Valeriani; p. 235, Georgii; p. 238, In Letaniis maj.; p. 240, Vitalis Agricolae Mart.; p. 241, Philippi, Jacobi; p. 243, Alexandri et sociorum; p. 244, Gordiani, Epimachi; p. 245, Pancratii et sociorum; p. 246, In Dedicatione Eccl.; p. 248, Pudentianae Pudentis; p. 248, Ascensio Domini; p. 252, Dom. post Ascensionem; p. 253, Urbani; p. 253, Sabbato Pent.; p. 255, Dom. Pentecostes; p. 261, Marcellini, Petri; p. 262 Primi, Feliciani; p. 263, Cyrici; p. 265 Marci, Marcellini; p. 265, Gervasii, Protasii; p. 266, Vig. Joannis Bapt.; p. 267, Joannis Baptistae; p. 269, Joannis, Pauli; p. 271, Vig. Petri; p. 274, Petri; p. 277, Pauli; p. 279, Processi, Martiniani; p. 280, Septem Fratrum; p. 281, Octava Apostolorum; p. 281, Praxedis; p. 281, Apollinaris; p. 282, Simplicii et sociorum; p. 283, Abdonis, Sennis; p. 283, Stephani Pont.; p. 284, Sixti; p. 285, Felicissimi, Agapiti; p. 285, Cyriaci et Soc.; p. 286, Vigilia Laurentii; p. 288, Laurentii; p. 289, Tiburtii, Susannae; p. 290, Hippolyti; p. 291, Eusebii; p. 292, Assumptio Mariae; p. 293, Octava Laurentii; p. 293, Agapiti; p. 294, Timothei; p. 294, Hermetis; p. 295, Sabinae; p. 296, Felicis, Adaucti; p. 296, Adriani; p. 297, Gorgonii; p. 299, Proti, Hiacinthi; p. 299, Exaltatio Crucis; p. 299, Cornelii, Cypriani; p. 300, Nicomedis; p. 300, Luciae, Germiniani; p. 300, Vigilia Matthaei; p. 301, Matthaei; p. 301, Cosmae, Damiani; p. 301, Ded. Mont. S. Michaelis; p. 304, Vigilia Simonis, Judae; p. 304, Simonis, Judae; p. 305, Caesarii, Juliani; p. 305, Quat. Coronatorum; p. 306, Theodori Tiro; p. 306, Mennae; p. 306, Martini; p. 306, Caeciliae; p. 308, Clementis; p. 308, Chrysogoni; p. 309, Vigilia Andreae, p. 310, Andreae; p. 311, De Trinitate; p. 313-342: Dom. 2 post Pent.-Dom. 23 p. Pent.; p. 343, Incipiunt Alleluia de Circulo anni; p. 372 Hymni; pp. 377-416: Antiphonae; pp. 417-427: Psalmi ad Communionem; p. 428, chant incipits. Pp. 429-599: Sequences.',\n",
              " 'indexing_date': 'Spring & Summer 2017; proofreading completed in 2019; ms description uploaded 20 Feb 2020',\n",
              " 'drupal_path': 'https://cantusdatabase.org/source/666647'}"
            ]
          },
          "metadata": {},
          "execution_count": 155
        }
      ]
    },
    {
      "cell_type": "markdown",
      "source": [
        "In this one there are some appendices -- which tracks with having seen 9 low-frequency communios for a feast called `Additamenta`."
      ],
      "metadata": {
        "id": "pGwGaKQlEuFM"
      },
      "id": "pGwGaKQlEuFM"
    },
    {
      "cell_type": "markdown",
      "source": [
        "There seems to be no neat explanation why the communio chants exhibit this strange long-then-short-tail frequency pattern. To investigate this more fully, we would have to build a table with each communio as a row and each of the 42 soruces as a column, and look at co-occurence patterns. But, with how few mass sources are indexed in Cantus Corpus, it is possible that this is really an artifact of having multiple sources from the same provenance (I'm looking at you, Augsburg...) that share repertoire. Let's inspect this, as one last thing:"
      ],
      "metadata": {
        "id": "SgrNVrTgFA3n"
      },
      "id": "SgrNVrTgFA3n"
    },
    {
      "cell_type": "code",
      "source": [
        "provenances = collections.defaultdict(int)\n",
        "for source_id in cm_sources_set:  # We have to run only through the sources that contain communios\n",
        "  if source_id == '':\n",
        "    continue\n",
        "  source = sources_dict[source_id]\n",
        "  p = source['provenance']\n",
        "  provenances[p] += 1\n",
        "\n",
        "pprint.pprint(provenances)"
      ],
      "metadata": {
        "colab": {
          "base_uri": "https://localhost:8080/"
        },
        "id": "mQlA6UhOFACo",
        "outputId": "cd0da632-55da-4d60-fa8b-16247fdc6113"
      },
      "id": "mQlA6UhOFACo",
      "execution_count": 156,
      "outputs": [
        {
          "output_type": "stream",
          "name": "stdout",
          "text": [
            "defaultdict(<class 'int'>,\n",
            "            {'': 9,\n",
            "             'Aachen': 1,\n",
            "             'Albi': 1,\n",
            "             'Amersfoort': 1,\n",
            "             'Bellelay Abbey': 1,\n",
            "             'Dominican': 4,\n",
            "             'Einsiedeln': 1,\n",
            "             'English': 4,\n",
            "             'France': 1,\n",
            "             'Franciscan': 3,\n",
            "             'Germany': 1,\n",
            "             'Germany (south)': 1,\n",
            "             'Italy': 3,\n",
            "             'Kirnberg': 1,\n",
            "             'Kraków': 1,\n",
            "             'Padova': 2,\n",
            "             'Paris': 2,\n",
            "             'Spain': 1,\n",
            "             'St-Maur-des-Fossés': 1,\n",
            "             'St. Gallen': 1,\n",
            "             'Utrecht': 1})\n"
          ]
        }
      ]
    },
    {
      "cell_type": "markdown",
      "source": [
        "...nope, it's not a distortion via related chants either. (Notice also that we did have some issues in loading the sources CSV, because the source description fields contain characters that mess with CSV quoting. This is the curse of working with free-form fields.)\n",
        "\n",
        "I'm afraid the strange shape of the frequency curve for communio chants will have to remain a mystery for now."
      ],
      "metadata": {
        "id": "CR9Dt_YHGNCR"
      },
      "id": "CR9Dt_YHGNCR"
    },
    {
      "cell_type": "markdown",
      "source": [
        "Summary\n",
        "-------\n",
        "\n",
        "Throughout this first part of the workshop, we have been sneakily introduced to all the basic concepts that we need to perform the experiments in the next notebook. We have loaded CantusCorpus, worked with chant data, source data, feast data, we have defined our own functions and classes for convenience, done some basic visualisations...\n",
        "\n",
        "(...and we also ran into a bunch of issues that are quite typical for working with datasets. Missing data, outdated links, things that make sense when cataloguing but then become messy in computational processing, possible issues in sampling sources, and more.)\n",
        "\n",
        "We are now ready to start an actual experiment!"
      ],
      "metadata": {
        "id": "xCdfHUZRGchZ"
      },
      "id": "xCdfHUZRGchZ"
    },
    {
      "cell_type": "markdown",
      "source": [
        "Practicals 2. Unseen Chants: how much are we missing?\n",
        "=====================================================\n",
        "\n",
        "\n",
        "The Cantus Database has been growing for almost 40 years now. Nearly 500,000 records is... quite a lot. And Gregorian chant is, after all, a finite tradition. Actually, it should be very finite: there are only so many positions for chants in the liturgical calendar, and you are supposed to be using the chants as defined by the Roman Rite, primarily. Places do develop their peculiarities -- local saints, or saints specific to monastic orders, or 'foundations' in the later Middle Ages that paid for a specific feast related e.g. to the profession they represented -- and new feasts were sometimes introduced even to the Roman rite, but in principle chant repertoire was limited.\n",
        "\n",
        "From this follows that as we catalogue more and more sources, at some point we are going to run into 'diminishing returns' in terms of discovering new chant repertoire. That will also mean that the database is already quite representative of all the repertoire that the tradition contained. Of course we will never see everything (also because we only have about 30,000 extant sources from an estimated 500,000-1,500,000 medieval chant manuscripts produced), but when it takes e.g. 1,000 catalogued chants on average to find one for which we have no Cantus ID, we can be pretty sure we represent the repertoire quite well.\n",
        "\n",
        "The problem of guessing how much repertoire we haven't seen yet -- and, conversely, how much we have already documented -- is structurally very similar to the issue that ecologists have when documenting biodiversity. The first paper on this is from 1943. This was a butterfly study in then-British Malaya.\n",
        "They caught a bunch of different butterfly species: from a few species there were a lot of individuals, but a lot of species were rather rare, and the biologist in charge noticed that this meant there must have been a lot of butterfly species which were actually there but were *never* caught.\n",
        "In order to get a good estimate of the actual butterfly biodiversity in the area, the number of butterfly species that were not observed -- but quite certainly are there -- must be estimated and added to the number of observed species. And this can be a lot -- many species are comparatively rare pretty much anywhere you look. That's sort of the 80-20 rule, and the phenomenon of long-tail distributions (that we saw for instance in the alleluia chants).\n",
        "\n",
        "This class of problems is called the **Unseen Species** problem.\n",
        "It has been studied extensively in ecology, and analogies were found in other fields such as natural language processing (allocating probability for out-of-vocabulary words in language models) or literary studies (how many words did Shakespeare know?). In many real-world problems the estimated number of unseen species can be greater than the number of observed species.\n",
        "\n",
        "We apply this for the first time to musical data -- Gregorian chant.\n",
        "The basic idea is very simple. Each Cantus ID is a species, and each chant record is like a butterfly caught in a net. We then apply some estimators of how many species we haven't observed yet. This will give us a principled guess of how much repertoire we can still expect to discover.\n",
        "\n",
        "(Again, we should do this by individual chant genres.)\n",
        "\n"
      ],
      "metadata": {
        "id": "1N5JOEWVJDSD"
      },
      "id": "1N5JOEWVJDSD"
    },
    {
      "cell_type": "markdown",
      "source": [
        "Method 1: The Chao estimator\n",
        "----------------------------\n",
        "\n",
        "Many Unseen Species estimators exist, but for our purposes we use one by Anne Chao et al. from 1984 (and very nicely re-framed in a 2017 paper from her group). This estimator has the advantage that is is *non-parametric*: it works regardless of the underlying distribution of species (Cantus ID) frequency classes. For instance, with the communio, or antiphon and responsory frequency distributions we were plotting earlier, we don't have to care about those weird bumps in the curve.\n",
        "\n",
        "The estimator is also very simple: all it needs are the count of singletons, and the count of doubletons: how many species only occur once, and how many occur twice in a sample.\n",
        "\n",
        "The actual formula for the Chao1 estimator is:\n",
        "\n",
        "\\begin{align}\n",
        "S = S_{obs} + \\frac{f_1^2}{2 f_2}\n",
        "\\end{align}\n",
        "\n",
        "where $S$ is the total expected number of species, $S_{obs}$ is the number of observed species (Cantus IDs), $f_1$ is the number of Cantus IDs observed once, and $f_2$ is the number of Cantus IDs observed twice.\n",
        "\n",
        "It really is that simple. The reasons *why* such a simple formula works for a pretty hard problem are more complicated, of course, but the intuition is that the approximate shape of the 'long tail' of rare species continues roughly along the same curve one more step further. (Recall the logarithmic zig-zag-ish plots and imagine another step to the bottom right...)\n",
        "\n",
        "A nice constructive proof follows from Good-Turing smoothing of language models, but we won't go into that now. What does follow from the proof, however, is that the Chao1 estimator is a **lower bound**. Under some conditions (when the shape of the 'long tail' observations is representative, which is when the sampling process is done in an unbiased way), it is also an unbiased estimate, but these conditions practically never really happen.\n",
        "\n",
        "So, we have to be careful in interpreting the result of the estimator: if the number that falls out of the formula is e.g. 1225, it does not mean we probably haven't seen 1225 Cantus IDs, give or take. It means that we haven't seen *at least* 1225 Cantus IDs, give or take (there is always some inherent uncertainty).\n",
        "\n",
        "Once we have the estimated $S$, we can also compute the **species coverage**: what proportion of the expected total number of species in the ecosystem -- Cantus IDs -- have we already observed? This is simply done as $S_{obs} / S$. But again we must be careful with the interpretation: since $S$ is a lower bound, this coverage is an **upper bound**. We have seen *at most* $S_{obs} / S$ of the total (bio)diversity of the ecosystem we are sampling from."
      ],
      "metadata": {
        "id": "FmTiMyL2d9vd"
      },
      "id": "FmTiMyL2d9vd"
    },
    {
      "cell_type": "markdown",
      "source": [
        "**Abundance and Incidence.**\n",
        "\n",
        "There are two basic settings in which to do unseen species estimates: abundance, and incidence.\n",
        "\n",
        "In case of **abundance**, we count each occurrence of each species and get our $f_1$ and $f_2$ singleton and doubleton counts simply from that.\n",
        "\n",
        "In case we use **incidence**, we instead look at presence or absence of species in a sample. In our case, that would mean we don't care how many times a chant has occured in a source, we only care whether it was there. I think this is a more appropriate model of what is going on in chant data -- it is already pre-structured into individual samples, the samples are roughly comparable (liturgy for a year), and importantly the re-use of a chant in one place multiple times does *not* mean it is more likely that we are also going to see this chant in other sources. (Often, for a feast that is e.g. unique to a source, like a rare local saint, you would see the same antiphon used multiple times within that saint's day.)\n",
        "\n",
        "So, in the incidence-based setting, we would get our $f_1$ as the number of Cantus IDs that only occur in one source, and $f_2$ is the number of Cantus IDs that occurs in two sources. This approach is what we use in this study, and this is also why the term 'incidence' will keep popping up in variable names or function parameters.\n"
      ],
      "metadata": {
        "id": "kA-S2mL0dmto"
      },
      "id": "kA-S2mL0dmto"
    },
    {
      "cell_type": "markdown",
      "source": [
        "Experiment 1\n",
        "------------\n",
        "\n",
        "Now that we have defined the method, and the material (we keep on using the CantusCorpus v0.2), we can run the 'unseen chants' experiment."
      ],
      "metadata": {
        "id": "hIjiS9n0kLOF"
      },
      "id": "hIjiS9n0kLOF"
    },
    {
      "cell_type": "markdown",
      "source": [
        "This experiment is from a very recent submission I did together with Fabian Moss, from U. of Würzburg. He introduced me to this class of models based off of the work of Kestemont et al., 2022, who did this for Dutch and other chivalric epics. Mike Kestemont and his co-authors implemented this in a convenient Python library called `copia` (from: 'cornucopia'), which we are going to re-use."
      ],
      "metadata": {
        "id": "kHbzTN4WQ8Ob"
      },
      "id": "kHbzTN4WQ8Ob"
    },
    {
      "cell_type": "code",
      "source": [
        "!pip install git+https://github.com/mikekestemont/copia.git"
      ],
      "metadata": {
        "colab": {
          "base_uri": "https://localhost:8080/"
        },
        "id": "7LZl4f4yX0ud",
        "outputId": "297a2694-3e6b-4a7c-fde9-9f088cdc1ce5"
      },
      "id": "7LZl4f4yX0ud",
      "execution_count": 96,
      "outputs": [
        {
          "output_type": "stream",
          "name": "stdout",
          "text": [
            "Collecting git+https://github.com/mikekestemont/copia.git\n",
            "  Cloning https://github.com/mikekestemont/copia.git to /tmp/pip-req-build-i4o2594d\n",
            "  Running command git clone --filter=blob:none --quiet https://github.com/mikekestemont/copia.git /tmp/pip-req-build-i4o2594d\n",
            "  Resolved https://github.com/mikekestemont/copia.git to commit 766c7d96cebcaab33589dc6eae1ef7f7eb6dd101\n",
            "  Preparing metadata (setup.py) ... \u001b[?25l\u001b[?25hdone\n",
            "Requirement already satisfied: pytest>=7.4 in /usr/local/lib/python3.11/dist-packages (from copia==0.1.5) (8.3.5)\n",
            "Requirement already satisfied: scipy>=1.11 in /usr/local/lib/python3.11/dist-packages (from copia==0.1.5) (1.15.2)\n",
            "Requirement already satisfied: numpy>=1.24 in /usr/local/lib/python3.11/dist-packages (from copia==0.1.5) (2.0.2)\n",
            "Requirement already satisfied: pandas>=2.1 in /usr/local/lib/python3.11/dist-packages (from copia==0.1.5) (2.2.2)\n",
            "Requirement already satisfied: matplotlib>=3.8 in /usr/local/lib/python3.11/dist-packages (from copia==0.1.5) (3.10.0)\n",
            "Requirement already satisfied: tqdm>=4.64 in /usr/local/lib/python3.11/dist-packages (from copia==0.1.5) (4.67.1)\n",
            "Requirement already satisfied: contourpy>=1.0.1 in /usr/local/lib/python3.11/dist-packages (from matplotlib>=3.8->copia==0.1.5) (1.3.2)\n",
            "Requirement already satisfied: cycler>=0.10 in /usr/local/lib/python3.11/dist-packages (from matplotlib>=3.8->copia==0.1.5) (0.12.1)\n",
            "Requirement already satisfied: fonttools>=4.22.0 in /usr/local/lib/python3.11/dist-packages (from matplotlib>=3.8->copia==0.1.5) (4.57.0)\n",
            "Requirement already satisfied: kiwisolver>=1.3.1 in /usr/local/lib/python3.11/dist-packages (from matplotlib>=3.8->copia==0.1.5) (1.4.8)\n",
            "Requirement already satisfied: packaging>=20.0 in /usr/local/lib/python3.11/dist-packages (from matplotlib>=3.8->copia==0.1.5) (24.2)\n",
            "Requirement already satisfied: pillow>=8 in /usr/local/lib/python3.11/dist-packages (from matplotlib>=3.8->copia==0.1.5) (11.2.1)\n",
            "Requirement already satisfied: pyparsing>=2.3.1 in /usr/local/lib/python3.11/dist-packages (from matplotlib>=3.8->copia==0.1.5) (3.2.3)\n",
            "Requirement already satisfied: python-dateutil>=2.7 in /usr/local/lib/python3.11/dist-packages (from matplotlib>=3.8->copia==0.1.5) (2.9.0.post0)\n",
            "Requirement already satisfied: pytz>=2020.1 in /usr/local/lib/python3.11/dist-packages (from pandas>=2.1->copia==0.1.5) (2025.2)\n",
            "Requirement already satisfied: tzdata>=2022.7 in /usr/local/lib/python3.11/dist-packages (from pandas>=2.1->copia==0.1.5) (2025.2)\n",
            "Requirement already satisfied: iniconfig in /usr/local/lib/python3.11/dist-packages (from pytest>=7.4->copia==0.1.5) (2.1.0)\n",
            "Requirement already satisfied: pluggy<2,>=1.5 in /usr/local/lib/python3.11/dist-packages (from pytest>=7.4->copia==0.1.5) (1.5.0)\n",
            "Requirement already satisfied: six>=1.5 in /usr/local/lib/python3.11/dist-packages (from python-dateutil>=2.7->matplotlib>=3.8->copia==0.1.5) (1.17.0)\n"
          ]
        }
      ]
    },
    {
      "cell_type": "code",
      "source": [
        "# Importing the essential functions from Copia\n",
        "from copia.data import to_copia_dataset\n",
        "\n",
        "import numpy as np  # This is an important library for all sorts of fast math.\n",
        "import os           # This is a library for traversing and manipulating the file system."
      ],
      "metadata": {
        "id": "UPGrVFR9Q7fK"
      },
      "id": "UPGrVFR9Q7fK",
      "execution_count": 98,
      "outputs": []
    },
    {
      "cell_type": "markdown",
      "source": [
        "We have already loaded all our chant data, we just have to look at how to format them to be able to use the implementation of unseen species estimators that are available in the `copia` library.\n",
        "\n",
        "I will cheat here a little and just tell you that all we need is a list of pairs: `(species, sample)`. In our case, the `species` is the `cantus_id` field of a chant, and the `sample` corresponds to the `source_id` in which we have observed that particular chant."
      ],
      "metadata": {
        "id": "l5zx63LGZMHw"
      },
      "id": "l5zx63LGZMHw"
    },
    {
      "cell_type": "code",
      "source": [
        "observation_lists_per_genre = {}\n",
        "\n",
        "# We limit ourselves to the core genres for the Office and Mass\n",
        "for g in GENRES_CC_OFFICE + GENRES_CC_MASS_PROPERS:\n",
        "  g_chants = chants_per_genre[g]\n",
        "\n",
        "  observation_lists_per_genre[g] = []  # Here we will accumulate the observation pairs for the genre.\n",
        "  for c in g_chants:\n",
        "    cid = c['cantus_id']\n",
        "    source_id = c['source_id']\n",
        "\n",
        "    # We skip empty values.\n",
        "    if (not cid) or (not source_id):\n",
        "      continue\n",
        "\n",
        "    observation = (cid, source_id)   # Getting the information we need into the right format\n",
        "    observation_lists_per_genre[g].append(observation)\n",
        "\n",
        "# Reporting again\n",
        "_total_observations = sum([len(observations_list) for observations_list in observation_lists_per_genre.values()])\n",
        "print('Made observation lists for {} genres; {} observations total.'.format(len(observation_lists_per_genre), _total_observations))"
      ],
      "metadata": {
        "colab": {
          "base_uri": "https://localhost:8080/"
        },
        "id": "DgowBiCSZK50",
        "outputId": "2a5b6a19-9a30-406c-adf7-0373a9c3cb11"
      },
      "id": "DgowBiCSZK50",
      "execution_count": 103,
      "outputs": [
        {
          "output_type": "stream",
          "name": "stdout",
          "text": [
            "Made observation lists for 17 genres; 414364 observations total.\n"
          ]
        }
      ]
    },
    {
      "cell_type": "markdown",
      "source": [
        "Note that after all the data cleaning we had to do (empty Cantus IDs, doxologies, empty source ids, only the core genres...), we are down to 414,000 observations from 497,000.\n",
        "\n"
      ],
      "metadata": {
        "id": "HUMUAGQKbRyR"
      },
      "id": "HUMUAGQKbRyR"
    },
    {
      "cell_type": "markdown",
      "source": [
        "What are the basic descriptive statistics for each genre?"
      ],
      "metadata": {
        "id": "pX7v5DHedlR8"
      },
      "id": "pX7v5DHedlR8"
    },
    {
      "cell_type": "code",
      "source": [
        "def extract_incidence_statistics(observation_list):\n",
        "    all_species = collections.defaultdict(int)\n",
        "    all_samples = collections.defaultdict(int)\n",
        "    for (sp, sam) in observation_list:\n",
        "        all_species[sp] += 1\n",
        "        all_samples[sam] += 1\n",
        "\n",
        "    n_singletons = len([sp for sp in all_species if all_species[sp] == 1])\n",
        "    #n_doubletons = len([sp for sp in all_species if all_species[sp] == 2])\n",
        "\n",
        "    stats = {\n",
        "        'n_species': len(all_species),\n",
        "        'n_samples': len(all_samples),\n",
        "    }\n",
        "    return stats"
      ],
      "metadata": {
        "id": "p8LZPBVndfjt"
      },
      "id": "p8LZPBVndfjt",
      "execution_count": 105,
      "outputs": []
    },
    {
      "cell_type": "code",
      "source": [
        "stats_per_genre = {g: extract_incidence_statistics(observation_lists_per_genre[g])\n",
        "                   for g in observation_lists_per_genre}"
      ],
      "metadata": {
        "id": "8JcWkODYl44w"
      },
      "id": "8JcWkODYl44w",
      "execution_count": 106,
      "outputs": []
    },
    {
      "cell_type": "markdown",
      "source": [
        "Now that we have observation lists, we can feed them into `copia` and run the unseen species estimators!\n",
        "\n",
        "We first wrap the observation lists with some miscellaneous data structure defined by `copia`. The important part of this is defining the `data_type` as `'incidence'`, to reflect the decision to use incidence rather than abundance."
      ],
      "metadata": {
        "id": "0VBRvHvgbmnI"
      },
      "id": "0VBRvHvgbmnI"
    },
    {
      "cell_type": "code",
      "source": [
        "copia_datasets_per_genre = {g: to_copia_dataset(observation_lists_per_genre[g],\n",
        "                                                data_type=\"incidence\",\n",
        "                                                input_type='observation_list',\n",
        "                                                n_sampling_units=1)\n",
        "                            for g in observation_lists_per_genre}"
      ],
      "metadata": {
        "id": "XRQXA5ikWjW4"
      },
      "id": "XRQXA5ikWjW4",
      "execution_count": 107,
      "outputs": []
    },
    {
      "cell_type": "markdown",
      "source": [
        "Copia supports more estimators than just Chao1, and in a bigger study we would want to compare them, so we prepare the function to run different unseen species estimates on the same data:"
      ],
      "metadata": {
        "id": "bSJEtrs9mX7n"
      },
      "id": "bSJEtrs9mX7n"
    },
    {
      "cell_type": "code",
      "source": [
        "from copia.estimators import diversity\n",
        "# This is the interface copia provides for actually computing the unseen species estimates.\n",
        "\n",
        "\n",
        "def extract_incidence_diversities(incidences,         # The input data, as a copia dataset\n",
        "                                  factor_max_steps=8, # Nevermind this\n",
        "                                  n_iter=20,          # and this\n",
        "                                  step_size=10,       # and this,\n",
        "                                  methods=('chao1', 'ichao1', 'ace', 'jackknife', 'egghe_proot'),   # These are some supported estimators,\n",
        "                                  **kwargs):          # and this.\n",
        "    # We store the results in a dictionary (again, this is the 'shortcut' dictionary construction syntax)\n",
        "    diversities = {method: round(diversity(incidences,\n",
        "                                           method=method))\n",
        "                   for method in methods}\n",
        "    return diversities\n"
      ],
      "metadata": {
        "id": "mCgLy8QzmTD_"
      },
      "id": "mCgLy8QzmTD_",
      "execution_count": 108,
      "outputs": []
    },
    {
      "cell_type": "markdown",
      "source": [
        "and now we uncermoniously compute just the Chao1 values:"
      ],
      "metadata": {
        "id": "bAoBnUaJm-Dt"
      },
      "id": "bAoBnUaJm-Dt"
    },
    {
      "cell_type": "code",
      "source": [
        "diversities_per_genre = {g: extract_incidence_diversities(copia_datasets_per_genre[g], methods=['chao1'])\n",
        "                         for g in copia_datasets_per_genre}"
      ],
      "metadata": {
        "id": "Ihqfhyipm6pk"
      },
      "id": "Ihqfhyipm6pk",
      "execution_count": 109,
      "outputs": []
    },
    {
      "cell_type": "markdown",
      "source": [
        "Results 1\n",
        "---------\n",
        "\n",
        "Look what we found!"
      ],
      "metadata": {
        "id": "efMVOwa9nFwa"
      },
      "id": "efMVOwa9nFwa"
    },
    {
      "cell_type": "code",
      "source": [
        "diversities_per_genre"
      ],
      "metadata": {
        "colab": {
          "base_uri": "https://localhost:8080/"
        },
        "id": "Bny6BXWInBWB",
        "outputId": "b5e0c028-1e8a-458b-f4c8-d9c650f56d65"
      },
      "id": "Bny6BXWInBWB",
      "execution_count": 110,
      "outputs": [
        {
          "output_type": "execute_result",
          "data": {
            "text/plain": [
              "{'genre_a': {'chao1': 19585},\n",
              " 'genre_r': {'chao1': 9144},\n",
              " 'genre_v': {'chao1': 16166},\n",
              " 'genre_w': {'chao1': 1364},\n",
              " 'genre_i': {'chao1': 1027},\n",
              " 'genre_in': {'chao1': 495},\n",
              " 'genre_inv': {'chao1': 363},\n",
              " 'genre_gr': {'chao1': 286},\n",
              " 'genre_grv': {'chao1': 296},\n",
              " 'genre_al': {'chao1': 615},\n",
              " 'genre_alv': {'chao1': 178},\n",
              " 'genre_of': {'chao1': 182},\n",
              " 'genre_ofv': {'chao1': 289},\n",
              " 'genre_cm': {'chao1': 225},\n",
              " 'genre_cmv': {'chao1': 892},\n",
              " 'genre_tc': {'chao1': 56},\n",
              " 'genre_tcv': {'chao1': 243}}"
            ]
          },
          "metadata": {},
          "execution_count": 110
        }
      ]
    },
    {
      "cell_type": "markdown",
      "source": [
        "These numbers are the lower bound on $f_0$, the number of unseen Cantus IDs for each genre."
      ],
      "metadata": {
        "id": "0KQ8ytymnZpC"
      },
      "id": "0KQ8ytymnZpC"
    },
    {
      "cell_type": "markdown",
      "source": [
        "Now in order to properly understand these numbers, we need to report them in relation to other statistics about each genre. Specifically, we want the coverage, and we want to see how the proportion of unseen Cantus IDs -- basically, the diversity of that genre -- relates to the ratio between the number of distinct Cantus IDs and nubmer of sources containing that genre, which will help illustrate that this measure of diversity is not just a trivial result of this ratio, or \"average density\" of the genre."
      ],
      "metadata": {
        "id": "_SLgHpyRne7R"
      },
      "id": "_SLgHpyRne7R"
    },
    {
      "cell_type": "code",
      "source": [
        "def report_for_genre(g, stats, diversities):\n",
        "    g_stats = stats[g]\n",
        "    n_species, n_samples = g_stats['n_species'], g_stats['n_samples']\n",
        "\n",
        "    g_diversities = diversities[g]\n",
        "    g_diversity_ratios = {k: n_species / v for k, v in g_diversities.items()}\n",
        "    diversities_string = ', '.join(['{}: {}\\tcov. (max.): {:.3f}'.format(k, v, g_diversity_ratios[k]) for k, v in g_diversities.items()])\n",
        "\n",
        "    print('{}:\\t{} species\\t{} samples\\t{}'.format(g, n_species, n_samples, diversities_string))\n"
      ],
      "metadata": {
        "id": "l1IJJZLvnEGU"
      },
      "id": "l1IJJZLvnEGU",
      "execution_count": 126,
      "outputs": []
    },
    {
      "cell_type": "code",
      "source": [
        "for g in diversities_per_genre:\n",
        "  report_for_genre(g, stats_per_genre, diversities_per_genre)"
      ],
      "metadata": {
        "colab": {
          "base_uri": "https://localhost:8080/"
        },
        "id": "jMf4LD5MoFeG",
        "outputId": "fa479ce2-b033-4061-f9c7-87f0a0bc0f29"
      },
      "id": "jMf4LD5MoFeG",
      "execution_count": 127,
      "outputs": [
        {
          "output_type": "stream",
          "name": "stdout",
          "text": [
            "genre_a:\t11075 species\t229 samples\tchao1: 19585\tcov. (max.): 0.565\n",
            "genre_r:\t5062 species\t210 samples\tchao1: 9144\tcov. (max.): 0.554\n",
            "genre_v:\t8102 species\t205 samples\tchao1: 16166\tcov. (max.): 0.501\n",
            "genre_w:\t909 species\t183 samples\tchao1: 1364\tcov. (max.): 0.666\n",
            "genre_i:\t593 species\t179 samples\tchao1: 1027\tcov. (max.): 0.577\n",
            "genre_in:\t201 species\t48 samples\tchao1: 495\tcov. (max.): 0.406\n",
            "genre_inv:\t269 species\t31 samples\tchao1: 363\tcov. (max.): 0.741\n",
            "genre_gr:\t150 species\t89 samples\tchao1: 286\tcov. (max.): 0.524\n",
            "genre_grv:\t202 species\t67 samples\tchao1: 296\tcov. (max.): 0.682\n",
            "genre_al:\t388 species\t70 samples\tchao1: 615\tcov. (max.): 0.631\n",
            "genre_alv:\t36 species\t27 samples\tchao1: 178\tcov. (max.): 0.202\n",
            "genre_of:\t154 species\t41 samples\tchao1: 182\tcov. (max.): 0.846\n",
            "genre_ofv:\t262 species\t11 samples\tchao1: 289\tcov. (max.): 0.907\n",
            "genre_cm:\t192 species\t41 samples\tchao1: 225\tcov. (max.): 0.853\n",
            "genre_cmv:\t153 species\t4 samples\tchao1: 892\tcov. (max.): 0.172\n",
            "genre_tc:\t46 species\t20 samples\tchao1: 56\tcov. (max.): 0.821\n",
            "genre_tcv:\t202 species\t20 samples\tchao1: 243\tcov. (max.): 0.831\n"
          ]
        }
      ]
    },
    {
      "cell_type": "markdown",
      "source": [
        "It would be better to report these results separately by type of liturgy."
      ],
      "metadata": {
        "id": "rq4-Y-mZp-eN"
      },
      "id": "rq4-Y-mZp-eN"
    },
    {
      "cell_type": "code",
      "source": [
        "print('Office genre diversities')\n",
        "for g in GENRES_CC_OFFICE:\n",
        "  report_for_genre(g, stats_per_genre, diversities_per_genre)\n",
        "\n",
        "print('\\n')   # Just an empty line\n",
        "print('Mass genre diversities')\n",
        "for g in GENRES_CC_MASS_PROPERS:\n",
        "  report_for_genre(g, stats_per_genre, diversities_per_genre)\n",
        ""
      ],
      "metadata": {
        "colab": {
          "base_uri": "https://localhost:8080/"
        },
        "id": "UX5-CMLto0U7",
        "outputId": "69bfe9f6-755b-4188-e803-ba5028f493e4"
      },
      "id": "UX5-CMLto0U7",
      "execution_count": 138,
      "outputs": [
        {
          "output_type": "stream",
          "name": "stdout",
          "text": [
            "Office genre diversities\n",
            "genre_a:\t11075 species\t229 samples\tchao1: 19585\tcov. (max.): 0.565\n",
            "genre_r:\t5062 species\t210 samples\tchao1: 9144\tcov. (max.): 0.554\n",
            "genre_v:\t8102 species\t205 samples\tchao1: 16166\tcov. (max.): 0.501\n",
            "genre_w:\t909 species\t183 samples\tchao1: 1364\tcov. (max.): 0.666\n",
            "genre_i:\t593 species\t179 samples\tchao1: 1027\tcov. (max.): 0.577\n",
            "\n",
            "\n",
            "Mass genre diversities\n",
            "genre_in:\t201 species\t48 samples\tchao1: 495\tcov. (max.): 0.406\n",
            "genre_inv:\t269 species\t31 samples\tchao1: 363\tcov. (max.): 0.741\n",
            "genre_gr:\t150 species\t89 samples\tchao1: 286\tcov. (max.): 0.524\n",
            "genre_grv:\t202 species\t67 samples\tchao1: 296\tcov. (max.): 0.682\n",
            "genre_al:\t388 species\t70 samples\tchao1: 615\tcov. (max.): 0.631\n",
            "genre_alv:\t36 species\t27 samples\tchao1: 178\tcov. (max.): 0.202\n",
            "genre_of:\t154 species\t41 samples\tchao1: 182\tcov. (max.): 0.846\n",
            "genre_ofv:\t262 species\t11 samples\tchao1: 289\tcov. (max.): 0.907\n",
            "genre_cm:\t192 species\t41 samples\tchao1: 225\tcov. (max.): 0.853\n",
            "genre_cmv:\t153 species\t4 samples\tchao1: 892\tcov. (max.): 0.172\n",
            "genre_tc:\t46 species\t20 samples\tchao1: 56\tcov. (max.): 0.821\n",
            "genre_tcv:\t202 species\t20 samples\tchao1: 243\tcov. (max.): 0.831\n"
          ]
        }
      ]
    },
    {
      "cell_type": "markdown",
      "source": [
        "And we should actually also include results for the aggregated chants of all genres for a given liturgy:"
      ],
      "metadata": {
        "id": "y3iczjozq3Kb"
      },
      "id": "y3iczjozq3Kb"
    },
    {
      "cell_type": "code",
      "source": [
        "mass_observations_list = []\n",
        "for g in GENRES_CC_MASS_PROPERS:\n",
        "    mass_observations_list.extend(observation_lists_per_genre[g])\n",
        "office_observations_list = []\n",
        "for g in GENRES_CC_OFFICE:\n",
        "    office_observations_list.extend(observation_lists_per_genre[g])"
      ],
      "metadata": {
        "id": "TLkJyKklpzP0"
      },
      "id": "TLkJyKklpzP0",
      "execution_count": 133,
      "outputs": []
    },
    {
      "cell_type": "markdown",
      "source": [
        "Because it would be a bit annoying to type out all the individual steps for running the experiment, we can re-write the whole experiment in a function:"
      ],
      "metadata": {
        "id": "vwumXMaOrO5U"
      },
      "id": "vwumXMaOrO5U"
    },
    {
      "cell_type": "code",
      "source": [
        "def compute_result_from_observations_list(observations_list,\n",
        "                                          n_bootstrap=None):\n",
        "    \"\"\"If n_boostrap > 0, the results will be lists for each key (n_species, n_samples, chao1, coverage)\"\"\"\n",
        "    # Copia has some bug in incidence bootstrapping.\n",
        "    # CI = False\n",
        "    # if n_iter and (n_iter > 1):\n",
        "    #     CI = True\n",
        "    result = {}\n",
        "\n",
        "    # No bootstrapping\n",
        "    stats = extract_incidence_statistics(observations_list)\n",
        "    copia_dataset = to_copia_dataset(observations_list,\n",
        "                                      data_type=\"incidence\",\n",
        "                                      input_type='observation_list',\n",
        "                                      n_sampling_units=1)\n",
        "    diversities = extract_incidence_diversities(copia_dataset,\n",
        "                                                methods=['chao1'],\n",
        "                                                CI=False)\n",
        "\n",
        "    coverage = stats['n_species'] / diversities['chao1']\n",
        "    result = {}\n",
        "    for k, v in stats.items(): result[k] = v\n",
        "    for k, v in diversities.items(): result[k] = v\n",
        "    result['coverage'] = coverage\n",
        "\n",
        "    return result"
      ],
      "metadata": {
        "id": "OMH09XH1rMc5"
      },
      "id": "OMH09XH1rMc5",
      "execution_count": 134,
      "outputs": []
    },
    {
      "cell_type": "markdown",
      "source": [
        "and then running the whole experiment from an observations list becomes a single line of code:"
      ],
      "metadata": {
        "id": "IaXt4nREruZO"
      },
      "id": "IaXt4nREruZO"
    },
    {
      "cell_type": "code",
      "source": [
        "mass_results = compute_result_from_observations_list(mass_observations_list)\n",
        "print('Mass results: {}'.format(pprint.pformat(mass_results)))\n",
        "print('\\n')\n",
        "office_results = compute_result_from_observations_list(office_observations_list)\n",
        "print('Office results: {}'.format(pprint.pformat(office_results)))"
      ],
      "metadata": {
        "colab": {
          "base_uri": "https://localhost:8080/"
        },
        "id": "L69Hc7c0rr59",
        "outputId": "4e6023bf-8b5d-4c81-b455-5ae66ccc09bc"
      },
      "id": "L69Hc7c0rr59",
      "execution_count": 137,
      "outputs": [
        {
          "output_type": "stream",
          "name": "stdout",
          "text": [
            "Mass results: {'chao1': 3153,\n",
            " 'coverage': 0.7040913415794482,\n",
            " 'n_samples': 112,\n",
            " 'n_species': 2220}\n",
            "\n",
            "\n",
            "Office results: {'chao1': 46733,\n",
            " 'coverage': 0.5494618363897033,\n",
            " 'n_samples': 239,\n",
            " 'n_species': 25678}\n"
          ]
        }
      ]
    },
    {
      "cell_type": "markdown",
      "source": [
        "Discussion 1\n",
        "------------\n",
        "\n",
        "What we can immediately notice is that while there is orders of magnitude fewer records for mass propers, the upper bound on coverage is much higher (0.70) than for the office (0.55). This tracks very well with the observation from chant scholarship that mass repertoire is much more fixed -- less diverse -- than repertoire for the office. In terms of documenting chant diversity, the focus of the Cantus Database on cataloguing office sources is well placed: there is apparently *much* more to find there."
      ],
      "metadata": {
        "id": "8AbTxPO9sYge"
      },
      "id": "8AbTxPO9sYge"
    },
    {
      "cell_type": "code",
      "source": [
        "# We re-print the per-genre report, just for convenience\n",
        "print('Office genre diversities')\n",
        "for g in GENRES_CC_OFFICE:\n",
        "  report_for_genre(g, stats_per_genre, diversities_per_genre)\n",
        "\n",
        "print('\\n')   # Just an empty line\n",
        "print('Mass genre diversities')\n",
        "for g in GENRES_CC_MASS_PROPERS:\n",
        "  report_for_genre(g, stats_per_genre, diversities_per_genre)\n",
        ""
      ],
      "metadata": {
        "colab": {
          "base_uri": "https://localhost:8080/"
        },
        "id": "DQIXd-JUsuUg",
        "outputId": "ab87bd48-f2d0-445d-8a9d-a2c864791b22"
      },
      "id": "DQIXd-JUsuUg",
      "execution_count": 139,
      "outputs": [
        {
          "output_type": "stream",
          "name": "stdout",
          "text": [
            "Office genre diversities\n",
            "genre_a:\t11075 species\t229 samples\tchao1: 19585\tcov. (max.): 0.565\n",
            "genre_r:\t5062 species\t210 samples\tchao1: 9144\tcov. (max.): 0.554\n",
            "genre_v:\t8102 species\t205 samples\tchao1: 16166\tcov. (max.): 0.501\n",
            "genre_w:\t909 species\t183 samples\tchao1: 1364\tcov. (max.): 0.666\n",
            "genre_i:\t593 species\t179 samples\tchao1: 1027\tcov. (max.): 0.577\n",
            "\n",
            "\n",
            "Mass genre diversities\n",
            "genre_in:\t201 species\t48 samples\tchao1: 495\tcov. (max.): 0.406\n",
            "genre_inv:\t269 species\t31 samples\tchao1: 363\tcov. (max.): 0.741\n",
            "genre_gr:\t150 species\t89 samples\tchao1: 286\tcov. (max.): 0.524\n",
            "genre_grv:\t202 species\t67 samples\tchao1: 296\tcov. (max.): 0.682\n",
            "genre_al:\t388 species\t70 samples\tchao1: 615\tcov. (max.): 0.631\n",
            "genre_alv:\t36 species\t27 samples\tchao1: 178\tcov. (max.): 0.202\n",
            "genre_of:\t154 species\t41 samples\tchao1: 182\tcov. (max.): 0.846\n",
            "genre_ofv:\t262 species\t11 samples\tchao1: 289\tcov. (max.): 0.907\n",
            "genre_cm:\t192 species\t41 samples\tchao1: 225\tcov. (max.): 0.853\n",
            "genre_cmv:\t153 species\t4 samples\tchao1: 892\tcov. (max.): 0.172\n",
            "genre_tc:\t46 species\t20 samples\tchao1: 56\tcov. (max.): 0.821\n",
            "genre_tcv:\t202 species\t20 samples\tchao1: 243\tcov. (max.): 0.831\n"
          ]
        }
      ]
    },
    {
      "cell_type": "markdown",
      "source": [
        "While the office genres show a similar level of diversity, for genres of mass propers the upper bound on coverage fluctuates *wildly*. Even though alleluias are typically considered to be the most diverse of the main mass proper genres (i.e. without taking verses into account), we get a coverage up to 0.631, while for the introits we get only 0.406. This might be an artifact of having indexed alleluias from 70 sources compared to introits in only 48, but then we look at offertories that have been observed across 41 sources and their coverage upper bound is 0.846. So introits are, apparently, less stable repertoire than what chant literature would suggest.\n",
        "\n",
        "Another odd case are offertory verses. They have the highest estimated coverage upper bound -- the only one above 0.9, so we may have already seen 90 % of all offertory verses there are to see. Because they are in so few sources (11), this may be sampling noise -- the source could all be related. We can check this from provenance records:\n"
      ],
      "metadata": {
        "id": "pEhVcUAstAtk"
      },
      "id": "pEhVcUAstAtk"
    },
    {
      "cell_type": "code",
      "source": [
        "ofv_chants = chants_per_genre['genre_ofv']\n",
        "ofv_source_ids = set([c['source_id'] for c in ofv_chants])\n",
        "ofv_sources = [s for s in sources if s['id'] in ofv_source_ids]\n",
        "ofv_provenances = [s['provenance'] for s in ofv_sources]\n",
        "ofv_provenances"
      ],
      "metadata": {
        "colab": {
          "base_uri": "https://localhost:8080/"
        },
        "id": "uzvBA8Ey5w4Q",
        "outputId": "e04e779e-8471-4c1f-c867-c098d6e907c2"
      },
      "id": "uzvBA8Ey5w4Q",
      "execution_count": 187,
      "outputs": [
        {
          "output_type": "execute_result",
          "data": {
            "text/plain": [
              "['Albi',\n",
              " '',\n",
              " 'Franciscan',\n",
              " '',\n",
              " '',\n",
              " '',\n",
              " 'Germany',\n",
              " 'English',\n",
              " 'Bellelay Abbey',\n",
              " 'Padova',\n",
              " 'Einsiedeln']"
            ]
          },
          "metadata": {},
          "execution_count": 187
        }
      ]
    },
    {
      "cell_type": "markdown",
      "source": [
        "No, it's not the case of closely related sources. Offertory verse repertoire is just not that diverse. This again tracks well with chant literature: offertory verses stopped being recorded in after the 12th century, so they may not have had so much time to diversify.\n",
        "\n",
        "On the opposite end of the spectrum (disregarding communio verses, which are actually rarely recorded -- here in only 4 sources, which is too unstable) are alleluia verses. There are only 36 distinct species across 27 samples: if one papered over the very uneven distribution of these chants across sources, this would imply that on average each source contains 3/4ths of all the available Alleluia verses. Yet the distribution is so uneven that basically everyting is a singleton, leading to a coverage upper bound of just 0.202."
      ],
      "metadata": {
        "id": "sXIr4txs5oVX"
      },
      "id": "sXIr4txs5oVX"
    },
    {
      "cell_type": "markdown",
      "source": [
        "Method 2: Accumulation curve\n",
        "----------------------------\n",
        "\n",
        "The **accumulation curve** tracks the relationship between how many specimen we have observed, and how many species in total we have seen. This is typically a concave function -- at the beginning, almost every specimen is from a species we haven't seen yet, so the accumulation curve grows very quickly. But as we keep sampling, probably we run into the pesky frequent species over and over, and even the somewhat less frequent ones we will have already seen many times, so the interval between finding new species is going to increase. This is the point of 'diminishing returns' of the cataloguing effort, in terms of diversity.\n",
        "\n",
        "So, have we actually reached the point of diminishing returns? How many new \"species\" can we expect per e.g. 100 catalogued chants? (Or: what is the probability that the next chant we catalogue will require a new Cantus ID?)\n",
        "\n",
        "Fortunately, the Cantus database does record for many of its sources the indexing year, so we can actually reconstruct the empirical accumulation curve, and we can track the probability of encountering a new species when cataloguing over time."
      ],
      "metadata": {
        "id": "HFGH8BzdwY_i"
      },
      "id": "HFGH8BzdwY_i"
    },
    {
      "cell_type": "markdown",
      "source": [
        "Experiment 2\n",
        "-------------"
      ],
      "metadata": {
        "id": "k50tr88T2Zyu"
      },
      "id": "k50tr88T2Zyu"
    },
    {
      "cell_type": "markdown",
      "source": [
        "We now group chants not by genre, but by source:"
      ],
      "metadata": {
        "id": "ZPaNj7a0yGEt"
      },
      "id": "ZPaNj7a0yGEt"
    },
    {
      "cell_type": "code",
      "source": [
        "chants_per_source = {}\n",
        "for chant in chants:\n",
        "    source_id = chant['source_id']\n",
        "    if source_id not in chants_per_source:\n",
        "        chants_per_source[source_id] = []\n",
        "    chants_per_source[source_id].append(chant)\n",
        "\n",
        "print('Total sources that contain chants: {}'.format(len(chants_per_source)))"
      ],
      "metadata": {
        "colab": {
          "base_uri": "https://localhost:8080/"
        },
        "id": "PUcqQ8Sxx6jf",
        "outputId": "5ecb87bf-cd5a-4441-d7da-bbf9a87189ba"
      },
      "id": "PUcqQ8Sxx6jf",
      "execution_count": 157,
      "outputs": [
        {
          "output_type": "stream",
          "name": "stdout",
          "text": [
            "Total sources that contain chants: 281\n"
          ]
        }
      ]
    },
    {
      "cell_type": "markdown",
      "source": [
        "We find sources that have th eindexing date known:"
      ],
      "metadata": {
        "id": "RoloNZeQyqP8"
      },
      "id": "RoloNZeQyqP8"
    },
    {
      "cell_type": "code",
      "source": [
        "sources_with_known_idate = [s for s in sources if s['indexing_date']]\n",
        "print('Total sources with known indexing date: {}'.format(len(sources_with_known_idate)))"
      ],
      "metadata": {
        "colab": {
          "base_uri": "https://localhost:8080/"
        },
        "id": "YbBmX4LqwXM9",
        "outputId": "63241ced-dbea-4609-b3b7-2f3bebc32dfb"
      },
      "id": "YbBmX4LqwXM9",
      "execution_count": 158,
      "outputs": [
        {
          "output_type": "stream",
          "name": "stdout",
          "text": [
            "Total sources with known indexing date: 150\n"
          ]
        }
      ]
    },
    {
      "cell_type": "markdown",
      "source": [
        "Looking at a few indexing dates, though..."
      ],
      "metadata": {
        "id": "OkqE16bZyvGV"
      },
      "id": "OkqE16bZyvGV"
    },
    {
      "cell_type": "code",
      "source": [
        "print([s['indexing_date'] for s in sources_with_known_idate[:10]])"
      ],
      "metadata": {
        "colab": {
          "base_uri": "https://localhost:8080/"
        },
        "id": "N9aONcWCx_VP",
        "outputId": "64b03c55-0e8f-41ef-dc52-ab58c89cbc7b"
      },
      "id": "N9aONcWCx_VP",
      "execution_count": 159,
      "outputs": [
        {
          "output_type": "stream",
          "name": "stdout",
          "text": [
            "['indexed in 2018-19 at Dalhousie U', 'spring 2013; proofread in 2018;', '23 February 2006', 'inventory posted online 1 January 2009; manuscript description prepared in June 2019;', '2017-18; records proofread Fall 2018 (Marina Gallagher), with editing by Debra Lacoste (2019); published online 14 Sep 2019;', 'by 1997', '2017-18 first pass;', '24 August 2004', 'July 2017', 'by 1993']\n"
          ]
        }
      ]
    },
    {
      "cell_type": "markdown",
      "source": [
        "...we need to do a little bit of work to get actual years out of the values in this field."
      ],
      "metadata": {
        "id": "mdrOt-NWzfgI"
      },
      "id": "mdrOt-NWzfgI"
    },
    {
      "cell_type": "code",
      "source": [
        "import re\n",
        "\n",
        "def extract_year(idate_string):\n",
        "    match = re.match(r'.*([1-3][0-9]{3})', idate_string)\n",
        "    if match is not None:\n",
        "        # Then it found a match!\n",
        "        year = str(match.group(1))\n",
        "        return int(year)\n",
        "    else:\n",
        "        raise ValueError('Indexing date contains no string')"
      ],
      "metadata": {
        "id": "7mKtvEoazeG3"
      },
      "id": "7mKtvEoazeG3",
      "execution_count": 160,
      "outputs": []
    },
    {
      "cell_type": "markdown",
      "source": [
        "And now we can group sources by year! We are now getting very close to reconstructing the Cantus cataloguing timeline."
      ],
      "metadata": {
        "id": "i-fpN2i6zuuE"
      },
      "id": "i-fpN2i6zuuE"
    },
    {
      "cell_type": "code",
      "source": [
        "sources_per_year = {}\n",
        "year_per_source_id = {}\n",
        "for source in sources_with_known_idate:\n",
        "    year = extract_year(source['indexing_date'])\n",
        "    if year not in sources_per_year:\n",
        "        sources_per_year[year] = []\n",
        "    sources_per_year[year].append(source)\n",
        "    year_per_source_id[source['id']] = year"
      ],
      "metadata": {
        "id": "PbwgsvhBy0NK"
      },
      "id": "PbwgsvhBy0NK",
      "execution_count": 162,
      "outputs": []
    },
    {
      "cell_type": "markdown",
      "source": [
        "Let's do a sanity check and look at what this indexing timeline looks like:"
      ],
      "metadata": {
        "id": "t8YYHm4e0AGb"
      },
      "id": "t8YYHm4e0AGb"
    },
    {
      "cell_type": "code",
      "source": [
        "_total_chants_added = 0\n",
        "_total_sources_added = 0\n",
        "n_sources_added_per_year = []\n",
        "n_chants_added_per_year = []\n",
        "for year in sorted(sources_per_year):\n",
        "    sources_in_year = sources_per_year[year]\n",
        "    n_sources_in_year = 0\n",
        "    n_chants_in_year = 0\n",
        "    for source in sources_in_year:\n",
        "        if source['id'] in chants_per_source:\n",
        "            n_chants_in_year += len(chants_per_source[source['id']])\n",
        "            n_sources_in_year += 1\n",
        "    _total_chants_added += n_chants_in_year\n",
        "    _total_sources_added += n_sources_in_year\n",
        "    n_sources_added_per_year.append(n_sources_in_year)\n",
        "    n_chants_added_per_year.append(n_chants_in_year)\n",
        "    print('{}: {} sources with chants, {} chants added'.format(year, n_sources_in_year, n_chants_in_year))\n",
        "\n",
        "\n",
        "print('Total sources with chants added: {}, total chants added: {}'.format(_total_sources_added, _total_chants_added))"
      ],
      "metadata": {
        "colab": {
          "base_uri": "https://localhost:8080/"
        },
        "id": "3-FV8EhgzpSS",
        "outputId": "32787f5d-ae47-4bf8-b642-f7105c38ecff"
      },
      "id": "3-FV8EhgzpSS",
      "execution_count": 163,
      "outputs": [
        {
          "output_type": "stream",
          "name": "stdout",
          "text": [
            "1993: 8 sources with chants, 32697 chants added\n",
            "1994: 2 sources with chants, 5034 chants added\n",
            "1996: 1 sources with chants, 5262 chants added\n",
            "1997: 27 sources with chants, 105215 chants added\n",
            "1998: 4 sources with chants, 12017 chants added\n",
            "1999: 4 sources with chants, 8678 chants added\n",
            "2000: 7 sources with chants, 14300 chants added\n",
            "2001: 2 sources with chants, 4350 chants added\n",
            "2002: 5 sources with chants, 19215 chants added\n",
            "2003: 1 sources with chants, 2832 chants added\n",
            "2004: 13 sources with chants, 43733 chants added\n",
            "2006: 10 sources with chants, 27204 chants added\n",
            "2007: 1 sources with chants, 6236 chants added\n",
            "2009: 1 sources with chants, 2926 chants added\n",
            "2011: 1 sources with chants, 6246 chants added\n",
            "2012: 1 sources with chants, 1995 chants added\n",
            "2014: 1 sources with chants, 6267 chants added\n",
            "2015: 5 sources with chants, 9999 chants added\n",
            "2016: 1 sources with chants, 4035 chants added\n",
            "2017: 8 sources with chants, 6683 chants added\n",
            "2018: 8 sources with chants, 11323 chants added\n",
            "2019: 37 sources with chants, 59531 chants added\n",
            "2020: 1 sources with chants, 2128 chants added\n",
            "Total sources with chants added: 149, total chants added: 397906\n"
          ]
        }
      ]
    },
    {
      "cell_type": "markdown",
      "source": [
        "Yes, this tracks very well with what we know about the history of Cantus.\n",
        "\n",
        "OK, let's get back to reconstructing the cataloguing history now by grouping not the sources, or chants per source, but to get just a \"bare\" list of chants added in each year."
      ],
      "metadata": {
        "id": "RArendhF0Ff_"
      },
      "id": "RArendhF0Ff_"
    },
    {
      "cell_type": "code",
      "source": [
        "chants_per_year_dict = {}\n",
        "for year in sorted(sources_per_year):\n",
        "    current_sources = sources_per_year[year]\n",
        "    source_ids = [s['id'] for s in current_sources]\n",
        "    chants_for_year = []\n",
        "    for source_id in source_ids:\n",
        "        if source_id in chants_per_source:\n",
        "            chants_for_year.extend(chants_per_source[source_id])\n",
        "    chants_per_year_dict[year] = chants_for_year\n"
      ],
      "metadata": {
        "id": "9XmLRhwi1VBs"
      },
      "id": "9XmLRhwi1VBs",
      "execution_count": 184,
      "outputs": []
    },
    {
      "cell_type": "markdown",
      "source": [
        "We also have to include chants from sources that do not have this field filled in. For the sake of simplicity, we assume for now that these chants have all been indexed before 1993 --- their `indexing_date` is not filled in because maybe the database didn't even have this field before that year."
      ],
      "metadata": {
        "id": "NVzZCbLd0lCx"
      },
      "id": "NVzZCbLd0lCx"
    },
    {
      "cell_type": "code",
      "source": [
        "# Assemble sources with no year. We either use them as initialisation, or not at all.\n",
        "source_ids_without_year = [s for s in chants_per_source if s not in year_per_source_id]\n",
        "\n",
        "# Inspecting how many there are & putting it into context.\n",
        "print('{} sources with chants without indexing date specified, {} sources with chants that do have a year.'\n",
        "      ''.format(len(source_ids_without_year), len(sources_with_known_idate)))"
      ],
      "metadata": {
        "colab": {
          "base_uri": "https://localhost:8080/"
        },
        "id": "mPGD1bag0FBA",
        "outputId": "6eccdeb9-2592-4641-a6a2-03b6df58c7df"
      },
      "id": "mPGD1bag0FBA",
      "execution_count": 166,
      "outputs": [
        {
          "output_type": "stream",
          "name": "stdout",
          "text": [
            "132 sources with chants without indexing date specified, 150 sources with chants that do have a year.\n"
          ]
        }
      ]
    },
    {
      "cell_type": "code",
      "source": [
        "chants_with_no_year = []\n",
        "for source_id in source_ids_without_year:\n",
        "    if source_id in chants_per_source:\n",
        "        chants_with_no_year.extend(chants_per_source[source_id])"
      ],
      "metadata": {
        "id": "iBWh3yX80DYa"
      },
      "id": "iBWh3yX80DYa",
      "execution_count": 168,
      "outputs": []
    },
    {
      "cell_type": "markdown",
      "source": [
        "Results 2\n",
        "---------\n",
        "\n",
        "Now we can finally describe how Cantus was growing throughout the years:"
      ],
      "metadata": {
        "id": "oYkSaAyA1gcD"
      },
      "id": "oYkSaAyA1gcD"
    },
    {
      "cell_type": "code",
      "source": [
        "_already_known_species = set([c['cantus_id'] for c in chants_with_no_year])\n",
        "_total_chants_seen = 0\n",
        "\n",
        "n_distinct_chants_no_year = len(_already_known_species)\n",
        "print('No year:\\t{} chants\\t{} species'.format(len(chants_with_no_year), n_distinct_chants_no_year))\n",
        "print('-------------------------------')\n",
        "\n",
        "_total_chants_seen += len(chants_with_no_year)\n",
        "\n",
        "acc_chants = []\n",
        "acc_species_seen = []\n",
        "newness_probabilities_per_year = []     # Important to keep track of this for plotting later!\n",
        "\n",
        "for year, chants in chants_per_year_dict.items():\n",
        "    species_in_year = set([c['cantus_id'] for c in chants])\n",
        "    new_species_in_year = set([c['cantus_id'] for c in chants if c['cantus_id'] not in _already_known_species])\n",
        "\n",
        "    n_distinct_chants = len(species_in_year)\n",
        "    n_new_species = len(new_species_in_year)\n",
        "    print('Year {}:\\t{} chants\\t{} species\\t{: >5d} new species\\t{:.2f} P(unk|species)\\t{:.1f} new species per 1000 chants'\n",
        "          ''.format(year, len(chants), n_distinct_chants, n_new_species, n_new_species / n_distinct_chants, 1000 * n_new_species / len(chants) ))\n",
        "\n",
        "    for cid in new_species_in_year:\n",
        "        _already_known_species.add(cid)\n",
        "\n",
        "    _total_chants_seen += len(chants)\n",
        "    acc_chants.append(_total_chants_seen)\n",
        "    acc_species_seen.append(len(_already_known_species))\n",
        "    newness_probabilities_per_year.append(n_new_species / len(chants))"
      ],
      "metadata": {
        "colab": {
          "base_uri": "https://localhost:8080/"
        },
        "id": "QrR3wCJq1YRa",
        "outputId": "d33a897f-9bd0-433f-a18f-0e01fd72b110"
      },
      "id": "QrR3wCJq1YRa",
      "execution_count": 175,
      "outputs": [
        {
          "output_type": "stream",
          "name": "stdout",
          "text": [
            "No year:\t99165 chants\t12817 species\n",
            "-------------------------------\n",
            "Year 1993:\t32697 chants\t8925 species\t 2990 new species\t0.34 P(unk|species)\t91.4 new species per 1000 chants\n",
            "Year 1994:\t5034 chants\t3951 species\t  246 new species\t0.06 P(unk|species)\t48.9 new species per 1000 chants\n",
            "Year 1996:\t5262 chants\t4136 species\t  164 new species\t0.04 P(unk|species)\t31.2 new species per 1000 chants\n",
            "Year 1997:\t105215 chants\t14868 species\t 5943 new species\t0.40 P(unk|species)\t56.5 new species per 1000 chants\n",
            "Year 1998:\t12017 chants\t5811 species\t  205 new species\t0.04 P(unk|species)\t17.1 new species per 1000 chants\n",
            "Year 1999:\t8678 chants\t5153 species\t  649 new species\t0.13 P(unk|species)\t74.8 new species per 1000 chants\n",
            "Year 2000:\t14300 chants\t4923 species\t  168 new species\t0.03 P(unk|species)\t11.7 new species per 1000 chants\n",
            "Year 2001:\t4350 chants\t3288 species\t  260 new species\t0.08 P(unk|species)\t59.8 new species per 1000 chants\n",
            "Year 2002:\t19215 chants\t7243 species\t 1823 new species\t0.25 P(unk|species)\t94.9 new species per 1000 chants\n",
            "Year 2003:\t2832 chants\t2388 species\t   69 new species\t0.03 P(unk|species)\t24.4 new species per 1000 chants\n",
            "Year 2004:\t43733 chants\t6126 species\t  460 new species\t0.08 P(unk|species)\t10.5 new species per 1000 chants\n",
            "Year 2006:\t27204 chants\t7359 species\t 1149 new species\t0.16 P(unk|species)\t42.2 new species per 1000 chants\n",
            "Year 2007:\t6236 chants\t5050 species\t  536 new species\t0.11 P(unk|species)\t86.0 new species per 1000 chants\n",
            "Year 2009:\t2926 chants\t2117 species\t  118 new species\t0.06 P(unk|species)\t40.3 new species per 1000 chants\n",
            "Year 2011:\t6246 chants\t4358 species\t  193 new species\t0.04 P(unk|species)\t30.9 new species per 1000 chants\n",
            "Year 2012:\t1995 chants\t1892 species\t   93 new species\t0.05 P(unk|species)\t46.6 new species per 1000 chants\n",
            "Year 2014:\t6267 chants\t4367 species\t  412 new species\t0.09 P(unk|species)\t65.7 new species per 1000 chants\n",
            "Year 2015:\t9999 chants\t5515 species\t  348 new species\t0.06 P(unk|species)\t34.8 new species per 1000 chants\n",
            "Year 2016:\t4035 chants\t3191 species\t   48 new species\t0.02 P(unk|species)\t11.9 new species per 1000 chants\n",
            "Year 2017:\t6683 chants\t4257 species\t  666 new species\t0.16 P(unk|species)\t99.7 new species per 1000 chants\n",
            "Year 2018:\t11323 chants\t5692 species\t  153 new species\t0.03 P(unk|species)\t13.5 new species per 1000 chants\n",
            "Year 2019:\t59531 chants\t11841 species\t 1768 new species\t0.15 P(unk|species)\t29.7 new species per 1000 chants\n",
            "Year 2020:\t2128 chants\t1568 species\t  223 new species\t0.14 P(unk|species)\t104.8 new species per 1000 chants\n"
          ]
        }
      ]
    },
    {
      "cell_type": "markdown",
      "source": [
        "This is still a bit hard to read, so let's plot the empirical accumulation curve and the probability of seeing a new chant over the years."
      ],
      "metadata": {
        "id": "UU-IDZgn2mOS"
      },
      "id": "UU-IDZgn2mOS"
    },
    {
      "cell_type": "code",
      "source": [
        "color_acc = 'tab:blue'\n",
        "color_novelty = 'tab:red'\n",
        "\n",
        "fig, ax = plt.subplots()\n",
        "ax.set_title('Relationship between chants and species seen')\n",
        "ax.set_xlabel('Cumulative number of chants catalogued across years')\n",
        "ax.set_ylabel('Number of distinct Cantus IDs seen', color=color_acc)\n",
        "acc_curve = ax.plot(acc_chants, acc_species_seen, drawstyle='steps-mid', label='Empirical accumulation curve', color=color_acc)\n",
        "ax.tick_params(axis='y', color=color_acc, labelcolor=color_acc)\n",
        "\n",
        "ax2 = ax.twinx()\n",
        "ax2.set_ylim([0.00, 0.25])\n",
        "ax2.set_ylabel('Percent unseen species', color=color_novelty)\n",
        "novelty_curve = ax2.plot(acc_chants, newness_probabilities_per_year,\n",
        "                         label='Empirical prob. of unseen chant', drawstyle='steps-mid',\n",
        "                         color=color_novelty, linewidth=0.5, marker='o', linestyle=':')\n",
        "ax2.tick_params(axis='y', color=color_novelty, labelcolor=color_novelty)\n",
        "\n",
        "lns = acc_curve + novelty_curve\n",
        "legend_labels = [curve.get_label() for curve in lns]\n",
        "ax2.legend(lns,  legend_labels, loc=2)\n",
        "\n",
        "fig.tight_layout()\n",
        "plt.show()"
      ],
      "metadata": {
        "colab": {
          "base_uri": "https://localhost:8080/",
          "height": 487
        },
        "id": "sgA6kt4e1nTL",
        "outputId": "078c09b6-87f6-4de1-bfb7-a46b4fb4f8d0"
      },
      "id": "sgA6kt4e1nTL",
      "execution_count": 176,
      "outputs": [
        {
          "output_type": "display_data",
          "data": {
            "text/plain": [
              "<Figure size 640x480 with 2 Axes>"
            ],
            "image/png": "[encoded data removed]"
          },
          "metadata": {}
        }
      ]
    },
    {
      "cell_type": "markdown",
      "source": [
        "I don't really see diminishing returns on biodiversity anywhere throughout these 350,000 chants indexed."
      ],
      "metadata": {
        "id": "krnpnMqM20eI"
      },
      "id": "krnpnMqM20eI"
    },
    {
      "cell_type": "markdown",
      "source": [
        "This is equivalent to the probability of seeing a new chant per each catalogued record staying constant. While the red dots are jumping around a bit, we can check if these jumps are obscuring an actual trend by fitting a linear model (=straight line) to them and then testing the hypotehsis that the true line is a constant."
      ],
      "metadata": {
        "id": "EHgHhAGd3CQ0"
      },
      "id": "EHgHhAGd3CQ0"
    },
    {
      "cell_type": "code",
      "source": [
        "from scipy.stats import linregress\n",
        "\n",
        "linregress_result = linregress(acc_chants, newness_probabilities_per_year)\n",
        "pprint.pprint(linregress_result)"
      ],
      "metadata": {
        "colab": {
          "base_uri": "https://localhost:8080/"
        },
        "id": "0SjCP-ml2vQq",
        "outputId": "f1a0a624-1881-47af-b3fa-a54aea0c996e"
      },
      "id": "0SjCP-ml2vQq",
      "execution_count": 177,
      "outputs": [
        {
          "output_type": "stream",
          "name": "stdout",
          "text": [
            "LinregressResult(slope=np.float64(-5.260711325930998e-09), intercept=np.float64(0.05078319169953805), rvalue=np.float64(-0.018160661470854145), pvalue=np.float64(0.934451958994204), stderr=np.float64(6.320210336338363e-08), intercept_stderr=np.float64(0.022283970270537416))\n"
          ]
        }
      ]
    },
    {
      "cell_type": "markdown",
      "source": [
        "The linear regression model found the best linear fit with a slope of -0.00000000526..., and the p-value for the hypothesis that the true line is constant (slope 0) and the slope we are seeing is just a random artifact of noisy data is over 0.9, so we really, really cannot reject that hypothesis.\n",
        "\n",
        "Furthermore, the intercept of the line is at 0.05. This is the estimated constant probability of needing to create a new Cantus ID every time you catalogue a new chant -- which is about 1 in 20. This is practically every 3 or 4 pages."
      ],
      "metadata": {
        "id": "qkXgxKpm3fbJ"
      },
      "id": "qkXgxKpm3fbJ"
    },
    {
      "cell_type": "markdown",
      "source": [
        "Discussion 2\n",
        "------------\n",
        "\n",
        "The cataloguing effort of Cantus is nowhere near diminishing returns.\n",
        "This has to be interpreted in terms of the Divine Office, which makes up the overwhelming majority of Cantus chant and source records and which is still more diverse than the mass repertoire therein. In terms of documenting chant diversity, there is no reason to think that we are in the 'diminishing returns' part of the accumulation curve yet."
      ],
      "metadata": {
        "id": "Xm3CnpZ435rC"
      },
      "id": "Xm3CnpZ435rC"
    },
    {
      "cell_type": "markdown",
      "source": [
        "In fact, we may never get there. Due to loss of manuscripts (currently estimated around 90 - 97 %), it is possible\n",
        "we will not get out of the approximately linear accumulation curve\n",
        "regime even if we do catalogue those 30,000 extant sources: if the\n",
        "true medieval diversity was orders of magnitude greater.\n",
        "\n",
        "Of course the loss of manuscripts would be the logical next step to try and model also with the unseen species approach!"
      ],
      "metadata": {
        "id": "34si3jgQ4kXc"
      },
      "id": "34si3jgQ4kXc"
    },
    {
      "cell_type": "markdown",
      "source": [
        "Final words\n",
        "===========\n",
        "\n",
        "**Thanks to Laura & Ieva for organising this,** and DH Latvia for supporting us! It was all organised on really short notice, and I appreciate a lot all the work that they did to make it happen.\n",
        "\n",
        "I'm here until Friday morning (flying out at 12:35 or so). If you want to talk more, come to me and Laura after we finish to try and find some time.\n",
        "In case the timing doesn't work out now, and/or if you have ideas later, please don't hesitate to reach out if you feel I can be helpful! I'm certainly looking for more international collaborations.\n",
        "\n",
        "My email is `hajicj@ufal.mff.cuni.cz`.\n",
        "\n",
        "This notebook is available via a public [github repo](https://github.com/hajicj/DH-Latvia_2025-05-07/tree/main). The slides from yesterday you have hopefully all received by email. If not, let me or Laura know. (I can't just upload them publicly because for some of the images I may not have been as careful as I should have with copyrigt. For teaching it is certainly fine, but maybe not for worldwide unfettered distribution...)\n",
        "\n",
        "I teach music computing in the winter semester: [NPFL144](https://ufal.mff.cuni.cz/courses/npfl144). I do my best to teach it in hybrid mode. If you have students who are interested in music technology, let me know and I can add them on the mailing list. Charles University talks are all in principle accessible to the public, so it's perfectly fine.\n",
        "\n",
        "Also, if you or your students are interested in coming for a research stay or internship with the [Prague Music Computing Group](https://ufal.mff.cuni.cz/pmcg), let me know. We are a regular part of the whole Erasmus and Erasmus+ networks for funding student/researcher mobility.\n",
        "\n",
        "(End of shameless plug.)\n",
        "\n",
        "Thanks again for having me here, and I certainly hope my first visit to the Baltics was not the last!\n",
        "\n",
        "\n"
      ],
      "metadata": {
        "id": "FOJmVZDV7La_"
      },
      "id": "FOJmVZDV7La_"
    },
    {
      "cell_type": "code",
      "source": [],
      "metadata": {
        "id": "QpQLqmhs-Gp3"
      },
      "id": "QpQLqmhs-Gp3",
      "execution_count": null,
      "outputs": []
    }
  ],
  "metadata": {
    "kernelspec": {
      "display_name": "Python 3 (ipykernel)",
      "language": "python",
      "name": "python3"
    },
    "language_info": {
      "codemirror_mode": {
        "name": "ipython",
        "version": 3
      },
      "file_extension": ".py",
      "mimetype": "text/x-python",
      "name": "python",
      "nbconvert_exporter": "python",
      "pygments_lexer": "ipython3",
      "version": "3.11.11"
    },
    "colab": {
      "provenance": []
    }
  },
  "nbformat": 4,
  "nbformat_minor": 5
}