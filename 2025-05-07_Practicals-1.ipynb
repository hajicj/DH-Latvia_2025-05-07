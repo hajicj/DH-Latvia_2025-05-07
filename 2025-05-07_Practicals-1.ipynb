{
  "cells": [
    {
      "cell_type": "markdown",
      "id": "0b762653-edae-4bf5-8967-c6aa2dcfc5ba",
      "metadata": {
        "id": "0b762653-edae-4bf5-8967-c6aa2dcfc5ba"
      },
      "source": [
        "Practicals 1: Exploring the digital chant ecosystem\n",
        "===================================================\n",
        "\n",
        "Getting our hands dirty, we will take a look around the digital chant ecosystem: the Cantus database, Cantus Index, and then we start working with the chant data contained therein. We take a look at some basic statistics of the dataset and visualise it. This will all happen in a google collab environment, so no need to install anything! All you need is an internet connection, no programming or math background required (but it may be a good idea to do a Python tutorial ahead of time)."
      ]
    },
    {
      "cell_type": "markdown",
      "id": "3bec022e-7362-46b8-8d5e-2f2b747d29b6",
      "metadata": {
        "id": "3bec022e-7362-46b8-8d5e-2f2b747d29b6"
      },
      "source": [
        "Installing requirements\n",
        "-----------------------\n",
        "\n",
        "We need some libraries that are not installed by default."
      ]
    },
    {
      "cell_type": "code",
      "execution_count": 1,
      "id": "7550e082-7b4d-4458-92c2-3091cc9efe75",
      "metadata": {
        "colab": {
          "base_uri": "https://localhost:8080/"
        },
        "collapsed": true,
        "id": "7550e082-7b4d-4458-92c2-3091cc9efe75",
        "outputId": "010bf9a1-3d05-4f0c-d31d-6142a4df0ef8"
      },
      "outputs": [
        {
          "output_type": "stream",
          "name": "stdout",
          "text": [
            "Requirement already satisfied: scipy in /usr/local/lib/python3.11/dist-packages (1.15.2)\n",
            "Requirement already satisfied: numpy<2.5,>=1.23.5 in /usr/local/lib/python3.11/dist-packages (from scipy) (2.0.2)\n",
            "Requirement already satisfied: matplotlib in /usr/local/lib/python3.11/dist-packages (3.10.0)\n",
            "Requirement already satisfied: contourpy>=1.0.1 in /usr/local/lib/python3.11/dist-packages (from matplotlib) (1.3.2)\n",
            "Requirement already satisfied: cycler>=0.10 in /usr/local/lib/python3.11/dist-packages (from matplotlib) (0.12.1)\n",
            "Requirement already satisfied: fonttools>=4.22.0 in /usr/local/lib/python3.11/dist-packages (from matplotlib) (4.57.0)\n",
            "Requirement already satisfied: kiwisolver>=1.3.1 in /usr/local/lib/python3.11/dist-packages (from matplotlib) (1.4.8)\n",
            "Requirement already satisfied: numpy>=1.23 in /usr/local/lib/python3.11/dist-packages (from matplotlib) (2.0.2)\n",
            "Requirement already satisfied: packaging>=20.0 in /usr/local/lib/python3.11/dist-packages (from matplotlib) (24.2)\n",
            "Requirement already satisfied: pillow>=8 in /usr/local/lib/python3.11/dist-packages (from matplotlib) (11.2.1)\n",
            "Requirement already satisfied: pyparsing>=2.3.1 in /usr/local/lib/python3.11/dist-packages (from matplotlib) (3.2.3)\n",
            "Requirement already satisfied: python-dateutil>=2.7 in /usr/local/lib/python3.11/dist-packages (from matplotlib) (2.9.0.post0)\n",
            "Requirement already satisfied: six>=1.5 in /usr/local/lib/python3.11/dist-packages (from python-dateutil>=2.7->matplotlib) (1.17.0)\n",
            "Collecting copia\n",
            "  Downloading copia-0.1.4-py3-none-any.whl.metadata (2.0 kB)\n",
            "Requirement already satisfied: numpy>=1.19.0 in /usr/local/lib/python3.11/dist-packages (from copia) (2.0.2)\n",
            "Requirement already satisfied: scipy>=1.5.1 in /usr/local/lib/python3.11/dist-packages (from copia) (1.15.2)\n",
            "Requirement already satisfied: matplotlib>=3.3.2 in /usr/local/lib/python3.11/dist-packages (from copia) (3.10.0)\n",
            "Requirement already satisfied: seaborn>=0.11.0 in /usr/local/lib/python3.11/dist-packages (from copia) (0.13.2)\n",
            "Requirement already satisfied: pandas>=1.1.2 in /usr/local/lib/python3.11/dist-packages (from copia) (2.2.2)\n",
            "Requirement already satisfied: tqdm>=4.48.0 in /usr/local/lib/python3.11/dist-packages (from copia) (4.67.1)\n",
            "Requirement already satisfied: pytest>=6.2.2 in /usr/local/lib/python3.11/dist-packages (from copia) (8.3.5)\n",
            "Requirement already satisfied: contourpy>=1.0.1 in /usr/local/lib/python3.11/dist-packages (from matplotlib>=3.3.2->copia) (1.3.2)\n",
            "Requirement already satisfied: cycler>=0.10 in /usr/local/lib/python3.11/dist-packages (from matplotlib>=3.3.2->copia) (0.12.1)\n",
            "Requirement already satisfied: fonttools>=4.22.0 in /usr/local/lib/python3.11/dist-packages (from matplotlib>=3.3.2->copia) (4.57.0)\n",
            "Requirement already satisfied: kiwisolver>=1.3.1 in /usr/local/lib/python3.11/dist-packages (from matplotlib>=3.3.2->copia) (1.4.8)\n",
            "Requirement already satisfied: packaging>=20.0 in /usr/local/lib/python3.11/dist-packages (from matplotlib>=3.3.2->copia) (24.2)\n",
            "Requirement already satisfied: pillow>=8 in /usr/local/lib/python3.11/dist-packages (from matplotlib>=3.3.2->copia) (11.2.1)\n",
            "Requirement already satisfied: pyparsing>=2.3.1 in /usr/local/lib/python3.11/dist-packages (from matplotlib>=3.3.2->copia) (3.2.3)\n",
            "Requirement already satisfied: python-dateutil>=2.7 in /usr/local/lib/python3.11/dist-packages (from matplotlib>=3.3.2->copia) (2.9.0.post0)\n",
            "Requirement already satisfied: pytz>=2020.1 in /usr/local/lib/python3.11/dist-packages (from pandas>=1.1.2->copia) (2025.2)\n",
            "Requirement already satisfied: tzdata>=2022.7 in /usr/local/lib/python3.11/dist-packages (from pandas>=1.1.2->copia) (2025.2)\n",
            "Requirement already satisfied: iniconfig in /usr/local/lib/python3.11/dist-packages (from pytest>=6.2.2->copia) (2.1.0)\n",
            "Requirement already satisfied: pluggy<2,>=1.5 in /usr/local/lib/python3.11/dist-packages (from pytest>=6.2.2->copia) (1.5.0)\n",
            "Requirement already satisfied: six>=1.5 in /usr/local/lib/python3.11/dist-packages (from python-dateutil>=2.7->matplotlib>=3.3.2->copia) (1.17.0)\n",
            "Downloading copia-0.1.4-py3-none-any.whl (23 kB)\n",
            "Installing collected packages: copia\n",
            "Successfully installed copia-0.1.4\n",
            "Collecting pycantus\n",
            "  Downloading pycantus-0.0.3-py3-none-any.whl.metadata (4.0 kB)\n",
            "Requirement already satisfied: pandas==2.2.2 in /usr/local/lib/python3.11/dist-packages (from pycantus) (2.2.2)\n",
            "Collecting requests==2.31.0 (from pycantus)\n",
            "  Downloading requests-2.31.0-py3-none-any.whl.metadata (4.6 kB)\n",
            "Requirement already satisfied: numpy>=1.23.2 in /usr/local/lib/python3.11/dist-packages (from pandas==2.2.2->pycantus) (2.0.2)\n",
            "Requirement already satisfied: python-dateutil>=2.8.2 in /usr/local/lib/python3.11/dist-packages (from pandas==2.2.2->pycantus) (2.9.0.post0)\n",
            "Requirement already satisfied: pytz>=2020.1 in /usr/local/lib/python3.11/dist-packages (from pandas==2.2.2->pycantus) (2025.2)\n",
            "Requirement already satisfied: tzdata>=2022.7 in /usr/local/lib/python3.11/dist-packages (from pandas==2.2.2->pycantus) (2025.2)\n",
            "Requirement already satisfied: charset-normalizer<4,>=2 in /usr/local/lib/python3.11/dist-packages (from requests==2.31.0->pycantus) (3.4.1)\n",
            "Requirement already satisfied: idna<4,>=2.5 in /usr/local/lib/python3.11/dist-packages (from requests==2.31.0->pycantus) (3.10)\n",
            "Requirement already satisfied: urllib3<3,>=1.21.1 in /usr/local/lib/python3.11/dist-packages (from requests==2.31.0->pycantus) (2.4.0)\n",
            "Requirement already satisfied: certifi>=2017.4.17 in /usr/local/lib/python3.11/dist-packages (from requests==2.31.0->pycantus) (2025.4.26)\n",
            "Requirement already satisfied: six>=1.5 in /usr/local/lib/python3.11/dist-packages (from python-dateutil>=2.8.2->pandas==2.2.2->pycantus) (1.17.0)\n",
            "Downloading pycantus-0.0.3-py3-none-any.whl (28 kB)\n",
            "Downloading requests-2.31.0-py3-none-any.whl (62 kB)\n",
            "\u001b[2K   \u001b[90m━━━━━━━━━━━━━━━━━━━━━━━━━━━━━━━━━━━━━━━━\u001b[0m \u001b[32m62.6/62.6 kB\u001b[0m \u001b[31m3.9 MB/s\u001b[0m eta \u001b[36m0:00:00\u001b[0m\n",
            "\u001b[?25hInstalling collected packages: requests, pycantus\n",
            "  Attempting uninstall: requests\n",
            "    Found existing installation: requests 2.32.3\n",
            "    Uninstalling requests-2.32.3:\n",
            "      Successfully uninstalled requests-2.32.3\n",
            "\u001b[31mERROR: pip's dependency resolver does not currently take into account all the packages that are installed. This behaviour is the source of the following dependency conflicts.\n",
            "google-colab 1.0.0 requires requests==2.32.3, but you have requests 2.31.0 which is incompatible.\u001b[0m\u001b[31m\n",
            "\u001b[0mSuccessfully installed pycantus-0.0.3 requests-2.31.0\n"
          ]
        }
      ],
      "source": [
        "!pip install scipy\n",
        "!pip install matplotlib\n",
        "!pip install copia\n",
        "!pip install pycantus"
      ]
    },
    {
      "cell_type": "markdown",
      "id": "b3594216-3da9-47f5-8523-59c9cad9b48e",
      "metadata": {
        "id": "b3594216-3da9-47f5-8523-59c9cad9b48e"
      },
      "source": [
        "Getting data\n",
        "------------\n",
        "\n",
        "We work with the CantusCorpus v0.2 dataset. It is derived from the Cantus database. It contains records of almost 500,000 instances of chants, hundreds of records of manuscripts (sources), and a number of auxiliary files that encode controlled vocabularies for certain data.\n",
        "\n",
        "CantusCorpus is somewhat dated (2020), and we are working on a more comprehensive dataset, but the advantage is that previous results for this data exist -- and especially in the context of learning, this stability is an advantage."
      ]
    },
    {
      "cell_type": "code",
      "execution_count": 2,
      "id": "deb4957b-2cfd-4c7c-8412-d614a8a5ab22",
      "metadata": {
        "colab": {
          "base_uri": "https://localhost:8080/"
        },
        "collapsed": true,
        "id": "deb4957b-2cfd-4c7c-8412-d614a8a5ab22",
        "outputId": "3ff355f3-18fe-479b-de93-78e04614cef4"
      },
      "outputs": [
        {
          "output_type": "stream",
          "name": "stdout",
          "text": [
            "--2025-05-04 07:55:18--  https://ufallab.ms.mff.cuni.cz/~hajicj/public_html/DH-Latvia_2025/data/cantuscorpus-v0.2.zip\n",
            "Resolving ufallab.ms.mff.cuni.cz (ufallab.ms.mff.cuni.cz)... 195.113.18.181\n",
            "Connecting to ufallab.ms.mff.cuni.cz (ufallab.ms.mff.cuni.cz)|195.113.18.181|:443... connected.\n",
            "HTTP request sent, awaiting response... 200 OK\n",
            "Length: 51685924 (49M) [application/zip]\n",
            "Saving to: ‘cantuscorpus-v0.2.zip’\n",
            "\n",
            "cantuscorpus-v0.2.z 100%[===================>]  49.29M  20.9MB/s    in 2.4s    \n",
            "\n",
            "2025-05-04 07:55:21 (20.9 MB/s) - ‘cantuscorpus-v0.2.zip’ saved [51685924/51685924]\n",
            "\n"
          ]
        }
      ],
      "source": [
        "!wget https://ufallab.ms.mff.cuni.cz/~hajicj/public_html/DH-Latvia_2025/data/cantuscorpus-v0.2.zip"
      ]
    },
    {
      "cell_type": "code",
      "source": [
        "!unzip cantuscorpus-v0.2.zip"
      ],
      "metadata": {
        "colab": {
          "base_uri": "https://localhost:8080/"
        },
        "collapsed": true,
        "id": "Lbhx2W6gAjFx",
        "outputId": "3eef043e-1dd3-45e8-ba10-4b16e1e74151"
      },
      "id": "Lbhx2W6gAjFx",
      "execution_count": 3,
      "outputs": [
        {
          "output_type": "stream",
          "name": "stdout",
          "text": [
            "Archive:  cantuscorpus-v0.2.zip\n",
            "   creating: cantuscorpus-v0.2/\n",
            "   creating: cantuscorpus-v0.2/csv/\n",
            "  inflating: cantuscorpus-v0.2/csv/office.csv  \n",
            "  inflating: cantuscorpus-v0.2/csv/chant-demo-sample.csv  \n",
            "  inflating: cantuscorpus-v0.2/csv/indexer.csv  \n",
            "  inflating: cantuscorpus-v0.2/csv/chant.csv  \n",
            "  inflating: cantuscorpus-v0.2/csv/feast.csv  \n",
            "  inflating: cantuscorpus-v0.2/csv/century.csv  \n",
            "  inflating: cantuscorpus-v0.2/csv/orig_id.csv  \n",
            "  inflating: cantuscorpus-v0.2/csv/notation.csv  \n",
            "  inflating: cantuscorpus-v0.2/csv/siglum.csv  \n",
            "  inflating: cantuscorpus-v0.2/csv/.feast.csv.swp  \n",
            "  inflating: cantuscorpus-v0.2/csv/provenance.csv  \n",
            "  inflating: cantuscorpus-v0.2/csv/genre.csv  \n",
            "  inflating: cantuscorpus-v0.2/csv/source.csv  \n",
            "  inflating: cantuscorpus-v0.2/.DS_Store  \n",
            "   creating: cantuscorpus-v0.2/antiphons/\n",
            "  inflating: cantuscorpus-v0.2/antiphons/test-chants.csv  \n",
            "  inflating: cantuscorpus-v0.2/antiphons/gregobase-chantstrings.csv  \n",
            "  inflating: cantuscorpus-v0.2/antiphons/train-representation-pitch.csv  \n",
            "  inflating: cantuscorpus-v0.2/antiphons/train-chants.csv  \n",
            "  inflating: cantuscorpus-v0.2/antiphons/test-representation-pitch.csv  \n",
            "   creating: cantuscorpus-v0.2/responsories/\n",
            "  inflating: cantuscorpus-v0.2/responsories/train-chants.csv  \n",
            "  inflating: cantuscorpus-v0.2/responsories/gregobase-chantstrings.csv  \n",
            "  inflating: cantuscorpus-v0.2/responsories/test-representation-pitch.csv  \n",
            "  inflating: cantuscorpus-v0.2/responsories/train-representation-pitch.csv  \n",
            "  inflating: cantuscorpus-v0.2/responsories/test-chants.csv  \n",
            "  inflating: cantuscorpus-v0.2/corpus-generation.log  \n"
          ]
        }
      ]
    },
    {
      "cell_type": "markdown",
      "source": [
        "Loading CantusCorpus\n",
        "--------------------\n",
        "\n",
        "The dataset is in a CSV format, which is just a very simple way to store a table: each line of the file is a table row, and a \"separator\" character is defined -- usually a comma (CSV stands for comma-separated values), sometimes a tab (then it can be called TSV, tab-separated values). The file also usually has a header row that contains the names of the table columns.\n",
        "\n",
        "Let's load all the chants first.\n",
        "\n",
        "First, we set up the path into the dataset."
      ],
      "metadata": {
        "id": "DLqPqo7fOJHT"
      },
      "id": "DLqPqo7fOJHT"
    },
    {
      "cell_type": "code",
      "source": [
        "import os\n",
        "import logging\n",
        "\n",
        "# This is the directory into which we downloaded CantusCorpus\n",
        "DATA_ROOT = 'cantuscorpus-v0.2'\n",
        "\n",
        "# The 'chant.csv' file is where the chant data is.\n",
        "DATASET_CSV_NAME = os.path.join(DATA_ROOT, 'csv', 'chant.csv')\n",
        "\n",
        "# It is pretty good practice to check that you got key file paths right -- that the files actually exist.\n",
        "if not os.path.isfile(DATASET_CSV_NAME):\n",
        "    raise ValueError('CantusCorpus dataset CSV file not found at path {}. Is the DATA_ROOT set correctly?'\n",
        "                     ' Current location: {}'.format(DATASET_CSV_NAME, os.getcwd()))"
      ],
      "metadata": {
        "id": "qKbMmmzgXBKf"
      },
      "id": "qKbMmmzgXBKf",
      "execution_count": 4,
      "outputs": []
    },
    {
      "cell_type": "markdown",
      "source": [
        "\n",
        "Now we know what file we are loading from, so we could just go ahead and use the above definition of a CSV file to read it and parse the individual lines.\n",
        "\n",
        "But instead, we first make a small digression.\n",
        "\n",
        "The plain-text nature of CSVs is great for interoperability and portability, and every programming language has built-in support for dealing with this type of file. That makes CSVs an excellent choice for storing and disseminating research data in repositories such as the Open Science Foundation or DARIAH-related infrastructure (e.g., LINDAT).\n",
        "\n",
        "The minimal structure, however, comes at a cost. What happens when a text field, e.g. a manuscript description, contains the separator character (a comma)? The obvious solution is quoting. But what if the field contains a quote? These issues are what the libraries for handling CSV files resolve, at least to the extent to which it is possible. But when encoding data into CSV files, one should be aware of these issues, and ideally have a round-trip test to make sure that there is a method to load the data properly, then store it back as a CSV file, and that the resulting file has exactly the same contents as the original file.\n",
        "\n",
        "So we actually want to use the appropriate library, and define the various parameters to load the file safely and properly."
      ],
      "metadata": {
        "id": "jwJ50DDVW9e2"
      },
      "id": "jwJ50DDVW9e2"
    },
    {
      "cell_type": "code",
      "source": [
        "# This is the library that works with CSVs in Python.\n",
        "import csv\n",
        "\n",
        "# Here we define the CSV loading parameters.\n",
        "# As with the file paths, we use capital letters to clearly indicate which values\n",
        "# are defined by us.\n",
        "CSV_DELIMITER = ','\n",
        "CSV_DOUBLEQUOTE = False\n",
        "CSV_QUOTECHAR = '\"'\n",
        "CSV_DIALECT = 'unix'\n",
        "CSV_QUOTING = csv.QUOTE_MINIMAL\n",
        "# This is the policy that combines all the parameters above.\n",
        "# Some of these apply when reading a CSV file, some apply when writing it back.\n",
        "# The possible values of quoting policy defined and documented by the 'csv' library.\n",
        "\n",
        "# Here is where we store all the chants, as a list.\n",
        "chants = []\n",
        "\n",
        "# Now we actually load them!\n",
        "# This can take a while, as there are almost half a million of them.\n",
        "with open(DATASET_CSV_NAME) as fh:\n",
        "    reader = csv.DictReader(fh,\n",
        "                            delimiter=CSV_DELIMITER,\n",
        "                            doublequote=CSV_DOUBLEQUOTE,\n",
        "                            quotechar=CSV_QUOTECHAR,\n",
        "                            dialect=CSV_DIALECT,\n",
        "                            quoting=CSV_QUOTING)\n",
        "\n",
        "    # At this point, we could just load the data, but because we want\n",
        "    # to be very sure that we have been able to load the data properly,\n",
        "    # we wrap it with this 'try-except' construction. This means:\n",
        "    # If an error happens during the 'try' block, jump into the 'except'\n",
        "    # block to deal with it. In this case, we simply want to know which row\n",
        "    # the error occurred in, so that we know which line of the data file\n",
        "    # we should check for errors.\n",
        "    try:\n",
        "        for i, row in enumerate(reader):\n",
        "            chants.append(row)\n",
        "    except:\n",
        "        print('Row {} has an error!\\nRow: {}'.format(i, row))\n",
        "        raise\n",
        "\n",
        "# We also want to remember what the field names are, to be able to quickly check\n",
        "# what information is available for each chant.\n",
        "fieldnames = reader.fieldnames\n"
      ],
      "metadata": {
        "id": "KwAu3WgVZR-S"
      },
      "id": "KwAu3WgVZR-S",
      "execution_count": 5,
      "outputs": []
    },
    {
      "cell_type": "markdown",
      "source": [
        "Let's check how many chants exactly we got:"
      ],
      "metadata": {
        "id": "TGdqYL88dnWF"
      },
      "id": "TGdqYL88dnWF"
    },
    {
      "cell_type": "code",
      "source": [
        "n_chants = len(chants)\n",
        "print('Loaded {} chants.'.format(n_chants))"
      ],
      "metadata": {
        "colab": {
          "base_uri": "https://localhost:8080/"
        },
        "id": "9Qc8Z8ivcQdp",
        "outputId": "e5d65b87-1f55-4335-b2a8-f2d8157c3366"
      },
      "id": "9Qc8Z8ivcQdp",
      "execution_count": 6,
      "outputs": [
        {
          "output_type": "stream",
          "name": "stdout",
          "text": [
            "Loaded 497071 chants.\n"
          ]
        }
      ]
    },
    {
      "cell_type": "markdown",
      "source": [
        "And what information is available for each of the chants:"
      ],
      "metadata": {
        "id": "DskR1JxedqGv"
      },
      "id": "DskR1JxedqGv"
    },
    {
      "cell_type": "code",
      "source": [
        "print(fieldnames)"
      ],
      "metadata": {
        "colab": {
          "base_uri": "https://localhost:8080/"
        },
        "id": "n0GmK0b9cW99",
        "outputId": "98999e18-d341-4784-a273-e0b5e7a64ed3"
      },
      "id": "n0GmK0b9cW99",
      "execution_count": 7,
      "outputs": [
        {
          "output_type": "stream",
          "name": "stdout",
          "text": [
            "['id', 'incipit', 'cantus_id', 'mode', 'finalis', 'differentia', 'siglum', 'position', 'folio', 'sequence', 'marginalia', 'cao_concordances', 'feast_id', 'genre_id', 'office_id', 'source_id', 'melody_id', 'drupal_path', 'full_text', 'full_text_manuscript', 'volpiano', 'notes']\n"
          ]
        }
      ]
    },
    {
      "cell_type": "code",
      "source": [
        "# Let's print it out a little better...\n",
        "print('\\n'.join(fieldnames))"
      ],
      "metadata": {
        "colab": {
          "base_uri": "https://localhost:8080/"
        },
        "collapsed": true,
        "id": "kSPZdw1zdvok",
        "outputId": "25e979bc-c3f0-4d9d-cf35-9e803008902f"
      },
      "id": "kSPZdw1zdvok",
      "execution_count": 8,
      "outputs": [
        {
          "output_type": "stream",
          "name": "stdout",
          "text": [
            "id\n",
            "incipit\n",
            "cantus_id\n",
            "mode\n",
            "finalis\n",
            "differentia\n",
            "siglum\n",
            "position\n",
            "folio\n",
            "sequence\n",
            "marginalia\n",
            "cao_concordances\n",
            "feast_id\n",
            "genre_id\n",
            "office_id\n",
            "source_id\n",
            "melody_id\n",
            "drupal_path\n",
            "full_text\n",
            "full_text_manuscript\n",
            "volpiano\n",
            "notes\n"
          ]
        }
      ]
    },
    {
      "cell_type": "markdown",
      "source": [
        "So what does a chant record look like?"
      ],
      "metadata": {
        "id": "az_zLmAcd60G"
      },
      "id": "az_zLmAcd60G"
    },
    {
      "cell_type": "code",
      "source": [
        "print(chants[0])"
      ],
      "metadata": {
        "colab": {
          "base_uri": "https://localhost:8080/"
        },
        "id": "IQSYuUgkd06t",
        "outputId": "53756d24-99fe-4fd7-a049-162de81d147d"
      },
      "id": "IQSYuUgkd06t",
      "execution_count": 9,
      "outputs": [
        {
          "output_type": "stream",
          "name": "stdout",
          "text": [
            "{'id': 'chant_000001', 'incipit': '#ne positi certamen habuistis mercedem', 'cantus_id': '007590.1', 'mode': '', 'finalis': '', 'differentia': '', 'siglum': 'US-HA Rauner Codex MS 003203', 'position': '', 'folio': '066r', 'sequence': '0.0', 'marginalia': '', 'cao_concordances': '', 'feast_id': 'feast_0227', 'genre_id': 'genre_r', 'office_id': 'office_m', 'source_id': 'source_519', 'melody_id': '', 'drupal_path': 'http://cantus.uwaterloo.ca/chant/693173/', 'full_text': '#ne positi certamen habuistis mercedem laboris ego reddam vobis', 'full_text_manuscript': '#ne positi certamen habuistis | Mercedem laboris ego reddam vobis', 'volpiano': '', 'notes': ''}\n"
          ]
        }
      ]
    },
    {
      "cell_type": "code",
      "source": [
        "# This is not really readable. Let'd define a function for this:\n",
        "def print_chant(chant, fieldnames=fieldnames):\n",
        "  for f in fieldnames:\n",
        "\n",
        "    # Check that the field name that we expect is actually available in the chant record\n",
        "    if f not in chant:\n",
        "      # This would be a basic error message:\n",
        "      #raise ValueError('Chant does not contain field name {}!'.format(f))\n",
        "      # This is a better error message, because it shows both the problematic field name\n",
        "      # and the chant record, so that you can straight away start diagnosing where the problem is.\n",
        "      raise ValueError('Chant does not contain field name {}!\\n'\n",
        "                       'Available fields: {}'.format(f, list(chant.keys())))\n",
        "    value = chant[f]\n",
        "    print('{}: {}'.format(f, value))"
      ],
      "metadata": {
        "id": "SpcSVa3jd9_O"
      },
      "id": "SpcSVa3jd9_O",
      "execution_count": 10,
      "outputs": []
    },
    {
      "cell_type": "code",
      "source": [
        "print_chant(chants[0])"
      ],
      "metadata": {
        "colab": {
          "base_uri": "https://localhost:8080/"
        },
        "collapsed": true,
        "id": "Bd0gDbKxfAwN",
        "outputId": "9ccdd1ad-d828-435a-a73e-bdac9cdbee05"
      },
      "id": "Bd0gDbKxfAwN",
      "execution_count": 11,
      "outputs": [
        {
          "output_type": "stream",
          "name": "stdout",
          "text": [
            "id: chant_000001\n",
            "incipit: #ne positi certamen habuistis mercedem\n",
            "cantus_id: 007590.1\n",
            "mode: \n",
            "finalis: \n",
            "differentia: \n",
            "siglum: US-HA Rauner Codex MS 003203\n",
            "position: \n",
            "folio: 066r\n",
            "sequence: 0.0\n",
            "marginalia: \n",
            "cao_concordances: \n",
            "feast_id: feast_0227\n",
            "genre_id: genre_r\n",
            "office_id: office_m\n",
            "source_id: source_519\n",
            "melody_id: \n",
            "drupal_path: http://cantus.uwaterloo.ca/chant/693173/\n",
            "full_text: #ne positi certamen habuistis mercedem laboris ego reddam vobis\n",
            "full_text_manuscript: #ne positi certamen habuistis | Mercedem laboris ego reddam vobis\n",
            "volpiano: \n",
            "notes: \n"
          ]
        }
      ]
    },
    {
      "cell_type": "code",
      "source": [
        "# And another chant:\n",
        "print_chant(chants[123000])"
      ],
      "metadata": {
        "colab": {
          "base_uri": "https://localhost:8080/"
        },
        "collapsed": true,
        "id": "2zRV2r0jfGKK",
        "outputId": "9dd76e2c-7b9f-4b2f-ca1e-3aacb6ffa3b3"
      },
      "id": "2zRV2r0jfGKK",
      "execution_count": 12,
      "outputs": [
        {
          "output_type": "stream",
          "name": "stdout",
          "text": [
            "id: chant_123001\n",
            "incipit: Dixerunt impii apud se non\n",
            "cantus_id: 006464\n",
            "mode: \n",
            "finalis: \n",
            "differentia: \n",
            "siglum: CZ Pu VI.E.4c\n",
            "position: 1.2\n",
            "folio: 230r\n",
            "sequence: 1.0\n",
            "marginalia: \n",
            "cao_concordances: CGBEMVHRDFSL\n",
            "feast_id: feast_0643\n",
            "genre_id: genre_r\n",
            "office_id: office_m\n",
            "source_id: \n",
            "melody_id: \n",
            "drupal_path: http://cantus.uwaterloo.ca/chant/464369/\n",
            "full_text: Dixerunt impii apud se non recte cogitantes circumveniamus justum quoniam contrarius est operibus nostris promittit se scientiam dei habere filium dei se nominat et gloriatur patrem se habere deum videamus si sermones illius veri sint et si est verus filius dei liberet illum de manibus nostris morte turpissima condempnemus eum\n",
            "full_text_manuscript: \n",
            "volpiano: \n",
            "notes: \n"
          ]
        }
      ]
    },
    {
      "cell_type": "markdown",
      "source": [
        "**Digression no. 2: Fixing the URLs**\n",
        "\n",
        "Notice that when we click the `drupal_path` link, it does not work. This is because the Cantus Database has undergone a change of URL in 2023, and the `cantus.uwaterloo.ca` server stopped redirecting, too. So, to make it easier for us to check things, we will change these values in our chants."
      ],
      "metadata": {
        "id": "cZrleliCgrpe"
      },
      "id": "cZrleliCgrpe"
    },
    {
      "cell_type": "code",
      "source": [
        "for c in chants:\n",
        "  old_drupal_path = c['drupal_path']\n",
        "  fixed_drupal_path = old_drupal_path.replace('http://cantus.uwaterloo.ca', 'https://cantusdatabase.org').rstrip('/')\n",
        "  c['drupal_path'] = fixed_drupal_path"
      ],
      "metadata": {
        "id": "3oFHn41BfdzZ"
      },
      "id": "3oFHn41BfdzZ",
      "execution_count": 13,
      "outputs": []
    },
    {
      "cell_type": "markdown",
      "source": [
        "Now the URLs should work."
      ],
      "metadata": {
        "id": "QOM-M0GhePv0"
      },
      "id": "QOM-M0GhePv0"
    },
    {
      "cell_type": "code",
      "source": [
        "print_chant(chants[123000])"
      ],
      "metadata": {
        "colab": {
          "base_uri": "https://localhost:8080/"
        },
        "collapsed": true,
        "id": "hacIvbuVhjvI",
        "outputId": "c139264a-91f3-47f3-83db-011cb4e0e1c6"
      },
      "id": "hacIvbuVhjvI",
      "execution_count": 36,
      "outputs": [
        {
          "output_type": "stream",
          "name": "stdout",
          "text": [
            "id: chant_123001\n",
            "incipit: Dixerunt impii apud se non\n",
            "cantus_id: 006464\n",
            "mode: \n",
            "finalis: \n",
            "differentia: \n",
            "siglum: CZ Pu VI.E.4c\n",
            "position: 1.2\n",
            "folio: 230r\n",
            "sequence: 1.0\n",
            "marginalia: \n",
            "cao_concordances: CGBEMVHRDFSL\n",
            "feast_id: feast_0643\n",
            "genre_id: genre_r\n",
            "office_id: office_m\n",
            "source_id: \n",
            "melody_id: \n",
            "drupal_path: https://cantusdatabase.org/chant/464369\n",
            "full_text: Dixerunt impii apud se non recte cogitantes circumveniamus justum quoniam contrarius est operibus nostris promittit se scientiam dei habere filium dei se nominat et gloriatur patrem se habere deum videamus si sermones illius veri sint et si est verus filius dei liberet illum de manibus nostris morte turpissima condempnemus eum\n",
            "full_text_manuscript: \n",
            "volpiano: \n",
            "notes: \n"
          ]
        }
      ]
    },
    {
      "cell_type": "markdown",
      "source": [
        "Issues such as this are why we should care very much about persistence and long-term storage in the digital humanities. Cantus Database and its whole network gets almost everything right -- but still these issues are inevitable, because the digital environment evolves very quickly."
      ],
      "metadata": {
        "id": "y2WONzdZigvT"
      },
      "id": "y2WONzdZigvT"
    },
    {
      "cell_type": "markdown",
      "source": [
        "Counting chants\n",
        "---------------\n",
        "\n",
        "497,071 chants is a bit much to inspect manually, though, so we get some idea about what is really in this data by extracting some basic descriptive statistics."
      ],
      "metadata": {
        "id": "FZ5tNsxHievX"
      },
      "id": "FZ5tNsxHievX"
    },
    {
      "cell_type": "markdown",
      "source": [
        "We know we have catalogued this huge amount of chants, but many of these will be copies of the same repertoire across many manuscripts. So, how many discint chants do we have in the catalogued repertoire?\n",
        "\n",
        "This can be done thanks to the essential Cantus ID mechanism. Instances of the same chant across different manuscripts have the same Cantus ID assigned.\n",
        "\n"
      ],
      "metadata": {
        "id": "ycSHNZTYm0QU"
      },
      "id": "ycSHNZTYm0QU"
    },
    {
      "cell_type": "code",
      "source": [
        "all_cantus_ids = set(c['cantus_id'] for c in chants)  # The set() is a construction to only retain one instance of each value.\n",
        "n_distinct_chants = len(all_cantus_ids)\n",
        "print('{} distinct chants available.'.format(n_distinct_chants))\n"
      ],
      "metadata": {
        "colab": {
          "base_uri": "https://localhost:8080/"
        },
        "id": "WoOILafsmEuB",
        "outputId": "54811ee9-4b38-4fca-9691-e62496346fcc"
      },
      "id": "WoOILafsmEuB",
      "execution_count": 14,
      "outputs": [
        {
          "output_type": "stream",
          "name": "stdout",
          "text": [
            "31501 distinct chants available.\n"
          ]
        }
      ]
    },
    {
      "cell_type": "markdown",
      "source": [
        "So on average, we can expect to see each Cantus ID:"
      ],
      "metadata": {
        "id": "jo4xWXSaoulk"
      },
      "id": "jo4xWXSaoulk"
    },
    {
      "cell_type": "code",
      "source": [
        "n_chants / n_distinct_chants"
      ],
      "metadata": {
        "colab": {
          "base_uri": "https://localhost:8080/"
        },
        "id": "45DH01A4npyK",
        "outputId": "38d4b386-fd5e-43da-895b-c9d755155ffd"
      },
      "id": "45DH01A4npyK",
      "execution_count": 15,
      "outputs": [
        {
          "output_type": "execute_result",
          "data": {
            "text/plain": [
              "15.779530808545761"
            ]
          },
          "metadata": {},
          "execution_count": 15
        }
      ]
    },
    {
      "cell_type": "markdown",
      "source": [
        "But of course averages are not terribly informative. What we probably want to really know is the frequency profile of Cantus IDs: how many appear only once, how many appear twice, and how many are on the other hand of the spectrum, appearing tens or even hundreds of times."
      ],
      "metadata": {
        "id": "zhkhVI0lpLpG"
      },
      "id": "zhkhVI0lpLpG"
    },
    {
      "cell_type": "code",
      "source": [
        "cid_frequencies = {}  # We can use 'cid' as the abbreviation for Cantus ID. It is sufficiently distinct.\n",
        "for chant in chants:\n",
        "  cid = chant['cantus_id']\n",
        "  if cid not in cid_frequencies:\n",
        "    cid_frequencies[cid] = 0\n",
        "  cid_frequencies[cid] += 1   # '+=' means 'add and modify original'. It's shorthand for cid_frequencies[cid] = cid_frequencies[cid] + 1"
      ],
      "metadata": {
        "id": "S2lf9TRSpKAR"
      },
      "id": "S2lf9TRSpKAR",
      "execution_count": 16,
      "outputs": []
    },
    {
      "cell_type": "markdown",
      "source": [
        "Now we know how often each Cantus ID appeared in the dataset, but printing a dictionary of 31,000+ entries is also not helpful. But what we can do is visualise. For this, the `matplotlib` library is the most widespread and best-documented for Python.\n",
        "\n",
        "(Generally when you need to pick a library out of several choices that all support the features you require, go for the one that is most widely used. When you encounter some issue, the more users a library has, the more likely it is that someony has already had that issue and got it resolved, either through StackOverflow or some other publicly available forum.)"
      ],
      "metadata": {
        "id": "arItl9gcsGZL"
      },
      "id": "arItl9gcsGZL"
    },
    {
      "cell_type": "code",
      "source": [
        "import matplotlib.pyplot as plt\n",
        "# This is a magical shortcut for making sure the visualisatons will be plotted nicely directly in the notebook:\n",
        "%matplotlib inline"
      ],
      "metadata": {
        "id": "hVEnZpeysD82"
      },
      "id": "hVEnZpeysD82",
      "execution_count": 17,
      "outputs": []
    },
    {
      "cell_type": "code",
      "source": [
        "# Let's just plot the Cantus ID frequencies, sorted from highest to lowest."
      ],
      "metadata": {
        "id": "HLMlb_AitppN"
      },
      "id": "HLMlb_AitppN",
      "execution_count": 18,
      "outputs": []
    },
    {
      "cell_type": "code",
      "source": [
        "cid_frequencies_sorted = list(sorted(cid_frequencies.values(), reverse=True))  # sorted() by default goes from lowest to highest\n",
        "\n",
        "plt.plot(cid_frequencies_sorted)\n",
        "plt.xlabel('n-th largest Cantus ID')   # Best practice: always label both axes.\n",
        "plt.ylabel('Number of Cantus ID occurrences')\n",
        "plt.show()"
      ],
      "metadata": {
        "colab": {
          "base_uri": "https://localhost:8080/",
          "height": 449
        },
        "id": "wfPCC1GOtz3S",
        "outputId": "bc32a0b4-ab58-4631-ec4a-6ec9a0ed29d6"
      },
      "id": "wfPCC1GOtz3S",
      "execution_count": 19,
      "outputs": [
        {
          "output_type": "display_data",
          "data": {
            "text/plain": [
              "<Figure size 640x480 with 1 Axes>"
            ],
            "image/png": "[encoded data removed]"
          },
          "metadata": {}
        }
      ]
    },
    {
      "cell_type": "markdown",
      "source": [
        "Something is wrong: the most frequent Cantus ID occurred more than 10000 times, which makes the rest of the plot rather uninformative. This is very likely a case of missing data --- records with no Cantus ID present, which get loaded as an empty string. Let's see:"
      ],
      "metadata": {
        "id": "-dkZMzxNuhQV"
      },
      "id": "-dkZMzxNuhQV"
    },
    {
      "cell_type": "code",
      "source": [
        "cid_frequencies['']"
      ],
      "metadata": {
        "colab": {
          "base_uri": "https://localhost:8080/"
        },
        "id": "X6oelNm4t6Rn",
        "outputId": "e713ed00-840a-4eee-f98e-296651befd45"
      },
      "id": "X6oelNm4t6Rn",
      "execution_count": 20,
      "outputs": [
        {
          "output_type": "execute_result",
          "data": {
            "text/plain": [
              "10244"
            ]
          },
          "metadata": {},
          "execution_count": 20
        }
      ]
    },
    {
      "cell_type": "markdown",
      "source": [
        "Yes, that was it. Let's re-compute the frequencies while accounting for this:\n",
        "\n"
      ],
      "metadata": {
        "id": "ghMtuGdsvYXa"
      },
      "id": "ghMtuGdsvYXa"
    },
    {
      "cell_type": "code",
      "source": [
        "n_empty_cids = 0\n",
        "cid_frequencies = {}  # We can use 'cid' as the abbreviation for Cantus ID. It is sufficiently distinct.\n",
        "for chant in chants:\n",
        "  cid = chant['cantus_id']\n",
        "\n",
        "  if cid == '':   # Here we deal with the missing values: just document how many there are.\n",
        "    n_empty_cids += 1\n",
        "    continue\n",
        "\n",
        "  if cid not in cid_frequencies:\n",
        "    cid_frequencies[cid] = 0\n",
        "  cid_frequencies[cid] += 1   # '+=' means 'add and modify original'. It's shorthand for cid_frequencies[cid] = cid_frequencies[cid] + 1"
      ],
      "metadata": {
        "id": "IUKQ-KU9vWOU"
      },
      "id": "IUKQ-KU9vWOU",
      "execution_count": 21,
      "outputs": []
    },
    {
      "cell_type": "markdown",
      "source": [
        "Now we plot the CID counts again:"
      ],
      "metadata": {
        "id": "_XBbRXWnvXfF"
      },
      "id": "_XBbRXWnvXfF"
    },
    {
      "cell_type": "code",
      "source": [
        "cid_frequencies_sorted = list(sorted(cid_frequencies.values(), reverse=True))  # sorted() by default goes from lowest to highest\n",
        "\n",
        "plt.plot(cid_frequencies_sorted)\n",
        "plt.xlabel('n-th largest Cantus ID')   # Best practice: always label both axes.\n",
        "plt.ylabel('Number of Cantus ID occurrences')\n",
        "plt.show()"
      ],
      "metadata": {
        "colab": {
          "base_uri": "https://localhost:8080/",
          "height": 449
        },
        "id": "_v5Bp28zxiS5",
        "outputId": "2880686c-8032-4ed8-ef83-eda2b217470d"
      },
      "id": "_v5Bp28zxiS5",
      "execution_count": 22,
      "outputs": [
        {
          "output_type": "display_data",
          "data": {
            "text/plain": [
              "<Figure size 640x480 with 1 Axes>"
            ],
            "image/png": "[encoded data removed]"
          },
          "metadata": {}
        }
      ]
    },
    {
      "cell_type": "markdown",
      "source": [
        "...and we still have some problem! It was not just the empty ones.\n",
        "Let's see the highest-frequency values."
      ],
      "metadata": {
        "id": "qZRDFN9Cxn6s"
      },
      "id": "qZRDFN9Cxn6s"
    },
    {
      "cell_type": "code",
      "source": [
        "cid_and_frequency_pairs_sorted = list(\n",
        "    sorted(cid_frequencies.items(),    # The .items() function of a dictionary returns an iterator over all key-value pairs\n",
        "           reverse=True,               # We still want to go from highest to lowest\n",
        "           key=lambda kv: kv[1]        # ...so we have to sort by the *value* part of the (key, value) pair.\n",
        "           )\n",
        "    )                                  # Finally, we turn the whole thing into a regular list,\n",
        "                                       # to not have to deal with some Python efficiency magic on sorted() and .items()."
      ],
      "metadata": {
        "id": "7LB6Sq5zxiqy"
      },
      "id": "7LB6Sq5zxiqy",
      "execution_count": 23,
      "outputs": []
    },
    {
      "cell_type": "code",
      "source": [
        "cid_and_frequency_pairs_sorted[:10]"
      ],
      "metadata": {
        "colab": {
          "base_uri": "https://localhost:8080/"
        },
        "id": "AHDmUPOQx2EC",
        "outputId": "3d902db6-524e-4e4b-a7db-309384707843"
      },
      "id": "AHDmUPOQx2EC",
      "execution_count": 24,
      "outputs": [
        {
          "output_type": "execute_result",
          "data": {
            "text/plain": [
              "[('909000', 8883),\n",
              " ('008097', 908),\n",
              " ('008081', 867),\n",
              " ('001328', 840),\n",
              " ('909030', 796),\n",
              " ('008201', 750),\n",
              " ('008014', 719),\n",
              " ('008120', 666),\n",
              " ('008301', 593),\n",
              " ('007941', 565)]"
            ]
          },
          "metadata": {},
          "execution_count": 24
        }
      ]
    },
    {
      "cell_type": "markdown",
      "source": [
        "OK, `909000` looks like a legitimate Cantus ID. What chant does it represent?"
      ],
      "metadata": {
        "id": "IhSLyuhcy0h4"
      },
      "id": "IhSLyuhcy0h4"
    },
    {
      "cell_type": "code",
      "source": [
        "chants_with_909000 = [c for c in chants if c['cantus_id'] == '909000']"
      ],
      "metadata": {
        "id": "4IOxjWAGx4Uu"
      },
      "id": "4IOxjWAGx4Uu",
      "execution_count": 25,
      "outputs": []
    },
    {
      "cell_type": "code",
      "source": [
        "chants_with_909000[0]"
      ],
      "metadata": {
        "colab": {
          "base_uri": "https://localhost:8080/"
        },
        "id": "c3m9EJHky70v",
        "outputId": "c540861b-4d42-48a0-96ae-7fe4d102eb47"
      },
      "id": "c3m9EJHky70v",
      "execution_count": 26,
      "outputs": [
        {
          "output_type": "execute_result",
          "data": {
            "text/plain": [
              "{'id': 'chant_000564',\n",
              " 'incipit': '-loria patri et filio et',\n",
              " 'cantus_id': '909000',\n",
              " 'mode': '1',\n",
              " 'finalis': '',\n",
              " 'differentia': '',\n",
              " 'siglum': 'HR-Dsmbb XI',\n",
              " 'position': '02',\n",
              " 'folio': '125r',\n",
              " 'sequence': '1.0',\n",
              " 'marginalia': '',\n",
              " 'cao_concordances': '',\n",
              " 'feast_id': 'feast_0577',\n",
              " 'genre_id': 'genre_v',\n",
              " 'office_id': 'office_m',\n",
              " 'source_id': '',\n",
              " 'melody_id': '',\n",
              " 'drupal_path': 'https://cantusdatabase.org/chant/279117',\n",
              " 'full_text': '',\n",
              " 'full_text_manuscript': '',\n",
              " 'volpiano': '',\n",
              " 'notes': ''}"
            ]
          },
          "metadata": {},
          "execution_count": 26
        }
      ]
    },
    {
      "cell_type": "code",
      "source": [
        "chants_with_909000[1]"
      ],
      "metadata": {
        "colab": {
          "base_uri": "https://localhost:8080/"
        },
        "id": "wQ_VJWhTy8-F",
        "outputId": "c83406df-1018-42e8-b9c7-d405d881ac1e"
      },
      "id": "wQ_VJWhTy8-F",
      "execution_count": 27,
      "outputs": [
        {
          "output_type": "execute_result",
          "data": {
            "text/plain": [
              "{'id': 'chant_139928',\n",
              " 'incipit': 'Doxa patri et filio et',\n",
              " 'cantus_id': '909000',\n",
              " 'mode': '8S',\n",
              " 'finalis': '',\n",
              " 'differentia': '',\n",
              " 'siglum': 'SI-Lna 18 (olim 17)',\n",
              " 'position': '02',\n",
              " 'folio': '185v',\n",
              " 'sequence': '2.0',\n",
              " 'marginalia': '',\n",
              " 'cao_concordances': '',\n",
              " 'feast_id': 'feast_0888',\n",
              " 'genre_id': 'genre_v',\n",
              " 'office_id': 'office_m',\n",
              " 'source_id': 'source_236',\n",
              " 'melody_id': '',\n",
              " 'drupal_path': 'https://cantusdatabase.org/chant/344226',\n",
              " 'full_text': '',\n",
              " 'full_text_manuscript': '',\n",
              " 'volpiano': '',\n",
              " 'notes': ''}"
            ]
          },
          "metadata": {},
          "execution_count": 27
        }
      ]
    },
    {
      "cell_type": "code",
      "source": [
        "chants_with_909000[2]"
      ],
      "metadata": {
        "colab": {
          "base_uri": "https://localhost:8080/"
        },
        "id": "rc8M8xKoy_rP",
        "outputId": "b96d92b0-fe85-45c6-a011-6200bd48e557"
      },
      "id": "rc8M8xKoy_rP",
      "execution_count": 28,
      "outputs": [
        {
          "output_type": "execute_result",
          "data": {
            "text/plain": [
              "{'id': 'chant_173090',\n",
              " 'incipit': 'Et gloria*',\n",
              " 'cantus_id': '909000',\n",
              " 'mode': '*',\n",
              " 'finalis': '',\n",
              " 'differentia': '',\n",
              " 'siglum': 'A-Wn Mus.Hs.15489',\n",
              " 'position': '02',\n",
              " 'folio': '040r',\n",
              " 'sequence': '7.0',\n",
              " 'marginalia': '',\n",
              " 'cao_concordances': '',\n",
              " 'feast_id': 'feast_0552',\n",
              " 'genre_id': 'genre_v',\n",
              " 'office_id': 'office_m',\n",
              " 'source_id': '',\n",
              " 'melody_id': '',\n",
              " 'drupal_path': 'https://cantusdatabase.org/chant/572245',\n",
              " 'full_text': 'Et gloria*',\n",
              " 'full_text_manuscript': '{Et gloria}',\n",
              " 'volpiano': '',\n",
              " 'notes': ''}"
            ]
          },
          "metadata": {},
          "execution_count": 28
        }
      ]
    },
    {
      "cell_type": "markdown",
      "source": [
        "It's the **doxology**!\n",
        "\n",
        "This is a great example of how the interaction between domain knowledge and computing skills is necessary. These are legitimate chant records: they have all the required information, they have a valid Cantus ID, they record what manuscript they come from, etc. So, those are not mistakes, in the sense in which the empty Cantus ID records were invalid.\n",
        "\n",
        "What to do? Should we actually treat this as the most frequent Cantus ID? Should it participate in computing the average number of chants per Cantus ID? (Incidentally, the invalid records with no Cantus ID participated in that average as well.)\n",
        "\n",
        "Here is where domain knowledge comes in. The doxology is the phrase:\n",
        "\n",
        "_'Gloria Patri et Filii et Spiritui Sancto_\n",
        "\n",
        "_sicut erat in principio et nunc et semper, et in saecula saeculorum. Amen.'_\n",
        "\n",
        "which is added at the end of every psalm, and into many other chants, esp. those genres that use psalm verses as their texts. The doxology is not recorded too often, but because it occurs so many times in liturgy, when scribal practices of a certain time and place included recording the doxology as a separate unit (even if just in some contexts), then its frequency skyrockets.\n",
        "\n",
        "So for the purpose of obtaining useful descriptive statistics, the doxology is not too helpful. Let's exclude it.\n",
        "\n",
        "We can implement this via keeping a list of excluded Cantus IDs:"
      ],
      "metadata": {
        "id": "nET4X19VzMw6"
      },
      "id": "nET4X19VzMw6"
    },
    {
      "cell_type": "code",
      "source": [
        "# Again we write the variable name in capitals, because it is something we set \"from above\".\n",
        "EXCLUDED_CANTUS_IDS = ['',\n",
        "                       '909000']  # Doxology"
      ],
      "metadata": {
        "id": "rOcwEcfKzLjL"
      },
      "id": "rOcwEcfKzLjL",
      "execution_count": 29,
      "outputs": []
    },
    {
      "cell_type": "code",
      "source": [
        "# And we re-do the frequency counting\n",
        "n_empty_cids = 0\n",
        "n_excluded_cids = 0\n",
        "cid_frequencies = {}  # We can use 'cid' as the abbreviation for Cantus ID. It is sufficiently distinct.\n",
        "for chant in chants:\n",
        "  cid = chant['cantus_id']\n",
        "\n",
        "  if cid in EXCLUDED_CANTUS_IDS:   # Updated from only missing values to all excluded values\n",
        "    n_excluded_cids += 1\n",
        "    if cid == '':\n",
        "      n_empty_cids += 1    # We still want to document empty Cantus IDs, to perhaps do some data quality work later.\n",
        "    continue\n",
        "\n",
        "  if cid not in cid_frequencies:\n",
        "    cid_frequencies[cid] = 0\n",
        "  cid_frequencies[cid] += 1   # '+=' means 'add and modify original'. It's shorthand for cid_frequencies[cid] = cid_frequencies[cid] + 1"
      ],
      "metadata": {
        "id": "9rV9RSuYzBPn"
      },
      "id": "9rV9RSuYzBPn",
      "execution_count": 30,
      "outputs": []
    },
    {
      "cell_type": "code",
      "source": [
        "print('Total distinct CIDs (exclusions applied): {}\\nChants with excluded CIDs: {}, of those empty CIDs: {}'\n",
        "      ''.format(len(cid_frequencies), n_excluded_cids, n_empty_cids))\n",
        "\n",
        "# We also have to adjust the basic statistics we are going to use down the road.\n",
        "n_distinct_chants = len(cid_frequencies)\n",
        "n_chants = n_chants - n_excluded_cids\n",
        "print('Average no. of chants per CID: {:.2f}'.format(n_chants / n_distinct_chants))"
      ],
      "metadata": {
        "colab": {
          "base_uri": "https://localhost:8080/"
        },
        "id": "aXSjtf8m1sV2",
        "outputId": "5169798c-51ec-424a-e2b5-82c97fa93d24"
      },
      "id": "aXSjtf8m1sV2",
      "execution_count": 33,
      "outputs": [
        {
          "output_type": "stream",
          "name": "stdout",
          "text": [
            "Total distinct CIDs (exclusions applied): 31499\n",
            "Chants with excluded CIDs: 19127, of those empty CIDs: 10244\n",
            "Average no. of chants per CID: 14.57\n"
          ]
        }
      ]
    },
    {
      "cell_type": "markdown",
      "source": [
        "And we re-do the plotting:"
      ],
      "metadata": {
        "id": "PvuvuvUf2BhJ"
      },
      "id": "PvuvuvUf2BhJ"
    },
    {
      "cell_type": "code",
      "source": [
        "cid_frequencies_sorted = list(sorted(cid_frequencies.values(), reverse=True))  # sorted() by default goes from lowest to highest\n",
        "\n",
        "plt.plot(cid_frequencies_sorted)\n",
        "plt.xlabel('n-th largest Cantus ID')   # Best practice: always label both axes.\n",
        "plt.ylabel('Number of Cantus ID occurrences')\n",
        "plt.show()"
      ],
      "metadata": {
        "colab": {
          "base_uri": "https://localhost:8080/",
          "height": 449
        },
        "id": "7Kn_yHFj13TD",
        "outputId": "0e2a9b79-d08b-4de6-8b31-eba2aa60b6fa"
      },
      "id": "7Kn_yHFj13TD",
      "execution_count": 34,
      "outputs": [
        {
          "output_type": "display_data",
          "data": {
            "text/plain": [
              "<Figure size 640x480 with 1 Axes>"
            ],
            "image/png": "[encoded data removed]"
          },
          "metadata": {}
        }
      ]
    },
    {
      "cell_type": "markdown",
      "source": [
        "These are suddenly more reasonable numbers! We know that the Cantus database contains a few hundred sources at most, and some very frequent chants can occur multiple times within a source, so having some very small number of chants that have frequencies like 500 or even 900 is probably not a mistake or not something strange that would require excluding the Cantus ID."
      ],
      "metadata": {
        "id": "sLa5WjrI2O8m"
      },
      "id": "sLa5WjrI2O8m"
    },
    {
      "cell_type": "markdown",
      "source": [
        "But we should certainly check again, just to be sure!\n",
        "\n",
        "Let's re-compute the list of most frequent Cantus IDs and their frequencies:"
      ],
      "metadata": {
        "id": "RfDclIin2nyq"
      },
      "id": "RfDclIin2nyq"
    },
    {
      "cell_type": "code",
      "source": [
        "cid_and_frequency_pairs_sorted = list(\n",
        "    sorted(cid_frequencies.items(),    # The .items() function of a dictionary returns an iterator over all key-value pairs\n",
        "           reverse=True,               # We still want to go from highest to lowest\n",
        "           key=lambda kv: kv[1]        # ...so we have to sort by the *value* part of the (key, value) pair.\n",
        "           )\n",
        "    )                                  # Finally, we turn the whole thing into a regular list,\n",
        "                                       # to not have to deal with some Python efficiency magic on sorted() and .items()."
      ],
      "metadata": {
        "id": "N5Gr2tmK2IHi"
      },
      "id": "N5Gr2tmK2IHi",
      "execution_count": 35,
      "outputs": []
    },
    {
      "cell_type": "code",
      "source": [
        "cid_and_frequency_pairs_sorted[:10]"
      ],
      "metadata": {
        "colab": {
          "base_uri": "https://localhost:8080/"
        },
        "id": "02KiGK7w2w1c",
        "outputId": "e4e1840c-cf9b-41f1-df17-73e7a148df50"
      },
      "id": "02KiGK7w2w1c",
      "execution_count": 36,
      "outputs": [
        {
          "output_type": "execute_result",
          "data": {
            "text/plain": [
              "[('008097', 908),\n",
              " ('008081', 867),\n",
              " ('001328', 840),\n",
              " ('909030', 796),\n",
              " ('008201', 750),\n",
              " ('008014', 719),\n",
              " ('008120', 666),\n",
              " ('008301', 593),\n",
              " ('007941', 565),\n",
              " ('007994', 555)]"
            ]
          },
          "metadata": {},
          "execution_count": 36
        }
      ]
    },
    {
      "cell_type": "markdown",
      "source": [
        "Again we take a look at what the most frequent Cantus ID represents:"
      ],
      "metadata": {
        "id": "tA5Bf4313CFh"
      },
      "id": "tA5Bf4313CFh"
    },
    {
      "cell_type": "code",
      "source": [
        "chants_with_008097 = [c for c in chants if c['cantus_id'] == '008097']\n",
        "for i in range(3):\n",
        "  # print(chants_with_008097[i])    # This is hard to read. But we have the convenient print_chant() function defined earlier!\n",
        "  print_chant(chants_with_008097[i])\n",
        "  print('-----')  # Because print_chant() does not separate between the printed records..."
      ],
      "metadata": {
        "collapsed": true,
        "colab": {
          "base_uri": "https://localhost:8080/"
        },
        "id": "ou1oQhPy2zwT",
        "outputId": "b5ae168d-0f4d-4f3f-c725-9cf33ba20c94"
      },
      "id": "ou1oQhPy2zwT",
      "execution_count": 37,
      "outputs": [
        {
          "output_type": "stream",
          "name": "stdout",
          "text": [
            "id: chant_241753\n",
            "incipit: In omnem fratem*\n",
            "cantus_id: 008097\n",
            "mode: *\n",
            "finalis: \n",
            "differentia: \n",
            "siglum: CDN-Hsmu M2149.L4\n",
            "position: 1.\n",
            "folio: 180r\n",
            "sequence: 2.0\n",
            "marginalia: \n",
            "cao_concordances: \n",
            "feast_id: feast_0180\n",
            "genre_id: genre_w\n",
            "office_id: office_m\n",
            "source_id: source_297\n",
            "melody_id: \n",
            "drupal_path: https://cantusdatabase.org/chant/272330\n",
            "full_text: In omnem fratem*\n",
            "full_text_manuscript: In omnem fratem\n",
            "volpiano: \n",
            "notes: \n",
            "-----\n",
            "id: chant_241756\n",
            "incipit: In omnem terra*\n",
            "cantus_id: 008097\n",
            "mode: *\n",
            "finalis: \n",
            "differentia: \n",
            "siglum: US-Cn 24\n",
            "position: R\n",
            "folio: 072r\n",
            "sequence: 5.0\n",
            "marginalia: A\n",
            "cao_concordances: C BEMVHRD SL\n",
            "feast_id: feast_1607\n",
            "genre_id: genre_w\n",
            "office_id: office_l\n",
            "source_id: source_072\n",
            "melody_id: \n",
            "drupal_path: https://cantusdatabase.org/chant/220918\n",
            "full_text: \n",
            "full_text_manuscript: \n",
            "volpiano: \n",
            "notes: \n",
            "-----\n",
            "id: chant_241761\n",
            "incipit: In omnem terram\n",
            "cantus_id: 008097\n",
            "mode: \n",
            "finalis: \n",
            "differentia: \n",
            "siglum: CZ Pu VI.E.4c\n",
            "position: 1.\n",
            "folio: 083r\n",
            "sequence: 7.0\n",
            "marginalia: \n",
            "cao_concordances: C BEMVHRD SL\n",
            "feast_id: feast_0994\n",
            "genre_id: genre_w\n",
            "office_id: office_m\n",
            "source_id: \n",
            "melody_id: \n",
            "drupal_path: https://cantusdatabase.org/chant/462368\n",
            "full_text: In omnem terram R. Exivit sonus eorum et in fines orbis terrae verba eorum\n",
            "full_text_manuscript: \n",
            "volpiano: \n",
            "notes: \n",
            "-----\n"
          ]
        }
      ]
    },
    {
      "cell_type": "markdown",
      "source": [
        "It turns out that this is a versicle (genre: W) for the Divine Office when there is a feast scheduled in the liturgical calendar that has something to do with an apostle (Peter, John, Mark, Thomas, etc.). No wonder that it is very frequent. But this is no anomaly. It should stay in the database."
      ],
      "metadata": {
        "id": "IKLWq0Kr34b_"
      },
      "id": "IKLWq0Kr34b_"
    },
    {
      "cell_type": "markdown",
      "source": [
        "**Digression 3: Aggregating information from chant records**\n",
        "\n",
        "When we inspected the record above, not all records of the chant across different manuscripts actually corresponded to the same liturgical position. We have a 'hard' expectation that chants from the same Cantus ID all belong to the same genre. We expect chants from different manuscripts to of course not have the same siglum, folio, or other attributes connected to the manuscript itself.\n",
        "\n",
        "But then there are liturgical properties like which feast a chant is used for, which office and which position it occupies within that office. These have often been used to identify different \"uses\" or \"sub-traditions\". For instance, monastic orders could have differed in what chants they chose e.g. for Marian feasts.\n",
        "\n",
        "This variability might be reflected for some Cantus IDs in that these properties vary a lot across the different instances of the given chant in manuscripts. Again, however, this is not something we can really inspect manually at this scale: finding such chants calls for automation.\n",
        "\n",
        "Though it is not easy to define what is a 'sufficiently varied' use of a chant, the first step towards this is simply **aggregating chants that share a Cantus ID**. (We may already want this in the same way that Cantus Index wants this: to be able to say at least which single value represents each field of a chant the most.)"
      ],
      "metadata": {
        "id": "BeJD3IUA4Q0l"
      },
      "id": "BeJD3IUA4Q0l"
    },
    {
      "cell_type": "markdown",
      "source": [
        "For this purpose, we define a new abstraction above the dataset. For the lack of a better term, we call this a **work** (though of course for Gregorian chant this is quite a poor designation...).\n",
        "\n",
        "Programming practices dictate that new complex entities derived from our dataset should be implemented as classes. (Representing \"things\" is exactly what object-oriented programming was born to do!)"
      ],
      "metadata": {
        "id": "ZbwwdInj6iJ3"
      },
      "id": "ZbwwdInj6iJ3"
    },
    {
      "cell_type": "code",
      "source": [
        "class Work:\n",
        "\n",
        "  ALL_CHANT_FIELDS = fieldnames\n",
        "\n",
        "  # Aggregation policies\n",
        "  # --------------------\n",
        "\n",
        "  # Here we define how we handle aggregation of the different fields\n",
        "  # available for each chant record.\n",
        "\n",
        "  # These fields we cannot aggregate, because they are by definition\n",
        "  # unique to a chant's instance in a manuscript.\n",
        "  MANUSCRIPT_FIELDS = ['siglum', 'sequence', 'folio', 'marginalia', 'source_id', 'drupal_path',\n",
        "                       'full_text_manuscript',\n",
        "                       'volpiano',              # Melodies are practically never the same and exctracting a characteristic melody\n",
        "                                                # is what Solesmes does for the last 150 years or so.\n",
        "                       'notes']\n",
        "\n",
        "  # These fields we expect to have a variety of values, and we are interested\n",
        "  # in the characteristic value of these.\n",
        "  CHARACTERISTIC_FIELDS = ['incipit', 'genre_id', # We include genre here, even though it should be single-value, for reporting.\n",
        "                           'mode', 'finalis', 'differentia',\n",
        "                           'position',   # 'position' is liturgical position, 'sequence' is position on the page\n",
        "                           'office_id', 'feast_id'\n",
        "                           ]\n",
        "\n",
        "  # These fields are expected to only have a single value and if they don't\n",
        "  # the Work cannot be constructed.\n",
        "  SINGLE_VALUE_ENFORCED_FIELDS = ['cantus_id']\n",
        "\n",
        "  # Those should be consistent, but we allow them to be also empty\n",
        "  # and if they are not consistent we do not care as much.\n",
        "  SINGLE_VALUE_OR_EMPTY_FIELDS = ['genre_id', 'full_text', 'cao_concordances']\n",
        "\n",
        "  # These fields have no point for a Work.\n",
        "  IGNORED_FIELDS = ['melody_id', 'id']\n",
        "\n",
        "\n",
        "  def __init__(self, chants):       # In Python, __init__() is a special function that is run when a new object of that class is created.\n",
        "                                    # The 'self' parameter always refers to the current instance of the class.\n",
        "\n",
        "    # Check that we got at least some chants\n",
        "    if len(chants) == 0:\n",
        "      raise ValueError('Work must have at least one chant!')\n",
        "\n",
        "    # Check that all the chants really have the same Cantus ID\n",
        "    all_cantus_ids = set(c['cantus_id'] for c in chants)\n",
        "    if len(all_cantus_ids) >= 2:   # More than 1 Cantus ID\n",
        "      raise ValueError('A Work cannot be built from chants with different Cantus IDs!'\n",
        "                       ' Tried to construct work with Cantus IDs: {}'.format(all_cantus_ids))\n",
        "\n",
        "    self.chants = chants\n",
        "    self.cantus_id = self.chants[0]['cantus_id']\n",
        "\n",
        "    # Now we compute and store the characteristic values\n",
        "    self.characteristic_values = {}\n",
        "    self.characteristic_freqdicts = {}\n",
        "    for f in self.CHARACTERISTIC_FIELDS:\n",
        "       characteristic_value, characteristic_freqdict = self.determine_characteristic_value_and_freqdict(f)\n",
        "       self.characteristic_values[f] = characteristic_value\n",
        "       self.characteristic_freqdicts[f] = characteristic_freqdict\n",
        "\n",
        "    # We actually leave the policy for single-value-or-empty fields\n",
        "    # not implemented for now, it's not important for the rest of the notebook.\n",
        "    # (This is actually a real software development practice. Defining\n",
        "    #  what something is supposed to do is often much more important than\n",
        "    #  actually implementing that functionality.)\n",
        "\n",
        "\n",
        "  def __len__(self):   # The __str__(self) special method determines how the class reacts to len(work)\n",
        "    return len(self.chants)\n",
        "\n",
        "  def __str__(self):   # The __str__(self) special method determines how the class reacts to print(work)\n",
        "    header_string = 'Work CID {}: {} chants, characteristics:'.format(self.cantus_id, len(self))\n",
        "    characteristic_strings = ['\\t{}:\\t{}'.format(f, self.characteristic_values[f])\n",
        "                              for f in self.CHARACTERISTIC_FIELDS]\n",
        "    characteristic_string = '\\n'.join(characteristic_strings)\n",
        "    output = header_string + '\\n' + characteristic_string\n",
        "    return output\n",
        "\n",
        "\n",
        "  def determine_characteristic_value_and_freqdict(self, field):\n",
        "    \"\"\"Return the characteristic (most frequent) value for the given field\n",
        "    across all the work's chants. In case of a tie, returns a random value\n",
        "    from the tied highest-frequency value set.\n",
        "\n",
        "    Also return a frequency dictionary of all values for that field.\"\"\"\n",
        "\n",
        "    # Guarding against invalid input. This is in some sense unnecessary, but it can save painful debugging.\n",
        "    if field not in self.ALL_CHANT_FIELDS:\n",
        "      raise ValueError('Invalid field: {}! Available fields: {}'.format(field, self.ALL_CHANT_FIELDS))\n",
        "\n",
        "    most_frequent_values = set()   # There may be a tie for the highest-frequency value\n",
        "    highest_frequency = -1\n",
        "\n",
        "    value_frequencies = {}\n",
        "    for c in self.chants:\n",
        "      v = c[field]\n",
        "\n",
        "      # Accumulating the freuqency dictionary\n",
        "      if v not in value_frequencies:\n",
        "        value_frequencies[v] = 0\n",
        "      value_frequencies[v] += 1\n",
        "\n",
        "      # Keeping track of the characteristic value\n",
        "      current_frequency = value_frequencies[v]\n",
        "      if current_frequency == highest_frequency:\n",
        "        most_frequent_values.add(v)\n",
        "      elif current_frequency > highest_frequency:\n",
        "        most_frequent_values = set([v])\n",
        "        highest_frequency = current_frequency\n",
        "\n",
        "    # We actually don't bother with the ties for now when returning a value for now...\n",
        "    return list(most_frequent_values)[0], value_frequencies"
      ],
      "metadata": {
        "id": "4zZfTCBx3H_c"
      },
      "id": "4zZfTCBx3H_c",
      "execution_count": 38,
      "outputs": []
    },
    {
      "cell_type": "markdown",
      "source": [
        "And we define also a convenience function to create works from a list of chants and a Cantus ID:"
      ],
      "metadata": {
        "id": "HxoEE56eCE1K"
      },
      "id": "HxoEE56eCE1K"
    },
    {
      "cell_type": "code",
      "source": [
        "def create_work(cantus_id, chants):\n",
        "  relevant_chants = [c for c in chants if c['cantus_id'] == cantus_id]\n",
        "  work = Work(chants=relevant_chants)\n",
        "  return work"
      ],
      "metadata": {
        "id": "BrlsNeX_7TKt"
      },
      "id": "BrlsNeX_7TKt",
      "execution_count": 39,
      "outputs": []
    },
    {
      "cell_type": "markdown",
      "source": [
        "Let's try it out!"
      ],
      "metadata": {
        "id": "Eim3lEomCSH2"
      },
      "id": "Eim3lEomCSH2"
    },
    {
      "cell_type": "code",
      "source": [
        "work_003511 = create_work('003511', chants)   # Cantus IDs often look like numbers, but they are always strings."
      ],
      "metadata": {
        "id": "eLWue6Fd7T3z"
      },
      "id": "eLWue6Fd7T3z",
      "execution_count": 40,
      "outputs": []
    },
    {
      "cell_type": "code",
      "source": [
        "print(work_003511)"
      ],
      "metadata": {
        "colab": {
          "base_uri": "https://localhost:8080/"
        },
        "id": "08jE8R6dFb6J",
        "outputId": "c20ddfb9-9a1a-41c6-be2f-d98fc30a3a8b"
      },
      "id": "08jE8R6dFb6J",
      "execution_count": 41,
      "outputs": [
        {
          "output_type": "stream",
          "name": "stdout",
          "text": [
            "Work CID 003511: 132 chants, characteristics:\n",
            "\tincipit:\tJudaea et Jerusalem nolite\n",
            "\tgenre_id:\tgenre_a\n",
            "\tmode:\t8\n",
            "\tfinalis:\t\n",
            "\tdifferentia:\tG1\n",
            "\tposition:\t1\n",
            "\toffice_id:\toffice_l\n",
            "\tfeast_id:\tfeast_1765\n"
          ]
        }
      ]
    },
    {
      "cell_type": "markdown",
      "source": [
        "We can inspect the distribution of values for the individual characteristic fields:"
      ],
      "metadata": {
        "id": "0-nRt95HHod_"
      },
      "id": "0-nRt95HHod_"
    },
    {
      "cell_type": "code",
      "source": [
        "work_003511.characteristic_freqdicts['office_id']"
      ],
      "metadata": {
        "colab": {
          "base_uri": "https://localhost:8080/"
        },
        "id": "Vd8ELbBHDdhC",
        "outputId": "1087b395-8b98-4483-886c-25e3a745aa13"
      },
      "id": "Vd8ELbBHDdhC",
      "execution_count": 42,
      "outputs": [
        {
          "output_type": "execute_result",
          "data": {
            "text/plain": [
              "{'office_l': 95,\n",
              " 'office_v2': 10,\n",
              " 'office_v': 12,\n",
              " 'office_p': 14,\n",
              " 'office_t': 1}"
            ]
          },
          "metadata": {},
          "execution_count": 42
        }
      ]
    },
    {
      "cell_type": "code",
      "source": [
        "work_003511.characteristic_freqdicts['mode']"
      ],
      "metadata": {
        "colab": {
          "base_uri": "https://localhost:8080/"
        },
        "id": "o-E_3pZLD3it",
        "outputId": "7ab8735e-8f24-4acd-b170-a6b1fc96408f"
      },
      "id": "o-E_3pZLD3it",
      "execution_count": 43,
      "outputs": [
        {
          "output_type": "execute_result",
          "data": {
            "text/plain": [
              "{'8': 90, '': 9, '?': 8, '*': 22, 'Gc': 1, '8*': 1, '5': 1}"
            ]
          },
          "metadata": {},
          "execution_count": 43
        }
      ]
    },
    {
      "cell_type": "code",
      "source": [
        "work_003511.characteristic_freqdicts['differentia']"
      ],
      "metadata": {
        "colab": {
          "base_uri": "https://localhost:8080/"
        },
        "id": "mi_Nfr5RD7a9",
        "outputId": "34c0a5fc-5e92-4b56-a900-a89f4108e341"
      },
      "id": "mi_Nfr5RD7a9",
      "execution_count": 44,
      "outputs": [
        {
          "output_type": "execute_result",
          "data": {
            "text/plain": [
              "{'G1': 36,\n",
              " '': 32,\n",
              " '1': 21,\n",
              " '2': 2,\n",
              " 'w': 7,\n",
              " 'G2': 7,\n",
              " '*': 16,\n",
              " 'G5': 1,\n",
              " '?': 3,\n",
              " 'G01': 2,\n",
              " 'G': 4,\n",
              " '33c': 1}"
            ]
          },
          "metadata": {},
          "execution_count": 44
        }
      ]
    },
    {
      "cell_type": "code",
      "source": [
        "work_003511.characteristic_freqdicts['position']"
      ],
      "metadata": {
        "colab": {
          "base_uri": "https://localhost:8080/"
        },
        "id": "f2aGi9reEAD4",
        "outputId": "36423191-e49f-4813-e34f-78351e844859"
      },
      "id": "f2aGi9reEAD4",
      "execution_count": 45,
      "outputs": [
        {
          "output_type": "execute_result",
          "data": {
            "text/plain": [
              "{'1': 111, '4': 1, '': 20}"
            ]
          },
          "metadata": {},
          "execution_count": 45
        }
      ]
    },
    {
      "cell_type": "markdown",
      "source": [
        "Now we have a convenient way of characterising what individual Cantus IDs stand for. This is similar to what the user interface of Cantus Index does. (End of digression.)\n",
        "\n",
        "---\n",
        "\n"
      ],
      "metadata": {
        "id": "4N9ppfZLF-jm"
      },
      "id": "4N9ppfZLF-jm"
    },
    {
      "cell_type": "markdown",
      "source": [
        "**Now we get back to the most frequent Cantus IDs.** We can apply the Work class straight away to inspect the top 10 most frequent CIDs."
      ],
      "metadata": {
        "id": "a8vajX3BGOxN"
      },
      "id": "a8vajX3BGOxN"
    },
    {
      "cell_type": "code",
      "source": [
        "top_10_cids = [cf[0] for cf in cid_and_frequency_pairs_sorted[:10]]"
      ],
      "metadata": {
        "id": "7I2Jal_0EEdK"
      },
      "id": "7I2Jal_0EEdK",
      "execution_count": 46,
      "outputs": []
    },
    {
      "cell_type": "code",
      "source": [
        "for cid in top_10_cids:\n",
        "  work = create_work(cid, chants)\n",
        "  print(work)"
      ],
      "metadata": {
        "colab": {
          "base_uri": "https://localhost:8080/"
        },
        "id": "5yk4RwEjGaoo",
        "outputId": "dc881e89-1475-494f-dcd1-45a350108fab"
      },
      "id": "5yk4RwEjGaoo",
      "execution_count": 47,
      "outputs": [
        {
          "output_type": "stream",
          "name": "stdout",
          "text": [
            "Work CID 008097: 908 chants, characteristics:\n",
            "\tincipit:\tIn omnem terram*\n",
            "\tgenre_id:\tgenre_w\n",
            "\tmode:\t*\n",
            "\tfinalis:\t\n",
            "\tdifferentia:\t\n",
            "\tposition:\t\n",
            "\toffice_id:\toffice_m\n",
            "\tfeast_id:\tfeast_0198\n",
            "Work CID 008081: 867 chants, characteristics:\n",
            "\tincipit:\tGloria et honore*\n",
            "\tgenre_id:\tgenre_w\n",
            "\tmode:\t*\n",
            "\tfinalis:\t\n",
            "\tdifferentia:\t\n",
            "\tposition:\t\n",
            "\toffice_id:\toffice_m\n",
            "\tfeast_id:\tfeast_0258\n",
            "Work CID 001328: 840 chants, characteristics:\n",
            "\tincipit:\tAlleluia iii\n",
            "\tgenre_id:\tgenre_a\n",
            "\tmode:\t8\n",
            "\tfinalis:\t\n",
            "\tdifferentia:\t*\n",
            "\tposition:\t\n",
            "\toffice_id:\toffice_m\n",
            "\tfeast_id:\tfeast_0473\n",
            "Work CID 909030: 796 chants, characteristics:\n",
            "\tincipit:\tVenite exsultemus domino\n",
            "\tgenre_id:\tgenre_ip\n",
            "\tmode:\t\n",
            "\tfinalis:\t\n",
            "\tdifferentia:\t\n",
            "\tposition:\t\n",
            "\toffice_id:\toffice_m\n",
            "\tfeast_id:\tfeast_0966\n",
            "Work CID 008201: 750 chants, characteristics:\n",
            "\tincipit:\tSpecie tua*\n",
            "\tgenre_id:\tgenre_w\n",
            "\tmode:\t*\n",
            "\tfinalis:\t\n",
            "\tdifferentia:\t\n",
            "\tposition:\t\n",
            "\toffice_id:\toffice_m\n",
            "\tfeast_id:\tfeast_0234\n",
            "Work CID 008014: 719 chants, characteristics:\n",
            "\tincipit:\tDiffusa est gratia*\n",
            "\tgenre_id:\tgenre_w\n",
            "\tmode:\t*\n",
            "\tfinalis:\t\n",
            "\tdifferentia:\t\n",
            "\tposition:\t\n",
            "\toffice_id:\toffice_m\n",
            "\tfeast_id:\tfeast_0234\n",
            "Work CID 008120: 666 chants, characteristics:\n",
            "\tincipit:\tLaetamini in domino*\n",
            "\tgenre_id:\tgenre_w\n",
            "\tmode:\t*\n",
            "\tfinalis:\t\n",
            "\tdifferentia:\t\n",
            "\tposition:\t\n",
            "\toffice_id:\toffice_m\n",
            "\tfeast_id:\tfeast_1283\n",
            "Work CID 008301: 593 chants, characteristics:\n",
            "\tincipit:\tExsultet caelum*\n",
            "\tgenre_id:\tgenre_h\n",
            "\tmode:\t*\n",
            "\tfinalis:\t\n",
            "\tdifferentia:\t\n",
            "\tposition:\t\n",
            "\toffice_id:\toffice_v\n",
            "\tfeast_id:\tfeast_0198\n",
            "Work CID 007941: 565 chants, characteristics:\n",
            "\tincipit:\tAmavit eum dominus*\n",
            "\tgenre_id:\tgenre_w\n",
            "\tmode:\t*\n",
            "\tfinalis:\t\n",
            "\tdifferentia:\t\n",
            "\tposition:\t\n",
            "\toffice_id:\toffice_m\n",
            "\tfeast_id:\tfeast_1125\n",
            "Work CID 007994: 555 chants, characteristics:\n",
            "\tincipit:\tConstitues eos principes*\n",
            "\tgenre_id:\tgenre_w\n",
            "\tmode:\t*\n",
            "\tfinalis:\t\n",
            "\tdifferentia:\t\n",
            "\tposition:\t2.\n",
            "\toffice_id:\toffice_m\n",
            "\tfeast_id:\tfeast_0198\n"
          ]
        }
      ]
    },
    {
      "cell_type": "markdown",
      "source": [
        "Nothing particularly suspicious in here. We don't have to exclude anything else.\n",
        "\n",
        "So, we can finally get back to plotting the frequencies of Cantus IDs!"
      ],
      "metadata": {
        "id": "q_bDE4g3INny"
      },
      "id": "q_bDE4g3INny"
    },
    {
      "cell_type": "code",
      "source": [
        "cid_frequencies_sorted = list(sorted(cid_frequencies.values(), reverse=True))  # sorted() by default goes from lowest to highest\n",
        "\n",
        "# We use matplotlib here in a slightly different, more flexible way:\n",
        "# we work directly with its \"axes\" object rather than just calling plt.something()\n",
        "# functions. The reason will soon become apparent.\n",
        "\n",
        "ax = plt.gca()\n",
        "ax.plot(cid_frequencies_sorted)\n",
        "ax.set_title('Cantus ID frequencies')\n",
        "ax.set_xlabel('n-th largest Cantus ID')   # Best practice: always label both axes.\n",
        "ax.set_ylabel('Number of Cantus ID occurrences')\n",
        "\n",
        "plt.show()"
      ],
      "metadata": {
        "colab": {
          "base_uri": "https://localhost:8080/",
          "height": 472
        },
        "id": "ZA4MSxOJGsaX",
        "outputId": "0d3daed6-394e-49fa-c440-85577835e094"
      },
      "id": "ZA4MSxOJGsaX",
      "execution_count": 48,
      "outputs": [
        {
          "output_type": "display_data",
          "data": {
            "text/plain": [
              "<Figure size 640x480 with 1 Axes>"
            ],
            "image/png": "[encoded data removed]"
          },
          "metadata": {}
        }
      ]
    },
    {
      "cell_type": "markdown",
      "source": [
        "Now let's plot this figure but with the frequency axis logarithmic.\n",
        "\n",
        "This helps with making the structure of this long tail clearer."
      ],
      "metadata": {
        "id": "DPU211cnKyQe"
      },
      "id": "DPU211cnKyQe"
    },
    {
      "cell_type": "code",
      "source": [
        "\n",
        "ax = plt.gca()\n",
        "ax.plot(cid_frequencies_sorted)\n",
        "ax.set_title('Log-scaled Cantus ID frequencies')\n",
        "ax.set_xlabel('n-th largest Cantus ID')   # Best practice: always label both axes.\n",
        "ax.set_ylabel('Number of Cantus ID occurrences')\n",
        "ax.set_yscale('log')\n",
        "\n",
        "plt.show()"
      ],
      "metadata": {
        "colab": {
          "base_uri": "https://localhost:8080/",
          "height": 472
        },
        "id": "gonOG1fSKwd7",
        "outputId": "384cfff0-2803-4460-a7a7-849ece2a91c6"
      },
      "id": "gonOG1fSKwd7",
      "execution_count": 49,
      "outputs": [
        {
          "output_type": "display_data",
          "data": {
            "text/plain": [
              "<Figure size 640x480 with 1 Axes>"
            ],
            "image/png": "[encoded data removed]"
          },
          "metadata": {}
        }
      ]
    },
    {
      "cell_type": "markdown",
      "source": [
        "Liturgies and Genres\n",
        "====================\n",
        "\n",
        "What is that 'bump' just under 100 occurences of a Cantus ID, around the 2000th-2500th most frequent CID?\n",
        "\n",
        "In order to address this, we must look deeper into the contents of the dataset. Right now we are mixing chants for two non-overlapping liturgies: the Mass, and the Divine Office. These are in fact overwhelmingly written in different types of medieval manuscripts -- Antiphoners (and notated Breviaries) for the Office, and Graduals (and notated Missals) for the Mass. This material difference illustrates the distinction between these two elementary types of Latin liturgy.\n",
        "\n",
        "We should thereofre probably analyse chants for the Mass and for the Office separately. There are two ways to distinguish which liturgy a chant belongs to in Cantus: the `office_id`, and the `genre_id`. But, the `office_id` has had a somewhat inconsistent cataloguing history, while the genres are applied much more rigorously in Cantus, and each genre of chant by definition belongs to only one of these liturgies. Additionally, each genre corresponds to a particular liturgical position and thus a purpose that the practitioners had for the given group of chants, and genres have proven very useful in identifying e.g. use -- focusing on *alleluias* rather than *offertories*, for instance, is much more fruitful in determining what ecclesiastical context a manuscript might be coming from.\n",
        "\n",
        "So, we aggregate chants into groups by their genre: antiphons, responsories etc.\n",
        "\n"
      ],
      "metadata": {
        "id": "HYbPtL3DVyC3"
      },
      "id": "HYbPtL3DVyC3"
    },
    {
      "cell_type": "code",
      "source": [
        "fieldnames"
      ],
      "metadata": {
        "id": "iLMFuRRVW95k",
        "outputId": "4a46e9f6-f630-4726-e7f1-777e4f6b480e",
        "colab": {
          "base_uri": "https://localhost:8080/"
        }
      },
      "id": "iLMFuRRVW95k",
      "execution_count": 50,
      "outputs": [
        {
          "output_type": "execute_result",
          "data": {
            "text/plain": [
              "['id',\n",
              " 'incipit',\n",
              " 'cantus_id',\n",
              " 'mode',\n",
              " 'finalis',\n",
              " 'differentia',\n",
              " 'siglum',\n",
              " 'position',\n",
              " 'folio',\n",
              " 'sequence',\n",
              " 'marginalia',\n",
              " 'cao_concordances',\n",
              " 'feast_id',\n",
              " 'genre_id',\n",
              " 'office_id',\n",
              " 'source_id',\n",
              " 'melody_id',\n",
              " 'drupal_path',\n",
              " 'full_text',\n",
              " 'full_text_manuscript',\n",
              " 'volpiano',\n",
              " 'notes']"
            ]
          },
          "metadata": {},
          "execution_count": 50
        }
      ]
    },
    {
      "cell_type": "markdown",
      "source": [
        "TODOs\n",
        "-----\n",
        "\n",
        "- Add a \"feast code translator\", mostly to Work printout.\n",
        "- What is that bump?\n",
        "- Split chants by genre.\n",
        "- Plot this for individual genres (into the same plot?) for Office and Mass.\n"
      ],
      "metadata": {
        "id": "1N5JOEWVJDSD"
      },
      "id": "1N5JOEWVJDSD"
    }
  ],
  "metadata": {
    "kernelspec": {
      "display_name": "Python 3 (ipykernel)",
      "language": "python",
      "name": "python3"
    },
    "language_info": {
      "codemirror_mode": {
        "name": "ipython",
        "version": 3
      },
      "file_extension": ".py",
      "mimetype": "text/x-python",
      "name": "python",
      "nbconvert_exporter": "python",
      "pygments_lexer": "ipython3",
      "version": "3.11.11"
    },
    "colab": {
      "provenance": []
    }
  },
  "nbformat": 4,
  "nbformat_minor": 5
}