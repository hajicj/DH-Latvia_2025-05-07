{
  "cells": [
    {
      "cell_type": "markdown",
      "source": [
        "Preliminaries: reading code\n",
        "---------------------------\n",
        "\n",
        "Because the workshop involves reading Python source code, and because maybe that is something you have not quite done yet, let me start with a brief primer on how to read that stuff.\n",
        "\n",
        "It's not that hard. Treat it as shorthand for doing a bunch of pretty standard things with other things: for instance, putting them on a list, or cataloguing them by some label, or doing the same operation on a bunch of things (for instance, on all things in a list).\n",
        "\n",
        "The trick is that *anything* can be one of these 'things'. From very elementary things (like a number) to pretty complex structures (like, say, an entire corpus of Gregorian chant). In code, though, this doesn't matter. Each one of these things gets a name, and then we just refer to it by that name.\n",
        "\n",
        "(That is actually something we do pretty much all the time in language. The difference is that in our language, we have a pretty fixed vocabulary. In code, we get to define our own vocabulary. In a way, it's very... Aristotelian? Platonic? A little bit of both. But this flexibility in defining the vocabulary is then limited by having only a few things that we can ``legally'' do with it, as defined and implemented by the Python programming language.)\n",
        "\n",
        "The basic operation we can do in code is naming stuff. Like this:"
      ],
      "metadata": {
        "id": "L4I_AaUdAp4J"
      },
      "id": "L4I_AaUdAp4J"
    },
    {
      "cell_type": "code",
      "source": [
        "thing = 'This is a sentence.'"
      ],
      "metadata": {
        "id": "nI7Zg43LApZb"
      },
      "id": "nI7Zg43LApZb",
      "execution_count": 2,
      "outputs": []
    },
    {
      "cell_type": "markdown",
      "source": [
        "Now the label `thing` contains a sequence of characters (a string) that goes like this: `'This is a sentence.'` We call this label a **variable**, and the stuff that is referred to by the label is called the **value** of the variable. In this case, the variable `thing` has a value of `'This is a sentence.'`.\n",
        "\n",
        "One of the pre-defined operations Python allows us to do is to check the value of a variable. This is quite essential for knowing what's going on. It is done like this:"
      ],
      "metadata": {
        "id": "ZxiT9PxtB4W1"
      },
      "id": "ZxiT9PxtB4W1"
    },
    {
      "cell_type": "code",
      "source": [
        "print(thing)"
      ],
      "metadata": {
        "id": "7IV18I-tCke4",
        "outputId": "7313cff4-49be-4830-a5ce-feecc9ba9136",
        "colab": {
          "base_uri": "https://localhost:8080/"
        }
      },
      "id": "7IV18I-tCke4",
      "execution_count": 3,
      "outputs": [
        {
          "output_type": "stream",
          "name": "stdout",
          "text": [
            "This is a sentence.\n"
          ]
        }
      ]
    },
    {
      "cell_type": "markdown",
      "source": [
        "Here we sneakily introduced the second elementary concept aside from variables: a **function**. Functions are sort of like machines: they receive some inputs on one side, then you turn a crank, and something new comes out. Depending on what you throw in (red currant, blueberries, tomatoes...), you get different things out (red currant juice and waste, blueberry juice and waste, tomato juice and waste...), but the machine works the same way.\n",
        "\n",
        "(Yes, I used to prepare marmelades every summers.)\n",
        "\n",
        "We have already shown the Python construction for applying a function to some variable: parentheses. It goes like `name_of_function(variable1, variable2, ..., )`. How do we make one that does something we need, though?\n",
        "\n",
        "We cannot unfortunately make marmelade with Python functions, but what we can for example do is add two numbers with a Python function."
      ],
      "metadata": {
        "id": "df9ZkoHmCo9b"
      },
      "id": "df9ZkoHmCo9b"
    },
    {
      "cell_type": "code",
      "source": [
        "def add_two_numbers(first_number, second_number):\n",
        "  result = first_number + second_number\n",
        "  return result"
      ],
      "metadata": {
        "id": "2LwqW_0gCnl3"
      },
      "id": "2LwqW_0gCnl3",
      "execution_count": 4,
      "outputs": []
    },
    {
      "cell_type": "markdown",
      "source": [
        "What's going on here?\n",
        "\n",
        "**Defining a function.**\n",
        "\n",
        "The definition of a new function is started with the `def` statement.\n",
        "After that, you have to write what this particular function should be called (like we had to come up with a name for the variable, `thing`). Because it is a function that is supposed to add two numbers, we leave our creativity aside and call it `add_two_numbers`.\n",
        "\n",
        "Then, we need to tell this function what to expect as inputs. (To separate the name of the function from the names of its inputs, we use the parentheses.) Well, since it is supposed to add two nubmers together, it should get some two numbers as inputs! Obviously. We just have to decide what these two numbers should be called when the function is running. Again, going for the clearest possible name, we call them simply `first_number` and `second_number`.\n",
        "\n",
        "(We *could* have called them `Johnny` and `Barbara`, and Python wouldn't care, but it could get confusing when you want to look back at the code you've written after a month or two. So preferrably we name things in very obvious ways.)\n",
        "\n",
        "And we put a semicolon at the end to tell Python that we have just finished the first part of defining a function: determining its name, and its inputs (and their names). Saying this in Python looks like:\n",
        "\n",
        "```\n",
        "def add_two_numbers(first_number, second_number):\n",
        "```\n",
        "\n",
        "So this is the first half of the job. But then we actually need to add the two numbers together! So, we could add:\n",
        "\n",
        "```\n",
        "first_number + second_number\n",
        "```\n",
        "\n",
        "However, while this performs the operation of adding the two things together, we don't really get anything out of it for later. We have to store the result somewhere. Where? We assign it to another variable:\n",
        "\n",
        "\n",
        "```\n",
        "result = first_number + second_number\n",
        "```\n",
        "\n",
        "So just like we assigned the string `'This is a thing.'` to variable `thing` before, now we assign the result of adding `first_number` and `second_number` to a new variable called, unsurprisingly, `result`.\n",
        "\n",
        "Now we have:\n",
        "\n",
        "```\n",
        "def add_two_numbers(first_number, second_number):\n",
        "result = first_number + second_number\n",
        "```\n",
        "\n",
        "But that wouldn't work. We have to indicate to Python that the second line is something that should be done whenever the function `add_two_numbers` is called, not just once. The way to signal this to Python is through indentation:\n",
        "\n",
        "```\n",
        "def add_two_numbers(first_number, second_number):\n",
        "  result = first_number + second_number\n",
        "```\n",
        "\n",
        "Now it knows that one of the things happening when we turn the crank of the `add_two_numbers` machine is to take the two expected inputs to the machine,  add them together, and store them in a variable called `result`.\n",
        "\n",
        "Now if we call:\n",
        "\n",
        "```\n",
        "add_two_nubmers(X, Y)\n",
        "```\n",
        "\n",
        "we get... nothing!\n",
        "\n",
        "The last thing that the function must do is actually produce an output for whoever called it. There is no point in having a `result` inside the function when we don't communicate it with anyone! This is done in Python with the `return` statement, and we get:\n",
        "\n",
        "```\n",
        "def add_two_numbers(first_number, second_number):\n",
        "  result = first_number + second_number\n",
        "  return result\n",
        "```\n",
        "\n",
        "Finally, we have a function that does what we want and gives us the result back, so we can do other things with it -- like printing it.\n",
        "\n",
        "\n"
      ],
      "metadata": {
        "id": "CmtJcq-5ElyU"
      },
      "id": "CmtJcq-5ElyU"
    },
    {
      "cell_type": "markdown",
      "source": [
        "So, let's add some numbers."
      ],
      "metadata": {
        "id": "xlBSAyB0Dmej"
      },
      "id": "xlBSAyB0Dmej"
    },
    {
      "cell_type": "code",
      "source": [
        "Z = add_two_numbers(4, 5)"
      ],
      "metadata": {
        "id": "vJnAdACrEVGo"
      },
      "id": "vJnAdACrEVGo",
      "execution_count": 7,
      "outputs": []
    },
    {
      "cell_type": "markdown",
      "source": [
        "and we can check the result:"
      ],
      "metadata": {
        "id": "_cOigmFYEdLf"
      },
      "id": "_cOigmFYEdLf"
    },
    {
      "cell_type": "code",
      "source": [
        "print(Z)"
      ],
      "metadata": {
        "id": "qXU57WoJEb5F",
        "outputId": "312be029-7c51-494c-b03c-d58d9df7d1b3",
        "colab": {
          "base_uri": "https://localhost:8080/"
        }
      },
      "id": "qXU57WoJEb5F",
      "execution_count": 6,
      "outputs": [
        {
          "output_type": "stream",
          "name": "stdout",
          "text": [
            "9\n"
          ]
        }
      ]
    },
    {
      "cell_type": "markdown",
      "source": [
        "Now we try with different numbers:"
      ],
      "metadata": {
        "id": "PP2Iq69IIOn4"
      },
      "id": "PP2Iq69IIOn4"
    },
    {
      "cell_type": "code",
      "source": [
        "Z = add_two_numbers(45, 55)\n",
        "print(Z)"
      ],
      "metadata": {
        "id": "27f_7G8QEucB",
        "outputId": "7275f098-8f18-42fa-cf1d-a96246eab1e1",
        "colab": {
          "base_uri": "https://localhost:8080/"
        }
      },
      "id": "27f_7G8QEucB",
      "execution_count": 8,
      "outputs": [
        {
          "output_type": "stream",
          "name": "stdout",
          "text": [
            "100\n"
          ]
        }
      ]
    },
    {
      "cell_type": "markdown",
      "source": [
        "Still, unsurprisingly, it's doing the same thing, just with different inputs.\n",
        "\n",
        "**Combining functions and variables**\n",
        "\n",
        "Of course, we couldn't write many useful programs if all we could do is just hard-code the numbers ahead of time. But what we can do is combine variables and functions. For example:"
      ],
      "metadata": {
        "id": "n6TzttcVITEO"
      },
      "id": "n6TzttcVITEO"
    },
    {
      "cell_type": "code",
      "source": [
        "X = 45\n",
        "Y = 55\n",
        "Z = add_two_numbers(X, Y)\n",
        "print(Z)"
      ],
      "metadata": {
        "id": "FFzXNdwvI4XS",
        "outputId": "775b7321-bfed-4fea-b34f-e077fd6e2f28",
        "colab": {
          "base_uri": "https://localhost:8080/"
        }
      },
      "id": "FFzXNdwvI4XS",
      "execution_count": 9,
      "outputs": [
        {
          "output_type": "stream",
          "name": "stdout",
          "text": [
            "100\n"
          ]
        }
      ]
    },
    {
      "cell_type": "markdown",
      "source": [
        "Here we assign the value `45` to the variable `X`, value `55` to the variable `Y`, and then when we call the function with the labels `X` and `Y` instead of the values directly, Python just goes: \"Ah, let's refer to these two things as `first_number` and `second_number` while we are running the `add_two_numbers()` function...\".\n",
        "\n",
        "But now the fun part starts. We can *compose* functions together. How do we add three numbers?"
      ],
      "metadata": {
        "id": "zSfQ7DUrI9sn"
      },
      "id": "zSfQ7DUrI9sn"
    },
    {
      "cell_type": "code",
      "source": [
        "def add_three_numbers(first_number, second_number, third_number):\n",
        "  intermediate_result = add_two_numbers(first_number, second_number)\n",
        "  result = add_two_numbers(intermediate_result, third_number)\n",
        "  return result"
      ],
      "metadata": {
        "id": "w62tAGTiI9Ff"
      },
      "id": "w62tAGTiI9Ff",
      "execution_count": null,
      "outputs": []
    },
    {
      "cell_type": "markdown",
      "source": [
        "**Lists and iteration.**\n",
        "\n",
        "This is of course a bit silly, but what if we want to add together an arbitrary amount of numbers? We cannot just write functions that go `add_four_numbers(...)`, `add_five_numbers(...)`, etc.: whenever we think we are done, someone will come and say \"Ah but now I want to add *six* numbers!\" and then you will be out of functions.\n",
        "\n",
        "But we can write a function to add *any* bunch of numbers together!\n",
        "We do this with two closely related elementary constructions: lists, and iteration.\n",
        "\n",
        "A **list** is something that contains other things (like a bunch of numbers, or mushrooms) in sequence. The \"in sequence\" part just means that it is aware of how these things are ordered inside: when you ask a list \"What's your first element?\", it happily says, e.g., \"toadstool\", instead of looking at you funny and crashing the program.\n",
        "\n",
        "To tell Python that something is a list, we use square brackets, like this:\n",
        "\n",
        "```\n",
        "list_of_mushrooms = ['toadstool', 'boletus', 'parasol', 'champignon']\n",
        "list_of_numbers = [1, 66, 2, 54, 90, 90, 1, 813490438]\n",
        "```\n",
        "\n",
        "Lists can contain anything, such as other lists:\n",
        "\n",
        "```\n",
        "list_of_lists = [list_of_mushrooms, list_of_numbers]\n",
        "```\n",
        "\n",
        "Now because there is no way to know how long a list is going to be in advance, we need a mechanism to just go over every item in a list. This is called **iteration**. The most important construction that Python has for iterating over lists is called the **for-loop**, written like this:\n",
        "\n",
        "```\n",
        "for thing in list:\n",
        "  outcome = do_something(thing)\n",
        "```\n",
        "\n",
        "and it does exactly what you think it does: applies the body of the loop (like we had the body of a function) to each thing in the list.\n",
        "\n",
        "The list stays available afterwards! You can do:\n",
        "\n",
        "```\n",
        "for thing in list:\n",
        "  outcome = do_something(thing)\n",
        "for thing in list:\n",
        "  another_outcome = do_something_else(thing)\n",
        "```\n",
        "\n",
        "What you will very often want to do is keep the outcomes also as a list.\n",
        "That works like this:\n",
        "\n",
        "```\n",
        "outcomes = []     # Empty list. By the way, Python ignores everythign after\n",
        "                  #             a hashtag, which is how you can write comments\n",
        "                  #             in your code that help readability.\n",
        "for thing in list:\n",
        "  outcome = do_something(thing)\n",
        "  outcomes.append(outcome)  # Each list knows how to attach a new element to its end.\n",
        "```\n",
        "\n",
        "Note that because writing this is really annoying, Python has a shorthand for constructing a list from another list that you will see incredibly often:\n",
        "\n",
        "```\n",
        "outcomes = [do_something(thing) for thing in list]\n",
        "```\n",
        "\n",
        "So now we are ready to write a function that adds up any number of numbers!"
      ],
      "metadata": {
        "id": "V5mTGbU0J6Wf"
      },
      "id": "V5mTGbU0J6Wf"
    },
    {
      "cell_type": "code",
      "source": [
        "a_bunch_of_numbers = [1, 2, 55, 20, 23, 4, 1, 1, 1]\n",
        "\n",
        "def add_a_bunch_of_numbers(numbers):\n",
        "  result = 0\n",
        "  for number in numbers:\n",
        "    result = add_two_numbers(result, number)\n",
        "  return result"
      ],
      "metadata": {
        "id": "hyMQiuQ3JubL"
      },
      "id": "hyMQiuQ3JubL",
      "execution_count": null,
      "outputs": []
    },
    {
      "cell_type": "markdown",
      "id": "0b762653-edae-4bf5-8967-c6aa2dcfc5ba",
      "metadata": {
        "id": "0b762653-edae-4bf5-8967-c6aa2dcfc5ba"
      },
      "source": [
        "Practicals 1: Exploring the digital chant ecosystem\n",
        "===================================================\n",
        "\n",
        "Getting our hands dirty, we will take a look around the digital chant ecosystem: the Cantus database, Cantus Index, and then we start working with the chant data contained therein. We take a look at some basic statistics of the dataset and visualise it. This will all happen in a google collab environment, so no need to install anything! All you need is an internet connection, no programming or math background required (but it may be a good idea to do a Python tutorial ahead of time)."
      ]
    },
    {
      "cell_type": "markdown",
      "id": "3bec022e-7362-46b8-8d5e-2f2b747d29b6",
      "metadata": {
        "id": "3bec022e-7362-46b8-8d5e-2f2b747d29b6"
      },
      "source": [
        "Installing requirements\n",
        "-----------------------\n",
        "\n",
        "We need some libraries that are not installed by default."
      ]
    },
    {
      "cell_type": "code",
      "execution_count": null,
      "id": "7550e082-7b4d-4458-92c2-3091cc9efe75",
      "metadata": {
        "colab": {
          "base_uri": "https://localhost:8080/"
        },
        "collapsed": true,
        "id": "7550e082-7b4d-4458-92c2-3091cc9efe75",
        "outputId": "ca9f835a-9c27-4d24-e52e-0ab5e6a13b2b"
      },
      "outputs": [
        {
          "output_type": "stream",
          "name": "stdout",
          "text": [
            "Requirement already satisfied: scipy in /usr/local/lib/python3.11/dist-packages (1.15.2)\n",
            "Requirement already satisfied: numpy<2.5,>=1.23.5 in /usr/local/lib/python3.11/dist-packages (from scipy) (2.0.2)\n",
            "Requirement already satisfied: matplotlib in /usr/local/lib/python3.11/dist-packages (3.10.0)\n",
            "Requirement already satisfied: contourpy>=1.0.1 in /usr/local/lib/python3.11/dist-packages (from matplotlib) (1.3.2)\n",
            "Requirement already satisfied: cycler>=0.10 in /usr/local/lib/python3.11/dist-packages (from matplotlib) (0.12.1)\n",
            "Requirement already satisfied: fonttools>=4.22.0 in /usr/local/lib/python3.11/dist-packages (from matplotlib) (4.57.0)\n",
            "Requirement already satisfied: kiwisolver>=1.3.1 in /usr/local/lib/python3.11/dist-packages (from matplotlib) (1.4.8)\n",
            "Requirement already satisfied: numpy>=1.23 in /usr/local/lib/python3.11/dist-packages (from matplotlib) (2.0.2)\n",
            "Requirement already satisfied: packaging>=20.0 in /usr/local/lib/python3.11/dist-packages (from matplotlib) (24.2)\n",
            "Requirement already satisfied: pillow>=8 in /usr/local/lib/python3.11/dist-packages (from matplotlib) (11.2.1)\n",
            "Requirement already satisfied: pyparsing>=2.3.1 in /usr/local/lib/python3.11/dist-packages (from matplotlib) (3.2.3)\n",
            "Requirement already satisfied: python-dateutil>=2.7 in /usr/local/lib/python3.11/dist-packages (from matplotlib) (2.9.0.post0)\n",
            "Requirement already satisfied: six>=1.5 in /usr/local/lib/python3.11/dist-packages (from python-dateutil>=2.7->matplotlib) (1.17.0)\n",
            "Collecting copia\n",
            "  Downloading copia-0.1.4-py3-none-any.whl.metadata (2.0 kB)\n",
            "Requirement already satisfied: numpy>=1.19.0 in /usr/local/lib/python3.11/dist-packages (from copia) (2.0.2)\n",
            "Requirement already satisfied: scipy>=1.5.1 in /usr/local/lib/python3.11/dist-packages (from copia) (1.15.2)\n",
            "Requirement already satisfied: matplotlib>=3.3.2 in /usr/local/lib/python3.11/dist-packages (from copia) (3.10.0)\n",
            "Requirement already satisfied: seaborn>=0.11.0 in /usr/local/lib/python3.11/dist-packages (from copia) (0.13.2)\n",
            "Requirement already satisfied: pandas>=1.1.2 in /usr/local/lib/python3.11/dist-packages (from copia) (2.2.2)\n",
            "Requirement already satisfied: tqdm>=4.48.0 in /usr/local/lib/python3.11/dist-packages (from copia) (4.67.1)\n",
            "Requirement already satisfied: pytest>=6.2.2 in /usr/local/lib/python3.11/dist-packages (from copia) (8.3.5)\n",
            "Requirement already satisfied: contourpy>=1.0.1 in /usr/local/lib/python3.11/dist-packages (from matplotlib>=3.3.2->copia) (1.3.2)\n",
            "Requirement already satisfied: cycler>=0.10 in /usr/local/lib/python3.11/dist-packages (from matplotlib>=3.3.2->copia) (0.12.1)\n",
            "Requirement already satisfied: fonttools>=4.22.0 in /usr/local/lib/python3.11/dist-packages (from matplotlib>=3.3.2->copia) (4.57.0)\n",
            "Requirement already satisfied: kiwisolver>=1.3.1 in /usr/local/lib/python3.11/dist-packages (from matplotlib>=3.3.2->copia) (1.4.8)\n",
            "Requirement already satisfied: packaging>=20.0 in /usr/local/lib/python3.11/dist-packages (from matplotlib>=3.3.2->copia) (24.2)\n",
            "Requirement already satisfied: pillow>=8 in /usr/local/lib/python3.11/dist-packages (from matplotlib>=3.3.2->copia) (11.2.1)\n",
            "Requirement already satisfied: pyparsing>=2.3.1 in /usr/local/lib/python3.11/dist-packages (from matplotlib>=3.3.2->copia) (3.2.3)\n",
            "Requirement already satisfied: python-dateutil>=2.7 in /usr/local/lib/python3.11/dist-packages (from matplotlib>=3.3.2->copia) (2.9.0.post0)\n",
            "Requirement already satisfied: pytz>=2020.1 in /usr/local/lib/python3.11/dist-packages (from pandas>=1.1.2->copia) (2025.2)\n",
            "Requirement already satisfied: tzdata>=2022.7 in /usr/local/lib/python3.11/dist-packages (from pandas>=1.1.2->copia) (2025.2)\n",
            "Requirement already satisfied: iniconfig in /usr/local/lib/python3.11/dist-packages (from pytest>=6.2.2->copia) (2.1.0)\n",
            "Requirement already satisfied: pluggy<2,>=1.5 in /usr/local/lib/python3.11/dist-packages (from pytest>=6.2.2->copia) (1.5.0)\n",
            "Requirement already satisfied: six>=1.5 in /usr/local/lib/python3.11/dist-packages (from python-dateutil>=2.7->matplotlib>=3.3.2->copia) (1.17.0)\n",
            "Downloading copia-0.1.4-py3-none-any.whl (23 kB)\n",
            "Installing collected packages: copia\n",
            "Successfully installed copia-0.1.4\n",
            "Collecting pycantus\n",
            "  Downloading pycantus-0.0.3-py3-none-any.whl.metadata (4.0 kB)\n",
            "Requirement already satisfied: pandas==2.2.2 in /usr/local/lib/python3.11/dist-packages (from pycantus) (2.2.2)\n",
            "Collecting requests==2.31.0 (from pycantus)\n",
            "  Downloading requests-2.31.0-py3-none-any.whl.metadata (4.6 kB)\n",
            "Requirement already satisfied: numpy>=1.23.2 in /usr/local/lib/python3.11/dist-packages (from pandas==2.2.2->pycantus) (2.0.2)\n",
            "Requirement already satisfied: python-dateutil>=2.8.2 in /usr/local/lib/python3.11/dist-packages (from pandas==2.2.2->pycantus) (2.9.0.post0)\n",
            "Requirement already satisfied: pytz>=2020.1 in /usr/local/lib/python3.11/dist-packages (from pandas==2.2.2->pycantus) (2025.2)\n",
            "Requirement already satisfied: tzdata>=2022.7 in /usr/local/lib/python3.11/dist-packages (from pandas==2.2.2->pycantus) (2025.2)\n",
            "Requirement already satisfied: charset-normalizer<4,>=2 in /usr/local/lib/python3.11/dist-packages (from requests==2.31.0->pycantus) (3.4.1)\n",
            "Requirement already satisfied: idna<4,>=2.5 in /usr/local/lib/python3.11/dist-packages (from requests==2.31.0->pycantus) (3.10)\n",
            "Requirement already satisfied: urllib3<3,>=1.21.1 in /usr/local/lib/python3.11/dist-packages (from requests==2.31.0->pycantus) (2.4.0)\n",
            "Requirement already satisfied: certifi>=2017.4.17 in /usr/local/lib/python3.11/dist-packages (from requests==2.31.0->pycantus) (2025.4.26)\n",
            "Requirement already satisfied: six>=1.5 in /usr/local/lib/python3.11/dist-packages (from python-dateutil>=2.8.2->pandas==2.2.2->pycantus) (1.17.0)\n",
            "Downloading pycantus-0.0.3-py3-none-any.whl (28 kB)\n",
            "Downloading requests-2.31.0-py3-none-any.whl (62 kB)\n",
            "\u001b[2K   \u001b[90m━━━━━━━━━━━━━━━━━━━━━━━━━━━━━━━━━━━━━━━━\u001b[0m \u001b[32m62.6/62.6 kB\u001b[0m \u001b[31m1.8 MB/s\u001b[0m eta \u001b[36m0:00:00\u001b[0m\n",
            "\u001b[?25hInstalling collected packages: requests, pycantus\n",
            "  Attempting uninstall: requests\n",
            "    Found existing installation: requests 2.32.3\n",
            "    Uninstalling requests-2.32.3:\n",
            "      Successfully uninstalled requests-2.32.3\n",
            "\u001b[31mERROR: pip's dependency resolver does not currently take into account all the packages that are installed. This behaviour is the source of the following dependency conflicts.\n",
            "google-colab 1.0.0 requires requests==2.32.3, but you have requests 2.31.0 which is incompatible.\u001b[0m\u001b[31m\n",
            "\u001b[0mSuccessfully installed pycantus-0.0.3 requests-2.31.0\n"
          ]
        }
      ],
      "source": [
        "!pip install scipy\n",
        "!pip install matplotlib\n",
        "!pip install copia\n",
        "!pip install pycantus"
      ]
    },
    {
      "cell_type": "markdown",
      "id": "b3594216-3da9-47f5-8523-59c9cad9b48e",
      "metadata": {
        "id": "b3594216-3da9-47f5-8523-59c9cad9b48e"
      },
      "source": [
        "Getting data\n",
        "------------\n",
        "\n",
        "We work with the CantusCorpus v0.2 dataset. It is derived from the Cantus database. It contains records of almost 500,000 instances of chants, hundreds of records of manuscripts (sources), and a number of auxiliary files that encode controlled vocabularies for certain data.\n",
        "\n",
        "CantusCorpus is somewhat dated (2020), and we are working on a more comprehensive dataset, but the advantage is that previous results for this data exist -- and especially in the context of learning, this stability is an advantage."
      ]
    },
    {
      "cell_type": "code",
      "execution_count": null,
      "id": "deb4957b-2cfd-4c7c-8412-d614a8a5ab22",
      "metadata": {
        "colab": {
          "base_uri": "https://localhost:8080/"
        },
        "collapsed": true,
        "id": "deb4957b-2cfd-4c7c-8412-d614a8a5ab22",
        "outputId": "1db2d761-2148-4576-f3ea-c3ab435ff68a"
      },
      "outputs": [
        {
          "output_type": "stream",
          "name": "stdout",
          "text": [
            "--2025-05-04 19:10:27--  https://ufallab.ms.mff.cuni.cz/~hajicj/public_html/DH-Latvia_2025/data/cantuscorpus-v0.2.zip\n",
            "Resolving ufallab.ms.mff.cuni.cz (ufallab.ms.mff.cuni.cz)... 195.113.18.181\n",
            "Connecting to ufallab.ms.mff.cuni.cz (ufallab.ms.mff.cuni.cz)|195.113.18.181|:443... connected.\n",
            "HTTP request sent, awaiting response... 200 OK\n",
            "Length: 51685924 (49M) [application/zip]\n",
            "Saving to: ‘cantuscorpus-v0.2.zip’\n",
            "\n",
            "cantuscorpus-v0.2.z 100%[===================>]  49.29M  17.4MB/s    in 2.8s    \n",
            "\n",
            "2025-05-04 19:10:31 (17.4 MB/s) - ‘cantuscorpus-v0.2.zip’ saved [51685924/51685924]\n",
            "\n"
          ]
        }
      ],
      "source": [
        "!wget https://ufallab.ms.mff.cuni.cz/~hajicj/public_html/DH-Latvia_2025/data/cantuscorpus-v0.2.zip"
      ]
    },
    {
      "cell_type": "code",
      "source": [
        "!unzip cantuscorpus-v0.2.zip"
      ],
      "metadata": {
        "colab": {
          "base_uri": "https://localhost:8080/"
        },
        "collapsed": true,
        "id": "Lbhx2W6gAjFx",
        "outputId": "b04e657a-40b3-435b-8649-8ac78a3d5a68"
      },
      "id": "Lbhx2W6gAjFx",
      "execution_count": null,
      "outputs": [
        {
          "output_type": "stream",
          "name": "stdout",
          "text": [
            "Archive:  cantuscorpus-v0.2.zip\n",
            "   creating: cantuscorpus-v0.2/\n",
            "   creating: cantuscorpus-v0.2/csv/\n",
            "  inflating: cantuscorpus-v0.2/csv/office.csv  \n",
            "  inflating: cantuscorpus-v0.2/csv/chant-demo-sample.csv  \n",
            "  inflating: cantuscorpus-v0.2/csv/indexer.csv  \n",
            "  inflating: cantuscorpus-v0.2/csv/chant.csv  \n",
            "  inflating: cantuscorpus-v0.2/csv/feast.csv  \n",
            "  inflating: cantuscorpus-v0.2/csv/century.csv  \n",
            "  inflating: cantuscorpus-v0.2/csv/orig_id.csv  \n",
            "  inflating: cantuscorpus-v0.2/csv/notation.csv  \n",
            "  inflating: cantuscorpus-v0.2/csv/siglum.csv  \n",
            "  inflating: cantuscorpus-v0.2/csv/.feast.csv.swp  \n",
            "  inflating: cantuscorpus-v0.2/csv/provenance.csv  \n",
            "  inflating: cantuscorpus-v0.2/csv/genre.csv  \n",
            "  inflating: cantuscorpus-v0.2/csv/source.csv  \n",
            "  inflating: cantuscorpus-v0.2/.DS_Store  \n",
            "   creating: cantuscorpus-v0.2/antiphons/\n",
            "  inflating: cantuscorpus-v0.2/antiphons/test-chants.csv  \n",
            "  inflating: cantuscorpus-v0.2/antiphons/gregobase-chantstrings.csv  \n",
            "  inflating: cantuscorpus-v0.2/antiphons/train-representation-pitch.csv  \n",
            "  inflating: cantuscorpus-v0.2/antiphons/train-chants.csv  \n",
            "  inflating: cantuscorpus-v0.2/antiphons/test-representation-pitch.csv  \n",
            "   creating: cantuscorpus-v0.2/responsories/\n",
            "  inflating: cantuscorpus-v0.2/responsories/train-chants.csv  \n",
            "  inflating: cantuscorpus-v0.2/responsories/gregobase-chantstrings.csv  \n",
            "  inflating: cantuscorpus-v0.2/responsories/test-representation-pitch.csv  \n",
            "  inflating: cantuscorpus-v0.2/responsories/train-representation-pitch.csv  \n",
            "  inflating: cantuscorpus-v0.2/responsories/test-chants.csv  \n",
            "  inflating: cantuscorpus-v0.2/corpus-generation.log  \n"
          ]
        }
      ]
    },
    {
      "cell_type": "markdown",
      "source": [
        "Loading CantusCorpus\n",
        "--------------------\n",
        "\n",
        "The dataset is in a CSV format, which is just a very simple way to store a table: each line of the file is a table row, and a \"separator\" character is defined -- usually a comma (CSV stands for comma-separated values), sometimes a tab (then it can be called TSV, tab-separated values). The file also usually has a header row that contains the names of the table columns.\n",
        "\n",
        "Let's load all the chants first.\n",
        "\n",
        "First, we set up the path into the dataset."
      ],
      "metadata": {
        "id": "DLqPqo7fOJHT"
      },
      "id": "DLqPqo7fOJHT"
    },
    {
      "cell_type": "code",
      "source": [
        "import os\n",
        "import logging\n",
        "\n",
        "# This is the directory into which we downloaded CantusCorpus\n",
        "DATA_ROOT = 'cantuscorpus-v0.2'\n",
        "\n",
        "# The 'chant.csv' file is where the chant data is.\n",
        "DATASET_CSV_NAME = os.path.join(DATA_ROOT, 'csv', 'chant.csv')\n",
        "\n",
        "# It is pretty good practice to check that you got key file paths right -- that the files actually exist.\n",
        "if not os.path.isfile(DATASET_CSV_NAME):\n",
        "    raise ValueError('CantusCorpus dataset CSV file not found at path {}. Is the DATA_ROOT set correctly?'\n",
        "                     ' Current location: {}'.format(DATASET_CSV_NAME, os.getcwd()))"
      ],
      "metadata": {
        "id": "qKbMmmzgXBKf"
      },
      "id": "qKbMmmzgXBKf",
      "execution_count": null,
      "outputs": []
    },
    {
      "cell_type": "markdown",
      "source": [
        "\n",
        "Now we know what file we are loading from, so we could just go ahead and use the above definition of a CSV file to read it and parse the individual lines.\n",
        "\n",
        "But instead, we first make a small digression.\n",
        "\n",
        "The plain-text nature of CSVs is great for interoperability and portability, and every programming language has built-in support for dealing with this type of file. That makes CSVs an excellent choice for storing and disseminating research data in repositories such as the Open Science Foundation or DARIAH-related infrastructure (e.g., LINDAT).\n",
        "\n",
        "The minimal structure, however, comes at a cost. What happens when a text field, e.g. a manuscript description, contains the separator character (a comma)? The obvious solution is quoting. But what if the field contains a quote? These issues are what the libraries for handling CSV files resolve, at least to the extent to which it is possible. But when encoding data into CSV files, one should be aware of these issues, and ideally have a round-trip test to make sure that there is a method to load the data properly, then store it back as a CSV file, and that the resulting file has exactly the same contents as the original file.\n",
        "\n",
        "So we actually want to use the appropriate library, and define the various parameters to load the file safely and properly."
      ],
      "metadata": {
        "id": "jwJ50DDVW9e2"
      },
      "id": "jwJ50DDVW9e2"
    },
    {
      "cell_type": "code",
      "source": [
        "# This is the library that works with CSVs in Python.\n",
        "import csv\n",
        "\n",
        "# Here we define the CSV loading parameters.\n",
        "# As with the file paths, we use capital letters to clearly indicate which values\n",
        "# are defined by us.\n",
        "CSV_DELIMITER = ','\n",
        "CSV_DOUBLEQUOTE = False\n",
        "CSV_QUOTECHAR = '\"'\n",
        "CSV_DIALECT = 'unix'\n",
        "CSV_QUOTING = csv.QUOTE_MINIMAL\n",
        "# This is the policy that combines all the parameters above.\n",
        "# Some of these apply when reading a CSV file, some apply when writing it back.\n",
        "# The possible values of quoting policy defined and documented by the 'csv' library.\n",
        "\n",
        "# Here is where we store all the chants, as a list.\n",
        "chants = []\n",
        "\n",
        "# Now we actually load them!\n",
        "# This can take a while, as there are almost half a million of them.\n",
        "with open(DATASET_CSV_NAME) as fh:\n",
        "    reader = csv.DictReader(fh,\n",
        "                            delimiter=CSV_DELIMITER,\n",
        "                            doublequote=CSV_DOUBLEQUOTE,\n",
        "                            quotechar=CSV_QUOTECHAR,\n",
        "                            dialect=CSV_DIALECT,\n",
        "                            quoting=CSV_QUOTING)\n",
        "\n",
        "    # At this point, we could just load the data, but because we want\n",
        "    # to be very sure that we have been able to load the data properly,\n",
        "    # we wrap it with this 'try-except' construction. This means:\n",
        "    # If an error happens during the 'try' block, jump into the 'except'\n",
        "    # block to deal with it. In this case, we simply want to know which row\n",
        "    # the error occurred in, so that we know which line of the data file\n",
        "    # we should check for errors.\n",
        "    try:\n",
        "        for i, row in enumerate(reader):\n",
        "            chants.append(row)\n",
        "    except:\n",
        "        print('Row {} has an error!\\nRow: {}'.format(i, row))\n",
        "        raise\n",
        "\n",
        "# We also want to remember what the field names are, to be able to quickly check\n",
        "# what information is available for each chant.\n",
        "fieldnames = reader.fieldnames\n"
      ],
      "metadata": {
        "id": "KwAu3WgVZR-S"
      },
      "id": "KwAu3WgVZR-S",
      "execution_count": null,
      "outputs": []
    },
    {
      "cell_type": "markdown",
      "source": [
        "Let's check how many chants exactly we got:"
      ],
      "metadata": {
        "id": "TGdqYL88dnWF"
      },
      "id": "TGdqYL88dnWF"
    },
    {
      "cell_type": "code",
      "source": [
        "n_chants = len(chants)\n",
        "print('Loaded {} chants.'.format(n_chants))"
      ],
      "metadata": {
        "colab": {
          "base_uri": "https://localhost:8080/"
        },
        "id": "9Qc8Z8ivcQdp",
        "outputId": "61672a21-67b6-4aee-c0c9-ba3095a326bb"
      },
      "id": "9Qc8Z8ivcQdp",
      "execution_count": null,
      "outputs": [
        {
          "output_type": "stream",
          "name": "stdout",
          "text": [
            "Loaded 497071 chants.\n"
          ]
        }
      ]
    },
    {
      "cell_type": "markdown",
      "source": [
        "And what information is available for each of the chants:"
      ],
      "metadata": {
        "id": "DskR1JxedqGv"
      },
      "id": "DskR1JxedqGv"
    },
    {
      "cell_type": "code",
      "source": [
        "print(fieldnames)"
      ],
      "metadata": {
        "colab": {
          "base_uri": "https://localhost:8080/"
        },
        "id": "n0GmK0b9cW99",
        "outputId": "a59ecf93-9859-40f6-b33f-16c1f891f9cf"
      },
      "id": "n0GmK0b9cW99",
      "execution_count": null,
      "outputs": [
        {
          "output_type": "stream",
          "name": "stdout",
          "text": [
            "['id', 'incipit', 'cantus_id', 'mode', 'finalis', 'differentia', 'siglum', 'position', 'folio', 'sequence', 'marginalia', 'cao_concordances', 'feast_id', 'genre_id', 'office_id', 'source_id', 'melody_id', 'drupal_path', 'full_text', 'full_text_manuscript', 'volpiano', 'notes']\n"
          ]
        }
      ]
    },
    {
      "cell_type": "code",
      "source": [
        "# Let's print it out a little better...\n",
        "print('\\n'.join(fieldnames))"
      ],
      "metadata": {
        "colab": {
          "base_uri": "https://localhost:8080/"
        },
        "collapsed": true,
        "id": "kSPZdw1zdvok",
        "outputId": "1f7b4659-729b-4ce1-81b8-e93f01b38d32"
      },
      "id": "kSPZdw1zdvok",
      "execution_count": null,
      "outputs": [
        {
          "output_type": "stream",
          "name": "stdout",
          "text": [
            "id\n",
            "incipit\n",
            "cantus_id\n",
            "mode\n",
            "finalis\n",
            "differentia\n",
            "siglum\n",
            "position\n",
            "folio\n",
            "sequence\n",
            "marginalia\n",
            "cao_concordances\n",
            "feast_id\n",
            "genre_id\n",
            "office_id\n",
            "source_id\n",
            "melody_id\n",
            "drupal_path\n",
            "full_text\n",
            "full_text_manuscript\n",
            "volpiano\n",
            "notes\n"
          ]
        }
      ]
    },
    {
      "cell_type": "markdown",
      "source": [
        "So what does a chant record look like?"
      ],
      "metadata": {
        "id": "az_zLmAcd60G"
      },
      "id": "az_zLmAcd60G"
    },
    {
      "cell_type": "code",
      "source": [
        "print(chants[0])"
      ],
      "metadata": {
        "colab": {
          "base_uri": "https://localhost:8080/"
        },
        "id": "IQSYuUgkd06t",
        "outputId": "6ac2d6f5-9343-45b8-9fd5-5a79dbaa17c7"
      },
      "id": "IQSYuUgkd06t",
      "execution_count": null,
      "outputs": [
        {
          "output_type": "stream",
          "name": "stdout",
          "text": [
            "{'id': 'chant_000001', 'incipit': '#ne positi certamen habuistis mercedem', 'cantus_id': '007590.1', 'mode': '', 'finalis': '', 'differentia': '', 'siglum': 'US-HA Rauner Codex MS 003203', 'position': '', 'folio': '066r', 'sequence': '0.0', 'marginalia': '', 'cao_concordances': '', 'feast_id': 'feast_0227', 'genre_id': 'genre_r', 'office_id': 'office_m', 'source_id': 'source_519', 'melody_id': '', 'drupal_path': 'http://cantus.uwaterloo.ca/chant/693173/', 'full_text': '#ne positi certamen habuistis mercedem laboris ego reddam vobis', 'full_text_manuscript': '#ne positi certamen habuistis | Mercedem laboris ego reddam vobis', 'volpiano': '', 'notes': ''}\n"
          ]
        }
      ]
    },
    {
      "cell_type": "code",
      "source": [
        "# This is not really readable. Let'd define a function for this:\n",
        "def print_chant(chant, fieldnames=fieldnames):\n",
        "  for f in fieldnames:\n",
        "\n",
        "    # Check that the field name that we expect is actually available in the chant record\n",
        "    if f not in chant:\n",
        "      # This would be a basic error message:\n",
        "      #raise ValueError('Chant does not contain field name {}!'.format(f))\n",
        "      # This is a better error message, because it shows both the problematic field name\n",
        "      # and the chant record, so that you can straight away start diagnosing where the problem is.\n",
        "      raise ValueError('Chant does not contain field name {}!\\n'\n",
        "                       'Available fields: {}'.format(f, list(chant.keys())))\n",
        "    value = chant[f]\n",
        "    print('{}: {}'.format(f, value))"
      ],
      "metadata": {
        "id": "SpcSVa3jd9_O"
      },
      "id": "SpcSVa3jd9_O",
      "execution_count": null,
      "outputs": []
    },
    {
      "cell_type": "code",
      "source": [
        "print_chant(chants[0])"
      ],
      "metadata": {
        "colab": {
          "base_uri": "https://localhost:8080/"
        },
        "collapsed": true,
        "id": "Bd0gDbKxfAwN",
        "outputId": "d18c538c-c4b6-4825-d701-f95a6b6d1234"
      },
      "id": "Bd0gDbKxfAwN",
      "execution_count": null,
      "outputs": [
        {
          "output_type": "stream",
          "name": "stdout",
          "text": [
            "id: chant_000001\n",
            "incipit: #ne positi certamen habuistis mercedem\n",
            "cantus_id: 007590.1\n",
            "mode: \n",
            "finalis: \n",
            "differentia: \n",
            "siglum: US-HA Rauner Codex MS 003203\n",
            "position: \n",
            "folio: 066r\n",
            "sequence: 0.0\n",
            "marginalia: \n",
            "cao_concordances: \n",
            "feast_id: feast_0227\n",
            "genre_id: genre_r\n",
            "office_id: office_m\n",
            "source_id: source_519\n",
            "melody_id: \n",
            "drupal_path: http://cantus.uwaterloo.ca/chant/693173/\n",
            "full_text: #ne positi certamen habuistis mercedem laboris ego reddam vobis\n",
            "full_text_manuscript: #ne positi certamen habuistis | Mercedem laboris ego reddam vobis\n",
            "volpiano: \n",
            "notes: \n"
          ]
        }
      ]
    },
    {
      "cell_type": "code",
      "source": [
        "# And another chant:\n",
        "print_chant(chants[123000])"
      ],
      "metadata": {
        "colab": {
          "base_uri": "https://localhost:8080/"
        },
        "collapsed": true,
        "id": "2zRV2r0jfGKK",
        "outputId": "7778cc7b-8ba7-41e1-9051-148c45a32b3d"
      },
      "id": "2zRV2r0jfGKK",
      "execution_count": null,
      "outputs": [
        {
          "output_type": "stream",
          "name": "stdout",
          "text": [
            "id: chant_123001\n",
            "incipit: Dixerunt impii apud se non\n",
            "cantus_id: 006464\n",
            "mode: \n",
            "finalis: \n",
            "differentia: \n",
            "siglum: CZ Pu VI.E.4c\n",
            "position: 1.2\n",
            "folio: 230r\n",
            "sequence: 1.0\n",
            "marginalia: \n",
            "cao_concordances: CGBEMVHRDFSL\n",
            "feast_id: feast_0643\n",
            "genre_id: genre_r\n",
            "office_id: office_m\n",
            "source_id: \n",
            "melody_id: \n",
            "drupal_path: http://cantus.uwaterloo.ca/chant/464369/\n",
            "full_text: Dixerunt impii apud se non recte cogitantes circumveniamus justum quoniam contrarius est operibus nostris promittit se scientiam dei habere filium dei se nominat et gloriatur patrem se habere deum videamus si sermones illius veri sint et si est verus filius dei liberet illum de manibus nostris morte turpissima condempnemus eum\n",
            "full_text_manuscript: \n",
            "volpiano: \n",
            "notes: \n"
          ]
        }
      ]
    },
    {
      "cell_type": "markdown",
      "source": [
        "**Digression no. 2: Fixing the URLs**\n",
        "\n",
        "Notice that when we click the `drupal_path` link, it does not work. This is because the Cantus Database has undergone a change of URL in 2023, and the `cantus.uwaterloo.ca` server stopped redirecting, too. So, to make it easier for us to check things, we will change these values in our chants."
      ],
      "metadata": {
        "id": "cZrleliCgrpe"
      },
      "id": "cZrleliCgrpe"
    },
    {
      "cell_type": "code",
      "source": [
        "for c in chants:\n",
        "  old_drupal_path = c['drupal_path']\n",
        "  fixed_drupal_path = old_drupal_path.replace('http://cantus.uwaterloo.ca', 'https://cantusdatabase.org').rstrip('/')\n",
        "  c['drupal_path'] = fixed_drupal_path"
      ],
      "metadata": {
        "id": "3oFHn41BfdzZ"
      },
      "id": "3oFHn41BfdzZ",
      "execution_count": null,
      "outputs": []
    },
    {
      "cell_type": "markdown",
      "source": [
        "Now the URLs should work."
      ],
      "metadata": {
        "id": "QOM-M0GhePv0"
      },
      "id": "QOM-M0GhePv0"
    },
    {
      "cell_type": "code",
      "source": [
        "print_chant(chants[123000])"
      ],
      "metadata": {
        "colab": {
          "base_uri": "https://localhost:8080/"
        },
        "collapsed": true,
        "id": "hacIvbuVhjvI",
        "outputId": "6eb400ef-77b3-4fc6-80be-42da565a43ad"
      },
      "id": "hacIvbuVhjvI",
      "execution_count": null,
      "outputs": [
        {
          "output_type": "stream",
          "name": "stdout",
          "text": [
            "id: chant_123001\n",
            "incipit: Dixerunt impii apud se non\n",
            "cantus_id: 006464\n",
            "mode: \n",
            "finalis: \n",
            "differentia: \n",
            "siglum: CZ Pu VI.E.4c\n",
            "position: 1.2\n",
            "folio: 230r\n",
            "sequence: 1.0\n",
            "marginalia: \n",
            "cao_concordances: CGBEMVHRDFSL\n",
            "feast_id: feast_0643\n",
            "genre_id: genre_r\n",
            "office_id: office_m\n",
            "source_id: \n",
            "melody_id: \n",
            "drupal_path: https://cantusdatabase.org/chant/464369\n",
            "full_text: Dixerunt impii apud se non recte cogitantes circumveniamus justum quoniam contrarius est operibus nostris promittit se scientiam dei habere filium dei se nominat et gloriatur patrem se habere deum videamus si sermones illius veri sint et si est verus filius dei liberet illum de manibus nostris morte turpissima condempnemus eum\n",
            "full_text_manuscript: \n",
            "volpiano: \n",
            "notes: \n"
          ]
        }
      ]
    },
    {
      "cell_type": "markdown",
      "source": [
        "Issues such as this are why we should care very much about persistence and long-term storage in the digital humanities. Cantus Database and its whole network gets almost everything right -- but still these issues are inevitable, because the digital environment evolves very quickly."
      ],
      "metadata": {
        "id": "y2WONzdZigvT"
      },
      "id": "y2WONzdZigvT"
    },
    {
      "cell_type": "markdown",
      "source": [
        "Counting chants\n",
        "---------------\n",
        "\n",
        "497,071 chants is a bit much to inspect manually, though, so we get some idea about what is really in this data by extracting some basic descriptive statistics."
      ],
      "metadata": {
        "id": "FZ5tNsxHievX"
      },
      "id": "FZ5tNsxHievX"
    },
    {
      "cell_type": "markdown",
      "source": [
        "We know we have catalogued this huge amount of chants, but many of these will be copies of the same repertoire across many manuscripts. So, how many discint chants do we have in the catalogued repertoire?\n",
        "\n",
        "This can be done thanks to the essential Cantus ID mechanism. Instances of the same chant across different manuscripts have the same Cantus ID assigned.\n",
        "\n"
      ],
      "metadata": {
        "id": "ycSHNZTYm0QU"
      },
      "id": "ycSHNZTYm0QU"
    },
    {
      "cell_type": "code",
      "source": [
        "all_cantus_ids = set(c['cantus_id'] for c in chants)  # The set() is a construction to only retain one instance of each value.\n",
        "n_distinct_chants = len(all_cantus_ids)\n",
        "print('{} distinct chants available.'.format(n_distinct_chants))\n"
      ],
      "metadata": {
        "colab": {
          "base_uri": "https://localhost:8080/"
        },
        "id": "WoOILafsmEuB",
        "outputId": "79662202-1a6c-4fee-843b-d70d54bd3b39"
      },
      "id": "WoOILafsmEuB",
      "execution_count": null,
      "outputs": [
        {
          "output_type": "stream",
          "name": "stdout",
          "text": [
            "31501 distinct chants available.\n"
          ]
        }
      ]
    },
    {
      "cell_type": "markdown",
      "source": [
        "So on average, we can expect to see each Cantus ID:"
      ],
      "metadata": {
        "id": "jo4xWXSaoulk"
      },
      "id": "jo4xWXSaoulk"
    },
    {
      "cell_type": "code",
      "source": [
        "n_chants / n_distinct_chants"
      ],
      "metadata": {
        "colab": {
          "base_uri": "https://localhost:8080/"
        },
        "id": "45DH01A4npyK",
        "outputId": "31618012-e240-40af-8cfc-15a25786edc6"
      },
      "id": "45DH01A4npyK",
      "execution_count": null,
      "outputs": [
        {
          "output_type": "execute_result",
          "data": {
            "text/plain": [
              "15.779530808545761"
            ]
          },
          "metadata": {},
          "execution_count": 17
        }
      ]
    },
    {
      "cell_type": "markdown",
      "source": [
        "But of course averages are not terribly informative. What we probably want to really know is the frequency profile of Cantus IDs: how many appear only once, how many appear twice, and how many are on the other hand of the spectrum, appearing tens or even hundreds of times."
      ],
      "metadata": {
        "id": "zhkhVI0lpLpG"
      },
      "id": "zhkhVI0lpLpG"
    },
    {
      "cell_type": "code",
      "source": [
        "cid_frequencies = {}  # We can use 'cid' as the abbreviation for Cantus ID. It is sufficiently distinct.\n",
        "for chant in chants:\n",
        "  cid = chant['cantus_id']\n",
        "  if cid not in cid_frequencies:\n",
        "    cid_frequencies[cid] = 0\n",
        "  cid_frequencies[cid] += 1   # '+=' means 'add and modify original'. It's shorthand for cid_frequencies[cid] = cid_frequencies[cid] + 1"
      ],
      "metadata": {
        "id": "S2lf9TRSpKAR"
      },
      "id": "S2lf9TRSpKAR",
      "execution_count": null,
      "outputs": []
    },
    {
      "cell_type": "markdown",
      "source": [
        "Now we know how often each Cantus ID appeared in the dataset, but printing a dictionary of 31,000+ entries is also not helpful. But what we can do is visualise. For this, the `matplotlib` library is the most widespread and best-documented for Python.\n",
        "\n",
        "(Generally when you need to pick a library out of several choices that all support the features you require, go for the one that is most widely used. When you encounter some issue, the more users a library has, the more likely it is that someony has already had that issue and got it resolved, either through StackOverflow or some other publicly available forum.)"
      ],
      "metadata": {
        "id": "arItl9gcsGZL"
      },
      "id": "arItl9gcsGZL"
    },
    {
      "cell_type": "code",
      "source": [
        "import matplotlib.pyplot as plt\n",
        "# This is a magical shortcut for making sure the visualisatons will be plotted nicely directly in the notebook:\n",
        "%matplotlib inline"
      ],
      "metadata": {
        "id": "hVEnZpeysD82"
      },
      "id": "hVEnZpeysD82",
      "execution_count": null,
      "outputs": []
    },
    {
      "cell_type": "code",
      "source": [
        "# Let's just plot the Cantus ID frequencies, sorted from highest to lowest."
      ],
      "metadata": {
        "id": "HLMlb_AitppN"
      },
      "id": "HLMlb_AitppN",
      "execution_count": null,
      "outputs": []
    },
    {
      "cell_type": "code",
      "source": [
        "cid_frequencies_sorted = list(sorted(cid_frequencies.values(), reverse=True))  # sorted() by default goes from lowest to highest\n",
        "\n",
        "plt.plot(cid_frequencies_sorted)\n",
        "plt.xlabel('n-th largest Cantus ID')   # Best practice: always label both axes.\n",
        "plt.ylabel('Number of Cantus ID occurrences')\n",
        "plt.show()"
      ],
      "metadata": {
        "colab": {
          "base_uri": "https://localhost:8080/",
          "height": 449
        },
        "id": "wfPCC1GOtz3S",
        "outputId": "d92f3b90-747b-46bd-fa0f-0c3015994e5c"
      },
      "id": "wfPCC1GOtz3S",
      "execution_count": null,
      "outputs": [
        {
          "output_type": "display_data",
          "data": {
            "text/plain": [
              "<Figure size 640x480 with 1 Axes>"
            ],
            "image/png": "[encoded data removed]"
          },
          "metadata": {}
        }
      ]
    },
    {
      "cell_type": "markdown",
      "source": [
        "Something is wrong: the most frequent Cantus ID occurred more than 10000 times, which makes the rest of the plot rather uninformative. This is very likely a case of missing data --- records with no Cantus ID present, which get loaded as an empty string. Let's see:"
      ],
      "metadata": {
        "id": "-dkZMzxNuhQV"
      },
      "id": "-dkZMzxNuhQV"
    },
    {
      "cell_type": "code",
      "source": [
        "cid_frequencies['']"
      ],
      "metadata": {
        "colab": {
          "base_uri": "https://localhost:8080/"
        },
        "id": "X6oelNm4t6Rn",
        "outputId": "0aa4025e-d335-4a77-a186-7e84d098c66c"
      },
      "id": "X6oelNm4t6Rn",
      "execution_count": null,
      "outputs": [
        {
          "output_type": "execute_result",
          "data": {
            "text/plain": [
              "10244"
            ]
          },
          "metadata": {},
          "execution_count": 22
        }
      ]
    },
    {
      "cell_type": "markdown",
      "source": [
        "Yes, that was it. Let's re-compute the frequencies while accounting for this:\n",
        "\n"
      ],
      "metadata": {
        "id": "ghMtuGdsvYXa"
      },
      "id": "ghMtuGdsvYXa"
    },
    {
      "cell_type": "code",
      "source": [
        "n_empty_cids = 0\n",
        "cid_frequencies = {}  # We can use 'cid' as the abbreviation for Cantus ID. It is sufficiently distinct.\n",
        "for chant in chants:\n",
        "  cid = chant['cantus_id']\n",
        "\n",
        "  if cid == '':   # Here we deal with the missing values: just document how many there are.\n",
        "    n_empty_cids += 1\n",
        "    continue\n",
        "\n",
        "  if cid not in cid_frequencies:\n",
        "    cid_frequencies[cid] = 0\n",
        "  cid_frequencies[cid] += 1   # '+=' means 'add and modify original'. It's shorthand for cid_frequencies[cid] = cid_frequencies[cid] + 1"
      ],
      "metadata": {
        "id": "IUKQ-KU9vWOU"
      },
      "id": "IUKQ-KU9vWOU",
      "execution_count": null,
      "outputs": []
    },
    {
      "cell_type": "markdown",
      "source": [
        "Now we plot the CID counts again:"
      ],
      "metadata": {
        "id": "_XBbRXWnvXfF"
      },
      "id": "_XBbRXWnvXfF"
    },
    {
      "cell_type": "code",
      "source": [
        "cid_frequencies_sorted = list(sorted(cid_frequencies.values(), reverse=True))  # sorted() by default goes from lowest to highest\n",
        "\n",
        "plt.plot(cid_frequencies_sorted)\n",
        "plt.xlabel('n-th largest Cantus ID')   # Best practice: always label both axes.\n",
        "plt.ylabel('Number of Cantus ID occurrences')\n",
        "plt.show()"
      ],
      "metadata": {
        "colab": {
          "base_uri": "https://localhost:8080/",
          "height": 449
        },
        "id": "_v5Bp28zxiS5",
        "outputId": "d2dfec82-4771-4759-d1e8-36f241619842"
      },
      "id": "_v5Bp28zxiS5",
      "execution_count": null,
      "outputs": [
        {
          "output_type": "display_data",
          "data": {
            "text/plain": [
              "<Figure size 640x480 with 1 Axes>"
            ],
            "image/png": "[encoded data removed]"
          },
          "metadata": {}
        }
      ]
    },
    {
      "cell_type": "markdown",
      "source": [
        "...and we still have some problem! It was not just the empty ones.\n",
        "Let's see the highest-frequency values."
      ],
      "metadata": {
        "id": "qZRDFN9Cxn6s"
      },
      "id": "qZRDFN9Cxn6s"
    },
    {
      "cell_type": "code",
      "source": [
        "cid_and_frequency_pairs_sorted = list(\n",
        "    sorted(cid_frequencies.items(),    # The .items() function of a dictionary returns an iterator over all key-value pairs\n",
        "           reverse=True,               # We still want to go from highest to lowest\n",
        "           key=lambda kv: kv[1]        # ...so we have to sort by the *value* part of the (key, value) pair.\n",
        "           )\n",
        "    )                                  # Finally, we turn the whole thing into a regular list,\n",
        "                                       # to not have to deal with some Python efficiency magic on sorted() and .items()."
      ],
      "metadata": {
        "id": "7LB6Sq5zxiqy"
      },
      "id": "7LB6Sq5zxiqy",
      "execution_count": null,
      "outputs": []
    },
    {
      "cell_type": "code",
      "source": [
        "cid_and_frequency_pairs_sorted[:10]"
      ],
      "metadata": {
        "colab": {
          "base_uri": "https://localhost:8080/"
        },
        "id": "AHDmUPOQx2EC",
        "outputId": "3385a89a-1ea6-4df8-d70c-afe708e5dfdf"
      },
      "id": "AHDmUPOQx2EC",
      "execution_count": null,
      "outputs": [
        {
          "output_type": "execute_result",
          "data": {
            "text/plain": [
              "[('909000', 8883),\n",
              " ('008097', 908),\n",
              " ('008081', 867),\n",
              " ('001328', 840),\n",
              " ('909030', 796),\n",
              " ('008201', 750),\n",
              " ('008014', 719),\n",
              " ('008120', 666),\n",
              " ('008301', 593),\n",
              " ('007941', 565)]"
            ]
          },
          "metadata": {},
          "execution_count": 26
        }
      ]
    },
    {
      "cell_type": "markdown",
      "source": [
        "OK, `909000` looks like a legitimate Cantus ID. What chant does it represent?"
      ],
      "metadata": {
        "id": "IhSLyuhcy0h4"
      },
      "id": "IhSLyuhcy0h4"
    },
    {
      "cell_type": "code",
      "source": [
        "chants_with_909000 = [c for c in chants if c['cantus_id'] == '909000']"
      ],
      "metadata": {
        "id": "4IOxjWAGx4Uu"
      },
      "id": "4IOxjWAGx4Uu",
      "execution_count": null,
      "outputs": []
    },
    {
      "cell_type": "code",
      "source": [
        "chants_with_909000[0]"
      ],
      "metadata": {
        "colab": {
          "base_uri": "https://localhost:8080/"
        },
        "id": "c3m9EJHky70v",
        "outputId": "f8202a70-d277-44bc-ba07-c4c3abdb9511"
      },
      "id": "c3m9EJHky70v",
      "execution_count": null,
      "outputs": [
        {
          "output_type": "execute_result",
          "data": {
            "text/plain": [
              "{'id': 'chant_000564',\n",
              " 'incipit': '-loria patri et filio et',\n",
              " 'cantus_id': '909000',\n",
              " 'mode': '1',\n",
              " 'finalis': '',\n",
              " 'differentia': '',\n",
              " 'siglum': 'HR-Dsmbb XI',\n",
              " 'position': '02',\n",
              " 'folio': '125r',\n",
              " 'sequence': '1.0',\n",
              " 'marginalia': '',\n",
              " 'cao_concordances': '',\n",
              " 'feast_id': 'feast_0577',\n",
              " 'genre_id': 'genre_v',\n",
              " 'office_id': 'office_m',\n",
              " 'source_id': '',\n",
              " 'melody_id': '',\n",
              " 'drupal_path': 'https://cantusdatabase.org/chant/279117',\n",
              " 'full_text': '',\n",
              " 'full_text_manuscript': '',\n",
              " 'volpiano': '',\n",
              " 'notes': ''}"
            ]
          },
          "metadata": {},
          "execution_count": 28
        }
      ]
    },
    {
      "cell_type": "code",
      "source": [
        "chants_with_909000[1]"
      ],
      "metadata": {
        "colab": {
          "base_uri": "https://localhost:8080/"
        },
        "id": "wQ_VJWhTy8-F",
        "outputId": "aa144cb6-7f51-408f-95b0-f0628f511b03"
      },
      "id": "wQ_VJWhTy8-F",
      "execution_count": null,
      "outputs": [
        {
          "output_type": "execute_result",
          "data": {
            "text/plain": [
              "{'id': 'chant_139928',\n",
              " 'incipit': 'Doxa patri et filio et',\n",
              " 'cantus_id': '909000',\n",
              " 'mode': '8S',\n",
              " 'finalis': '',\n",
              " 'differentia': '',\n",
              " 'siglum': 'SI-Lna 18 (olim 17)',\n",
              " 'position': '02',\n",
              " 'folio': '185v',\n",
              " 'sequence': '2.0',\n",
              " 'marginalia': '',\n",
              " 'cao_concordances': '',\n",
              " 'feast_id': 'feast_0888',\n",
              " 'genre_id': 'genre_v',\n",
              " 'office_id': 'office_m',\n",
              " 'source_id': 'source_236',\n",
              " 'melody_id': '',\n",
              " 'drupal_path': 'https://cantusdatabase.org/chant/344226',\n",
              " 'full_text': '',\n",
              " 'full_text_manuscript': '',\n",
              " 'volpiano': '',\n",
              " 'notes': ''}"
            ]
          },
          "metadata": {},
          "execution_count": 29
        }
      ]
    },
    {
      "cell_type": "code",
      "source": [
        "chants_with_909000[2]"
      ],
      "metadata": {
        "colab": {
          "base_uri": "https://localhost:8080/"
        },
        "id": "rc8M8xKoy_rP",
        "outputId": "0e41167f-12a3-4ddf-e014-ec1a0a4f98c6"
      },
      "id": "rc8M8xKoy_rP",
      "execution_count": null,
      "outputs": [
        {
          "output_type": "execute_result",
          "data": {
            "text/plain": [
              "{'id': 'chant_173090',\n",
              " 'incipit': 'Et gloria*',\n",
              " 'cantus_id': '909000',\n",
              " 'mode': '*',\n",
              " 'finalis': '',\n",
              " 'differentia': '',\n",
              " 'siglum': 'A-Wn Mus.Hs.15489',\n",
              " 'position': '02',\n",
              " 'folio': '040r',\n",
              " 'sequence': '7.0',\n",
              " 'marginalia': '',\n",
              " 'cao_concordances': '',\n",
              " 'feast_id': 'feast_0552',\n",
              " 'genre_id': 'genre_v',\n",
              " 'office_id': 'office_m',\n",
              " 'source_id': '',\n",
              " 'melody_id': '',\n",
              " 'drupal_path': 'https://cantusdatabase.org/chant/572245',\n",
              " 'full_text': 'Et gloria*',\n",
              " 'full_text_manuscript': '{Et gloria}',\n",
              " 'volpiano': '',\n",
              " 'notes': ''}"
            ]
          },
          "metadata": {},
          "execution_count": 30
        }
      ]
    },
    {
      "cell_type": "markdown",
      "source": [
        "It's the **doxology**!\n",
        "\n",
        "This is a great example of how the interaction between domain knowledge and computing skills is necessary. These are legitimate chant records: they have all the required information, they have a valid Cantus ID, they record what manuscript they come from, etc. So, those are not mistakes, in the sense in which the empty Cantus ID records were invalid.\n",
        "\n",
        "What to do? Should we actually treat this as the most frequent Cantus ID? Should it participate in computing the average number of chants per Cantus ID? (Incidentally, the invalid records with no Cantus ID participated in that average as well.)\n",
        "\n",
        "Here is where domain knowledge comes in. The doxology is the phrase:\n",
        "\n",
        "_'Gloria Patri et Filii et Spiritui Sancto_\n",
        "\n",
        "_sicut erat in principio et nunc et semper, et in saecula saeculorum. Amen.'_\n",
        "\n",
        "which is added at the end of every psalm, and into many other chants, esp. those genres that use psalm verses as their texts. The doxology is not recorded too often, but because it occurs so many times in liturgy, when scribal practices of a certain time and place included recording the doxology as a separate unit (even if just in some contexts), then its frequency skyrockets.\n",
        "\n",
        "So for the purpose of obtaining useful descriptive statistics, the doxology is not too helpful. Let's exclude it.\n",
        "\n",
        "We can implement this via keeping a list of excluded Cantus IDs:"
      ],
      "metadata": {
        "id": "nET4X19VzMw6"
      },
      "id": "nET4X19VzMw6"
    },
    {
      "cell_type": "code",
      "source": [
        "# Again we write the variable name in capitals, because it is something we set \"from above\".\n",
        "EXCLUDED_CANTUS_IDS = ['',\n",
        "                       '909000']  # Doxology"
      ],
      "metadata": {
        "id": "rOcwEcfKzLjL"
      },
      "id": "rOcwEcfKzLjL",
      "execution_count": null,
      "outputs": []
    },
    {
      "cell_type": "code",
      "source": [
        "# And we re-do the frequency counting\n",
        "n_empty_cids = 0\n",
        "n_excluded_cids = 0\n",
        "cid_frequencies = {}  # We can use 'cid' as the abbreviation for Cantus ID. It is sufficiently distinct.\n",
        "for chant in chants:\n",
        "  cid = chant['cantus_id']\n",
        "\n",
        "  if cid in EXCLUDED_CANTUS_IDS:   # Updated from only missing values to all excluded values\n",
        "    n_excluded_cids += 1\n",
        "    if cid == '':\n",
        "      n_empty_cids += 1    # We still want to document empty Cantus IDs, to perhaps do some data quality work later.\n",
        "    continue\n",
        "\n",
        "  if cid not in cid_frequencies:\n",
        "    cid_frequencies[cid] = 0\n",
        "  cid_frequencies[cid] += 1   # '+=' means 'add and modify original'. It's shorthand for cid_frequencies[cid] = cid_frequencies[cid] + 1"
      ],
      "metadata": {
        "id": "9rV9RSuYzBPn"
      },
      "id": "9rV9RSuYzBPn",
      "execution_count": null,
      "outputs": []
    },
    {
      "cell_type": "code",
      "source": [
        "print('Total distinct CIDs (exclusions applied): {}\\nChants with excluded CIDs: {}, of those empty CIDs: {}'\n",
        "      ''.format(len(cid_frequencies), n_excluded_cids, n_empty_cids))\n",
        "\n",
        "# We also have to adjust the basic statistics we are going to use down the road.\n",
        "n_distinct_chants = len(cid_frequencies)\n",
        "n_chants = n_chants - n_excluded_cids\n",
        "print('Average no. of chants per CID: {:.2f}'.format(n_chants / n_distinct_chants))"
      ],
      "metadata": {
        "colab": {
          "base_uri": "https://localhost:8080/"
        },
        "id": "aXSjtf8m1sV2",
        "outputId": "aa2d2978-6ed5-4ba2-fc4b-9be76edf3367"
      },
      "id": "aXSjtf8m1sV2",
      "execution_count": null,
      "outputs": [
        {
          "output_type": "stream",
          "name": "stdout",
          "text": [
            "Total distinct CIDs (exclusions applied): 31499\n",
            "Chants with excluded CIDs: 19127, of those empty CIDs: 10244\n",
            "Average no. of chants per CID: 15.17\n"
          ]
        }
      ]
    },
    {
      "cell_type": "markdown",
      "source": [
        "And we re-do the plotting:"
      ],
      "metadata": {
        "id": "PvuvuvUf2BhJ"
      },
      "id": "PvuvuvUf2BhJ"
    },
    {
      "cell_type": "code",
      "source": [
        "cid_frequencies_sorted = list(sorted(cid_frequencies.values(), reverse=True))  # sorted() by default goes from lowest to highest\n",
        "\n",
        "plt.plot(cid_frequencies_sorted)\n",
        "plt.xlabel('n-th largest Cantus ID')   # Best practice: always label both axes.\n",
        "plt.ylabel('Number of Cantus ID occurrences')\n",
        "plt.show()"
      ],
      "metadata": {
        "colab": {
          "base_uri": "https://localhost:8080/",
          "height": 449
        },
        "id": "7Kn_yHFj13TD",
        "outputId": "69e69cae-8f05-42be-c9de-1d4547b5332b"
      },
      "id": "7Kn_yHFj13TD",
      "execution_count": null,
      "outputs": [
        {
          "output_type": "display_data",
          "data": {
            "text/plain": [
              "<Figure size 640x480 with 1 Axes>"
            ],
            "image/png": "[encoded data removed]"
          },
          "metadata": {}
        }
      ]
    },
    {
      "cell_type": "markdown",
      "source": [
        "These are suddenly more reasonable numbers! We know that the Cantus database contains a few hundred sources at most, and some very frequent chants can occur multiple times within a source, so having some very small number of chants that have frequencies like 500 or even 900 is probably not a mistake or not something strange that would require excluding the Cantus ID."
      ],
      "metadata": {
        "id": "sLa5WjrI2O8m"
      },
      "id": "sLa5WjrI2O8m"
    },
    {
      "cell_type": "markdown",
      "source": [
        "But we should certainly check again, just to be sure!\n",
        "\n",
        "Let's re-compute the list of most frequent Cantus IDs and their frequencies:"
      ],
      "metadata": {
        "id": "RfDclIin2nyq"
      },
      "id": "RfDclIin2nyq"
    },
    {
      "cell_type": "code",
      "source": [
        "cid_and_frequency_pairs_sorted = list(\n",
        "    sorted(cid_frequencies.items(),    # The .items() function of a dictionary returns an iterator over all key-value pairs\n",
        "           reverse=True,               # We still want to go from highest to lowest\n",
        "           key=lambda kv: kv[1]        # ...so we have to sort by the *value* part of the (key, value) pair.\n",
        "           )\n",
        "    )                                  # Finally, we turn the whole thing into a regular list,\n",
        "                                       # to not have to deal with some Python efficiency magic on sorted() and .items()."
      ],
      "metadata": {
        "id": "N5Gr2tmK2IHi"
      },
      "id": "N5Gr2tmK2IHi",
      "execution_count": null,
      "outputs": []
    },
    {
      "cell_type": "code",
      "source": [
        "cid_and_frequency_pairs_sorted[:10]"
      ],
      "metadata": {
        "colab": {
          "base_uri": "https://localhost:8080/"
        },
        "id": "02KiGK7w2w1c",
        "outputId": "52bdc3b9-fcaa-4fc2-cec6-1df7dee89f38"
      },
      "id": "02KiGK7w2w1c",
      "execution_count": null,
      "outputs": [
        {
          "output_type": "execute_result",
          "data": {
            "text/plain": [
              "[('008097', 908),\n",
              " ('008081', 867),\n",
              " ('001328', 840),\n",
              " ('909030', 796),\n",
              " ('008201', 750),\n",
              " ('008014', 719),\n",
              " ('008120', 666),\n",
              " ('008301', 593),\n",
              " ('007941', 565),\n",
              " ('007994', 555)]"
            ]
          },
          "metadata": {},
          "execution_count": 36
        }
      ]
    },
    {
      "cell_type": "markdown",
      "source": [
        "Again we take a look at what the most frequent Cantus ID represents:"
      ],
      "metadata": {
        "id": "tA5Bf4313CFh"
      },
      "id": "tA5Bf4313CFh"
    },
    {
      "cell_type": "code",
      "source": [
        "chants_with_008097 = [c for c in chants if c['cantus_id'] == '008097']\n",
        "for i in range(3):\n",
        "  # print(chants_with_008097[i])    # This is hard to read. But we have the convenient print_chant() function defined earlier!\n",
        "  print_chant(chants_with_008097[i])\n",
        "  print('-----')  # Because print_chant() does not separate between the printed records..."
      ],
      "metadata": {
        "collapsed": true,
        "colab": {
          "base_uri": "https://localhost:8080/"
        },
        "id": "ou1oQhPy2zwT",
        "outputId": "ef9bf84f-8630-414e-caed-1acdefe14c16"
      },
      "id": "ou1oQhPy2zwT",
      "execution_count": null,
      "outputs": [
        {
          "output_type": "stream",
          "name": "stdout",
          "text": [
            "id: chant_241753\n",
            "incipit: In omnem fratem*\n",
            "cantus_id: 008097\n",
            "mode: *\n",
            "finalis: \n",
            "differentia: \n",
            "siglum: CDN-Hsmu M2149.L4\n",
            "position: 1.\n",
            "folio: 180r\n",
            "sequence: 2.0\n",
            "marginalia: \n",
            "cao_concordances: \n",
            "feast_id: feast_0180\n",
            "genre_id: genre_w\n",
            "office_id: office_m\n",
            "source_id: source_297\n",
            "melody_id: \n",
            "drupal_path: https://cantusdatabase.org/chant/272330\n",
            "full_text: In omnem fratem*\n",
            "full_text_manuscript: In omnem fratem\n",
            "volpiano: \n",
            "notes: \n",
            "-----\n",
            "id: chant_241756\n",
            "incipit: In omnem terra*\n",
            "cantus_id: 008097\n",
            "mode: *\n",
            "finalis: \n",
            "differentia: \n",
            "siglum: US-Cn 24\n",
            "position: R\n",
            "folio: 072r\n",
            "sequence: 5.0\n",
            "marginalia: A\n",
            "cao_concordances: C BEMVHRD SL\n",
            "feast_id: feast_1607\n",
            "genre_id: genre_w\n",
            "office_id: office_l\n",
            "source_id: source_072\n",
            "melody_id: \n",
            "drupal_path: https://cantusdatabase.org/chant/220918\n",
            "full_text: \n",
            "full_text_manuscript: \n",
            "volpiano: \n",
            "notes: \n",
            "-----\n",
            "id: chant_241761\n",
            "incipit: In omnem terram\n",
            "cantus_id: 008097\n",
            "mode: \n",
            "finalis: \n",
            "differentia: \n",
            "siglum: CZ Pu VI.E.4c\n",
            "position: 1.\n",
            "folio: 083r\n",
            "sequence: 7.0\n",
            "marginalia: \n",
            "cao_concordances: C BEMVHRD SL\n",
            "feast_id: feast_0994\n",
            "genre_id: genre_w\n",
            "office_id: office_m\n",
            "source_id: \n",
            "melody_id: \n",
            "drupal_path: https://cantusdatabase.org/chant/462368\n",
            "full_text: In omnem terram R. Exivit sonus eorum et in fines orbis terrae verba eorum\n",
            "full_text_manuscript: \n",
            "volpiano: \n",
            "notes: \n",
            "-----\n"
          ]
        }
      ]
    },
    {
      "cell_type": "markdown",
      "source": [
        "It turns out that this is a versicle (genre: W) for the Divine Office when there is a feast scheduled in the liturgical calendar that has something to do with an apostle (Peter, John, Mark, Thomas, etc.). No wonder that it is very frequent. But this is no anomaly. It should stay in the database."
      ],
      "metadata": {
        "id": "IKLWq0Kr34b_"
      },
      "id": "IKLWq0Kr34b_"
    },
    {
      "cell_type": "markdown",
      "source": [
        "**Digression 3: Aggregating information from chant records**\n",
        "\n",
        "When we inspected the record above, not all records of the chant across different manuscripts actually corresponded to the same liturgical position. We have a 'hard' expectation that chants from the same Cantus ID all belong to the same genre. We expect chants from different manuscripts to of course not have the same siglum, folio, or other attributes connected to the manuscript itself.\n",
        "\n",
        "But then there are liturgical properties like which feast a chant is used for, which office and which position it occupies within that office. These have often been used to identify different \"uses\" or \"sub-traditions\". For instance, monastic orders could have differed in what chants they chose e.g. for Marian feasts.\n",
        "\n",
        "This variability might be reflected for some Cantus IDs in that these properties vary a lot across the different instances of the given chant in manuscripts. Again, however, this is not something we can really inspect manually at this scale: finding such chants calls for automation.\n",
        "\n",
        "Though it is not easy to define what is a 'sufficiently varied' use of a chant, the first step towards this is simply **aggregating chants that share a Cantus ID**. (We may already want this in the same way that Cantus Index wants this: to be able to say at least which single value represents each field of a chant the most.)"
      ],
      "metadata": {
        "id": "BeJD3IUA4Q0l"
      },
      "id": "BeJD3IUA4Q0l"
    },
    {
      "cell_type": "markdown",
      "source": [
        "For this purpose, we define a new abstraction above the dataset. For the lack of a better term, we call this a **work** (though of course for Gregorian chant this is quite a poor designation...).\n",
        "\n",
        "Programming practices dictate that new complex entities derived from our dataset should be implemented as classes. (Representing \"things\" is exactly what object-oriented programming was born to do!)"
      ],
      "metadata": {
        "id": "ZbwwdInj6iJ3"
      },
      "id": "ZbwwdInj6iJ3"
    },
    {
      "cell_type": "code",
      "source": [
        "class Work:\n",
        "\n",
        "  ALL_CHANT_FIELDS = fieldnames\n",
        "\n",
        "  # Aggregation policies\n",
        "  # --------------------\n",
        "\n",
        "  # Here we define how we handle aggregation of the different fields\n",
        "  # available for each chant record.\n",
        "\n",
        "  # These fields we cannot aggregate, because they are by definition\n",
        "  # unique to a chant's instance in a manuscript.\n",
        "  MANUSCRIPT_FIELDS = ['siglum', 'sequence', 'folio', 'marginalia', 'source_id', 'drupal_path',\n",
        "                       'full_text_manuscript',\n",
        "                       'volpiano',              # Melodies are practically never the same and exctracting a characteristic melody\n",
        "                                                # is what Solesmes does for the last 150 years or so.\n",
        "                       'notes']\n",
        "\n",
        "  # These fields we expect to have a variety of values, and we are interested\n",
        "  # in the characteristic value of these.\n",
        "  CHARACTERISTIC_FIELDS = ['incipit', 'genre_id', # We include genre here, even though it should be single-value, for reporting.\n",
        "                           'mode', 'finalis', 'differentia',\n",
        "                           'position',   # 'position' is liturgical position, 'sequence' is position on the page\n",
        "                           'office_id', 'feast_id'\n",
        "                           ]\n",
        "\n",
        "  # These fields are expected to only have a single value and if they don't\n",
        "  # the Work cannot be constructed.\n",
        "  SINGLE_VALUE_ENFORCED_FIELDS = ['cantus_id']\n",
        "\n",
        "  # Those should be consistent, but we allow them to be also empty\n",
        "  # and if they are not consistent we do not care as much.\n",
        "  SINGLE_VALUE_OR_EMPTY_FIELDS = ['genre_id', 'full_text', 'cao_concordances']\n",
        "\n",
        "  # These fields have no point for a Work.\n",
        "  IGNORED_FIELDS = ['melody_id', 'id']\n",
        "\n",
        "\n",
        "  def __init__(self, chants):       # In Python, __init__() is a special function that is run when a new object of that class is created.\n",
        "                                    # The 'self' parameter always refers to the current instance of the class.\n",
        "\n",
        "    # Check that we got at least some chants\n",
        "    if len(chants) == 0:\n",
        "      raise ValueError('Work must have at least one chant!')\n",
        "\n",
        "    # Check that all the chants really have the same Cantus ID\n",
        "    all_cantus_ids = set(c['cantus_id'] for c in chants)\n",
        "    if len(all_cantus_ids) >= 2:   # More than 1 Cantus ID\n",
        "      raise ValueError('A Work cannot be built from chants with different Cantus IDs!'\n",
        "                       ' Tried to construct work with Cantus IDs: {}'.format(all_cantus_ids))\n",
        "\n",
        "    self.chants = chants\n",
        "    self.cantus_id = self.chants[0]['cantus_id']\n",
        "\n",
        "    # Now we compute and store the characteristic values\n",
        "    self.characteristic_values = {}\n",
        "    self.characteristic_freqdicts = {}\n",
        "    for f in self.CHARACTERISTIC_FIELDS:\n",
        "       characteristic_value, characteristic_freqdict = self.determine_characteristic_value_and_freqdict(f)\n",
        "       self.characteristic_values[f] = characteristic_value\n",
        "       self.characteristic_freqdicts[f] = characteristic_freqdict\n",
        "\n",
        "    # We actually leave the policy for single-value-or-empty fields\n",
        "    # not implemented for now, it's not important for the rest of the notebook.\n",
        "    # (This is actually a real software development practice. Defining\n",
        "    #  what something is supposed to do is often much more important than\n",
        "    #  actually implementing that functionality.)\n",
        "\n",
        "\n",
        "  def __len__(self):   # The __str__(self) special method determines how the class reacts to len(work)\n",
        "    return len(self.chants)\n",
        "\n",
        "  def __str__(self):   # The __str__(self) special method determines how the class reacts to print(work)\n",
        "    header_string = 'Work CID {}: {} chants, characteristics:'.format(self.cantus_id, len(self))\n",
        "    characteristic_strings = ['\\t{}:\\t{}'.format(f, self.characteristic_values[f])\n",
        "                              for f in self.CHARACTERISTIC_FIELDS]\n",
        "    characteristic_string = '\\n'.join(characteristic_strings)\n",
        "    output = header_string + '\\n' + characteristic_string\n",
        "    return output\n",
        "\n",
        "\n",
        "  def determine_characteristic_value_and_freqdict(self, field):\n",
        "    \"\"\"Return the characteristic (most frequent) value for the given field\n",
        "    across all the work's chants. In case of a tie, returns a random value\n",
        "    from the tied highest-frequency value set.\n",
        "\n",
        "    Also return a frequency dictionary of all values for that field.\"\"\"\n",
        "\n",
        "    # Guarding against invalid input. This is in some sense unnecessary, but it can save painful debugging.\n",
        "    if field not in self.ALL_CHANT_FIELDS:\n",
        "      raise ValueError('Invalid field: {}! Available fields: {}'.format(field, self.ALL_CHANT_FIELDS))\n",
        "\n",
        "    most_frequent_values = set()   # There may be a tie for the highest-frequency value\n",
        "    highest_frequency = -1\n",
        "\n",
        "    value_frequencies = {}\n",
        "    for c in self.chants:\n",
        "      v = c[field]\n",
        "\n",
        "      # Accumulating the freuqency dictionary\n",
        "      if v not in value_frequencies:\n",
        "        value_frequencies[v] = 0\n",
        "      value_frequencies[v] += 1\n",
        "\n",
        "      # Keeping track of the characteristic value\n",
        "      current_frequency = value_frequencies[v]\n",
        "      if current_frequency == highest_frequency:\n",
        "        most_frequent_values.add(v)\n",
        "      elif current_frequency > highest_frequency:\n",
        "        most_frequent_values = set([v])\n",
        "        highest_frequency = current_frequency\n",
        "\n",
        "    # We actually don't bother with the ties for now when returning a value for now...\n",
        "    return list(most_frequent_values)[0], value_frequencies"
      ],
      "metadata": {
        "id": "4zZfTCBx3H_c"
      },
      "id": "4zZfTCBx3H_c",
      "execution_count": null,
      "outputs": []
    },
    {
      "cell_type": "markdown",
      "source": [
        "And we define also a convenience function to create works from a list of chants and a Cantus ID:"
      ],
      "metadata": {
        "id": "HxoEE56eCE1K"
      },
      "id": "HxoEE56eCE1K"
    },
    {
      "cell_type": "code",
      "source": [
        "def create_work(cantus_id, chants):\n",
        "  relevant_chants = [c for c in chants if c['cantus_id'] == cantus_id]\n",
        "  work = Work(chants=relevant_chants)\n",
        "  return work"
      ],
      "metadata": {
        "id": "BrlsNeX_7TKt"
      },
      "id": "BrlsNeX_7TKt",
      "execution_count": null,
      "outputs": []
    },
    {
      "cell_type": "markdown",
      "source": [
        "Let's try it out!"
      ],
      "metadata": {
        "id": "Eim3lEomCSH2"
      },
      "id": "Eim3lEomCSH2"
    },
    {
      "cell_type": "code",
      "source": [
        "work_003511 = create_work('003511', chants)   # Cantus IDs often look like numbers, but they are always strings."
      ],
      "metadata": {
        "id": "eLWue6Fd7T3z"
      },
      "id": "eLWue6Fd7T3z",
      "execution_count": null,
      "outputs": []
    },
    {
      "cell_type": "code",
      "source": [
        "print(work_003511)"
      ],
      "metadata": {
        "colab": {
          "base_uri": "https://localhost:8080/"
        },
        "id": "08jE8R6dFb6J",
        "outputId": "0374f5ec-a4f2-4841-fcb2-448e2d8ddbe4"
      },
      "id": "08jE8R6dFb6J",
      "execution_count": null,
      "outputs": [
        {
          "output_type": "stream",
          "name": "stdout",
          "text": [
            "Work CID 003511: 132 chants, characteristics:\n",
            "\tincipit:\tJudaea et Jerusalem nolite\n",
            "\tgenre_id:\tgenre_a\n",
            "\tmode:\t8\n",
            "\tfinalis:\t\n",
            "\tdifferentia:\tG1\n",
            "\tposition:\t1\n",
            "\toffice_id:\toffice_l\n",
            "\tfeast_id:\tfeast_1765\n"
          ]
        }
      ]
    },
    {
      "cell_type": "markdown",
      "source": [
        "We can inspect the distribution of values for the individual characteristic fields:"
      ],
      "metadata": {
        "id": "0-nRt95HHod_"
      },
      "id": "0-nRt95HHod_"
    },
    {
      "cell_type": "code",
      "source": [
        "work_003511.characteristic_freqdicts['office_id']"
      ],
      "metadata": {
        "colab": {
          "base_uri": "https://localhost:8080/"
        },
        "id": "Vd8ELbBHDdhC",
        "outputId": "e8b94bbe-d86e-42a4-9f85-b7dc59b40dd5"
      },
      "id": "Vd8ELbBHDdhC",
      "execution_count": null,
      "outputs": [
        {
          "output_type": "execute_result",
          "data": {
            "text/plain": [
              "{'office_l': 95,\n",
              " 'office_v2': 10,\n",
              " 'office_v': 12,\n",
              " 'office_p': 14,\n",
              " 'office_t': 1}"
            ]
          },
          "metadata": {},
          "execution_count": 42
        }
      ]
    },
    {
      "cell_type": "code",
      "source": [
        "work_003511.characteristic_freqdicts['mode']"
      ],
      "metadata": {
        "colab": {
          "base_uri": "https://localhost:8080/"
        },
        "id": "o-E_3pZLD3it",
        "outputId": "54f8d2be-dd37-4df3-9467-36c8bb0d3875"
      },
      "id": "o-E_3pZLD3it",
      "execution_count": null,
      "outputs": [
        {
          "output_type": "execute_result",
          "data": {
            "text/plain": [
              "{'8': 90, '': 9, '?': 8, '*': 22, 'Gc': 1, '8*': 1, '5': 1}"
            ]
          },
          "metadata": {},
          "execution_count": 43
        }
      ]
    },
    {
      "cell_type": "code",
      "source": [
        "work_003511.characteristic_freqdicts['differentia']"
      ],
      "metadata": {
        "colab": {
          "base_uri": "https://localhost:8080/"
        },
        "id": "mi_Nfr5RD7a9",
        "outputId": "27fc586e-aff4-4936-94d2-ea8dea214b0e"
      },
      "id": "mi_Nfr5RD7a9",
      "execution_count": null,
      "outputs": [
        {
          "output_type": "execute_result",
          "data": {
            "text/plain": [
              "{'G1': 36,\n",
              " '': 32,\n",
              " '1': 21,\n",
              " '2': 2,\n",
              " 'w': 7,\n",
              " 'G2': 7,\n",
              " '*': 16,\n",
              " 'G5': 1,\n",
              " '?': 3,\n",
              " 'G01': 2,\n",
              " 'G': 4,\n",
              " '33c': 1}"
            ]
          },
          "metadata": {},
          "execution_count": 44
        }
      ]
    },
    {
      "cell_type": "code",
      "source": [
        "work_003511.characteristic_freqdicts['position']"
      ],
      "metadata": {
        "colab": {
          "base_uri": "https://localhost:8080/"
        },
        "id": "f2aGi9reEAD4",
        "outputId": "c70fb132-5741-4dda-9670-8ae213c709f2"
      },
      "id": "f2aGi9reEAD4",
      "execution_count": null,
      "outputs": [
        {
          "output_type": "execute_result",
          "data": {
            "text/plain": [
              "{'1': 111, '4': 1, '': 20}"
            ]
          },
          "metadata": {},
          "execution_count": 45
        }
      ]
    },
    {
      "cell_type": "markdown",
      "source": [
        "Now we have a convenient way of characterising what individual Cantus IDs stand for. This is similar to what the user interface of Cantus Index does. (End of digression.)\n",
        "\n",
        "---\n",
        "\n"
      ],
      "metadata": {
        "id": "4N9ppfZLF-jm"
      },
      "id": "4N9ppfZLF-jm"
    },
    {
      "cell_type": "markdown",
      "source": [
        "**Now we get back to the most frequent Cantus IDs.** We can apply the Work class straight away to inspect the top 10 most frequent CIDs."
      ],
      "metadata": {
        "id": "a8vajX3BGOxN"
      },
      "id": "a8vajX3BGOxN"
    },
    {
      "cell_type": "code",
      "source": [
        "top_10_cids = [cf[0] for cf in cid_and_frequency_pairs_sorted[:10]]"
      ],
      "metadata": {
        "id": "7I2Jal_0EEdK"
      },
      "id": "7I2Jal_0EEdK",
      "execution_count": null,
      "outputs": []
    },
    {
      "cell_type": "code",
      "source": [
        "for cid in top_10_cids:\n",
        "  work = create_work(cid, chants)\n",
        "  print(work)"
      ],
      "metadata": {
        "colab": {
          "base_uri": "https://localhost:8080/"
        },
        "collapsed": true,
        "id": "5yk4RwEjGaoo",
        "outputId": "e4a0bae2-ae7b-4a7c-9ab0-7f76f693c0dd"
      },
      "id": "5yk4RwEjGaoo",
      "execution_count": null,
      "outputs": [
        {
          "output_type": "stream",
          "name": "stdout",
          "text": [
            "Work CID 008097: 908 chants, characteristics:\n",
            "\tincipit:\tIn omnem terram*\n",
            "\tgenre_id:\tgenre_w\n",
            "\tmode:\t*\n",
            "\tfinalis:\t\n",
            "\tdifferentia:\t\n",
            "\tposition:\t\n",
            "\toffice_id:\toffice_m\n",
            "\tfeast_id:\tfeast_0198\n",
            "Work CID 008081: 867 chants, characteristics:\n",
            "\tincipit:\tGloria et honore*\n",
            "\tgenre_id:\tgenre_w\n",
            "\tmode:\t*\n",
            "\tfinalis:\t\n",
            "\tdifferentia:\t\n",
            "\tposition:\t\n",
            "\toffice_id:\toffice_m\n",
            "\tfeast_id:\tfeast_0258\n",
            "Work CID 001328: 840 chants, characteristics:\n",
            "\tincipit:\tAlleluia iii\n",
            "\tgenre_id:\tgenre_a\n",
            "\tmode:\t8\n",
            "\tfinalis:\t\n",
            "\tdifferentia:\t*\n",
            "\tposition:\t\n",
            "\toffice_id:\toffice_m\n",
            "\tfeast_id:\tfeast_0473\n",
            "Work CID 909030: 796 chants, characteristics:\n",
            "\tincipit:\tVenite exsultemus domino\n",
            "\tgenre_id:\tgenre_ip\n",
            "\tmode:\t\n",
            "\tfinalis:\t\n",
            "\tdifferentia:\t\n",
            "\tposition:\t\n",
            "\toffice_id:\toffice_m\n",
            "\tfeast_id:\tfeast_0966\n",
            "Work CID 008201: 750 chants, characteristics:\n",
            "\tincipit:\tSpecie tua*\n",
            "\tgenre_id:\tgenre_w\n",
            "\tmode:\t*\n",
            "\tfinalis:\t\n",
            "\tdifferentia:\t\n",
            "\tposition:\t\n",
            "\toffice_id:\toffice_m\n",
            "\tfeast_id:\tfeast_0234\n",
            "Work CID 008014: 719 chants, characteristics:\n",
            "\tincipit:\tDiffusa est gratia*\n",
            "\tgenre_id:\tgenre_w\n",
            "\tmode:\t*\n",
            "\tfinalis:\t\n",
            "\tdifferentia:\t\n",
            "\tposition:\t\n",
            "\toffice_id:\toffice_m\n",
            "\tfeast_id:\tfeast_0234\n",
            "Work CID 008120: 666 chants, characteristics:\n",
            "\tincipit:\tLaetamini in domino*\n",
            "\tgenre_id:\tgenre_w\n",
            "\tmode:\t*\n",
            "\tfinalis:\t\n",
            "\tdifferentia:\t\n",
            "\tposition:\t\n",
            "\toffice_id:\toffice_m\n",
            "\tfeast_id:\tfeast_1283\n",
            "Work CID 008301: 593 chants, characteristics:\n",
            "\tincipit:\tExsultet caelum*\n",
            "\tgenre_id:\tgenre_h\n",
            "\tmode:\t*\n",
            "\tfinalis:\t\n",
            "\tdifferentia:\t\n",
            "\tposition:\t\n",
            "\toffice_id:\toffice_v\n",
            "\tfeast_id:\tfeast_0198\n",
            "Work CID 007941: 565 chants, characteristics:\n",
            "\tincipit:\tAmavit eum dominus*\n",
            "\tgenre_id:\tgenre_w\n",
            "\tmode:\t*\n",
            "\tfinalis:\t\n",
            "\tdifferentia:\t\n",
            "\tposition:\t\n",
            "\toffice_id:\toffice_m\n",
            "\tfeast_id:\tfeast_1125\n",
            "Work CID 007994: 555 chants, characteristics:\n",
            "\tincipit:\tConstitues eos principes*\n",
            "\tgenre_id:\tgenre_w\n",
            "\tmode:\t*\n",
            "\tfinalis:\t\n",
            "\tdifferentia:\t\n",
            "\tposition:\t2.\n",
            "\toffice_id:\toffice_m\n",
            "\tfeast_id:\tfeast_0198\n"
          ]
        }
      ]
    },
    {
      "cell_type": "markdown",
      "source": [
        "Nothing particularly suspicious in here. We don't have to exclude anything else.\n",
        "\n",
        "So, we can finally get back to plotting the frequencies of Cantus IDs!"
      ],
      "metadata": {
        "id": "q_bDE4g3INny"
      },
      "id": "q_bDE4g3INny"
    },
    {
      "cell_type": "code",
      "source": [
        "cid_frequencies_sorted = list(sorted(cid_frequencies.values(), reverse=True))  # sorted() by default goes from lowest to highest\n",
        "\n",
        "# We use matplotlib here in a slightly different, more flexible way:\n",
        "# we work directly with its \"axes\" object rather than just calling plt.something()\n",
        "# functions. The reason will soon become apparent.\n",
        "\n",
        "ax = plt.gca()\n",
        "ax.plot(cid_frequencies_sorted)\n",
        "ax.set_title('Cantus ID frequencies')\n",
        "ax.set_xlabel('n-th largest Cantus ID')   # Best practice: always label both axes.\n",
        "ax.set_ylabel('Number of Cantus ID occurrences')\n",
        "\n",
        "plt.show()"
      ],
      "metadata": {
        "colab": {
          "base_uri": "https://localhost:8080/",
          "height": 472
        },
        "id": "ZA4MSxOJGsaX",
        "outputId": "2b88d12c-dc36-4a4b-8fba-0ef5192e0c3f"
      },
      "id": "ZA4MSxOJGsaX",
      "execution_count": null,
      "outputs": [
        {
          "output_type": "display_data",
          "data": {
            "text/plain": [
              "<Figure size 640x480 with 1 Axes>"
            ],
            "image/png": "[encoded data removed]"
          },
          "metadata": {}
        }
      ]
    },
    {
      "cell_type": "markdown",
      "source": [
        "Now let's plot this figure but with the frequency axis logarithmic.\n",
        "\n",
        "This helps with making the structure of this long tail clearer."
      ],
      "metadata": {
        "id": "DPU211cnKyQe"
      },
      "id": "DPU211cnKyQe"
    },
    {
      "cell_type": "code",
      "source": [
        "\n",
        "ax = plt.gca()\n",
        "ax.plot(cid_frequencies_sorted)\n",
        "ax.set_title('Log-scaled Cantus ID frequencies')\n",
        "ax.set_xlabel('n-th largest Cantus ID')   # Best practice: always label both axes.\n",
        "ax.set_ylabel('Number of Cantus ID occurrences')\n",
        "ax.set_yscale('log')\n",
        "\n",
        "plt.show()"
      ],
      "metadata": {
        "colab": {
          "base_uri": "https://localhost:8080/",
          "height": 472
        },
        "id": "gonOG1fSKwd7",
        "outputId": "9911e83b-1623-4847-b010-11c3e17f1000"
      },
      "id": "gonOG1fSKwd7",
      "execution_count": null,
      "outputs": [
        {
          "output_type": "display_data",
          "data": {
            "text/plain": [
              "<Figure size 640x480 with 1 Axes>"
            ],
            "image/png": "[encoded data removed]"
          },
          "metadata": {}
        }
      ]
    },
    {
      "cell_type": "markdown",
      "source": [
        "Liturgies and Genres\n",
        "====================\n",
        "\n",
        "What is that 'bump' just under 100 occurences of a Cantus ID, around the 2000th-2500th most frequent CID?\n",
        "\n",
        "\n",
        "That is not a very typical feature of 'naturally distributed' datasets.\n",
        "Many things (like word frequencies, or populations of cities, or number of tree species per square kilometer...) are distributed so that a few items are very frequent, but then more and more items are less and less frequent, and often this follows a relatively simple distribution like a power law (`f_max, 1/2 f_max, 1/3 f_max, 1/4 f_max` etc.), an exponential (`f_max, f_max / 2, f_max / 4, f_max / 8` etc.), or something approximately like that. None of these typical shapes feature such a 'bump'.\n",
        "\n",
        "\n",
        "In order to address this, we must look deeper into the contents of the dataset. The highest-level thing to address is that now we are mixing chants for two non-overlapping liturgies: the Mass, and the Divine Office. These are in fact overwhelmingly written in different types of medieval manuscripts -- Antiphoners (and notated Breviaries) for the Office, and Graduals (and notated Missals) for the Mass. This material difference illustrates the distinction between these two elementary types of Latin liturgy.\n",
        "\n",
        "We should thereofre probably analyse chants for the Mass and for the Office separately. There are two ways to distinguish which liturgy a chant belongs to in Cantus: the `office_id`, and the `genre_id`. But, the `office_id` has had a somewhat inconsistent cataloguing history, while the genres are applied much more rigorously in Cantus, and each genre of chant by definition belongs to only one of these liturgies. Additionally, each genre corresponds to a particular liturgical position and thus a purpose that the practitioners had for the given group of chants, and genres have proven very useful in identifying e.g. use -- focusing on *alleluias* rather than *offertories*, for instance, is much more fruitful in determining what ecclesiastical context a manuscript might be coming from.\n",
        "\n",
        "So, we aggregate chants into groups by their genre: antiphons, responsories etc., and based on the genres we then plot those.\n"
      ],
      "metadata": {
        "id": "HYbPtL3DVyC3"
      },
      "id": "HYbPtL3DVyC3"
    },
    {
      "cell_type": "markdown",
      "source": [
        "We first have to define which genres we have, and which genre belongs to which liturgy. This follows from the definitions that the Cantus Database uses (`A`, `R`, `OfV`, etc.), and the way CantusCorpus converted the abbreviations to its own controlled vocabulary (`genre_a`, `genre_r`, `genre_ofv`, etc.)."
      ],
      "metadata": {
        "id": "-OjlCNj6sVts"
      },
      "id": "-OjlCNj6sVts"
    },
    {
      "cell_type": "code",
      "source": [
        "# GENRES_MASS_PROPERS = ['In', 'InV', 'InR', 'Gr', 'GrV', 'Al', 'AlV', 'Of', 'OfV', 'Cm', 'CmV', 'CmR', 'Tc', 'TcV']\n",
        "# Genre 'InR' and 'CmR' was in our 2024 cantus dump, but not in CantusCorpus.\n",
        "GENRES_MASS_PROPERS = ['In', 'InV', 'Gr', 'GrV', 'Al', 'AlV', 'Of', 'OfV', 'Cm', 'CmV', 'Tc', 'TcV']\n",
        "GENRES_CC_MASS_PROPERS = ['genre_' + g.lower() for g in GENRES_MASS_PROPERS]      # CC stands for \"CantusCorpus\"\n",
        "GENRES_CC_MASS_NOVERSE = [g for g in GENRES_CC_MASS_PROPERS if not g.endswith('v')]\n",
        "\n",
        "# Divine Office core repertoire\n",
        "GENRES_OFFICE = ['A', 'R', 'V', 'W', 'I']\n",
        "GENRES_CC_OFFICE = ['genre_' + g.lower() for g in GENRES_OFFICE]\n",
        "\n",
        "# Genres where the Cantus ID provides a less good abstraction for the repertoire.\n",
        "GENRES_PERIPHERAL = ['Sq', 'SqV', 'H', 'HV', 'Tp']\n",
        "GENRES_CC_PERIPHERAL = ['genre_' + g.lower() for g in GENRES_PERIPHERAL]\n",
        "\n",
        "ALL_CC_GENRES = GENRES_CC_MASS_PROPERS + GENRES_CC_OFFICE + GENRES_CC_PERIPHERAL\n",
        "ALL_CI_GENRES = GENRES_MASS_PROPERS + GENRES_OFFICE + GENRES_PERIPHERAL\n",
        "CC_TO_CI_GENRE = {g1: g2 for (g1, g2) in zip(ALL_CC_GENRES, ALL_CI_GENRES)}"
      ],
      "metadata": {
        "id": "iLMFuRRVW95k"
      },
      "id": "iLMFuRRVW95k",
      "execution_count": null,
      "outputs": []
    },
    {
      "cell_type": "code",
      "source": [
        "chants_per_genre = {}\n",
        "for chant in chants:\n",
        "    g = chant['genre_id']\n",
        "\n",
        "    # Don't forget to check for the excluded chants.\n",
        "    if chant['cantus_id'] in EXCLUDED_CANTUS_IDS:\n",
        "      continue\n",
        "\n",
        "    if g not in chants_per_genre:\n",
        "        chants_per_genre[g] = []\n",
        "    chants_per_genre[g].append(chant)"
      ],
      "metadata": {
        "id": "fLsv--zgtdB1"
      },
      "id": "fLsv--zgtdB1",
      "execution_count": null,
      "outputs": []
    },
    {
      "cell_type": "code",
      "source": [
        "# Aggreagate the chants for each type of liturgy across the genres we defined\n",
        "mass_chants = []\n",
        "for g in GENRES_CC_MASS_PROPERS:\n",
        "  g_chants = chants_per_genre[g]\n",
        "  mass_chants.extend(g_chants)      # list.extend(other_list) is how you concatenate lists in Python.\n",
        "\n",
        "office_chants = []\n",
        "for g in GENRES_CC_OFFICE:\n",
        "  g_chants = chants_per_genre[g]\n",
        "  office_chants.extend(g_chants)\n",
        "\n",
        "print('Total chants from Mass propers genres:\\t{}'.format(len(mass_chants)))\n",
        "print('Total chants from Divine Office genres:\\t{}'.format(len(office_chants)))"
      ],
      "metadata": {
        "colab": {
          "base_uri": "https://localhost:8080/"
        },
        "id": "D45kmfHPu7cq",
        "outputId": "601df456-e38a-4f78-cf8e-d5a58b9cb7a2"
      },
      "id": "D45kmfHPu7cq",
      "execution_count": null,
      "outputs": [
        {
          "output_type": "stream",
          "name": "stdout",
          "text": [
            "Total chants from Mass propers genres:\t14584\n",
            "Total chants from Divine Office genres:\t433712\n"
          ]
        }
      ]
    },
    {
      "cell_type": "markdown",
      "source": [
        "This is where the design of Cantus comes into view: overwhelmingly it has been an office cataloguing effort, mass chants are bit of an afterthought. But still it's not a tiny number."
      ],
      "metadata": {
        "id": "NGdvIob4vYHT"
      },
      "id": "NGdvIob4vYHT"
    },
    {
      "cell_type": "markdown",
      "source": [
        "Now that we have chants sorted out per genre and per liturgy, we can plot them. But, we probably want to wrap that in a function -- it is something we will re-do many times."
      ],
      "metadata": {
        "id": "80xKNxDwuYSn"
      },
      "id": "80xKNxDwuYSn"
    },
    {
      "cell_type": "code",
      "source": [
        "import collections\n",
        "\n",
        "def plot_cid_frequencies(chants, log_scale=False, label=None, title=None):\n",
        "  # First, we get the CID frequencies\n",
        "\n",
        "  cid_frequencies = collections.defaultdict(int)\n",
        "  # ...this is a shortcut that spares us having to check if the CID is already in the dictionary.\n",
        "\n",
        "  for c in chants:\n",
        "    cid = c['cantus_id']\n",
        "    cid_frequencies[cid] += 1\n",
        "\n",
        "  cid_frequencies_sorted = list(sorted(cid_frequencies.values(), reverse=True))\n",
        "\n",
        "  ax = plt.gca()\n",
        "  ax.plot(cid_frequencies_sorted, label=label)\n",
        "  if not title:\n",
        "    title = 'Log-scaled Cantus ID frequencies'\n",
        "  ax.set_title(title)\n",
        "\n",
        "  ax.set_xlabel('n-th largest Cantus ID')   # Best practice: always label both axes.\n",
        "  ax.set_ylabel('Number of Cantus ID occurrences')\n",
        "\n",
        "  if log_scale:\n",
        "    ax.set_yscale('log')\n",
        "\n",
        "  # We do NOT do plt.show() here, so that we can plot multiple curves into the same figure."
      ],
      "metadata": {
        "id": "lokdYEiat0Ej"
      },
      "id": "lokdYEiat0Ej",
      "execution_count": null,
      "outputs": []
    },
    {
      "cell_type": "markdown",
      "source": [
        "Now we have everything in place to inspect the Cantus ID frequency curves. Let's look at an overview for office genres:"
      ],
      "metadata": {
        "id": "BIpBuJdg6r1d"
      },
      "id": "BIpBuJdg6r1d"
    },
    {
      "cell_type": "code",
      "source": [
        "plot_cid_frequencies(chants_per_genre['genre_a'], log_scale=True, label='Antiphons')\n",
        "plot_cid_frequencies(chants_per_genre['genre_r'], log_scale=True, label='Responsories')\n",
        "plot_cid_frequencies(chants_per_genre['genre_w'], log_scale=True, label='Versicles')\n",
        "plot_cid_frequencies(chants_per_genre['genre_i'], log_scale=True, label='Invitatories')\n",
        "plt.legend()"
      ],
      "metadata": {
        "colab": {
          "base_uri": "https://localhost:8080/",
          "height": 490
        },
        "id": "wCIZkcDa3XY5",
        "outputId": "6e565434-2471-4c40-f0fa-d11288370d52"
      },
      "id": "wCIZkcDa3XY5",
      "execution_count": null,
      "outputs": [
        {
          "output_type": "execute_result",
          "data": {
            "text/plain": [
              "<matplotlib.legend.Legend at 0x795d54607710>"
            ]
          },
          "metadata": {},
          "execution_count": 73
        },
        {
          "output_type": "display_data",
          "data": {
            "text/plain": [
              "<Figure size 640x480 with 1 Axes>"
            ],
            "image/png": "[encoded data removed]"
          },
          "metadata": {}
        }
      ]
    },
    {
      "cell_type": "markdown",
      "source": [
        "Here we clearly see that \"bump\" both in antiphons and responsories.\n",
        "\n",
        "What about mass genres?"
      ],
      "metadata": {
        "id": "igUIlCkL6wSh"
      },
      "id": "igUIlCkL6wSh"
    },
    {
      "cell_type": "code",
      "source": [
        "for g in GENRES_CC_MASS_PROPERS:\n",
        "  plot_cid_frequencies(chants_per_genre[g], log_scale=True, label=g)\n",
        "plt.legend()"
      ],
      "metadata": {
        "colab": {
          "base_uri": "https://localhost:8080/",
          "height": 490
        },
        "id": "IotcDX_g39ud",
        "outputId": "11a8dc99-b0c7-4723-e2e8-d7e8b4212384"
      },
      "id": "IotcDX_g39ud",
      "execution_count": null,
      "outputs": [
        {
          "output_type": "execute_result",
          "data": {
            "text/plain": [
              "<matplotlib.legend.Legend at 0x795cf89360d0>"
            ]
          },
          "metadata": {},
          "execution_count": 78
        },
        {
          "output_type": "display_data",
          "data": {
            "text/plain": [
              "<Figure size 640x480 with 1 Axes>"
            ],
            "image/png": "[encoded data removed]"
          },
          "metadata": {}
        }
      ]
    },
    {
      "cell_type": "markdown",
      "source": [
        "That is a bit confusing, we should probably break it down a bit more.\n",
        "Let's try excluding the various \"verse\" genres that are sung as the inner part of many mass propers."
      ],
      "metadata": {
        "id": "LZR2lijN63cS"
      },
      "id": "LZR2lijN63cS"
    },
    {
      "cell_type": "code",
      "source": [
        "for g in GENRES_CC_MASS_NOVERSE:\n",
        "  plot_cid_frequencies(chants_per_genre[g], log_scale=True, label=g)\n",
        "plt.legend()"
      ],
      "metadata": {
        "colab": {
          "base_uri": "https://localhost:8080/",
          "height": 490
        },
        "id": "cqIOOxwr7A_f",
        "outputId": "64f68aad-24cf-410c-e46a-20ad6946b2e8"
      },
      "id": "cqIOOxwr7A_f",
      "execution_count": null,
      "outputs": [
        {
          "output_type": "execute_result",
          "data": {
            "text/plain": [
              "<matplotlib.legend.Legend at 0x795cf8d24710>"
            ]
          },
          "metadata": {},
          "execution_count": 81
        },
        {
          "output_type": "display_data",
          "data": {
            "text/plain": [
              "<Figure size 640x480 with 1 Axes>"
            ],
            "image/png": "[encoded data removed]"
          },
          "metadata": {}
        }
      ]
    },
    {
      "cell_type": "markdown",
      "source": [
        "It seems there are again some anomalies. Let's look at individual genres of the mass propers as they appear one by one."
      ],
      "metadata": {
        "id": "9uAJfIfK-fX4"
      },
      "id": "9uAJfIfK-fX4"
    },
    {
      "cell_type": "code",
      "source": [
        "plot_cid_frequencies(chants_per_genre['genre_in'], log_scale=True, label=g, title='Introits')"
      ],
      "metadata": {
        "colab": {
          "base_uri": "https://localhost:8080/",
          "height": 472
        },
        "id": "vy7PvxHlAE92",
        "outputId": "10b24778-bdb4-49c5-8b33-14add484de80"
      },
      "id": "vy7PvxHlAE92",
      "execution_count": null,
      "outputs": [
        {
          "output_type": "display_data",
          "data": {
            "text/plain": [
              "<Figure size 640x480 with 1 Axes>"
            ],
            "image/png": "[encoded data removed]"
          },
          "metadata": {}
        }
      ]
    },
    {
      "cell_type": "code",
      "source": [
        "plot_cid_frequencies(chants_per_genre['genre_gr'], log_scale=True, label=g, title='Graduals')"
      ],
      "metadata": {
        "colab": {
          "base_uri": "https://localhost:8080/",
          "height": 472
        },
        "id": "LmpgaKIv-IJs",
        "outputId": "9e776cf2-d2e0-471f-eab7-beaf108be322"
      },
      "id": "LmpgaKIv-IJs",
      "execution_count": null,
      "outputs": [
        {
          "output_type": "display_data",
          "data": {
            "text/plain": [
              "<Figure size 640x480 with 1 Axes>"
            ],
            "image/png": "[encoded data removed]"
          },
          "metadata": {}
        }
      ]
    },
    {
      "cell_type": "code",
      "source": [
        "plot_cid_frequencies(chants_per_genre['genre_al'], log_scale=True, label=g, title='Alleluias')"
      ],
      "metadata": {
        "colab": {
          "base_uri": "https://localhost:8080/",
          "height": 472
        },
        "id": "FUCz6fLb94k3",
        "outputId": "6b61b8c6-a313-484a-e8e5-125c78acd93a"
      },
      "id": "FUCz6fLb94k3",
      "execution_count": null,
      "outputs": [
        {
          "output_type": "display_data",
          "data": {
            "text/plain": [
              "<Figure size 640x480 with 1 Axes>"
            ],
            "image/png": "[encoded data removed]"
          },
          "metadata": {}
        }
      ]
    },
    {
      "cell_type": "code",
      "source": [
        "plot_cid_frequencies(chants_per_genre['genre_tc'], log_scale=True, label=g, title='Tracts')"
      ],
      "metadata": {
        "colab": {
          "base_uri": "https://localhost:8080/",
          "height": 472
        },
        "id": "-_0egQFPB9hN",
        "outputId": "8ba7ed7c-3bc2-408c-b72b-adb2b9dcf79d"
      },
      "id": "-_0egQFPB9hN",
      "execution_count": null,
      "outputs": [
        {
          "output_type": "display_data",
          "data": {
            "text/plain": [
              "<Figure size 640x480 with 1 Axes>"
            ],
            "image/png": "[encoded data removed]"
          },
          "metadata": {}
        }
      ]
    },
    {
      "cell_type": "code",
      "source": [
        "plot_cid_frequencies(chants_per_genre['genre_of'], log_scale=True, label=g, title='Offertories')"
      ],
      "metadata": {
        "colab": {
          "base_uri": "https://localhost:8080/",
          "height": 472
        },
        "id": "fbi98XbCAM48",
        "outputId": "d7569274-cb2c-44f4-bea4-42c0cef273c5"
      },
      "id": "fbi98XbCAM48",
      "execution_count": null,
      "outputs": [
        {
          "output_type": "display_data",
          "data": {
            "text/plain": [
              "<Figure size 640x480 with 1 Axes>"
            ],
            "image/png": "[encoded data removed]"
          },
          "metadata": {}
        }
      ]
    },
    {
      "cell_type": "code",
      "source": [
        "plot_cid_frequencies(chants_per_genre['genre_cm'], log_scale=True, label=g, title='Communios')"
      ],
      "metadata": {
        "colab": {
          "base_uri": "https://localhost:8080/",
          "height": 472
        },
        "id": "-3ILadZUAW01",
        "outputId": "9f9ac372-268b-44f8-e0e5-00d3264d6755"
      },
      "id": "-3ILadZUAW01",
      "execution_count": null,
      "outputs": [
        {
          "output_type": "display_data",
          "data": {
            "text/plain": [
              "<Figure size 640x480 with 1 Axes>"
            ],
            "image/png": "[encoded data removed]"
          },
          "metadata": {}
        }
      ]
    },
    {
      "cell_type": "markdown",
      "source": [
        "Out of all the genres, only the distribution of Alleluias looks like something one would find in a 'naturally occuring' system. All other genres have an 'elbow' around 100-150 Cantus IDs, where after a relatively reasonable curve there is suddenly a sharp drop-off. Usually the singletons (CIDs that only occur once) should be the most prevalent frequency group, but in the Communios there are quite clearly more things that occur nine times than things that occur once!"
      ],
      "metadata": {
        "id": "nHDvShU2AePX"
      },
      "id": "nHDvShU2AePX"
    },
    {
      "cell_type": "markdown",
      "source": [
        "One explanation may be that this is an artifact of how mass (and office) repertoire is structured between 'global' and 'local' items. For mass, most of the liturgical year has well-defined repertoire, but then in each source there will be some special masses like for particular saints (e.g. those important to a specific monastic order) or occasions (e.g. dedication of a church again with repertoire specific to the church's patron)."
      ],
      "metadata": {
        "id": "5mg_PXilBMqj"
      },
      "id": "5mg_PXilBMqj"
    },
    {
      "cell_type": "markdown",
      "source": [
        "This brings us to a second important category of items in Cantus Corpus: the **sources**. For now, however, we do not necessarily need more information about sources than just which chant records belong to which source. This is still captured in the `source_id` field of the chant record.\n",
        "\n",
        "Let's look at the **communio** genre. We count the sources. If there are only approx. 10 sources, that would have been the reason for this 'elbow'."
      ],
      "metadata": {
        "id": "aGov_TqMBr5a"
      },
      "id": "aGov_TqMBr5a"
    },
    {
      "cell_type": "code",
      "source": [
        "cm_sources = [c['source_id'] for c in chants_per_genre['genre_cm']]"
      ],
      "metadata": {
        "id": "636M_htjCW22"
      },
      "id": "636M_htjCW22",
      "execution_count": null,
      "outputs": []
    },
    {
      "cell_type": "code",
      "source": [
        "cm_sources_set = set(cm_sources)\n",
        "print('Communios occur in {} different sources.'.format(len(cm_sources_set)))"
      ],
      "metadata": {
        "colab": {
          "base_uri": "https://localhost:8080/"
        },
        "id": "SFoZC_jCChi8",
        "outputId": "74bd9647-5c8d-4f69-c538-75ec7d8977f4"
      },
      "id": "SFoZC_jCChi8",
      "execution_count": null,
      "outputs": [
        {
          "output_type": "stream",
          "name": "stdout",
          "text": [
            "Communios occur in 42 different sources.\n"
          ]
        }
      ]
    },
    {
      "cell_type": "markdown",
      "source": [
        "So there are 42 different sources. OK, this idea was not it."
      ],
      "metadata": {
        "id": "LW1hhq4MCofg"
      },
      "id": "LW1hhq4MCofg"
    },
    {
      "cell_type": "markdown",
      "source": [
        "Let's take a look at what these low-frequency communios are."
      ],
      "metadata": {
        "id": "8vBSnyVqEQR-"
      },
      "id": "8vBSnyVqEQR-"
    },
    {
      "cell_type": "code",
      "source": [
        "cm_freqdict = collections.defaultdict(int)\n",
        "for c in chants_per_genre['genre_cm']:\n",
        "  cm_freqdict[c['cantus_id']] += 1"
      ],
      "metadata": {
        "id": "2RAmwac-EUeF"
      },
      "id": "2RAmwac-EUeF",
      "execution_count": null,
      "outputs": []
    },
    {
      "cell_type": "code",
      "source": [
        "low_frequency_cm_cids = [cid for cid in cm_freqdict if cm_freqdict[cid] < 8]"
      ],
      "metadata": {
        "id": "95GiKWTTEcCa"
      },
      "id": "95GiKWTTEcCa",
      "execution_count": null,
      "outputs": []
    },
    {
      "cell_type": "code",
      "source": [
        "low_frequency_cms_works = [create_work(cid, chants_per_genre['genre_cm'])\n",
        "                           for cid in low_frequency_cm_cids]\n",
        "print('Total {} low-frequency CIDs for communio genre.'.format(len(low_frequency_cms_works)))"
      ],
      "metadata": {
        "colab": {
          "base_uri": "https://localhost:8080/"
        },
        "id": "dbw1Nb9ZEkia",
        "outputId": "e1538a82-9dc8-4af6-e0eb-7de401b03214"
      },
      "id": "dbw1Nb9ZEkia",
      "execution_count": null,
      "outputs": [
        {
          "output_type": "stream",
          "name": "stdout",
          "text": [
            "Total 54 low-frequency CIDs for communio genre.\n"
          ]
        }
      ]
    },
    {
      "cell_type": "code",
      "source": [
        "for w_cm in low_frequency_cms_works:\n",
        "  print(w_cm)"
      ],
      "metadata": {
        "collapsed": true,
        "colab": {
          "base_uri": "https://localhost:8080/"
        },
        "id": "vzPCTyagEvR4",
        "outputId": "499ee6de-e0b6-46f1-83c8-d18c8a07a8a2"
      },
      "id": "vzPCTyagEvR4",
      "execution_count": null,
      "outputs": [
        {
          "output_type": "stream",
          "name": "stdout",
          "text": [
            "Work CID g02573: 1 chants, characteristics:\n",
            "\tincipit:\tAbsolve domine animas eorum ab\n",
            "\tgenre_id:\tgenre_cm\n",
            "\tmode:\t*\n",
            "\tfinalis:\t\n",
            "\tdifferentia:\t\n",
            "\tposition:\t\n",
            "\toffice_id:\toffice_mi\n",
            "\tfeast_id:\tfeast_1383\n",
            "Work CID g02392: 1 chants, characteristics:\n",
            "\tincipit:\tAmen dico vobis veniet hora\n",
            "\tgenre_id:\tgenre_cm\n",
            "\tmode:\t*\n",
            "\tfinalis:\t\n",
            "\tdifferentia:\t\n",
            "\tposition:\t\n",
            "\toffice_id:\toffice_mi\n",
            "\tfeast_id:\tfeast_1383\n",
            "Work CID g01258c: 1 chants, characteristics:\n",
            "\tincipit:\tAmen dico*\n",
            "\tgenre_id:\tgenre_cm\n",
            "\tmode:\t*\n",
            "\tfinalis:\t\n",
            "\tdifferentia:\t\n",
            "\tposition:\t\n",
            "\toffice_id:\toffice_mi\n",
            "\tfeast_id:\tfeast_0022\n",
            "Work CID 503004: 3 chants, characteristics:\n",
            "\tincipit:\tApprehende arma et scutum\n",
            "\tgenre_id:\tgenre_cm\n",
            "\tmode:\t\n",
            "\tfinalis:\t\n",
            "\tdifferentia:\t\n",
            "\tposition:\t\n",
            "\toffice_id:\toffice_mi\n",
            "\tfeast_id:\tfeast_0335\n",
            "Work CID ah49763: 1 chants, characteristics:\n",
            "\tincipit:\tAve David regis nata virga\n",
            "\tgenre_id:\tgenre_cm\n",
            "\tmode:\t1\n",
            "\tfinalis:\tD\n",
            "\tdifferentia:\t\n",
            "\tposition:\t\n",
            "\toffice_id:\toffice_mi\n",
            "\tfeast_id:\tfeast_0066\n",
            "Work CID 503003: 2 chants, characteristics:\n",
            "\tincipit:\tAve regina caelorum mater\n",
            "\tgenre_id:\tgenre_cm\n",
            "\tmode:\t\n",
            "\tfinalis:\t\n",
            "\tdifferentia:\t\n",
            "\tposition:\t\n",
            "\toffice_id:\toffice_mi\n",
            "\tfeast_id:\tfeast_0311\n",
            "Work CID g02261: 4 chants, characteristics:\n",
            "\tincipit:\tAve regina caelorum*\n",
            "\tgenre_id:\tgenre_cm\n",
            "\tmode:\t*\n",
            "\tfinalis:\t\n",
            "\tdifferentia:\t\n",
            "\tposition:\t\n",
            "\toffice_id:\toffice_mi\n",
            "\tfeast_id:\tfeast_0311\n",
            "Work CID g00482: 5 chants, characteristics:\n",
            "\tincipit:\tBeati mundo corde quoniam ipsi\n",
            "\tgenre_id:\tgenre_cm\n",
            "\tmode:\t*\n",
            "\tfinalis:\t\n",
            "\tdifferentia:\t\n",
            "\tposition:\t\n",
            "\toffice_id:\toffice_mi\n",
            "\tfeast_id:\t\n",
            "Work CID g02447: 2 chants, characteristics:\n",
            "\tincipit:\tBenedicite deum caeli et coram\n",
            "\tgenre_id:\tgenre_cm\n",
            "\tmode:\t?\n",
            "\tfinalis:\t\n",
            "\tdifferentia:\t\n",
            "\tposition:\t\n",
            "\toffice_id:\toffice_mi\n",
            "\tfeast_id:\tfeast_0343\n",
            "Work CID g01121.1: 3 chants, characteristics:\n",
            "\tincipit:\tBenedicite deum caeli et coram\n",
            "\tgenre_id:\tgenre_cm\n",
            "\tmode:\t\n",
            "\tfinalis:\t\n",
            "\tdifferentia:\t\n",
            "\tposition:\t\n",
            "\toffice_id:\toffice_mi\n",
            "\tfeast_id:\tfeast_0343\n",
            "Work CID g01066: 6 chants, characteristics:\n",
            "\tincipit:\tDum venerit paraclitus spiritus veritatis\n",
            "\tgenre_id:\tgenre_cm\n",
            "\tmode:\t8\n",
            "\tfinalis:\t\n",
            "\tdifferentia:\t\n",
            "\tposition:\t\n",
            "\toffice_id:\toffice_mi\n",
            "\tfeast_id:\tfeast_0447\n",
            "Work CID g02087: 3 chants, characteristics:\n",
            "\tincipit:\tDum venerit paraclitus spiritus veritatis\n",
            "\tgenre_id:\tgenre_cm\n",
            "\tmode:\t\n",
            "\tfinalis:\t\n",
            "\tdifferentia:\t\n",
            "\tposition:\t\n",
            "\toffice_id:\toffice_mi\n",
            "\tfeast_id:\tfeast_0452\n",
            "Work CID g01400.1: 1 chants, characteristics:\n",
            "\tincipit:\tDilexisti justitiam et odisti iniquitatem\n",
            "\tgenre_id:\tgenre_cm\n",
            "\tmode:\t5\n",
            "\tfinalis:\t\n",
            "\tdifferentia:\t\n",
            "\tposition:\t\n",
            "\toffice_id:\toffice_mi\n",
            "\tfeast_id:\tfeast_0265\n",
            "Work CID g01510: 1 chants, characteristics:\n",
            "\tincipit:\tEcce sic benedicetur omnis homo\n",
            "\tgenre_id:\tgenre_cm\n",
            "\tmode:\t\n",
            "\tfinalis:\t\n",
            "\tdifferentia:\t\n",
            "\tposition:\t\n",
            "\toffice_id:\toffice_mi\n",
            "\tfeast_id:\tfeast_1404\n",
            "Work CID g00534: 2 chants, characteristics:\n",
            "\tincipit:\tEcce virgo*\n",
            "\tgenre_id:\tgenre_cm\n",
            "\tmode:\t\n",
            "\tfinalis:\t\n",
            "\tdifferentia:\t\n",
            "\tposition:\t\n",
            "\toffice_id:\toffice_mi\n",
            "\tfeast_id:\tfeast_0659\n",
            "Work CID g02822: 2 chants, characteristics:\n",
            "\tincipit:\tEgo sum resurrectio et vita\n",
            "\tgenre_id:\tgenre_cm\n",
            "\tmode:\t\n",
            "\tfinalis:\t\n",
            "\tdifferentia:\t\n",
            "\tposition:\t\n",
            "\toffice_id:\toffice_mi\n",
            "\tfeast_id:\tfeast_1383\n",
            "Work CID g02726: 1 chants, characteristics:\n",
            "\tincipit:\tEuntes praedicate evangelium regni gratis\n",
            "\tgenre_id:\tgenre_cm\n",
            "\tmode:\t\n",
            "\tfinalis:\t\n",
            "\tdifferentia:\t\n",
            "\tposition:\t\n",
            "\toffice_id:\toffice_mi\n",
            "\tfeast_id:\tfeast_1391\n",
            "Work CID g01446: 1 chants, characteristics:\n",
            "\tincipit:\tFactus*\n",
            "\tgenre_id:\tgenre_cm\n",
            "\tmode:\t*\n",
            "\tfinalis:\t\n",
            "\tdifferentia:\t\n",
            "\tposition:\t\n",
            "\toffice_id:\toffice_mi\n",
            "\tfeast_id:\tfeast_0022\n",
            "Work CID g01479: 1 chants, characteristics:\n",
            "\tincipit:\tFoderunt manus meas et pedes\n",
            "\tgenre_id:\tgenre_cm\n",
            "\tmode:\t*\n",
            "\tfinalis:\t\n",
            "\tdifferentia:\t\n",
            "\tposition:\t2\n",
            "\toffice_id:\toffice_mi\n",
            "\tfeast_id:\tfeast_0356\n",
            "Work CID g02807: 1 chants, characteristics:\n",
            "\tincipit:\tGloria et honore coronasti eum\n",
            "\tgenre_id:\tgenre_cm\n",
            "\tmode:\t\n",
            "\tfinalis:\t\n",
            "\tdifferentia:\t\n",
            "\tposition:\t\n",
            "\toffice_id:\toffice_mi\n",
            "\tfeast_id:\tfeast_1644\n",
            "Work CID g00022: 1 chants, characteristics:\n",
            "\tincipit:\tGloriosa dicta sunt de te\n",
            "\tgenre_id:\tgenre_cm\n",
            "\tmode:\t1\n",
            "\tfinalis:\tD\n",
            "\tdifferentia:\t\n",
            "\tposition:\t\n",
            "\toffice_id:\toffice_mi\n",
            "\tfeast_id:\tfeast_0281\n",
            "Work CID g02803: 1 chants, characteristics:\n",
            "\tincipit:\tIte dicite Joanni caeci vident\n",
            "\tgenre_id:\tgenre_cm\n",
            "\tmode:\t\n",
            "\tfinalis:\t\n",
            "\tdifferentia:\t\n",
            "\tposition:\t\n",
            "\toffice_id:\toffice_mi\n",
            "\tfeast_id:\tfeast_0360\n",
            "Work CID g01576: 4 chants, characteristics:\n",
            "\tincipit:\tLux aeterna luceat eis domine\n",
            "\tgenre_id:\tgenre_cm\n",
            "\tmode:\t8\n",
            "\tfinalis:\t\n",
            "\tdifferentia:\t\n",
            "\tposition:\t\n",
            "\toffice_id:\toffice_mi\n",
            "\tfeast_id:\tfeast_1383\n",
            "Work CID g01573: 1 chants, characteristics:\n",
            "\tincipit:\tLux aeterna*\n",
            "\tgenre_id:\tgenre_cm\n",
            "\tmode:\t*\n",
            "\tfinalis:\t\n",
            "\tdifferentia:\t\n",
            "\tposition:\t\n",
            "\toffice_id:\toffice_mi\n",
            "\tfeast_id:\tfeast_1383\n",
            "Work CID g02312: 1 chants, characteristics:\n",
            "\tincipit:\tMartinus abrahe sinu letus excipitur\n",
            "\tgenre_id:\tgenre_cm\n",
            "\tmode:\t\n",
            "\tfinalis:\t\n",
            "\tdifferentia:\t\n",
            "\tposition:\t\n",
            "\toffice_id:\toffice_mi\n",
            "\tfeast_id:\tfeast_1125\n",
            "Work CID g01228: 5 chants, characteristics:\n",
            "\tincipit:\tMense septimo festa celebrabitis cum\n",
            "\tgenre_id:\tgenre_cm\n",
            "\tmode:\t8\n",
            "\tfinalis:\t\n",
            "\tdifferentia:\t\n",
            "\tposition:\t\n",
            "\toffice_id:\toffice_mi\n",
            "\tfeast_id:\tfeast_1496\n",
            "Work CID g02229: 2 chants, characteristics:\n",
            "\tincipit:\tMihi autem*\n",
            "\tgenre_id:\tgenre_cm\n",
            "\tmode:\t\n",
            "\tfinalis:\t\n",
            "\tdifferentia:\t\n",
            "\tposition:\t\n",
            "\toffice_id:\toffice_mi\n",
            "\tfeast_id:\tfeast_0055\n",
            "Work CID g02600: 1 chants, characteristics:\n",
            "\tincipit:\tMirabantur omnes qui audiebant dicentes\n",
            "\tgenre_id:\tgenre_cm\n",
            "\tmode:\t\n",
            "\tfinalis:\t\n",
            "\tdifferentia:\t\n",
            "\tposition:\t\n",
            "\toffice_id:\toffice_mi\n",
            "\tfeast_id:\tfeast_0287\n",
            "Work CID g01108: 7 chants, characteristics:\n",
            "\tincipit:\tNon vos relinquam orphanos veniam\n",
            "\tgenre_id:\tgenre_cm\n",
            "\tmode:\t5\n",
            "\tfinalis:\t\n",
            "\tdifferentia:\t\n",
            "\tposition:\t\n",
            "\toffice_id:\toffice_mi\n",
            "\tfeast_id:\tfeast_1494\n",
            "Work CID g02486.1: 5 chants, characteristics:\n",
            "\tincipit:\tNos autem gloriari oportet in\n",
            "\tgenre_id:\tgenre_cm\n",
            "\tmode:\t*\n",
            "\tfinalis:\t\n",
            "\tdifferentia:\t\n",
            "\tposition:\t\n",
            "\toffice_id:\toffice_mi\n",
            "\tfeast_id:\tfeast_0334\n",
            "Work CID g02486: 3 chants, characteristics:\n",
            "\tincipit:\tNos autem gloriari*\n",
            "\tgenre_id:\tgenre_cm\n",
            "\tmode:\t*\n",
            "\tfinalis:\t\n",
            "\tdifferentia:\t\n",
            "\tposition:\t\n",
            "\toffice_id:\toffice_mi\n",
            "\tfeast_id:\tfeast_0577\n",
            "Work CID g02869: 2 chants, characteristics:\n",
            "\tincipit:\tOptimam partem elegit sibi Maria\n",
            "\tgenre_id:\tgenre_cm\n",
            "\tmode:\t8\n",
            "\tfinalis:\tG\n",
            "\tdifferentia:\t\n",
            "\tposition:\t\n",
            "\toffice_id:\toffice_mi\n",
            "\tfeast_id:\tfeast_0093\n",
            "Work CID g01199: 7 chants, characteristics:\n",
            "\tincipit:\tPanem de caelo dedisti nobis\n",
            "\tgenre_id:\tgenre_cm\n",
            "\tmode:\t5\n",
            "\tfinalis:\t\n",
            "\tdifferentia:\t\n",
            "\tposition:\t\n",
            "\toffice_id:\toffice_mi\n",
            "\tfeast_id:\tfeast_0401\n",
            "Work CID g00184: 3 chants, characteristics:\n",
            "\tincipit:\tPer signum Crucis de inimicis\n",
            "\tgenre_id:\tgenre_cm\n",
            "\tmode:\t\n",
            "\tfinalis:\t\n",
            "\tdifferentia:\t\n",
            "\tposition:\t\n",
            "\toffice_id:\toffice_mi\n",
            "\tfeast_id:\tfeast_0577\n",
            "Work CID g02170: 1 chants, characteristics:\n",
            "\tincipit:\tPes enim meus stetit in\n",
            "\tgenre_id:\tgenre_cm\n",
            "\tmode:\t\n",
            "\tfinalis:\t\n",
            "\tdifferentia:\t\n",
            "\tposition:\t\n",
            "\toffice_id:\toffice_mi\n",
            "\tfeast_id:\tfeast_0416\n",
            "Work CID g02654: 1 chants, characteristics:\n",
            "\tincipit:\tPro quorum memoria corpus Christi\n",
            "\tgenre_id:\tgenre_cm\n",
            "\tmode:\t2\n",
            "\tfinalis:\t\n",
            "\tdifferentia:\t\n",
            "\tposition:\t\n",
            "\toffice_id:\toffice_mi\n",
            "\tfeast_id:\tfeast_1383\n",
            "Work CID g02654.1: 1 chants, characteristics:\n",
            "\tincipit:\tPro quorum memoria corpus Christi\n",
            "\tgenre_id:\tgenre_cm\n",
            "\tmode:\t*\n",
            "\tfinalis:\t\n",
            "\tdifferentia:\t\n",
            "\tposition:\t\n",
            "\toffice_id:\toffice_mi\n",
            "\tfeast_id:\tfeast_1383\n",
            "Work CID g02820: 1 chants, characteristics:\n",
            "\tincipit:\tProficiat nobis domine in caelesti\n",
            "\tgenre_id:\tgenre_cm\n",
            "\tmode:\t\n",
            "\tfinalis:\t\n",
            "\tdifferentia:\t\n",
            "\tposition:\t\n",
            "\toffice_id:\toffice_mi\n",
            "\tfeast_id:\tfeast_1513\n",
            "Work CID 503005: 1 chants, characteristics:\n",
            "\tincipit:\tQuam praefatam basilicam idem\n",
            "\tgenre_id:\tgenre_cm\n",
            "\tmode:\t\n",
            "\tfinalis:\t\n",
            "\tdifferentia:\t\n",
            "\tposition:\t\n",
            "\toffice_id:\toffice_mi\n",
            "\tfeast_id:\tfeast_1117\n",
            "Work CID g00770: 3 chants, characteristics:\n",
            "\tincipit:\tQui biberit aquam*\n",
            "\tgenre_id:\tgenre_cm\n",
            "\tmode:\t\n",
            "\tfinalis:\t\n",
            "\tdifferentia:\t\n",
            "\tposition:\t\n",
            "\toffice_id:\toffice_mi\n",
            "\tfeast_id:\tfeast_0735\n",
            "Work CID g00770.1: 5 chants, characteristics:\n",
            "\tincipit:\tQui biberit aquam quam ego\n",
            "\tgenre_id:\tgenre_cm\n",
            "\tmode:\t\n",
            "\tfinalis:\t\n",
            "\tdifferentia:\t\n",
            "\tposition:\t\n",
            "\toffice_id:\toffice_mi\n",
            "\tfeast_id:\tfeast_0735\n",
            "Work CID 503001: 7 chants, characteristics:\n",
            "\tincipit:\tQuotiescumque manducabitis panem hunc et\n",
            "\tgenre_id:\tgenre_cm\n",
            "\tmode:\t\n",
            "\tfinalis:\t\n",
            "\tdifferentia:\t\n",
            "\tposition:\t\n",
            "\toffice_id:\toffice_mi\n",
            "\tfeast_id:\tfeast_0291\n",
            "Work CID g03088: 1 chants, characteristics:\n",
            "\tincipit:\tRedemptor mundi signo crucis ab\n",
            "\tgenre_id:\tgenre_cm\n",
            "\tmode:\t\n",
            "\tfinalis:\t\n",
            "\tdifferentia:\t\n",
            "\tposition:\t2\n",
            "\toffice_id:\toffice_mi\n",
            "\tfeast_id:\tfeast_0577\n",
            "Work CID g00292.1: 2 chants, characteristics:\n",
            "\tincipit:\tRegina mundi*\n",
            "\tgenre_id:\tgenre_cm\n",
            "\tmode:\t1\n",
            "\tfinalis:\t\n",
            "\tdifferentia:\t\n",
            "\tposition:\t\n",
            "\toffice_id:\toffice_mi\n",
            "\tfeast_id:\tfeast_0311\n",
            "Work CID g00292: 1 chants, characteristics:\n",
            "\tincipit:\tRegina mundi*\n",
            "\tgenre_id:\tgenre_cm\n",
            "\tmode:\t?\n",
            "\tfinalis:\t\n",
            "\tdifferentia:\t\n",
            "\tposition:\t\n",
            "\toffice_id:\toffice_mi\n",
            "\tfeast_id:\tfeast_1204\n",
            "Work CID g03122: 1 chants, characteristics:\n",
            "\tincipit:\tSancta dei genetrix virgo semper\n",
            "\tgenre_id:\tgenre_cm\n",
            "\tmode:\t8\n",
            "\tfinalis:\t\n",
            "\tdifferentia:\t\n",
            "\tposition:\t\n",
            "\toffice_id:\toffice_mi\n",
            "\tfeast_id:\tfeast_0311\n",
            "Work CID g01019: 7 chants, characteristics:\n",
            "\tincipit:\tSurrexit dominus et apparuit Petro\n",
            "\tgenre_id:\tgenre_cm\n",
            "\tmode:\t\n",
            "\tfinalis:\t\n",
            "\tdifferentia:\t\n",
            "\tposition:\t\n",
            "\toffice_id:\toffice_mi\n",
            "\tfeast_id:\tfeast_0624\n",
            "Work CID g00581.2: 7 chants, characteristics:\n",
            "\tincipit:\tTolle puerum et matrem ejus\n",
            "\tgenre_id:\tgenre_cm\n",
            "\tmode:\t7\n",
            "\tfinalis:\t\n",
            "\tdifferentia:\t\n",
            "\tposition:\t\n",
            "\toffice_id:\toffice_mi\n",
            "\tfeast_id:\tfeast_0493\n",
            "Work CID 007768: 1 chants, characteristics:\n",
            "\tincipit:\tTolle puerum et matrem ejus\n",
            "\tgenre_id:\tgenre_cm\n",
            "\tmode:\t7\n",
            "\tfinalis:\tG\n",
            "\tdifferentia:\t\n",
            "\tposition:\t\n",
            "\toffice_id:\t\n",
            "\tfeast_id:\tfeast_0493\n",
            "Work CID g02867: 1 chants, characteristics:\n",
            "\tincipit:\tTollite jugum meum super vos\n",
            "\tgenre_id:\tgenre_cm\n",
            "\tmode:\t3\n",
            "\tfinalis:\tE\n",
            "\tdifferentia:\t\n",
            "\tposition:\t\n",
            "\toffice_id:\toffice_mi\n",
            "\tfeast_id:\tfeast_0368\n",
            "Work CID g02388.1: 1 chants, characteristics:\n",
            "\tincipit:\tTuam deus deposcimus pietatem ut\n",
            "\tgenre_id:\tgenre_cm\n",
            "\tmode:\t*\n",
            "\tfinalis:\t\n",
            "\tdifferentia:\t\n",
            "\tposition:\t\n",
            "\toffice_id:\toffice_mi\n",
            "\tfeast_id:\tfeast_1383\n",
            "Work CID g03249: 2 chants, characteristics:\n",
            "\tincipit:\tVera fides*\n",
            "\tgenre_id:\tgenre_cm\n",
            "\tmode:\t1\n",
            "\tfinalis:\t\n",
            "\tdifferentia:\t\n",
            "\tposition:\t\n",
            "\toffice_id:\toffice_mi\n",
            "\tfeast_id:\tfeast_0311\n",
            "Work CID g00601.1: 1 chants, characteristics:\n",
            "\tincipit:\tVidimus stellam ejus in oriente\n",
            "\tgenre_id:\tgenre_cm\n",
            "\tmode:\t\n",
            "\tfinalis:\tE\n",
            "\tdifferentia:\t\n",
            "\tposition:\t\n",
            "\toffice_id:\toffice_mi\n",
            "\tfeast_id:\tfeast_1757\n",
            "Work CID g02293: 4 chants, characteristics:\n",
            "\tincipit:\tVos qui secuti*\n",
            "\tgenre_id:\tgenre_cm\n",
            "\tmode:\t*\n",
            "\tfinalis:\t\n",
            "\tdifferentia:\t\n",
            "\tposition:\t\n",
            "\toffice_id:\toffice_mi\n",
            "\tfeast_id:\tfeast_1535\n"
          ]
        }
      ]
    },
    {
      "cell_type": "markdown",
      "source": [
        "At first sight, also not terribly informative. We would like to know more about the feasts, though. Are these something really specific?"
      ],
      "metadata": {
        "id": "U6h1FNHrFQvH"
      },
      "id": "U6h1FNHrFQvH"
    },
    {
      "cell_type": "markdown",
      "source": [
        "In order to translate the `feast_xyz` into something more useful, CantusCorpus provides a feasts 'translation table' in another CSV file."
      ],
      "metadata": {
        "id": "R93fDG_7FVn3"
      },
      "id": "R93fDG_7FVn3"
    },
    {
      "cell_type": "code",
      "source": [
        "# The 'chant.csv' file is where the chant data is.\n",
        "FEASTS_CSV_NAME = os.path.join(DATA_ROOT, 'csv', 'feast.csv')\n",
        "\n",
        "# It is pretty good practice to check that you got key file paths right -- that the files actually exist.\n",
        "if not os.path.isfile(FEASTS_CSV_NAME):\n",
        "    raise ValueError('CantusCorpus feast CSV file not found at path {}. Is the DATA_ROOT set correctly?'\n",
        "                     ' Current location: {}'.format(FEASTS_CSV_NAME, os.getcwd()))\n",
        "\n",
        "\n",
        "# Like before, we load the CSV file, just this time for feasts.\n",
        "# Here is where we store all the feasts, as a list.\n",
        "feasts = []\n",
        "with open(FEASTS_CSV_NAME) as fh:\n",
        "    feast_reader = csv.DictReader(fh,\n",
        "                                  delimiter=CSV_DELIMITER,\n",
        "                                  doublequote=CSV_DOUBLEQUOTE,\n",
        "                                  quotechar=CSV_QUOTECHAR,\n",
        "                                  dialect=CSV_DIALECT,\n",
        "                                  quoting=CSV_QUOTING)\n",
        "\n",
        "    # At this point, we could just load the data, but because we want\n",
        "    # to be very sure that we have been able to load the data properly,\n",
        "    # we wrap it with this 'try-except' construction. This means:\n",
        "    # If an error happens during the 'try' block, jump into the 'except'\n",
        "    # block to deal with it. In this case, we simply want to know which row\n",
        "    # the error occurred in, so that we know which line of the data file\n",
        "    # we should check for errors.\n",
        "    try:\n",
        "        for i, row in enumerate(feast_reader):\n",
        "            feasts.append(row)\n",
        "    except:\n",
        "        print('Feasts: Row {} has an error!\\nRow: {}'.format(i, row))\n",
        "        raise\n",
        "\n",
        "# We also want to remember what the field names are, to be able to quickly check\n",
        "# what information is available for each chant.\n",
        "feast_fieldnames = feast_reader.fieldnames\n"
      ],
      "metadata": {
        "id": "G0aa161hFex-"
      },
      "id": "G0aa161hFex-",
      "execution_count": null,
      "outputs": []
    },
    {
      "cell_type": "markdown",
      "source": [
        "Let's inspect what we got."
      ],
      "metadata": {
        "id": "7_RwcLG3GEOB"
      },
      "id": "7_RwcLG3GEOB"
    },
    {
      "cell_type": "code",
      "source": [
        "print('Total feast recordes: {}'.format(len(feasts)))\n",
        "print('Example feast: {}'.format(feasts[0]))"
      ],
      "metadata": {
        "colab": {
          "base_uri": "https://localhost:8080/"
        },
        "id": "v0Sw4cWmGGfr",
        "outputId": "3f2e81fb-b649-47d1-a970-52b1aeae7d68"
      },
      "id": "v0Sw4cWmGGfr",
      "execution_count": null,
      "outputs": [
        {
          "output_type": "stream",
          "name": "stdout",
          "text": [
            "Total feast recordes: 1828\n",
            "Example feast: {'id': 'feast_0001', 'name': 'Abdonis, Sennis', 'description': 'Abdon and Sennen, Martyrs', 'date': 'Jul.30', 'month': '7.0', 'day': '30.0', 'feast_code': '14073000', 'notes': ''}\n"
          ]
        }
      ]
    },
    {
      "cell_type": "markdown",
      "source": [
        "The `name` and `description` fields contain important information."
      ],
      "metadata": {
        "id": "jTTXr6CTGO1S"
      },
      "id": "jTTXr6CTGO1S"
    },
    {
      "cell_type": "code",
      "source": [
        "feast_to_name = {f['id']: f['name'] for f in feasts}\n",
        "feast_to_description = {f['id']: f['description'] for f in feasts}"
      ],
      "metadata": {
        "id": "kVKx_EzBGWKl"
      },
      "id": "kVKx_EzBGWKl",
      "execution_count": null,
      "outputs": []
    },
    {
      "cell_type": "markdown",
      "source": [
        "Now we can see what feasts the low-frequency communios belong to."
      ],
      "metadata": {
        "id": "2h5gYIqjGhRI"
      },
      "id": "2h5gYIqjGhRI"
    },
    {
      "cell_type": "code",
      "source": [
        "feast_names_of_low_frequency_cms = collections.defaultdict(int)\n",
        "sources_of_low_frequency_cms = collections.defaultdict(int)\n",
        "sources_per_feast_of_low_frequency_cms = collections.defaultdict(list)\n",
        "\n",
        "for w_cm in low_frequency_cms_works:\n",
        "  for c in w_cm.chants:\n",
        "    feast_id = c['feast_id']\n",
        "    source = c['source_id']\n",
        "    if feast_id == '':   # Empty values always happen, sooner or later.\n",
        "      feast_names_of_low_frequency_cms['?'] += 1\n",
        "      sources_per_feast_of_low_frequency_cms['?'].append(source)\n",
        "      sources_of_low_frequency_cms[source] += 1\n",
        "      continue\n",
        "    feast_name = feast_to_name[feast_id]\n",
        "    feast_names_of_low_frequency_cms[feast_name] += 1\n",
        "    sources_of_low_frequency_cms[source] += 1\n",
        "    sources_per_feast_of_low_frequency_cms[feast_name].append(source)"
      ],
      "metadata": {
        "id": "IQnU9qyTGrIW"
      },
      "id": "IQnU9qyTGrIW",
      "execution_count": null,
      "outputs": []
    },
    {
      "cell_type": "code",
      "source": [
        "# And inspect results\n",
        "for feast_name in feast_names_of_low_frequency_cms:\n",
        "\n",
        "  _sources = sources_per_feast_of_low_frequency_cms[feast_name]\n",
        "  # The prefix '_' for this variable name indicates this variable\n",
        "  # is very temporary, not expected to be used elsewhere. Python convention.\n",
        "\n",
        "  print('{}: {}                 {} sources: {}'.format(feast_name,\n",
        "                                     feast_names_of_low_frequency_cms[feast_name],\n",
        "                                     len(_sources), ', '.join(_sources)))"
      ],
      "metadata": {
        "id": "EUv-xcoXJFAG",
        "outputId": "82e3e653-d009-41f6-f717-98e045b0d219",
        "colab": {
          "base_uri": "https://localhost:8080/"
        }
      },
      "id": "EUv-xcoXJFAG",
      "execution_count": null,
      "outputs": [
        {
          "output_type": "stream",
          "name": "stdout",
          "text": [
            "Pro defunctis: 12                 12 sources: source_435, source_435, source_015, source_015, source_296, source_015, , source_435, , source_547, source_435, source_435\n",
            "Additamenta: 9                 9 sources: source_614, source_614, source_614, source_614, source_614, source_614, source_614, source_614, source_614\n",
            "De Sancta Lancea: 2                 2 sources: source_615, source_588\n",
            "Fer. 6 p. Oct.Pasch.: 1                 1 sources: source_435\n",
            "Annae: 1                 1 sources: source_508\n",
            "De BMV: 7                 7 sources: source_588, source_435, source_435, , source_435, , \n",
            "Conceptio Mariae: 2                 2 sources: source_573, source_412\n",
            "De BMV post Purif.: 1                 1 sources: source_435\n",
            "De BMV Nat.: 1                 1 sources: source_435\n",
            "Omnium Sanctorum: 1                 1 sources: source_015\n",
            "Comm. plurimorum Martyrum: 1                 1 sources: \n",
            "?: 2                 2 sources: source_296, \n",
            "Vig. Om. Sanctorum: 1                 1 sources: \n",
            "De Trinitate: 5                 5 sources: source_547, source_614, source_435, source_326, source_290\n",
            "Dom. 4 p. Pascha: 5                 5 sources: source_435, source_015, source_547, source_240, source_614\n",
            "Fer. 4 p. Oct.Pasch.: 1                 1 sources: source_296\n",
            "Dom. 4 p. Pascha,8: 1                 1 sources: source_326\n",
            "Dom. 5 p. Pascha: 1                 1 sources: \n",
            "Comm. unius Virginis: 1                 1 sources: \n",
            "Pro sponso et sponsa: 1                 1 sources: source_015\n",
            "Fer. 4 Adventus: 1                 1 sources: source_015\n",
            "Dom. 4 Adventus: 1                 1 sources: source_015\n",
            "Pro ordinatione Episcopi: 1                 1 sources: source_015\n",
            "De quinque vulneribus Christi: 2                 2 sources: source_435, source_435\n",
            "Tiburtii, Susannae: 1                 1 sources: source_015\n",
            "Decoll. Jo. Bapt.: 1                 1 sources: source_015\n",
            "Martini: 1                 1 sources: source_015\n",
            "Sabbato Q.T. Sept.: 4                 4 sources: , source_435, source_614, source_547\n",
            "Andreae: 2                 2 sources: source_435, source_296\n",
            "Conversio Pauli: 1                 1 sources: source_015\n",
            "Vig. Ascensionis Domini: 2                 2 sources: source_547, source_015\n",
            "Sabbato Pent.: 3                 3 sources: source_614, source_435, source_547\n",
            "Fer. 6 Pent.: 1                 1 sources: source_003\n",
            "De Sancta Cruce: 2                 2 sources: source_435, source_435\n",
            "Inventio Crucis: 2                 2 sources: source_435, source_015\n",
            "Exaltatio Crucis: 6                 6 sources: source_326, source_614, source_435, source_296, source_296, source_015\n",
            "Assumptio Mariae: 3                 3 sources: source_231, source_296, \n",
            "Dom. 13 p. Pent.: 4                 4 sources: source_614, source_003, source_547, source_015\n",
            "Dom. 14 p. Pent.: 1                 1 sources: source_435\n",
            "Dom. 13 p. Pent.,8: 1                 1 sources: source_326\n",
            "Dom. 2 Quadragesimae: 1                 1 sources: source_015\n",
            "Saturnini: 1                 1 sources: source_015\n",
            "Mariae ad Nives: 1                 1 sources: source_615\n",
            "Fer. 6 Hebd. 3 Quad.: 7                 7 sources: source_296, source_326, source_015, source_435, source_547, source_614, \n",
            "Corporis Christi: 6                 6 sources: , source_588, source_435, source_631, , source_170\n",
            "Dom. 24 p. Pent.,8: 1                 1 sources: source_296\n",
            "Nativitas Mariae: 1                 1 sources: \n",
            "Fer. 2 p. Pascha: 6                 6 sources: source_240, source_326, source_614, source_547, source_435, source_015\n",
            "Dom. p. Nat. Dom.: 5                 5 sources: source_435, , source_594, source_551, source_296\n",
            "Purificatio Mariae: 1                 1 sources: source_003\n",
            "Vigilia Epiphaniae: 3                 3 sources: source_435, , source_594\n",
            "Didaci Confessoris: 1                 1 sources: source_240\n",
            "Thomae Apost.: 1                 1 sources: source_015\n",
            "Simonis, Judae: 2                 2 sources: , source_547\n",
            "Comm. Apostolorum: 1                 1 sources: source_547\n"
          ]
        }
      ]
    },
    {
      "cell_type": "markdown",
      "source": [
        "It looks like most of the occurences of low-frequency communios come from only a few specific sources:"
      ],
      "metadata": {
        "id": "5PAkQKZGKd3e"
      },
      "id": "5PAkQKZGKd3e"
    },
    {
      "cell_type": "code",
      "source": [
        "import pprint  # Short for \"pretty print\". It's not particularly pretty, but it is usually better than the Python default.\n",
        "pprint.pprint(sources_of_low_frequency_cms)"
      ],
      "metadata": {
        "id": "fS-oGu40H39J",
        "outputId": "1dcb9ff5-2073-4dbe-dd4a-bef660caa569",
        "colab": {
          "base_uri": "https://localhost:8080/"
        }
      },
      "id": "fS-oGu40H39J",
      "execution_count": null,
      "outputs": [
        {
          "output_type": "stream",
          "name": "stdout",
          "text": [
            "defaultdict(<class 'int'>,\n",
            "            {'': 19,\n",
            "             'source_003': 3,\n",
            "             'source_015': 22,\n",
            "             'source_170': 1,\n",
            "             'source_231': 1,\n",
            "             'source_240': 3,\n",
            "             'source_290': 1,\n",
            "             'source_296': 10,\n",
            "             'source_326': 6,\n",
            "             'source_412': 1,\n",
            "             'source_435': 28,\n",
            "             'source_508': 1,\n",
            "             'source_547': 11,\n",
            "             'source_551': 1,\n",
            "             'source_573': 1,\n",
            "             'source_588': 3,\n",
            "             'source_594': 2,\n",
            "             'source_614': 17,\n",
            "             'source_615': 2,\n",
            "             'source_631': 1})\n"
          ]
        }
      ]
    },
    {
      "cell_type": "markdown",
      "source": [
        "\n"
      ],
      "metadata": {
        "id": "RZJp2Ui89pry"
      },
      "id": "RZJp2Ui89pry"
    },
    {
      "cell_type": "markdown",
      "source": [
        "TODOs\n",
        "-----\n",
        "\n",
        "- Add a \"feast code translator\", mostly to Work printout.\n",
        "- What is that bump?\n",
        "- Split chants by genre.\n",
        "- Plot this for individual genres (into the same plot?) for Office and Mass.\n"
      ],
      "metadata": {
        "id": "1N5JOEWVJDSD"
      },
      "id": "1N5JOEWVJDSD"
    }
  ],
  "metadata": {
    "kernelspec": {
      "display_name": "Python 3 (ipykernel)",
      "language": "python",
      "name": "python3"
    },
    "language_info": {
      "codemirror_mode": {
        "name": "ipython",
        "version": 3
      },
      "file_extension": ".py",
      "mimetype": "text/x-python",
      "name": "python",
      "nbconvert_exporter": "python",
      "pygments_lexer": "ipython3",
      "version": "3.11.11"
    },
    "colab": {
      "provenance": [],
      "toc_visible": true
    }
  },
  "nbformat": 4,
  "nbformat_minor": 5
}