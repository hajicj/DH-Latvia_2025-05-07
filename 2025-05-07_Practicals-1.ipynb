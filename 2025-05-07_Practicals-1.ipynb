{
  "cells": [
    {
      "cell_type": "markdown",
      "id": "0b762653-edae-4bf5-8967-c6aa2dcfc5ba",
      "metadata": {
        "id": "0b762653-edae-4bf5-8967-c6aa2dcfc5ba"
      },
      "source": [
        "Practicals 1: Exploring the digital chant ecosystem\n",
        "===================================================\n",
        "\n",
        "Getting our hands dirty, we will take a look around the digital chant ecosystem: the Cantus database, Cantus Index, and then we start working with the chant data contained therein. We take a look at some basic statistics of the dataset and visualise it. This will all happen in a google collab environment, so no need to install anything! All you need is an internet connection, no programming or math background required (but it may be a good idea to do a Python tutorial ahead of time)."
      ]
    },
    {
      "cell_type": "markdown",
      "id": "3bec022e-7362-46b8-8d5e-2f2b747d29b6",
      "metadata": {
        "id": "3bec022e-7362-46b8-8d5e-2f2b747d29b6"
      },
      "source": [
        "Installing requirements\n",
        "-----------------------\n",
        "\n",
        "We need some libraries that are not installed by default."
      ]
    },
    {
      "cell_type": "code",
      "execution_count": null,
      "id": "7550e082-7b4d-4458-92c2-3091cc9efe75",
      "metadata": {
        "collapsed": true,
        "id": "7550e082-7b4d-4458-92c2-3091cc9efe75",
        "outputId": "c2495ffd-67e3-4e4e-f35e-bc81fadcfd89"
      },
      "outputs": [
        {
          "name": "stdout",
          "output_type": "stream",
          "text": [
            "Requirement already satisfied: scipy in /Users/hajicj/anaconda3/envs/dh-latvia-2025/lib/python3.11/site-packages (1.15.2)\n",
            "Requirement already satisfied: numpy<2.5,>=1.23.5 in /Users/hajicj/anaconda3/envs/dh-latvia-2025/lib/python3.11/site-packages (from scipy) (2.2.5)\n",
            "Collecting copia\n",
            "  Downloading copia-0.1.4-py3-none-any.whl.metadata (2.0 kB)\n",
            "Requirement already satisfied: numpy>=1.19.0 in /Users/hajicj/anaconda3/envs/dh-latvia-2025/lib/python3.11/site-packages (from copia) (2.2.5)\n",
            "Requirement already satisfied: scipy>=1.5.1 in /Users/hajicj/anaconda3/envs/dh-latvia-2025/lib/python3.11/site-packages (from copia) (1.15.2)\n",
            "Collecting matplotlib>=3.3.2 (from copia)\n",
            "  Downloading matplotlib-3.10.1-cp311-cp311-macosx_11_0_arm64.whl.metadata (11 kB)\n",
            "Collecting seaborn>=0.11.0 (from copia)\n",
            "  Using cached seaborn-0.13.2-py3-none-any.whl.metadata (5.4 kB)\n",
            "Requirement already satisfied: pandas>=1.1.2 in /Users/hajicj/anaconda3/envs/dh-latvia-2025/lib/python3.11/site-packages (from copia) (2.2.2)\n",
            "Collecting tqdm>=4.48.0 (from copia)\n",
            "  Using cached tqdm-4.67.1-py3-none-any.whl.metadata (57 kB)\n",
            "Collecting pytest>=6.2.2 (from copia)\n",
            "  Downloading pytest-8.3.5-py3-none-any.whl.metadata (7.6 kB)\n",
            "Collecting contourpy>=1.0.1 (from matplotlib>=3.3.2->copia)\n",
            "  Downloading contourpy-1.3.2-cp311-cp311-macosx_11_0_arm64.whl.metadata (5.5 kB)\n",
            "Collecting cycler>=0.10 (from matplotlib>=3.3.2->copia)\n",
            "  Using cached cycler-0.12.1-py3-none-any.whl.metadata (3.8 kB)\n",
            "Collecting fonttools>=4.22.0 (from matplotlib>=3.3.2->copia)\n",
            "  Downloading fonttools-4.57.0-cp311-cp311-macosx_10_9_universal2.whl.metadata (102 kB)\n",
            "Collecting kiwisolver>=1.3.1 (from matplotlib>=3.3.2->copia)\n",
            "  Using cached kiwisolver-1.4.8-cp311-cp311-macosx_11_0_arm64.whl.metadata (6.2 kB)\n",
            "Requirement already satisfied: packaging>=20.0 in /Users/hajicj/anaconda3/envs/dh-latvia-2025/lib/python3.11/site-packages (from matplotlib>=3.3.2->copia) (24.2)\n",
            "Collecting pillow>=8 (from matplotlib>=3.3.2->copia)\n",
            "  Downloading pillow-11.2.1-cp311-cp311-macosx_11_0_arm64.whl.metadata (8.9 kB)\n",
            "Collecting pyparsing>=2.3.1 (from matplotlib>=3.3.2->copia)\n",
            "  Downloading pyparsing-3.2.3-py3-none-any.whl.metadata (5.0 kB)\n",
            "Requirement already satisfied: python-dateutil>=2.7 in /Users/hajicj/anaconda3/envs/dh-latvia-2025/lib/python3.11/site-packages (from matplotlib>=3.3.2->copia) (2.9.0.post0)\n",
            "Requirement already satisfied: pytz>=2020.1 in /Users/hajicj/anaconda3/envs/dh-latvia-2025/lib/python3.11/site-packages (from pandas>=1.1.2->copia) (2025.2)\n",
            "Requirement already satisfied: tzdata>=2022.7 in /Users/hajicj/anaconda3/envs/dh-latvia-2025/lib/python3.11/site-packages (from pandas>=1.1.2->copia) (2025.2)\n",
            "Collecting iniconfig (from pytest>=6.2.2->copia)\n",
            "  Downloading iniconfig-2.1.0-py3-none-any.whl.metadata (2.7 kB)\n",
            "Collecting pluggy<2,>=1.5 (from pytest>=6.2.2->copia)\n",
            "  Using cached pluggy-1.5.0-py3-none-any.whl.metadata (4.8 kB)\n",
            "Requirement already satisfied: six>=1.5 in /Users/hajicj/anaconda3/envs/dh-latvia-2025/lib/python3.11/site-packages (from python-dateutil>=2.7->matplotlib>=3.3.2->copia) (1.17.0)\n",
            "Downloading copia-0.1.4-py3-none-any.whl (23 kB)\n",
            "Downloading matplotlib-3.10.1-cp311-cp311-macosx_11_0_arm64.whl (8.0 MB)\n",
            "\u001b[2K   \u001b[90m━━━━━━━━━━━━━━━━━━━━━━━━━━━━━━━━━━━━━━━━\u001b[0m \u001b[32m8.0/8.0 MB\u001b[0m \u001b[31m5.2 MB/s\u001b[0m eta \u001b[36m0:00:00\u001b[0ma \u001b[36m0:00:01\u001b[0m\n",
            "Downloading pytest-8.3.5-py3-none-any.whl (343 kB)\n",
            "Using cached seaborn-0.13.2-py3-none-any.whl (294 kB)\n",
            "Using cached tqdm-4.67.1-py3-none-any.whl (78 kB)\n",
            "Downloading contourpy-1.3.2-cp311-cp311-macosx_11_0_arm64.whl (254 kB)\n",
            "Using cached cycler-0.12.1-py3-none-any.whl (8.3 kB)\n",
            "Downloading fonttools-4.57.0-cp311-cp311-macosx_10_9_universal2.whl (2.8 MB)\n",
            "\u001b[2K   \u001b[90m━━━━━━━━━━━━━━━━━━━━━━━━━━━━━━━━━━━━━━━━\u001b[0m \u001b[32m2.8/2.8 MB\u001b[0m \u001b[31m5.7 MB/s\u001b[0m eta \u001b[36m0:00:00\u001b[0ma \u001b[36m0:00:01\u001b[0m\n",
            "Using cached kiwisolver-1.4.8-cp311-cp311-macosx_11_0_arm64.whl (65 kB)\n",
            "Downloading pillow-11.2.1-cp311-cp311-macosx_11_0_arm64.whl (3.0 MB)\n",
            "\u001b[2K   \u001b[90m━━━━━━━━━━━━━━━━━━━━━━━━━━━━━━━━━━━━━━━━\u001b[0m \u001b[32m3.0/3.0 MB\u001b[0m \u001b[31m6.3 MB/s\u001b[0m eta \u001b[36m0:00:00\u001b[0ma \u001b[36m0:00:01\u001b[0m\n",
            "\u001b[?25hUsing cached pluggy-1.5.0-py3-none-any.whl (20 kB)\n",
            "Downloading pyparsing-3.2.3-py3-none-any.whl (111 kB)\n",
            "Downloading iniconfig-2.1.0-py3-none-any.whl (6.0 kB)\n",
            "Installing collected packages: tqdm, pyparsing, pluggy, pillow, kiwisolver, iniconfig, fonttools, cycler, contourpy, pytest, matplotlib, seaborn, copia\n",
            "Successfully installed contourpy-1.3.2 copia-0.1.4 cycler-0.12.1 fonttools-4.57.0 iniconfig-2.1.0 kiwisolver-1.4.8 matplotlib-3.10.1 pillow-11.2.1 pluggy-1.5.0 pyparsing-3.2.3 pytest-8.3.5 seaborn-0.13.2 tqdm-4.67.1\n",
            "Requirement already satisfied: pycantus in /Users/hajicj/anaconda3/envs/dh-latvia-2025/lib/python3.11/site-packages (0.0.3)\n",
            "Requirement already satisfied: pandas==2.2.2 in /Users/hajicj/anaconda3/envs/dh-latvia-2025/lib/python3.11/site-packages (from pycantus) (2.2.2)\n",
            "Requirement already satisfied: requests==2.31.0 in /Users/hajicj/anaconda3/envs/dh-latvia-2025/lib/python3.11/site-packages (from pycantus) (2.31.0)\n",
            "Requirement already satisfied: numpy>=1.23.2 in /Users/hajicj/anaconda3/envs/dh-latvia-2025/lib/python3.11/site-packages (from pandas==2.2.2->pycantus) (2.2.5)\n",
            "Requirement already satisfied: python-dateutil>=2.8.2 in /Users/hajicj/anaconda3/envs/dh-latvia-2025/lib/python3.11/site-packages (from pandas==2.2.2->pycantus) (2.9.0.post0)\n",
            "Requirement already satisfied: pytz>=2020.1 in /Users/hajicj/anaconda3/envs/dh-latvia-2025/lib/python3.11/site-packages (from pandas==2.2.2->pycantus) (2025.2)\n",
            "Requirement already satisfied: tzdata>=2022.7 in /Users/hajicj/anaconda3/envs/dh-latvia-2025/lib/python3.11/site-packages (from pandas==2.2.2->pycantus) (2025.2)\n",
            "Requirement already satisfied: charset-normalizer<4,>=2 in /Users/hajicj/anaconda3/envs/dh-latvia-2025/lib/python3.11/site-packages (from requests==2.31.0->pycantus) (3.3.2)\n",
            "Requirement already satisfied: idna<4,>=2.5 in /Users/hajicj/anaconda3/envs/dh-latvia-2025/lib/python3.11/site-packages (from requests==2.31.0->pycantus) (3.7)\n",
            "Requirement already satisfied: urllib3<3,>=1.21.1 in /Users/hajicj/anaconda3/envs/dh-latvia-2025/lib/python3.11/site-packages (from requests==2.31.0->pycantus) (2.3.0)\n",
            "Requirement already satisfied: certifi>=2017.4.17 in /Users/hajicj/anaconda3/envs/dh-latvia-2025/lib/python3.11/site-packages (from requests==2.31.0->pycantus) (2025.4.26)\n",
            "Requirement already satisfied: six>=1.5 in /Users/hajicj/anaconda3/envs/dh-latvia-2025/lib/python3.11/site-packages (from python-dateutil>=2.8.2->pandas==2.2.2->pycantus) (1.17.0)\n"
          ]
        }
      ],
      "source": [
        "!pip install scipy\n",
        "!pip install matplotlib\n",
        "!pip install copia\n",
        "!pip install pycantus"
      ]
    },
    {
      "cell_type": "markdown",
      "id": "b3594216-3da9-47f5-8523-59c9cad9b48e",
      "metadata": {
        "id": "b3594216-3da9-47f5-8523-59c9cad9b48e"
      },
      "source": [
        "Getting data\n",
        "------------\n",
        "\n",
        "We work with the CantusCorpus v0.2 dataset. It is derived from the Cantus database. It contains records of almost 500,000 instances of chants, hundreds of records of manuscripts (sources), and a number of auxiliary files that encode controlled vocabularies for certain data.\n",
        "\n",
        "CantusCorpus is somewhat dated (2020), and we are working on a more comprehensive dataset, but the advantage is that previous results for this data exist -- and especially in the context of learning, this stability is an advantage."
      ]
    },
    {
      "cell_type": "code",
      "execution_count": 1,
      "id": "deb4957b-2cfd-4c7c-8412-d614a8a5ab22",
      "metadata": {
        "colab": {
          "base_uri": "https://localhost:8080/"
        },
        "collapsed": true,
        "id": "deb4957b-2cfd-4c7c-8412-d614a8a5ab22",
        "outputId": "42cd64f9-8fcf-463b-ca24-aee7b0bb21f1"
      },
      "outputs": [
        {
          "output_type": "stream",
          "name": "stdout",
          "text": [
            "--2025-05-03 18:22:39--  https://ufallab.ms.mff.cuni.cz/~hajicj/public_html/DH-Latvia_2025/data/cantuscorpus-v0.2.zip\n",
            "Resolving ufallab.ms.mff.cuni.cz (ufallab.ms.mff.cuni.cz)... 195.113.18.181\n",
            "Connecting to ufallab.ms.mff.cuni.cz (ufallab.ms.mff.cuni.cz)|195.113.18.181|:443... connected.\n",
            "HTTP request sent, awaiting response... 200 OK\n",
            "Length: 51685924 (49M) [application/zip]\n",
            "Saving to: ‘cantuscorpus-v0.2.zip’\n",
            "\n",
            "cantuscorpus-v0.2.z 100%[===================>]  49.29M  17.4MB/s    in 2.8s    \n",
            "\n",
            "2025-05-03 18:22:43 (17.4 MB/s) - ‘cantuscorpus-v0.2.zip’ saved [51685924/51685924]\n",
            "\n"
          ]
        }
      ],
      "source": [
        "!wget https://ufallab.ms.mff.cuni.cz/~hajicj/public_html/DH-Latvia_2025/data/cantuscorpus-v0.2.zip"
      ]
    },
    {
      "cell_type": "code",
      "source": [
        "!unzip cantuscorpus-v0.2.zip"
      ],
      "metadata": {
        "colab": {
          "base_uri": "https://localhost:8080/"
        },
        "collapsed": true,
        "id": "Lbhx2W6gAjFx",
        "outputId": "5717e6b9-257b-4bee-ff25-95a9a3e42461"
      },
      "id": "Lbhx2W6gAjFx",
      "execution_count": 2,
      "outputs": [
        {
          "output_type": "stream",
          "name": "stdout",
          "text": [
            "Archive:  cantuscorpus-v0.2.zip\n",
            "   creating: cantuscorpus-v0.2/\n",
            "   creating: cantuscorpus-v0.2/csv/\n",
            "  inflating: cantuscorpus-v0.2/csv/office.csv  \n",
            "  inflating: cantuscorpus-v0.2/csv/chant-demo-sample.csv  \n",
            "  inflating: cantuscorpus-v0.2/csv/indexer.csv  \n",
            "  inflating: cantuscorpus-v0.2/csv/chant.csv  \n",
            "  inflating: cantuscorpus-v0.2/csv/feast.csv  \n",
            "  inflating: cantuscorpus-v0.2/csv/century.csv  \n",
            "  inflating: cantuscorpus-v0.2/csv/orig_id.csv  \n",
            "  inflating: cantuscorpus-v0.2/csv/notation.csv  \n",
            "  inflating: cantuscorpus-v0.2/csv/siglum.csv  \n",
            "  inflating: cantuscorpus-v0.2/csv/.feast.csv.swp  \n",
            "  inflating: cantuscorpus-v0.2/csv/provenance.csv  \n",
            "  inflating: cantuscorpus-v0.2/csv/genre.csv  \n",
            "  inflating: cantuscorpus-v0.2/csv/source.csv  \n",
            "  inflating: cantuscorpus-v0.2/.DS_Store  \n",
            "   creating: cantuscorpus-v0.2/antiphons/\n",
            "  inflating: cantuscorpus-v0.2/antiphons/test-chants.csv  \n",
            "  inflating: cantuscorpus-v0.2/antiphons/gregobase-chantstrings.csv  \n",
            "  inflating: cantuscorpus-v0.2/antiphons/train-representation-pitch.csv  \n",
            "  inflating: cantuscorpus-v0.2/antiphons/train-chants.csv  \n",
            "  inflating: cantuscorpus-v0.2/antiphons/test-representation-pitch.csv  \n",
            "   creating: cantuscorpus-v0.2/responsories/\n",
            "  inflating: cantuscorpus-v0.2/responsories/train-chants.csv  \n",
            "  inflating: cantuscorpus-v0.2/responsories/gregobase-chantstrings.csv  \n",
            "  inflating: cantuscorpus-v0.2/responsories/test-representation-pitch.csv  \n",
            "  inflating: cantuscorpus-v0.2/responsories/train-representation-pitch.csv  \n",
            "  inflating: cantuscorpus-v0.2/responsories/test-chants.csv  \n",
            "  inflating: cantuscorpus-v0.2/corpus-generation.log  \n"
          ]
        }
      ]
    },
    {
      "cell_type": "markdown",
      "source": [
        "Loading CantusCorpus\n",
        "--------------------\n",
        "\n",
        "The dataset is in a CSV format, which is just a very simple way to store a table: each line of the file is a table row, and a \"separator\" character is defined -- usually a comma (CSV stands for comma-separated values), sometimes a tab (then it can be called TSV, tab-separated values). The file also usually has a header row that contains the names of the table columns.\n",
        "\n",
        "Let's load all the chants first.\n",
        "\n",
        "First, we set up the path into the dataset."
      ],
      "metadata": {
        "id": "DLqPqo7fOJHT"
      },
      "id": "DLqPqo7fOJHT"
    },
    {
      "cell_type": "code",
      "source": [
        "import os\n",
        "import logging\n",
        "\n",
        "# This is the directory into which we downloaded CantusCorpus\n",
        "DATA_ROOT = 'cantuscorpus-v0.2'\n",
        "\n",
        "# The 'chant.csv' file is where the chant data is.\n",
        "DATASET_CSV_NAME = os.path.join(DATA_ROOT, 'csv', 'chant.csv')\n",
        "\n",
        "# It is pretty good practice to check that you got key file paths right -- that the files actually exist.\n",
        "if not os.path.isfile(DATASET_CSV_NAME):\n",
        "    raise ValueError('CantusCorpus dataset CSV file not found at path {}. Is the DATA_ROOT set correctly?'\n",
        "                     ' Current location: {}'.format(DATASET_CSV_NAME, os.getcwd()))"
      ],
      "metadata": {
        "id": "qKbMmmzgXBKf"
      },
      "id": "qKbMmmzgXBKf",
      "execution_count": 3,
      "outputs": []
    },
    {
      "cell_type": "markdown",
      "source": [
        "\n",
        "Now we know what file we are loading from, so we could just go ahead and use the above definition of a CSV file to read it and parse the individual lines.\n",
        "\n",
        "But instead, we first make a small digression.\n",
        "\n",
        "The plain-text nature of CSVs is great for interoperability and portability, and every programming language has built-in support for dealing with this type of file. That makes CSVs an excellent choice for storing and disseminating research data in repositories such as the Open Science Foundation or DARIAH-related infrastructure (e.g., LINDAT).\n",
        "\n",
        "The minimal structure, however, comes at a cost. What happens when a text field, e.g. a manuscript description, contains the separator character (a comma)? The obvious solution is quoting. But what if the field contains a quote? These issues are what the libraries for handling CSV files resolve, at least to the extent to which it is possible. But when encoding data into CSV files, one should be aware of these issues, and ideally have a round-trip test to make sure that there is a method to load the data properly, then store it back as a CSV file, and that the resulting file has exactly the same contents as the original file.\n",
        "\n",
        "So we actually want to use the appropriate library, and define the various parameters to load the file safely and properly."
      ],
      "metadata": {
        "id": "jwJ50DDVW9e2"
      },
      "id": "jwJ50DDVW9e2"
    },
    {
      "cell_type": "code",
      "source": [
        "# This is the library that works with CSVs in Python.\n",
        "import csv\n",
        "\n",
        "# Here we define the CSV loading parameters.\n",
        "# As with the file paths, we use capital letters to clearly indicate which values\n",
        "# are defined by us.\n",
        "CSV_DELIMITER = ','\n",
        "CSV_DOUBLEQUOTE = False\n",
        "CSV_QUOTECHAR = '\"'\n",
        "CSV_DIALECT = 'unix'\n",
        "CSV_QUOTING = csv.QUOTE_MINIMAL\n",
        "# This is the policy that combines all the parameters above.\n",
        "# Some of these apply when reading a CSV file, some apply when writing it back.\n",
        "# The possible values of quoting policy defined and documented by the 'csv' library.\n",
        "\n",
        "# Here is where we store all the chants, as a list.\n",
        "chants = []\n",
        "\n",
        "# Now we actually load them!\n",
        "# This can take a while, as there are almost half a million of them.\n",
        "with open(DATASET_CSV_NAME) as fh:\n",
        "    reader = csv.DictReader(fh,\n",
        "                            delimiter=CSV_DELIMITER,\n",
        "                            doublequote=CSV_DOUBLEQUOTE,\n",
        "                            quotechar=CSV_QUOTECHAR,\n",
        "                            dialect=CSV_DIALECT,\n",
        "                            quoting=CSV_QUOTING)\n",
        "\n",
        "    # At this point, we could just load the data, but because we want\n",
        "    # to be very sure that we have been able to load the data properly,\n",
        "    # we wrap it with this 'try-except' construction. This means:\n",
        "    # If an error happens during the 'try' block, jump into the 'except'\n",
        "    # block to deal with it. In this case, we simply want to know which row\n",
        "    # the error occurred in, so that we know which line of the data file\n",
        "    # we should check for errors.\n",
        "    try:\n",
        "        for i, row in enumerate(reader):\n",
        "            chants.append(row)\n",
        "    except:\n",
        "        print('Row {} has an error!\\nRow: {}'.format(i, row))\n",
        "        raise\n",
        "\n",
        "# We also want to remember what the field names are, to be able to quickly check\n",
        "# what information is available for each chant.\n",
        "fieldnames = reader.fieldnames\n"
      ],
      "metadata": {
        "id": "KwAu3WgVZR-S"
      },
      "id": "KwAu3WgVZR-S",
      "execution_count": 27,
      "outputs": []
    },
    {
      "cell_type": "markdown",
      "source": [
        "Let's check how many chants exactly we got:"
      ],
      "metadata": {
        "id": "TGdqYL88dnWF"
      },
      "id": "TGdqYL88dnWF"
    },
    {
      "cell_type": "code",
      "source": [
        "n_chants = len(chants)\n",
        "print('Loaded {} chants.'.format(n_chants))"
      ],
      "metadata": {
        "id": "9Qc8Z8ivcQdp",
        "outputId": "c720f8c8-b02b-4552-bd1e-ba484812f499",
        "colab": {
          "base_uri": "https://localhost:8080/"
        }
      },
      "id": "9Qc8Z8ivcQdp",
      "execution_count": 28,
      "outputs": [
        {
          "output_type": "stream",
          "name": "stdout",
          "text": [
            "Loaded 497071 chants.\n"
          ]
        }
      ]
    },
    {
      "cell_type": "markdown",
      "source": [
        "And what information is available for each of the chants:"
      ],
      "metadata": {
        "id": "DskR1JxedqGv"
      },
      "id": "DskR1JxedqGv"
    },
    {
      "cell_type": "code",
      "source": [
        "print(fieldnames)"
      ],
      "metadata": {
        "id": "n0GmK0b9cW99",
        "outputId": "6f1622a6-d3e5-4a0d-8914-a82e81d16bc3",
        "colab": {
          "base_uri": "https://localhost:8080/"
        }
      },
      "id": "n0GmK0b9cW99",
      "execution_count": 29,
      "outputs": [
        {
          "output_type": "stream",
          "name": "stdout",
          "text": [
            "['id', 'incipit', 'cantus_id', 'mode', 'finalis', 'differentia', 'siglum', 'position', 'folio', 'sequence', 'marginalia', 'cao_concordances', 'feast_id', 'genre_id', 'office_id', 'source_id', 'melody_id', 'drupal_path', 'full_text', 'full_text_manuscript', 'volpiano', 'notes']\n"
          ]
        }
      ]
    },
    {
      "cell_type": "code",
      "source": [
        "# Let's print it out a little better...\n",
        "print('\\n'.join(fieldnames))"
      ],
      "metadata": {
        "id": "kSPZdw1zdvok",
        "outputId": "2edf4428-300c-4b25-b33e-0e2032c43264",
        "colab": {
          "base_uri": "https://localhost:8080/"
        }
      },
      "id": "kSPZdw1zdvok",
      "execution_count": 30,
      "outputs": [
        {
          "output_type": "stream",
          "name": "stdout",
          "text": [
            "id\n",
            "incipit\n",
            "cantus_id\n",
            "mode\n",
            "finalis\n",
            "differentia\n",
            "siglum\n",
            "position\n",
            "folio\n",
            "sequence\n",
            "marginalia\n",
            "cao_concordances\n",
            "feast_id\n",
            "genre_id\n",
            "office_id\n",
            "source_id\n",
            "melody_id\n",
            "drupal_path\n",
            "full_text\n",
            "full_text_manuscript\n",
            "volpiano\n",
            "notes\n"
          ]
        }
      ]
    },
    {
      "cell_type": "markdown",
      "source": [
        "So what does a chant record look like?"
      ],
      "metadata": {
        "id": "az_zLmAcd60G"
      },
      "id": "az_zLmAcd60G"
    },
    {
      "cell_type": "code",
      "source": [
        "print(chants[0])"
      ],
      "metadata": {
        "id": "IQSYuUgkd06t",
        "outputId": "4b531ee7-fb7a-4d63-b0be-a17a13ac59f1",
        "colab": {
          "base_uri": "https://localhost:8080/"
        }
      },
      "id": "IQSYuUgkd06t",
      "execution_count": 31,
      "outputs": [
        {
          "output_type": "stream",
          "name": "stdout",
          "text": [
            "{'id': 'chant_000001', 'incipit': '#ne positi certamen habuistis mercedem', 'cantus_id': '007590.1', 'mode': '', 'finalis': '', 'differentia': '', 'siglum': 'US-HA Rauner Codex MS 003203', 'position': '', 'folio': '066r', 'sequence': '0.0', 'marginalia': '', 'cao_concordances': '', 'feast_id': 'feast_0227', 'genre_id': 'genre_r', 'office_id': 'office_m', 'source_id': 'source_519', 'melody_id': '', 'drupal_path': 'http://cantus.uwaterloo.ca/chant/693173/', 'full_text': '#ne positi certamen habuistis mercedem laboris ego reddam vobis', 'full_text_manuscript': '#ne positi certamen habuistis | Mercedem laboris ego reddam vobis', 'volpiano': '', 'notes': ''}\n"
          ]
        }
      ]
    },
    {
      "cell_type": "code",
      "source": [
        "# This is not really readable. Let'd define a function for this:\n",
        "def print_chant(chant, fieldnames=fieldnames):\n",
        "  for f in fieldnames:\n",
        "\n",
        "    # Check that the field name that we expect is actually available in the chant record\n",
        "    if f not in chant:\n",
        "      # This would be a basic error message:\n",
        "      #raise ValueError('Chant does not contain field name {}!'.format(f))\n",
        "      # This is a better error message, because it shows both the problematic field name\n",
        "      # and the chant record, so that you can straight away start diagnosing where the problem is.\n",
        "      raise ValueError('Chant does not contain field name {}!\\n'\n",
        "                       'Available fields: {}'.format(f, list(chant.keys())))\n",
        "    value = chant[f]\n",
        "    print('{}: {}'.format(f, value))"
      ],
      "metadata": {
        "id": "SpcSVa3jd9_O"
      },
      "id": "SpcSVa3jd9_O",
      "execution_count": 32,
      "outputs": []
    },
    {
      "cell_type": "code",
      "source": [
        "print_chant(chants[0])"
      ],
      "metadata": {
        "id": "Bd0gDbKxfAwN",
        "outputId": "b71d5585-e97a-4e03-ad07-252e932981b4",
        "colab": {
          "base_uri": "https://localhost:8080/"
        }
      },
      "id": "Bd0gDbKxfAwN",
      "execution_count": 33,
      "outputs": [
        {
          "output_type": "stream",
          "name": "stdout",
          "text": [
            "id: chant_000001\n",
            "incipit: #ne positi certamen habuistis mercedem\n",
            "cantus_id: 007590.1\n",
            "mode: \n",
            "finalis: \n",
            "differentia: \n",
            "siglum: US-HA Rauner Codex MS 003203\n",
            "position: \n",
            "folio: 066r\n",
            "sequence: 0.0\n",
            "marginalia: \n",
            "cao_concordances: \n",
            "feast_id: feast_0227\n",
            "genre_id: genre_r\n",
            "office_id: office_m\n",
            "source_id: source_519\n",
            "melody_id: \n",
            "drupal_path: http://cantus.uwaterloo.ca/chant/693173/\n",
            "full_text: #ne positi certamen habuistis mercedem laboris ego reddam vobis\n",
            "full_text_manuscript: #ne positi certamen habuistis | Mercedem laboris ego reddam vobis\n",
            "volpiano: \n",
            "notes: \n"
          ]
        }
      ]
    },
    {
      "cell_type": "code",
      "source": [
        "# And another chant:\n",
        "print_chant(chants[123000])"
      ],
      "metadata": {
        "id": "2zRV2r0jfGKK",
        "outputId": "27d22382-ec92-4ae9-e7aa-07d053d93733",
        "colab": {
          "base_uri": "https://localhost:8080/"
        }
      },
      "id": "2zRV2r0jfGKK",
      "execution_count": 34,
      "outputs": [
        {
          "output_type": "stream",
          "name": "stdout",
          "text": [
            "id: chant_123001\n",
            "incipit: Dixerunt impii apud se non\n",
            "cantus_id: 006464\n",
            "mode: \n",
            "finalis: \n",
            "differentia: \n",
            "siglum: CZ Pu VI.E.4c\n",
            "position: 1.2\n",
            "folio: 230r\n",
            "sequence: 1.0\n",
            "marginalia: \n",
            "cao_concordances: CGBEMVHRDFSL\n",
            "feast_id: feast_0643\n",
            "genre_id: genre_r\n",
            "office_id: office_m\n",
            "source_id: \n",
            "melody_id: \n",
            "drupal_path: http://cantus.uwaterloo.ca/chant/464369/\n",
            "full_text: Dixerunt impii apud se non recte cogitantes circumveniamus justum quoniam contrarius est operibus nostris promittit se scientiam dei habere filium dei se nominat et gloriatur patrem se habere deum videamus si sermones illius veri sint et si est verus filius dei liberet illum de manibus nostris morte turpissima condempnemus eum\n",
            "full_text_manuscript: \n",
            "volpiano: \n",
            "notes: \n"
          ]
        }
      ]
    },
    {
      "cell_type": "markdown",
      "source": [
        "Notice that when we click the `drupal_path` link, it does not work. This is because the Cantus Database has undergone a change of URL in 2023, and the `cantus.uwaterloo.ca` server stopped redirecting, too. So, to make it easier for us to check things, we will change these values in our chants."
      ],
      "metadata": {
        "id": "cZrleliCgrpe"
      },
      "id": "cZrleliCgrpe"
    },
    {
      "cell_type": "code",
      "source": [
        "for c in chants:\n",
        "  old_drupal_path = c['drupal_path']\n",
        "  fixed_drupal_path = old_drupal_path.replace('http://cantus.uwaterloo.ca', 'https://cantusdatabase.org').rstrip('/')\n",
        "  c['drupal_path'] = fixed_drupal_path"
      ],
      "metadata": {
        "id": "3oFHn41BfdzZ"
      },
      "id": "3oFHn41BfdzZ",
      "execution_count": 35,
      "outputs": []
    },
    {
      "cell_type": "markdown",
      "source": [
        "Now the URLs should work."
      ],
      "metadata": {
        "id": "QOM-M0GhePv0"
      },
      "id": "QOM-M0GhePv0"
    },
    {
      "cell_type": "code",
      "source": [
        "print_chant(chants[123000])"
      ],
      "metadata": {
        "id": "hacIvbuVhjvI",
        "outputId": "c139264a-91f3-47f3-83db-011cb4e0e1c6",
        "colab": {
          "base_uri": "https://localhost:8080/"
        }
      },
      "id": "hacIvbuVhjvI",
      "execution_count": 36,
      "outputs": [
        {
          "output_type": "stream",
          "name": "stdout",
          "text": [
            "id: chant_123001\n",
            "incipit: Dixerunt impii apud se non\n",
            "cantus_id: 006464\n",
            "mode: \n",
            "finalis: \n",
            "differentia: \n",
            "siglum: CZ Pu VI.E.4c\n",
            "position: 1.2\n",
            "folio: 230r\n",
            "sequence: 1.0\n",
            "marginalia: \n",
            "cao_concordances: CGBEMVHRDFSL\n",
            "feast_id: feast_0643\n",
            "genre_id: genre_r\n",
            "office_id: office_m\n",
            "source_id: \n",
            "melody_id: \n",
            "drupal_path: https://cantusdatabase.org/chant/464369\n",
            "full_text: Dixerunt impii apud se non recte cogitantes circumveniamus justum quoniam contrarius est operibus nostris promittit se scientiam dei habere filium dei se nominat et gloriatur patrem se habere deum videamus si sermones illius veri sint et si est verus filius dei liberet illum de manibus nostris morte turpissima condempnemus eum\n",
            "full_text_manuscript: \n",
            "volpiano: \n",
            "notes: \n"
          ]
        }
      ]
    },
    {
      "cell_type": "markdown",
      "source": [
        "Issues such as this are why we should care very much about persistence and long-term storage in the digital humanities. Cantus Database and its whole network gets almost everything right -- but still these issues are inevitable, because the digital environment evolves very quickly."
      ],
      "metadata": {
        "id": "y2WONzdZigvT"
      },
      "id": "y2WONzdZigvT"
    },
    {
      "cell_type": "markdown",
      "source": [],
      "metadata": {
        "id": "FZ5tNsxHievX"
      },
      "id": "FZ5tNsxHievX"
    }
  ],
  "metadata": {
    "kernelspec": {
      "display_name": "Python 3 (ipykernel)",
      "language": "python",
      "name": "python3"
    },
    "language_info": {
      "codemirror_mode": {
        "name": "ipython",
        "version": 3
      },
      "file_extension": ".py",
      "mimetype": "text/x-python",
      "name": "python",
      "nbconvert_exporter": "python",
      "pygments_lexer": "ipython3",
      "version": "3.11.11"
    },
    "colab": {
      "provenance": []
    }
  },
  "nbformat": 4,
  "nbformat_minor": 5
}